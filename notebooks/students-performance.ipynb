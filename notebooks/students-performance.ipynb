{
 "cells": [
  {
   "cell_type": "markdown",
   "metadata": {},
   "source": [
    "# Students Performance"
   ]
  },
  {
   "cell_type": "code",
   "execution_count": 1,
   "metadata": {
    "_cell_guid": "b1076dfc-b9ad-4769-8c92-a6c4dae69d19",
    "_uuid": "8f2839f25d086af736a60e9eeb907d3b93b6e0e5",
    "execution": {
     "iopub.execute_input": "2022-03-05T01:24:07.928659Z",
     "iopub.status.busy": "2022-03-05T01:24:07.928320Z",
     "iopub.status.idle": "2022-03-05T01:24:07.933368Z",
     "shell.execute_reply": "2022-03-05T01:24:07.932770Z",
     "shell.execute_reply.started": "2022-03-05T01:24:07.928626Z"
    },
    "scrolled": true
   },
   "outputs": [],
   "source": [
    "import pandas as pd\n",
    "import numpy as np\n",
    "import altair as alt"
   ]
  },
  {
   "cell_type": "markdown",
   "metadata": {},
   "source": [
    "# Carga de datos"
   ]
  },
  {
   "cell_type": "code",
   "execution_count": 5,
   "metadata": {
    "execution": {
     "iopub.execute_input": "2022-03-05T01:24:12.542213Z",
     "iopub.status.busy": "2022-03-05T01:24:12.541415Z",
     "iopub.status.idle": "2022-03-05T01:24:12.569585Z",
     "shell.execute_reply": "2022-03-05T01:24:12.568698Z",
     "shell.execute_reply.started": "2022-03-05T01:24:12.542160Z"
    }
   },
   "outputs": [
    {
     "data": {
      "text/html": [
       "<div>\n",
       "<style scoped>\n",
       "    .dataframe tbody tr th:only-of-type {\n",
       "        vertical-align: middle;\n",
       "    }\n",
       "\n",
       "    .dataframe tbody tr th {\n",
       "        vertical-align: top;\n",
       "    }\n",
       "\n",
       "    .dataframe thead th {\n",
       "        text-align: right;\n",
       "    }\n",
       "</style>\n",
       "<table border=\"1\" class=\"dataframe\">\n",
       "  <thead>\n",
       "    <tr style=\"text-align: right;\">\n",
       "      <th></th>\n",
       "      <th>gender</th>\n",
       "      <th>race/ethnicity</th>\n",
       "      <th>parental level of education</th>\n",
       "      <th>lunch</th>\n",
       "      <th>test preparation course</th>\n",
       "      <th>math score</th>\n",
       "      <th>reading score</th>\n",
       "      <th>writing score</th>\n",
       "    </tr>\n",
       "  </thead>\n",
       "  <tbody>\n",
       "    <tr>\n",
       "      <th>0</th>\n",
       "      <td>female</td>\n",
       "      <td>group B</td>\n",
       "      <td>bachelor's degree</td>\n",
       "      <td>standard</td>\n",
       "      <td>none</td>\n",
       "      <td>72</td>\n",
       "      <td>72</td>\n",
       "      <td>74</td>\n",
       "    </tr>\n",
       "    <tr>\n",
       "      <th>1</th>\n",
       "      <td>female</td>\n",
       "      <td>group C</td>\n",
       "      <td>some college</td>\n",
       "      <td>standard</td>\n",
       "      <td>completed</td>\n",
       "      <td>69</td>\n",
       "      <td>90</td>\n",
       "      <td>88</td>\n",
       "    </tr>\n",
       "    <tr>\n",
       "      <th>2</th>\n",
       "      <td>female</td>\n",
       "      <td>group B</td>\n",
       "      <td>master's degree</td>\n",
       "      <td>standard</td>\n",
       "      <td>none</td>\n",
       "      <td>90</td>\n",
       "      <td>95</td>\n",
       "      <td>93</td>\n",
       "    </tr>\n",
       "    <tr>\n",
       "      <th>3</th>\n",
       "      <td>male</td>\n",
       "      <td>group A</td>\n",
       "      <td>associate's degree</td>\n",
       "      <td>free/reduced</td>\n",
       "      <td>none</td>\n",
       "      <td>47</td>\n",
       "      <td>57</td>\n",
       "      <td>44</td>\n",
       "    </tr>\n",
       "    <tr>\n",
       "      <th>4</th>\n",
       "      <td>male</td>\n",
       "      <td>group C</td>\n",
       "      <td>some college</td>\n",
       "      <td>standard</td>\n",
       "      <td>none</td>\n",
       "      <td>76</td>\n",
       "      <td>78</td>\n",
       "      <td>75</td>\n",
       "    </tr>\n",
       "  </tbody>\n",
       "</table>\n",
       "</div>"
      ],
      "text/plain": [
       "   gender race/ethnicity parental level of education         lunch  \\\n",
       "0  female        group B           bachelor's degree      standard   \n",
       "1  female        group C                some college      standard   \n",
       "2  female        group B             master's degree      standard   \n",
       "3    male        group A          associate's degree  free/reduced   \n",
       "4    male        group C                some college      standard   \n",
       "\n",
       "  test preparation course  math score  reading score  writing score  \n",
       "0                    none          72             72             74  \n",
       "1               completed          69             90             88  \n",
       "2                    none          90             95             93  \n",
       "3                    none          47             57             44  \n",
       "4                    none          76             78             75  "
      ]
     },
     "execution_count": 5,
     "metadata": {},
     "output_type": "execute_result"
    }
   ],
   "source": [
    "data = pd.read_csv('../data/StudentsPerformance.csv',encoding=\"ISO-8859-1\" )\n",
    "data.head()"
   ]
  },
  {
   "cell_type": "markdown",
   "metadata": {},
   "source": [
    "# EDA"
   ]
  },
  {
   "cell_type": "markdown",
   "metadata": {},
   "source": [
    "Los nombres de las columnas son demasido largos a mi parecer, asi que renombrare algunas columnas "
   ]
  },
  {
   "cell_type": "code",
   "execution_count": 6,
   "metadata": {
    "execution": {
     "iopub.execute_input": "2022-03-05T01:24:15.245449Z",
     "iopub.status.busy": "2022-03-05T01:24:15.245155Z",
     "iopub.status.idle": "2022-03-05T01:24:15.260336Z",
     "shell.execute_reply": "2022-03-05T01:24:15.259782Z",
     "shell.execute_reply.started": "2022-03-05T01:24:15.245419Z"
    }
   },
   "outputs": [
    {
     "data": {
      "text/html": [
       "<div>\n",
       "<style scoped>\n",
       "    .dataframe tbody tr th:only-of-type {\n",
       "        vertical-align: middle;\n",
       "    }\n",
       "\n",
       "    .dataframe tbody tr th {\n",
       "        vertical-align: top;\n",
       "    }\n",
       "\n",
       "    .dataframe thead th {\n",
       "        text-align: right;\n",
       "    }\n",
       "</style>\n",
       "<table border=\"1\" class=\"dataframe\">\n",
       "  <thead>\n",
       "    <tr style=\"text-align: right;\">\n",
       "      <th></th>\n",
       "      <th>gender</th>\n",
       "      <th>ethnicity</th>\n",
       "      <th>parental_education</th>\n",
       "      <th>lunch</th>\n",
       "      <th>course</th>\n",
       "      <th>math</th>\n",
       "      <th>reading</th>\n",
       "      <th>writing</th>\n",
       "    </tr>\n",
       "  </thead>\n",
       "  <tbody>\n",
       "    <tr>\n",
       "      <th>0</th>\n",
       "      <td>female</td>\n",
       "      <td>group B</td>\n",
       "      <td>bachelor's degree</td>\n",
       "      <td>standard</td>\n",
       "      <td>none</td>\n",
       "      <td>72</td>\n",
       "      <td>72</td>\n",
       "      <td>74</td>\n",
       "    </tr>\n",
       "    <tr>\n",
       "      <th>1</th>\n",
       "      <td>female</td>\n",
       "      <td>group C</td>\n",
       "      <td>some college</td>\n",
       "      <td>standard</td>\n",
       "      <td>completed</td>\n",
       "      <td>69</td>\n",
       "      <td>90</td>\n",
       "      <td>88</td>\n",
       "    </tr>\n",
       "    <tr>\n",
       "      <th>2</th>\n",
       "      <td>female</td>\n",
       "      <td>group B</td>\n",
       "      <td>master's degree</td>\n",
       "      <td>standard</td>\n",
       "      <td>none</td>\n",
       "      <td>90</td>\n",
       "      <td>95</td>\n",
       "      <td>93</td>\n",
       "    </tr>\n",
       "    <tr>\n",
       "      <th>3</th>\n",
       "      <td>male</td>\n",
       "      <td>group A</td>\n",
       "      <td>associate's degree</td>\n",
       "      <td>free/reduced</td>\n",
       "      <td>none</td>\n",
       "      <td>47</td>\n",
       "      <td>57</td>\n",
       "      <td>44</td>\n",
       "    </tr>\n",
       "    <tr>\n",
       "      <th>4</th>\n",
       "      <td>male</td>\n",
       "      <td>group C</td>\n",
       "      <td>some college</td>\n",
       "      <td>standard</td>\n",
       "      <td>none</td>\n",
       "      <td>76</td>\n",
       "      <td>78</td>\n",
       "      <td>75</td>\n",
       "    </tr>\n",
       "  </tbody>\n",
       "</table>\n",
       "</div>"
      ],
      "text/plain": [
       "   gender ethnicity  parental_education         lunch     course  math  \\\n",
       "0  female   group B   bachelor's degree      standard       none    72   \n",
       "1  female   group C        some college      standard  completed    69   \n",
       "2  female   group B     master's degree      standard       none    90   \n",
       "3    male   group A  associate's degree  free/reduced       none    47   \n",
       "4    male   group C        some college      standard       none    76   \n",
       "\n",
       "   reading  writing  \n",
       "0       72       74  \n",
       "1       90       88  \n",
       "2       95       93  \n",
       "3       57       44  \n",
       "4       78       75  "
      ]
     },
     "execution_count": 6,
     "metadata": {},
     "output_type": "execute_result"
    }
   ],
   "source": [
    "data.rename(columns={\"race/ethnicity\":\"ethnicity\",\"parental level of education\":\"parental_education\",\"math score\":\"math\",\"reading score\":\"reading\",\"writing score\":\"writing\",\n",
    "                    \"test preparation course\":\"course\"},inplace=True)\n",
    "data.head()"
   ]
  },
  {
   "cell_type": "markdown",
   "metadata": {},
   "source": [
    "Comenzando con el EDA, veo la información de mis datos, busco valores faltates e información duplicada"
   ]
  },
  {
   "cell_type": "code",
   "execution_count": 7,
   "metadata": {
    "execution": {
     "iopub.execute_input": "2022-03-05T01:24:18.505418Z",
     "iopub.status.busy": "2022-03-05T01:24:18.504641Z",
     "iopub.status.idle": "2022-03-05T01:24:18.521731Z",
     "shell.execute_reply": "2022-03-05T01:24:18.520768Z",
     "shell.execute_reply.started": "2022-03-05T01:24:18.505376Z"
    }
   },
   "outputs": [
    {
     "name": "stdout",
     "output_type": "stream",
     "text": [
      "<class 'pandas.core.frame.DataFrame'>\n",
      "RangeIndex: 1000 entries, 0 to 999\n",
      "Data columns (total 8 columns):\n",
      " #   Column              Non-Null Count  Dtype \n",
      "---  ------              --------------  ----- \n",
      " 0   gender              1000 non-null   object\n",
      " 1   ethnicity           1000 non-null   object\n",
      " 2   parental_education  1000 non-null   object\n",
      " 3   lunch               1000 non-null   object\n",
      " 4   course              1000 non-null   object\n",
      " 5   math                1000 non-null   int64 \n",
      " 6   reading             1000 non-null   int64 \n",
      " 7   writing             1000 non-null   int64 \n",
      "dtypes: int64(3), object(5)\n",
      "memory usage: 62.6+ KB\n"
     ]
    }
   ],
   "source": [
    "data.info()"
   ]
  },
  {
   "cell_type": "code",
   "execution_count": 8,
   "metadata": {
    "execution": {
     "iopub.execute_input": "2022-03-04T20:35:59.303198Z",
     "iopub.status.busy": "2022-03-04T20:35:59.302813Z",
     "iopub.status.idle": "2022-03-04T20:35:59.315129Z",
     "shell.execute_reply": "2022-03-04T20:35:59.314132Z",
     "shell.execute_reply.started": "2022-03-04T20:35:59.303158Z"
    }
   },
   "outputs": [
    {
     "data": {
      "text/plain": [
       "0"
      ]
     },
     "execution_count": 8,
     "metadata": {},
     "output_type": "execute_result"
    }
   ],
   "source": [
    "data.duplicated().sum()      "
   ]
  },
  {
   "cell_type": "markdown",
   "metadata": {},
   "source": [
    "## Primeras visualizaciones"
   ]
  },
  {
   "cell_type": "markdown",
   "metadata": {},
   "source": [
    "El principal objetivo de este proyecto es hayar los factores que afectan los estudiantes a la hora de rendir examnes, por lo que empesare haciendo las primras visualizaciones para ver que información nos roja de entrada o darnos una idea de los furturos resultados"
   ]
  },
  {
   "cell_type": "code",
   "execution_count": 9,
   "metadata": {
    "execution": {
     "iopub.execute_input": "2022-03-04T20:40:00.305832Z",
     "iopub.status.busy": "2022-03-04T20:40:00.305504Z",
     "iopub.status.idle": "2022-03-04T20:40:00.322296Z",
     "shell.execute_reply": "2022-03-04T20:40:00.321594Z",
     "shell.execute_reply.started": "2022-03-04T20:40:00.305795Z"
    }
   },
   "outputs": [
    {
     "data": {
      "text/html": [
       "<div>\n",
       "<style scoped>\n",
       "    .dataframe tbody tr th:only-of-type {\n",
       "        vertical-align: middle;\n",
       "    }\n",
       "\n",
       "    .dataframe tbody tr th {\n",
       "        vertical-align: top;\n",
       "    }\n",
       "\n",
       "    .dataframe thead th {\n",
       "        text-align: right;\n",
       "    }\n",
       "</style>\n",
       "<table border=\"1\" class=\"dataframe\">\n",
       "  <thead>\n",
       "    <tr style=\"text-align: right;\">\n",
       "      <th></th>\n",
       "      <th>gender</th>\n",
       "      <th>count</th>\n",
       "      <th>percent</th>\n",
       "    </tr>\n",
       "  </thead>\n",
       "  <tbody>\n",
       "    <tr>\n",
       "      <th>0</th>\n",
       "      <td>female</td>\n",
       "      <td>518</td>\n",
       "      <td>0.518</td>\n",
       "    </tr>\n",
       "    <tr>\n",
       "      <th>1</th>\n",
       "      <td>male</td>\n",
       "      <td>482</td>\n",
       "      <td>0.482</td>\n",
       "    </tr>\n",
       "  </tbody>\n",
       "</table>\n",
       "</div>"
      ],
      "text/plain": [
       "   gender  count  percent\n",
       "0  female    518    0.518\n",
       "1    male    482    0.482"
      ]
     },
     "execution_count": 9,
     "metadata": {},
     "output_type": "execute_result"
    }
   ],
   "source": [
    "gender_count = data['gender'].value_counts().to_frame().reset_index().rename(columns={'index':'gender','gender':'count'}) #Agrupo por genero y hago conteo\n",
    "gender_count['percent'] = (gender_count['count'] / gender_count['count'].sum()) #Saco el promedio\n",
    "gender_count "
   ]
  },
  {
   "cell_type": "code",
   "execution_count": 10,
   "metadata": {
    "execution": {
     "iopub.execute_input": "2022-03-04T20:40:02.866652Z",
     "iopub.status.busy": "2022-03-04T20:40:02.866251Z",
     "iopub.status.idle": "2022-03-04T20:40:03.129585Z",
     "shell.execute_reply": "2022-03-04T20:40:03.128993Z",
     "shell.execute_reply.started": "2022-03-04T20:40:02.866622Z"
    }
   },
   "outputs": [
    {
     "data": {
      "text/html": [
       "\n",
       "<div id=\"altair-viz-5e890bf8d74b4d8e9e230a0a320a02e9\"></div>\n",
       "<script type=\"text/javascript\">\n",
       "  var VEGA_DEBUG = (typeof VEGA_DEBUG == \"undefined\") ? {} : VEGA_DEBUG;\n",
       "  (function(spec, embedOpt){\n",
       "    let outputDiv = document.currentScript.previousElementSibling;\n",
       "    if (outputDiv.id !== \"altair-viz-5e890bf8d74b4d8e9e230a0a320a02e9\") {\n",
       "      outputDiv = document.getElementById(\"altair-viz-5e890bf8d74b4d8e9e230a0a320a02e9\");\n",
       "    }\n",
       "    const paths = {\n",
       "      \"vega\": \"https://cdn.jsdelivr.net/npm//vega@5?noext\",\n",
       "      \"vega-lib\": \"https://cdn.jsdelivr.net/npm//vega-lib?noext\",\n",
       "      \"vega-lite\": \"https://cdn.jsdelivr.net/npm//vega-lite@4.17.0?noext\",\n",
       "      \"vega-embed\": \"https://cdn.jsdelivr.net/npm//vega-embed@6?noext\",\n",
       "    };\n",
       "\n",
       "    function maybeLoadScript(lib, version) {\n",
       "      var key = `${lib.replace(\"-\", \"\")}_version`;\n",
       "      return (VEGA_DEBUG[key] == version) ?\n",
       "        Promise.resolve(paths[lib]) :\n",
       "        new Promise(function(resolve, reject) {\n",
       "          var s = document.createElement('script');\n",
       "          document.getElementsByTagName(\"head\")[0].appendChild(s);\n",
       "          s.async = true;\n",
       "          s.onload = () => {\n",
       "            VEGA_DEBUG[key] = version;\n",
       "            return resolve(paths[lib]);\n",
       "          };\n",
       "          s.onerror = () => reject(`Error loading script: ${paths[lib]}`);\n",
       "          s.src = paths[lib];\n",
       "        });\n",
       "    }\n",
       "\n",
       "    function showError(err) {\n",
       "      outputDiv.innerHTML = `<div class=\"error\" style=\"color:red;\">${err}</div>`;\n",
       "      throw err;\n",
       "    }\n",
       "\n",
       "    function displayChart(vegaEmbed) {\n",
       "      vegaEmbed(outputDiv, spec, embedOpt)\n",
       "        .catch(err => showError(`Javascript Error: ${err.message}<br>This usually means there's a typo in your chart specification. See the javascript console for the full traceback.`));\n",
       "    }\n",
       "\n",
       "    if(typeof define === \"function\" && define.amd) {\n",
       "      requirejs.config({paths});\n",
       "      require([\"vega-embed\"], displayChart, err => showError(`Error loading script: ${err.message}`));\n",
       "    } else {\n",
       "      maybeLoadScript(\"vega\", \"5\")\n",
       "        .then(() => maybeLoadScript(\"vega-lite\", \"4.17.0\"))\n",
       "        .then(() => maybeLoadScript(\"vega-embed\", \"6\"))\n",
       "        .catch(showError)\n",
       "        .then(() => displayChart(vegaEmbed));\n",
       "    }\n",
       "  })({\"config\": {\"view\": {\"continuousWidth\": 400, \"continuousHeight\": 300, \"strokeWidth\": 0}, \"title\": {\"font\": \"Arial\", \"fontSize\": 20}}, \"layer\": [{\"mark\": {\"type\": \"bar\", \"stroke\": \"white\"}, \"encoding\": {\"color\": {\"field\": \"gender\", \"legend\": null, \"type\": \"nominal\"}, \"tooltip\": [{\"field\": \"count\", \"title\": \"Count\", \"type\": \"quantitative\"}, {\"field\": \"gender\", \"title\": \"Gender\", \"type\": \"ordinal\"}, {\"field\": \"percent\", \"format\": \".1%\", \"title\": \"Percent\", \"type\": \"quantitative\"}], \"x\": {\"axis\": {\"format\": \".0%\", \"grid\": false}, \"field\": \"percent\", \"title\": \"\", \"type\": \"quantitative\"}, \"y\": {\"axis\": {\"labelAngle\": 0, \"labelColor\": \"#343a40\", \"labelFont\": \"Arial\", \"labelFontSize\": 14}, \"field\": \"gender\", \"title\": \"\", \"type\": \"ordinal\"}}}, {\"mark\": {\"type\": \"text\", \"dx\": 20, \"fill\": \"black\", \"size\": 16}, \"encoding\": {\"color\": {\"field\": \"gender\", \"legend\": null, \"type\": \"nominal\"}, \"text\": {\"field\": \"percent\", \"format\": \".0%\", \"type\": \"quantitative\"}, \"tooltip\": [{\"field\": \"count\", \"title\": \"Count\", \"type\": \"quantitative\"}, {\"field\": \"gender\", \"title\": \"Gender\", \"type\": \"ordinal\"}, {\"field\": \"percent\", \"format\": \".1%\", \"title\": \"Percent\", \"type\": \"quantitative\"}], \"x\": {\"axis\": {\"format\": \".0%\", \"grid\": false}, \"field\": \"percent\", \"title\": \"\", \"type\": \"quantitative\"}, \"y\": {\"axis\": {\"labelAngle\": 0, \"labelColor\": \"#343a40\", \"labelFont\": \"Arial\", \"labelFontSize\": 14}, \"field\": \"gender\", \"title\": \"\", \"type\": \"ordinal\"}}}], \"data\": {\"name\": \"data-6558ade830bbe747595c42ca7c4494d5\"}, \"height\": 150, \"title\": \"Distribution of Gender\", \"width\": 600, \"$schema\": \"https://vega.github.io/schema/vega-lite/v4.17.0.json\", \"datasets\": {\"data-6558ade830bbe747595c42ca7c4494d5\": [{\"gender\": \"female\", \"count\": 518, \"percent\": 0.518}, {\"gender\": \"male\", \"count\": 482, \"percent\": 0.482}]}}, {\"mode\": \"vega-lite\"});\n",
       "</script>"
      ],
      "text/plain": [
       "alt.LayerChart(...)"
      ]
     },
     "execution_count": 10,
     "metadata": {},
     "output_type": "execute_result"
    }
   ],
   "source": [
    " bars = alt.Chart(gender_count).mark_bar(stroke = \"white\").encode(\n",
    "    x= alt.X(\"percent:Q\", \n",
    "        title = \"\", \n",
    "        axis = alt.Axis(format='.0%', grid = False, )),\n",
    "    y= alt.Y(\"gender:O\", \n",
    "        title=\"\",\n",
    "        axis = alt.Axis(labelAngle=0, labelFontSize=14, labelColor= \"#343a40\", labelFont=\"Arial\") ),    \n",
    "    tooltip = [alt.Tooltip('count', title = 'Count' ), alt.Tooltip ('gender:O',title = 'Gender' ) , alt.Tooltip('percent:Q', format='.1%', title = 'Percent' )],\n",
    "    color=alt.Color(field=\"gender\", type=\"nominal\",legend=None ))\n",
    "\n",
    "text = bars.mark_text(\n",
    "    dx=+20,\n",
    "    size=16,\n",
    "    fill = \"black\",\n",
    ").encode(text= alt.Text('percent:Q', format='.0%'))\n",
    "\n",
    "(bars + text).properties(\n",
    "    title = f\"Distribution of Gender\",\n",
    "    width = 600,\n",
    "    height= 150,\n",
    ").configure_title(\n",
    "    fontSize = 20,\n",
    "    font = \"Arial\",\n",
    ").configure_view(\n",
    "    strokeWidth = 0,)"
   ]
  },
  {
   "cell_type": "code",
   "execution_count": 12,
   "metadata": {
    "execution": {
     "iopub.execute_input": "2022-03-04T20:40:06.781174Z",
     "iopub.status.busy": "2022-03-04T20:40:06.780713Z",
     "iopub.status.idle": "2022-03-04T20:40:06.795965Z",
     "shell.execute_reply": "2022-03-04T20:40:06.795016Z",
     "shell.execute_reply.started": "2022-03-04T20:40:06.781143Z"
    }
   },
   "outputs": [
    {
     "data": {
      "text/html": [
       "<div>\n",
       "<style scoped>\n",
       "    .dataframe tbody tr th:only-of-type {\n",
       "        vertical-align: middle;\n",
       "    }\n",
       "\n",
       "    .dataframe tbody tr th {\n",
       "        vertical-align: top;\n",
       "    }\n",
       "\n",
       "    .dataframe thead th {\n",
       "        text-align: right;\n",
       "    }\n",
       "</style>\n",
       "<table border=\"1\" class=\"dataframe\">\n",
       "  <thead>\n",
       "    <tr style=\"text-align: right;\">\n",
       "      <th></th>\n",
       "      <th>ethnicity</th>\n",
       "      <th>count</th>\n",
       "      <th>percent</th>\n",
       "    </tr>\n",
       "  </thead>\n",
       "  <tbody>\n",
       "    <tr>\n",
       "      <th>0</th>\n",
       "      <td>group C</td>\n",
       "      <td>319</td>\n",
       "      <td>0.319</td>\n",
       "    </tr>\n",
       "    <tr>\n",
       "      <th>1</th>\n",
       "      <td>group D</td>\n",
       "      <td>262</td>\n",
       "      <td>0.262</td>\n",
       "    </tr>\n",
       "    <tr>\n",
       "      <th>2</th>\n",
       "      <td>group B</td>\n",
       "      <td>190</td>\n",
       "      <td>0.190</td>\n",
       "    </tr>\n",
       "    <tr>\n",
       "      <th>3</th>\n",
       "      <td>group E</td>\n",
       "      <td>140</td>\n",
       "      <td>0.140</td>\n",
       "    </tr>\n",
       "    <tr>\n",
       "      <th>4</th>\n",
       "      <td>group A</td>\n",
       "      <td>89</td>\n",
       "      <td>0.089</td>\n",
       "    </tr>\n",
       "  </tbody>\n",
       "</table>\n",
       "</div>"
      ],
      "text/plain": [
       "  ethnicity  count  percent\n",
       "0   group C    319    0.319\n",
       "1   group D    262    0.262\n",
       "2   group B    190    0.190\n",
       "3   group E    140    0.140\n",
       "4   group A     89    0.089"
      ]
     },
     "execution_count": 12,
     "metadata": {},
     "output_type": "execute_result"
    }
   ],
   "source": [
    "ethnicity_count = data['ethnicity'].value_counts().to_frame().reset_index().rename(columns={'index':'ethnicity','ethnicity':'count'})\n",
    "ethnicity_count['percent'] = (ethnicity_count['count'] / ethnicity_count['count'].sum())\n",
    "ethnicity_count "
   ]
  },
  {
   "cell_type": "code",
   "execution_count": 13,
   "metadata": {
    "execution": {
     "iopub.execute_input": "2022-03-04T20:40:09.519003Z",
     "iopub.status.busy": "2022-03-04T20:40:09.517995Z",
     "iopub.status.idle": "2022-03-04T20:40:09.768664Z",
     "shell.execute_reply": "2022-03-04T20:40:09.768078Z",
     "shell.execute_reply.started": "2022-03-04T20:40:09.518897Z"
    }
   },
   "outputs": [
    {
     "data": {
      "text/html": [
       "\n",
       "<div id=\"altair-viz-1099c60125fa4fe3a6283f17d463ba50\"></div>\n",
       "<script type=\"text/javascript\">\n",
       "  var VEGA_DEBUG = (typeof VEGA_DEBUG == \"undefined\") ? {} : VEGA_DEBUG;\n",
       "  (function(spec, embedOpt){\n",
       "    let outputDiv = document.currentScript.previousElementSibling;\n",
       "    if (outputDiv.id !== \"altair-viz-1099c60125fa4fe3a6283f17d463ba50\") {\n",
       "      outputDiv = document.getElementById(\"altair-viz-1099c60125fa4fe3a6283f17d463ba50\");\n",
       "    }\n",
       "    const paths = {\n",
       "      \"vega\": \"https://cdn.jsdelivr.net/npm//vega@5?noext\",\n",
       "      \"vega-lib\": \"https://cdn.jsdelivr.net/npm//vega-lib?noext\",\n",
       "      \"vega-lite\": \"https://cdn.jsdelivr.net/npm//vega-lite@4.17.0?noext\",\n",
       "      \"vega-embed\": \"https://cdn.jsdelivr.net/npm//vega-embed@6?noext\",\n",
       "    };\n",
       "\n",
       "    function maybeLoadScript(lib, version) {\n",
       "      var key = `${lib.replace(\"-\", \"\")}_version`;\n",
       "      return (VEGA_DEBUG[key] == version) ?\n",
       "        Promise.resolve(paths[lib]) :\n",
       "        new Promise(function(resolve, reject) {\n",
       "          var s = document.createElement('script');\n",
       "          document.getElementsByTagName(\"head\")[0].appendChild(s);\n",
       "          s.async = true;\n",
       "          s.onload = () => {\n",
       "            VEGA_DEBUG[key] = version;\n",
       "            return resolve(paths[lib]);\n",
       "          };\n",
       "          s.onerror = () => reject(`Error loading script: ${paths[lib]}`);\n",
       "          s.src = paths[lib];\n",
       "        });\n",
       "    }\n",
       "\n",
       "    function showError(err) {\n",
       "      outputDiv.innerHTML = `<div class=\"error\" style=\"color:red;\">${err}</div>`;\n",
       "      throw err;\n",
       "    }\n",
       "\n",
       "    function displayChart(vegaEmbed) {\n",
       "      vegaEmbed(outputDiv, spec, embedOpt)\n",
       "        .catch(err => showError(`Javascript Error: ${err.message}<br>This usually means there's a typo in your chart specification. See the javascript console for the full traceback.`));\n",
       "    }\n",
       "\n",
       "    if(typeof define === \"function\" && define.amd) {\n",
       "      requirejs.config({paths});\n",
       "      require([\"vega-embed\"], displayChart, err => showError(`Error loading script: ${err.message}`));\n",
       "    } else {\n",
       "      maybeLoadScript(\"vega\", \"5\")\n",
       "        .then(() => maybeLoadScript(\"vega-lite\", \"4.17.0\"))\n",
       "        .then(() => maybeLoadScript(\"vega-embed\", \"6\"))\n",
       "        .catch(showError)\n",
       "        .then(() => displayChart(vegaEmbed));\n",
       "    }\n",
       "  })({\"config\": {\"view\": {\"continuousWidth\": 400, \"continuousHeight\": 300, \"strokeWidth\": 0}, \"title\": {\"font\": \"Arial\", \"fontSize\": 20}}, \"layer\": [{\"mark\": {\"type\": \"bar\", \"stroke\": \"white\"}, \"encoding\": {\"color\": {\"field\": \"ethnicity\", \"legend\": null, \"type\": \"nominal\"}, \"tooltip\": [{\"field\": \"count\", \"title\": \"Count\", \"type\": \"quantitative\"}, {\"field\": \"ethnicity\", \"title\": \"Ethnicity\", \"type\": \"ordinal\"}, {\"field\": \"percent\", \"format\": \".1%\", \"title\": \"Percent\", \"type\": \"quantitative\"}], \"x\": {\"axis\": {\"format\": \".0%\", \"grid\": false}, \"field\": \"percent\", \"title\": \"\", \"type\": \"quantitative\"}, \"y\": {\"axis\": {\"labelAngle\": 0, \"labelColor\": \"#343a40\", \"labelFont\": \"Arial\", \"labelFontSize\": 14}, \"field\": \"ethnicity\", \"title\": \"\", \"type\": \"ordinal\"}}}, {\"mark\": {\"type\": \"text\", \"dx\": 20, \"fill\": \"black\", \"size\": 16}, \"encoding\": {\"color\": {\"field\": \"ethnicity\", \"legend\": null, \"type\": \"nominal\"}, \"text\": {\"field\": \"percent\", \"format\": \".0%\", \"type\": \"quantitative\"}, \"tooltip\": [{\"field\": \"count\", \"title\": \"Count\", \"type\": \"quantitative\"}, {\"field\": \"ethnicity\", \"title\": \"Ethnicity\", \"type\": \"ordinal\"}, {\"field\": \"percent\", \"format\": \".1%\", \"title\": \"Percent\", \"type\": \"quantitative\"}], \"x\": {\"axis\": {\"format\": \".0%\", \"grid\": false}, \"field\": \"percent\", \"title\": \"\", \"type\": \"quantitative\"}, \"y\": {\"axis\": {\"labelAngle\": 0, \"labelColor\": \"#343a40\", \"labelFont\": \"Arial\", \"labelFontSize\": 14}, \"field\": \"ethnicity\", \"title\": \"\", \"type\": \"ordinal\"}}}], \"data\": {\"name\": \"data-42ff1381c3b2c6450de5949e90fd097b\"}, \"height\": 150, \"title\": \"Distribution of Ethnicity\", \"width\": 700, \"$schema\": \"https://vega.github.io/schema/vega-lite/v4.17.0.json\", \"datasets\": {\"data-42ff1381c3b2c6450de5949e90fd097b\": [{\"ethnicity\": \"group C\", \"count\": 319, \"percent\": 0.319}, {\"ethnicity\": \"group D\", \"count\": 262, \"percent\": 0.262}, {\"ethnicity\": \"group B\", \"count\": 190, \"percent\": 0.19}, {\"ethnicity\": \"group E\", \"count\": 140, \"percent\": 0.14}, {\"ethnicity\": \"group A\", \"count\": 89, \"percent\": 0.089}]}}, {\"mode\": \"vega-lite\"});\n",
       "</script>"
      ],
      "text/plain": [
       "alt.LayerChart(...)"
      ]
     },
     "execution_count": 13,
     "metadata": {},
     "output_type": "execute_result"
    }
   ],
   "source": [
    " bars = alt.Chart(ethnicity_count).mark_bar(stroke = \"white\").encode(\n",
    "    x= alt.X(\"percent:Q\", \n",
    "        title = \"\", \n",
    "        axis = alt.Axis(format='.0%', grid = False, )),\n",
    "    y= alt.Y(\"ethnicity:O\", \n",
    "        title=\"\",\n",
    "        axis = alt.Axis(labelAngle=0, labelFontSize=14, labelColor= \"#343a40\", labelFont=\"Arial\") ),    \n",
    "    tooltip = [alt.Tooltip('count', title = 'Count' ), alt.Tooltip ('ethnicity:O',title = 'Ethnicity' ) , alt.Tooltip('percent:Q', format='.1%', title = 'Percent' )],\n",
    "    color=alt.Color(field=\"ethnicity\", type=\"nominal\",legend=None ),\n",
    ")\n",
    "\n",
    "text = bars.mark_text(\n",
    "    dx=+20,\n",
    "    size=16,\n",
    "    fill = \"black\",\n",
    ").encode(text= alt.Text('percent:Q', format='.0%'))\n",
    "\n",
    "(bars + text).properties(\n",
    "    title = f\"Distribution of Ethnicity\",\n",
    "    width = 700,\n",
    "    height= 150,\n",
    ").configure_title(\n",
    "    fontSize = 20,\n",
    "    font = \"Arial\",\n",
    ").configure_view(\n",
    "    strokeWidth = 0,\n",
    ") "
   ]
  },
  {
   "cell_type": "code",
   "execution_count": 14,
   "metadata": {
    "execution": {
     "iopub.execute_input": "2022-03-04T20:41:44.889071Z",
     "iopub.status.busy": "2022-03-04T20:41:44.888502Z",
     "iopub.status.idle": "2022-03-04T20:41:44.903153Z",
     "shell.execute_reply": "2022-03-04T20:41:44.902251Z",
     "shell.execute_reply.started": "2022-03-04T20:41:44.88903Z"
    }
   },
   "outputs": [
    {
     "data": {
      "text/html": [
       "<div>\n",
       "<style scoped>\n",
       "    .dataframe tbody tr th:only-of-type {\n",
       "        vertical-align: middle;\n",
       "    }\n",
       "\n",
       "    .dataframe tbody tr th {\n",
       "        vertical-align: top;\n",
       "    }\n",
       "\n",
       "    .dataframe thead th {\n",
       "        text-align: right;\n",
       "    }\n",
       "</style>\n",
       "<table border=\"1\" class=\"dataframe\">\n",
       "  <thead>\n",
       "    <tr style=\"text-align: right;\">\n",
       "      <th></th>\n",
       "      <th>parental_education</th>\n",
       "      <th>count</th>\n",
       "      <th>percent</th>\n",
       "    </tr>\n",
       "  </thead>\n",
       "  <tbody>\n",
       "    <tr>\n",
       "      <th>0</th>\n",
       "      <td>some college</td>\n",
       "      <td>226</td>\n",
       "      <td>0.226</td>\n",
       "    </tr>\n",
       "    <tr>\n",
       "      <th>1</th>\n",
       "      <td>associate's degree</td>\n",
       "      <td>222</td>\n",
       "      <td>0.222</td>\n",
       "    </tr>\n",
       "    <tr>\n",
       "      <th>2</th>\n",
       "      <td>high school</td>\n",
       "      <td>196</td>\n",
       "      <td>0.196</td>\n",
       "    </tr>\n",
       "    <tr>\n",
       "      <th>3</th>\n",
       "      <td>some high school</td>\n",
       "      <td>179</td>\n",
       "      <td>0.179</td>\n",
       "    </tr>\n",
       "    <tr>\n",
       "      <th>4</th>\n",
       "      <td>bachelor's degree</td>\n",
       "      <td>118</td>\n",
       "      <td>0.118</td>\n",
       "    </tr>\n",
       "    <tr>\n",
       "      <th>5</th>\n",
       "      <td>master's degree</td>\n",
       "      <td>59</td>\n",
       "      <td>0.059</td>\n",
       "    </tr>\n",
       "  </tbody>\n",
       "</table>\n",
       "</div>"
      ],
      "text/plain": [
       "   parental_education  count  percent\n",
       "0        some college    226    0.226\n",
       "1  associate's degree    222    0.222\n",
       "2         high school    196    0.196\n",
       "3    some high school    179    0.179\n",
       "4   bachelor's degree    118    0.118\n",
       "5     master's degree     59    0.059"
      ]
     },
     "execution_count": 14,
     "metadata": {},
     "output_type": "execute_result"
    }
   ],
   "source": [
    "pEducation_count = data['parental_education'].value_counts().to_frame().reset_index().rename(columns={'index':'parental_education','parental_education':'count'})\n",
    "pEducation_count['percent'] = (pEducation_count['count'] / pEducation_count['count'].sum())\n",
    "pEducation_count"
   ]
  },
  {
   "cell_type": "code",
   "execution_count": 15,
   "metadata": {
    "execution": {
     "iopub.execute_input": "2022-03-04T20:41:49.821951Z",
     "iopub.status.busy": "2022-03-04T20:41:49.821433Z",
     "iopub.status.idle": "2022-03-04T20:41:50.07256Z",
     "shell.execute_reply": "2022-03-04T20:41:50.07179Z",
     "shell.execute_reply.started": "2022-03-04T20:41:49.82189Z"
    }
   },
   "outputs": [
    {
     "data": {
      "text/html": [
       "\n",
       "<div id=\"altair-viz-38c13c239f064dd58b33f2d19fcd42ff\"></div>\n",
       "<script type=\"text/javascript\">\n",
       "  var VEGA_DEBUG = (typeof VEGA_DEBUG == \"undefined\") ? {} : VEGA_DEBUG;\n",
       "  (function(spec, embedOpt){\n",
       "    let outputDiv = document.currentScript.previousElementSibling;\n",
       "    if (outputDiv.id !== \"altair-viz-38c13c239f064dd58b33f2d19fcd42ff\") {\n",
       "      outputDiv = document.getElementById(\"altair-viz-38c13c239f064dd58b33f2d19fcd42ff\");\n",
       "    }\n",
       "    const paths = {\n",
       "      \"vega\": \"https://cdn.jsdelivr.net/npm//vega@5?noext\",\n",
       "      \"vega-lib\": \"https://cdn.jsdelivr.net/npm//vega-lib?noext\",\n",
       "      \"vega-lite\": \"https://cdn.jsdelivr.net/npm//vega-lite@4.17.0?noext\",\n",
       "      \"vega-embed\": \"https://cdn.jsdelivr.net/npm//vega-embed@6?noext\",\n",
       "    };\n",
       "\n",
       "    function maybeLoadScript(lib, version) {\n",
       "      var key = `${lib.replace(\"-\", \"\")}_version`;\n",
       "      return (VEGA_DEBUG[key] == version) ?\n",
       "        Promise.resolve(paths[lib]) :\n",
       "        new Promise(function(resolve, reject) {\n",
       "          var s = document.createElement('script');\n",
       "          document.getElementsByTagName(\"head\")[0].appendChild(s);\n",
       "          s.async = true;\n",
       "          s.onload = () => {\n",
       "            VEGA_DEBUG[key] = version;\n",
       "            return resolve(paths[lib]);\n",
       "          };\n",
       "          s.onerror = () => reject(`Error loading script: ${paths[lib]}`);\n",
       "          s.src = paths[lib];\n",
       "        });\n",
       "    }\n",
       "\n",
       "    function showError(err) {\n",
       "      outputDiv.innerHTML = `<div class=\"error\" style=\"color:red;\">${err}</div>`;\n",
       "      throw err;\n",
       "    }\n",
       "\n",
       "    function displayChart(vegaEmbed) {\n",
       "      vegaEmbed(outputDiv, spec, embedOpt)\n",
       "        .catch(err => showError(`Javascript Error: ${err.message}<br>This usually means there's a typo in your chart specification. See the javascript console for the full traceback.`));\n",
       "    }\n",
       "\n",
       "    if(typeof define === \"function\" && define.amd) {\n",
       "      requirejs.config({paths});\n",
       "      require([\"vega-embed\"], displayChart, err => showError(`Error loading script: ${err.message}`));\n",
       "    } else {\n",
       "      maybeLoadScript(\"vega\", \"5\")\n",
       "        .then(() => maybeLoadScript(\"vega-lite\", \"4.17.0\"))\n",
       "        .then(() => maybeLoadScript(\"vega-embed\", \"6\"))\n",
       "        .catch(showError)\n",
       "        .then(() => displayChart(vegaEmbed));\n",
       "    }\n",
       "  })({\"config\": {\"view\": {\"continuousWidth\": 400, \"continuousHeight\": 300, \"strokeWidth\": 0}, \"title\": {\"font\": \"Arial\", \"fontSize\": 20}}, \"layer\": [{\"mark\": {\"type\": \"bar\", \"stroke\": \"white\"}, \"encoding\": {\"color\": {\"field\": \"parental_education\", \"legend\": null, \"type\": \"nominal\"}, \"tooltip\": [{\"field\": \"count\", \"title\": \"Count\", \"type\": \"quantitative\"}, {\"field\": \"parental_education\", \"title\": \"Parental education\", \"type\": \"ordinal\"}, {\"field\": \"percent\", \"format\": \".1%\", \"title\": \"Percent\", \"type\": \"quantitative\"}], \"x\": {\"axis\": {\"format\": \".0%\", \"grid\": false}, \"field\": \"percent\", \"title\": \"\", \"type\": \"quantitative\"}, \"y\": {\"axis\": {\"labelAngle\": 0, \"labelColor\": \"#343a40\", \"labelFont\": \"Arial\", \"labelFontSize\": 14}, \"field\": \"parental_education\", \"title\": \"\", \"type\": \"ordinal\"}}}, {\"mark\": {\"type\": \"text\", \"dx\": 20, \"fill\": \"black\", \"size\": 16}, \"encoding\": {\"color\": {\"field\": \"parental_education\", \"legend\": null, \"type\": \"nominal\"}, \"text\": {\"field\": \"percent\", \"format\": \".0%\", \"type\": \"quantitative\"}, \"tooltip\": [{\"field\": \"count\", \"title\": \"Count\", \"type\": \"quantitative\"}, {\"field\": \"parental_education\", \"title\": \"Parental education\", \"type\": \"ordinal\"}, {\"field\": \"percent\", \"format\": \".1%\", \"title\": \"Percent\", \"type\": \"quantitative\"}], \"x\": {\"axis\": {\"format\": \".0%\", \"grid\": false}, \"field\": \"percent\", \"title\": \"\", \"type\": \"quantitative\"}, \"y\": {\"axis\": {\"labelAngle\": 0, \"labelColor\": \"#343a40\", \"labelFont\": \"Arial\", \"labelFontSize\": 14}, \"field\": \"parental_education\", \"title\": \"\", \"type\": \"ordinal\"}}}], \"data\": {\"name\": \"data-e192dd5961e235b5d2ad50bb4cd1ddcc\"}, \"height\": 150, \"title\": \"Distribution of Parental Education\", \"width\": 600, \"$schema\": \"https://vega.github.io/schema/vega-lite/v4.17.0.json\", \"datasets\": {\"data-e192dd5961e235b5d2ad50bb4cd1ddcc\": [{\"parental_education\": \"some college\", \"count\": 226, \"percent\": 0.226}, {\"parental_education\": \"associate's degree\", \"count\": 222, \"percent\": 0.222}, {\"parental_education\": \"high school\", \"count\": 196, \"percent\": 0.196}, {\"parental_education\": \"some high school\", \"count\": 179, \"percent\": 0.179}, {\"parental_education\": \"bachelor's degree\", \"count\": 118, \"percent\": 0.118}, {\"parental_education\": \"master's degree\", \"count\": 59, \"percent\": 0.059}]}}, {\"mode\": \"vega-lite\"});\n",
       "</script>"
      ],
      "text/plain": [
       "alt.LayerChart(...)"
      ]
     },
     "execution_count": 15,
     "metadata": {},
     "output_type": "execute_result"
    }
   ],
   "source": [
    " bars = alt.Chart(pEducation_count).mark_bar(stroke = \"white\").encode(\n",
    "    x= alt.X(\"percent:Q\", \n",
    "        title = \"\", \n",
    "        axis = alt.Axis(format='.0%', grid = False, )),\n",
    "    y= alt.Y(\"parental_education:O\", \n",
    "        title=\"\",\n",
    "        axis = alt.Axis(labelAngle=0, labelFontSize=14, labelColor= \"#343a40\", labelFont=\"Arial\") ),    \n",
    "    tooltip = [alt.Tooltip('count', title = 'Count' ), alt.Tooltip ('parental_education:O',title = 'Parental education' ) , alt.Tooltip('percent:Q', format='.1%', title = 'Percent' )],\n",
    "    color=alt.Color(field=\"parental_education\", type=\"nominal\",legend=None ))\n",
    "\n",
    "text = bars.mark_text(\n",
    "    dx=+20,\n",
    "    size=16,\n",
    "    fill = \"black\",\n",
    ").encode(text= alt.Text('percent:Q', format='.0%'))\n",
    "\n",
    "(bars + text).properties(\n",
    "    title = f\"Distribution of Parental Education\",\n",
    "    width = 600,\n",
    "    height= 150,\n",
    ").configure_title(\n",
    "    fontSize = 20,\n",
    "    font = \"Arial\",\n",
    ").configure_view(\n",
    "    strokeWidth = 0,)"
   ]
  },
  {
   "cell_type": "code",
   "execution_count": 16,
   "metadata": {
    "execution": {
     "iopub.execute_input": "2022-03-04T20:41:55.472976Z",
     "iopub.status.busy": "2022-03-04T20:41:55.472382Z",
     "iopub.status.idle": "2022-03-04T20:41:55.48662Z",
     "shell.execute_reply": "2022-03-04T20:41:55.485979Z",
     "shell.execute_reply.started": "2022-03-04T20:41:55.472936Z"
    }
   },
   "outputs": [
    {
     "data": {
      "text/html": [
       "<div>\n",
       "<style scoped>\n",
       "    .dataframe tbody tr th:only-of-type {\n",
       "        vertical-align: middle;\n",
       "    }\n",
       "\n",
       "    .dataframe tbody tr th {\n",
       "        vertical-align: top;\n",
       "    }\n",
       "\n",
       "    .dataframe thead th {\n",
       "        text-align: right;\n",
       "    }\n",
       "</style>\n",
       "<table border=\"1\" class=\"dataframe\">\n",
       "  <thead>\n",
       "    <tr style=\"text-align: right;\">\n",
       "      <th></th>\n",
       "      <th>lunch</th>\n",
       "      <th>count</th>\n",
       "      <th>percent</th>\n",
       "    </tr>\n",
       "  </thead>\n",
       "  <tbody>\n",
       "    <tr>\n",
       "      <th>0</th>\n",
       "      <td>standard</td>\n",
       "      <td>645</td>\n",
       "      <td>0.645</td>\n",
       "    </tr>\n",
       "    <tr>\n",
       "      <th>1</th>\n",
       "      <td>free/reduced</td>\n",
       "      <td>355</td>\n",
       "      <td>0.355</td>\n",
       "    </tr>\n",
       "  </tbody>\n",
       "</table>\n",
       "</div>"
      ],
      "text/plain": [
       "          lunch  count  percent\n",
       "0      standard    645    0.645\n",
       "1  free/reduced    355    0.355"
      ]
     },
     "execution_count": 16,
     "metadata": {},
     "output_type": "execute_result"
    }
   ],
   "source": [
    "lunch_count = data['lunch'].value_counts().to_frame().reset_index().rename(columns={'index':'lunch','lunch':'count'})\n",
    "lunch_count['percent'] = (lunch_count['count'] / lunch_count['count'].sum())\n",
    "lunch_count "
   ]
  },
  {
   "cell_type": "code",
   "execution_count": 17,
   "metadata": {
    "execution": {
     "iopub.execute_input": "2022-03-04T20:41:58.45301Z",
     "iopub.status.busy": "2022-03-04T20:41:58.452402Z",
     "iopub.status.idle": "2022-03-04T20:41:58.707376Z",
     "shell.execute_reply": "2022-03-04T20:41:58.706258Z",
     "shell.execute_reply.started": "2022-03-04T20:41:58.452957Z"
    }
   },
   "outputs": [
    {
     "data": {
      "text/html": [
       "\n",
       "<div id=\"altair-viz-4ed1e4cfab2c4706ad8ce55a8f94e1fb\"></div>\n",
       "<script type=\"text/javascript\">\n",
       "  var VEGA_DEBUG = (typeof VEGA_DEBUG == \"undefined\") ? {} : VEGA_DEBUG;\n",
       "  (function(spec, embedOpt){\n",
       "    let outputDiv = document.currentScript.previousElementSibling;\n",
       "    if (outputDiv.id !== \"altair-viz-4ed1e4cfab2c4706ad8ce55a8f94e1fb\") {\n",
       "      outputDiv = document.getElementById(\"altair-viz-4ed1e4cfab2c4706ad8ce55a8f94e1fb\");\n",
       "    }\n",
       "    const paths = {\n",
       "      \"vega\": \"https://cdn.jsdelivr.net/npm//vega@5?noext\",\n",
       "      \"vega-lib\": \"https://cdn.jsdelivr.net/npm//vega-lib?noext\",\n",
       "      \"vega-lite\": \"https://cdn.jsdelivr.net/npm//vega-lite@4.17.0?noext\",\n",
       "      \"vega-embed\": \"https://cdn.jsdelivr.net/npm//vega-embed@6?noext\",\n",
       "    };\n",
       "\n",
       "    function maybeLoadScript(lib, version) {\n",
       "      var key = `${lib.replace(\"-\", \"\")}_version`;\n",
       "      return (VEGA_DEBUG[key] == version) ?\n",
       "        Promise.resolve(paths[lib]) :\n",
       "        new Promise(function(resolve, reject) {\n",
       "          var s = document.createElement('script');\n",
       "          document.getElementsByTagName(\"head\")[0].appendChild(s);\n",
       "          s.async = true;\n",
       "          s.onload = () => {\n",
       "            VEGA_DEBUG[key] = version;\n",
       "            return resolve(paths[lib]);\n",
       "          };\n",
       "          s.onerror = () => reject(`Error loading script: ${paths[lib]}`);\n",
       "          s.src = paths[lib];\n",
       "        });\n",
       "    }\n",
       "\n",
       "    function showError(err) {\n",
       "      outputDiv.innerHTML = `<div class=\"error\" style=\"color:red;\">${err}</div>`;\n",
       "      throw err;\n",
       "    }\n",
       "\n",
       "    function displayChart(vegaEmbed) {\n",
       "      vegaEmbed(outputDiv, spec, embedOpt)\n",
       "        .catch(err => showError(`Javascript Error: ${err.message}<br>This usually means there's a typo in your chart specification. See the javascript console for the full traceback.`));\n",
       "    }\n",
       "\n",
       "    if(typeof define === \"function\" && define.amd) {\n",
       "      requirejs.config({paths});\n",
       "      require([\"vega-embed\"], displayChart, err => showError(`Error loading script: ${err.message}`));\n",
       "    } else {\n",
       "      maybeLoadScript(\"vega\", \"5\")\n",
       "        .then(() => maybeLoadScript(\"vega-lite\", \"4.17.0\"))\n",
       "        .then(() => maybeLoadScript(\"vega-embed\", \"6\"))\n",
       "        .catch(showError)\n",
       "        .then(() => displayChart(vegaEmbed));\n",
       "    }\n",
       "  })({\"config\": {\"view\": {\"continuousWidth\": 400, \"continuousHeight\": 300, \"strokeWidth\": 0}, \"title\": {\"font\": \"Arial\", \"fontSize\": 20}}, \"layer\": [{\"mark\": {\"type\": \"bar\", \"stroke\": \"white\"}, \"encoding\": {\"color\": {\"field\": \"lunch\", \"legend\": null, \"type\": \"nominal\"}, \"tooltip\": [{\"field\": \"count\", \"title\": \"Count\", \"type\": \"quantitative\"}, {\"field\": \"lunch\", \"title\": \"Lunch\", \"type\": \"ordinal\"}, {\"field\": \"percent\", \"format\": \".1%\", \"title\": \"Percent\", \"type\": \"quantitative\"}], \"x\": {\"axis\": {\"format\": \".0%\", \"grid\": false}, \"field\": \"percent\", \"title\": \"\", \"type\": \"quantitative\"}, \"y\": {\"axis\": {\"labelAngle\": 0, \"labelColor\": \"#343a40\", \"labelFont\": \"Arial\", \"labelFontSize\": 14}, \"field\": \"lunch\", \"title\": \"\", \"type\": \"ordinal\"}}}, {\"mark\": {\"type\": \"text\", \"dx\": 20, \"fill\": \"black\", \"size\": 16}, \"encoding\": {\"color\": {\"field\": \"lunch\", \"legend\": null, \"type\": \"nominal\"}, \"text\": {\"field\": \"percent\", \"format\": \".0%\", \"type\": \"quantitative\"}, \"tooltip\": [{\"field\": \"count\", \"title\": \"Count\", \"type\": \"quantitative\"}, {\"field\": \"lunch\", \"title\": \"Lunch\", \"type\": \"ordinal\"}, {\"field\": \"percent\", \"format\": \".1%\", \"title\": \"Percent\", \"type\": \"quantitative\"}], \"x\": {\"axis\": {\"format\": \".0%\", \"grid\": false}, \"field\": \"percent\", \"title\": \"\", \"type\": \"quantitative\"}, \"y\": {\"axis\": {\"labelAngle\": 0, \"labelColor\": \"#343a40\", \"labelFont\": \"Arial\", \"labelFontSize\": 14}, \"field\": \"lunch\", \"title\": \"\", \"type\": \"ordinal\"}}}], \"data\": {\"name\": \"data-134c0860c89785aa53a774bf52a04aae\"}, \"height\": 150, \"title\": \"Distribution of Lunch\", \"width\": 600, \"$schema\": \"https://vega.github.io/schema/vega-lite/v4.17.0.json\", \"datasets\": {\"data-134c0860c89785aa53a774bf52a04aae\": [{\"lunch\": \"standard\", \"count\": 645, \"percent\": 0.645}, {\"lunch\": \"free/reduced\", \"count\": 355, \"percent\": 0.355}]}}, {\"mode\": \"vega-lite\"});\n",
       "</script>"
      ],
      "text/plain": [
       "alt.LayerChart(...)"
      ]
     },
     "execution_count": 17,
     "metadata": {},
     "output_type": "execute_result"
    }
   ],
   "source": [
    " bars = alt.Chart(lunch_count).mark_bar(stroke = \"white\").encode(\n",
    "    x= alt.X(\"percent:Q\", \n",
    "        title = \"\", \n",
    "        axis = alt.Axis(format='.0%', grid = False, )),\n",
    "    y= alt.Y(\"lunch:O\", \n",
    "        title=\"\",\n",
    "        axis = alt.Axis(labelAngle=0, labelFontSize=14, labelColor= \"#343a40\", labelFont=\"Arial\") ),    \n",
    "    tooltip = [alt.Tooltip('count', title = 'Count' ), alt.Tooltip ('lunch:O',title = 'Lunch' ) , alt.Tooltip('percent:Q', format='.1%', title = 'Percent' )],\n",
    "    color=alt.Color(field=\"lunch\", type=\"nominal\",legend=None ))\n",
    "\n",
    "text = bars.mark_text(\n",
    "    dx=+20,\n",
    "    size=16,\n",
    "    fill = \"black\",\n",
    ").encode(text= alt.Text('percent:Q', format='.0%'))\n",
    "\n",
    "(bars + text).properties(\n",
    "    title = f\"Distribution of Lunch\",\n",
    "    width = 600,\n",
    "    height= 150,\n",
    ").configure_title(\n",
    "    fontSize = 20,\n",
    "    font = \"Arial\",\n",
    ").configure_view(\n",
    "    strokeWidth = 0,)"
   ]
  },
  {
   "cell_type": "code",
   "execution_count": 18,
   "metadata": {
    "execution": {
     "iopub.execute_input": "2022-03-04T20:42:04.984993Z",
     "iopub.status.busy": "2022-03-04T20:42:04.984646Z",
     "iopub.status.idle": "2022-03-04T20:42:05.001486Z",
     "shell.execute_reply": "2022-03-04T20:42:05.000711Z",
     "shell.execute_reply.started": "2022-03-04T20:42:04.984959Z"
    }
   },
   "outputs": [
    {
     "data": {
      "text/html": [
       "<div>\n",
       "<style scoped>\n",
       "    .dataframe tbody tr th:only-of-type {\n",
       "        vertical-align: middle;\n",
       "    }\n",
       "\n",
       "    .dataframe tbody tr th {\n",
       "        vertical-align: top;\n",
       "    }\n",
       "\n",
       "    .dataframe thead th {\n",
       "        text-align: right;\n",
       "    }\n",
       "</style>\n",
       "<table border=\"1\" class=\"dataframe\">\n",
       "  <thead>\n",
       "    <tr style=\"text-align: right;\">\n",
       "      <th></th>\n",
       "      <th>course</th>\n",
       "      <th>count</th>\n",
       "      <th>percent</th>\n",
       "    </tr>\n",
       "  </thead>\n",
       "  <tbody>\n",
       "    <tr>\n",
       "      <th>0</th>\n",
       "      <td>none</td>\n",
       "      <td>642</td>\n",
       "      <td>0.642</td>\n",
       "    </tr>\n",
       "    <tr>\n",
       "      <th>1</th>\n",
       "      <td>completed</td>\n",
       "      <td>358</td>\n",
       "      <td>0.358</td>\n",
       "    </tr>\n",
       "  </tbody>\n",
       "</table>\n",
       "</div>"
      ],
      "text/plain": [
       "      course  count  percent\n",
       "0       none    642    0.642\n",
       "1  completed    358    0.358"
      ]
     },
     "execution_count": 18,
     "metadata": {},
     "output_type": "execute_result"
    }
   ],
   "source": [
    "course_count = data['course'].value_counts().to_frame().reset_index().rename(columns={'index':'course','course':'count'})\n",
    "course_count['percent'] = (course_count['count'] / course_count['count'].sum())\n",
    "course_count "
   ]
  },
  {
   "cell_type": "code",
   "execution_count": 19,
   "metadata": {
    "execution": {
     "iopub.execute_input": "2022-03-04T20:42:08.49616Z",
     "iopub.status.busy": "2022-03-04T20:42:08.4949Z",
     "iopub.status.idle": "2022-03-04T20:42:08.749239Z",
     "shell.execute_reply": "2022-03-04T20:42:08.748509Z",
     "shell.execute_reply.started": "2022-03-04T20:42:08.496113Z"
    }
   },
   "outputs": [
    {
     "data": {
      "text/html": [
       "\n",
       "<div id=\"altair-viz-38261bf4040840c5855dd33426ce2aae\"></div>\n",
       "<script type=\"text/javascript\">\n",
       "  var VEGA_DEBUG = (typeof VEGA_DEBUG == \"undefined\") ? {} : VEGA_DEBUG;\n",
       "  (function(spec, embedOpt){\n",
       "    let outputDiv = document.currentScript.previousElementSibling;\n",
       "    if (outputDiv.id !== \"altair-viz-38261bf4040840c5855dd33426ce2aae\") {\n",
       "      outputDiv = document.getElementById(\"altair-viz-38261bf4040840c5855dd33426ce2aae\");\n",
       "    }\n",
       "    const paths = {\n",
       "      \"vega\": \"https://cdn.jsdelivr.net/npm//vega@5?noext\",\n",
       "      \"vega-lib\": \"https://cdn.jsdelivr.net/npm//vega-lib?noext\",\n",
       "      \"vega-lite\": \"https://cdn.jsdelivr.net/npm//vega-lite@4.17.0?noext\",\n",
       "      \"vega-embed\": \"https://cdn.jsdelivr.net/npm//vega-embed@6?noext\",\n",
       "    };\n",
       "\n",
       "    function maybeLoadScript(lib, version) {\n",
       "      var key = `${lib.replace(\"-\", \"\")}_version`;\n",
       "      return (VEGA_DEBUG[key] == version) ?\n",
       "        Promise.resolve(paths[lib]) :\n",
       "        new Promise(function(resolve, reject) {\n",
       "          var s = document.createElement('script');\n",
       "          document.getElementsByTagName(\"head\")[0].appendChild(s);\n",
       "          s.async = true;\n",
       "          s.onload = () => {\n",
       "            VEGA_DEBUG[key] = version;\n",
       "            return resolve(paths[lib]);\n",
       "          };\n",
       "          s.onerror = () => reject(`Error loading script: ${paths[lib]}`);\n",
       "          s.src = paths[lib];\n",
       "        });\n",
       "    }\n",
       "\n",
       "    function showError(err) {\n",
       "      outputDiv.innerHTML = `<div class=\"error\" style=\"color:red;\">${err}</div>`;\n",
       "      throw err;\n",
       "    }\n",
       "\n",
       "    function displayChart(vegaEmbed) {\n",
       "      vegaEmbed(outputDiv, spec, embedOpt)\n",
       "        .catch(err => showError(`Javascript Error: ${err.message}<br>This usually means there's a typo in your chart specification. See the javascript console for the full traceback.`));\n",
       "    }\n",
       "\n",
       "    if(typeof define === \"function\" && define.amd) {\n",
       "      requirejs.config({paths});\n",
       "      require([\"vega-embed\"], displayChart, err => showError(`Error loading script: ${err.message}`));\n",
       "    } else {\n",
       "      maybeLoadScript(\"vega\", \"5\")\n",
       "        .then(() => maybeLoadScript(\"vega-lite\", \"4.17.0\"))\n",
       "        .then(() => maybeLoadScript(\"vega-embed\", \"6\"))\n",
       "        .catch(showError)\n",
       "        .then(() => displayChart(vegaEmbed));\n",
       "    }\n",
       "  })({\"config\": {\"view\": {\"continuousWidth\": 400, \"continuousHeight\": 300, \"strokeWidth\": 0}, \"title\": {\"font\": \"Arial\", \"fontSize\": 20}}, \"layer\": [{\"mark\": {\"type\": \"bar\", \"stroke\": \"white\"}, \"encoding\": {\"color\": {\"field\": \"course\", \"legend\": null, \"type\": \"nominal\"}, \"tooltip\": [{\"field\": \"count\", \"title\": \"Count\", \"type\": \"quantitative\"}, {\"field\": \"course\", \"title\": \"Preparation course\", \"type\": \"ordinal\"}, {\"field\": \"percent\", \"format\": \".1%\", \"title\": \"Percent\", \"type\": \"quantitative\"}], \"x\": {\"axis\": {\"format\": \".0%\", \"grid\": false}, \"field\": \"percent\", \"title\": \"\", \"type\": \"quantitative\"}, \"y\": {\"axis\": {\"labelAngle\": 0, \"labelColor\": \"#343a40\", \"labelFont\": \"Arial\", \"labelFontSize\": 14}, \"field\": \"course\", \"title\": \"\", \"type\": \"ordinal\"}}}, {\"mark\": {\"type\": \"text\", \"dx\": 20, \"fill\": \"black\", \"size\": 16}, \"encoding\": {\"color\": {\"field\": \"course\", \"legend\": null, \"type\": \"nominal\"}, \"text\": {\"field\": \"percent\", \"format\": \".0%\", \"type\": \"quantitative\"}, \"tooltip\": [{\"field\": \"count\", \"title\": \"Count\", \"type\": \"quantitative\"}, {\"field\": \"course\", \"title\": \"Preparation course\", \"type\": \"ordinal\"}, {\"field\": \"percent\", \"format\": \".1%\", \"title\": \"Percent\", \"type\": \"quantitative\"}], \"x\": {\"axis\": {\"format\": \".0%\", \"grid\": false}, \"field\": \"percent\", \"title\": \"\", \"type\": \"quantitative\"}, \"y\": {\"axis\": {\"labelAngle\": 0, \"labelColor\": \"#343a40\", \"labelFont\": \"Arial\", \"labelFontSize\": 14}, \"field\": \"course\", \"title\": \"\", \"type\": \"ordinal\"}}}], \"data\": {\"name\": \"data-c81b1d87bea2df2c60951e5d011154f7\"}, \"height\": 150, \"title\": \"Distribution of the Preparation Course\", \"width\": 600, \"$schema\": \"https://vega.github.io/schema/vega-lite/v4.17.0.json\", \"datasets\": {\"data-c81b1d87bea2df2c60951e5d011154f7\": [{\"course\": \"none\", \"count\": 642, \"percent\": 0.642}, {\"course\": \"completed\", \"count\": 358, \"percent\": 0.358}]}}, {\"mode\": \"vega-lite\"});\n",
       "</script>"
      ],
      "text/plain": [
       "alt.LayerChart(...)"
      ]
     },
     "execution_count": 19,
     "metadata": {},
     "output_type": "execute_result"
    }
   ],
   "source": [
    " bars = alt.Chart(course_count).mark_bar(stroke = \"white\").encode(\n",
    "    x= alt.X(\"percent:Q\", \n",
    "        title = \"\", \n",
    "        axis = alt.Axis(format='.0%', grid = False, )),\n",
    "    y= alt.Y(\"course:O\", \n",
    "        title=\"\",\n",
    "        axis = alt.Axis(labelAngle=0, labelFontSize=14, labelColor= \"#343a40\", labelFont=\"Arial\") ),    \n",
    "    tooltip = [alt.Tooltip('count', title = 'Count' ), alt.Tooltip ('course:O',title = 'Preparation course' ) , alt.Tooltip('percent:Q', format='.1%', title = 'Percent' )],\n",
    "    color=alt.Color(field=\"course\", type=\"nominal\",legend=None ))\n",
    "\n",
    "text = bars.mark_text(\n",
    "    dx=+20,\n",
    "    size=16,\n",
    "    fill = \"black\",\n",
    ").encode(text= alt.Text('percent:Q', format='.0%'))\n",
    "\n",
    "(bars + text).properties(\n",
    "    title = f\"Distribution of the Preparation Course\",\n",
    "    width = 600,\n",
    "    height= 150,\n",
    ").configure_title(\n",
    "    fontSize = 20,\n",
    "    font = \"Arial\",\n",
    ").configure_view(\n",
    "    strokeWidth = 0,)"
   ]
  },
  {
   "cell_type": "markdown",
   "metadata": {},
   "source": [
    "## Srundet Performance"
   ]
  },
  {
   "cell_type": "markdown",
   "metadata": {},
   "source": [
    "Aquí ya cominezoa desarrollar graficos para ver directamente el rendiemnto de los entuantes con los datos de arriba, reafirmamos algunas ideas que ya traiamos y sacamos unas nuevas"
   ]
  },
  {
   "cell_type": "code",
   "execution_count": null,
   "metadata": {
    "execution": {
     "iopub.execute_input": "2022-03-04T20:42:26.676099Z",
     "iopub.status.busy": "2022-03-04T20:42:26.675636Z",
     "iopub.status.idle": "2022-03-04T20:42:26.690778Z",
     "shell.execute_reply": "2022-03-04T20:42:26.689471Z",
     "shell.execute_reply.started": "2022-03-04T20:42:26.676066Z"
    }
   },
   "outputs": [],
   "source": [
    "gender_math = data.groupby('gender')['math'].mean().to_frame().reset_index()\n",
    "gender_reading = data.groupby('gender')['reading'].mean().to_frame().reset_index()\n",
    "gender_writing = data.groupby('gender')['writing'].mean().to_frame().reset_index()"
   ]
  },
  {
   "cell_type": "code",
   "execution_count": null,
   "metadata": {
    "execution": {
     "iopub.execute_input": "2022-03-04T20:42:29.886586Z",
     "iopub.status.busy": "2022-03-04T20:42:29.886317Z",
     "iopub.status.idle": "2022-03-04T20:42:30.055841Z",
     "shell.execute_reply": "2022-03-04T20:42:30.054837Z",
     "shell.execute_reply.started": "2022-03-04T20:42:29.886558Z"
    }
   },
   "outputs": [],
   "source": [
    " bars = alt.Chart(gender_math).mark_bar(stroke = \"black\").encode(\n",
    "    x= alt.X(\"gender:O\", \n",
    "        title=\"\",\n",
    "        axis = alt.Axis(labelAngle=0, labelFontSize=14, labelColor= \"#343a40\", labelFont=\"Arial\") ),    \n",
    "    tooltip = [alt.Tooltip('gender', title = 'Gender' ), alt.Tooltip ('math:O',title = 'Math Score', format = \".4s\" )],\n",
    "    color=alt.Color(field=\"gender\", type=\"nominal\",legend=None ),\n",
    "    y= alt.Y(\"math:Q\", \n",
    "        title = \"Math\", \n",
    "        axis = alt.Axis( grid = False, )),\n",
    " )\n",
    "\n",
    "text = bars.mark_text(\n",
    "    dy=-10,\n",
    "    size=14,\n",
    "    fill = \"black\",\n",
    ").encode(text= alt.Text('math:Q', format = \".3s\"))\n",
    "\n",
    "g_math = (bars + text).properties(\n",
    "    width = 300,\n",
    ")\n",
    "g_math"
   ]
  },
  {
   "cell_type": "code",
   "execution_count": null,
   "metadata": {
    "execution": {
     "iopub.execute_input": "2022-03-04T20:42:32.714233Z",
     "iopub.status.busy": "2022-03-04T20:42:32.713941Z",
     "iopub.status.idle": "2022-03-04T20:42:32.861023Z",
     "shell.execute_reply": "2022-03-04T20:42:32.860398Z",
     "shell.execute_reply.started": "2022-03-04T20:42:32.714197Z"
    }
   },
   "outputs": [],
   "source": [
    " bars = alt.Chart(gender_reading).mark_bar(stroke = \"black\").encode(\n",
    "    x= alt.X(\"gender:O\", \n",
    "        title=\"\",\n",
    "        axis = alt.Axis(labelAngle=0, labelFontSize=14, labelColor= \"#343a40\", labelFont=\"Arial\") ),    \n",
    "    tooltip = [alt.Tooltip('gender', title = 'Gender' ), alt.Tooltip ('reading:O',title = 'Reading Score', format = \".4s\" )],\n",
    "    color=alt.Color(field=\"gender\", type=\"nominal\",legend=None ),\n",
    "    y= alt.Y(\"reading:Q\", \n",
    "        title = \"Reading\", \n",
    "        axis = alt.Axis( grid = False, )),\n",
    " )\n",
    "\n",
    "text = bars.mark_text(\n",
    "    dy=-10,\n",
    "    size=14,\n",
    "    fill = \"black\",\n",
    ").encode(text= alt.Text('reading:Q', format = \".3s\"))\n",
    "\n",
    "g_reading = (bars + text).properties(\n",
    "    width = 300,\n",
    ")\n",
    "g_reading"
   ]
  },
  {
   "cell_type": "code",
   "execution_count": null,
   "metadata": {
    "execution": {
     "iopub.execute_input": "2022-03-04T20:42:36.276726Z",
     "iopub.status.busy": "2022-03-04T20:42:36.276212Z",
     "iopub.status.idle": "2022-03-04T20:42:36.42188Z",
     "shell.execute_reply": "2022-03-04T20:42:36.421082Z",
     "shell.execute_reply.started": "2022-03-04T20:42:36.276693Z"
    }
   },
   "outputs": [],
   "source": [
    " bars = alt.Chart(gender_writing).mark_bar(stroke = \"black\").encode(\n",
    "    x= alt.X(\"gender:O\", \n",
    "        title=\"\",\n",
    "        axis = alt.Axis(labelAngle=0, labelFontSize=14, labelColor= \"#343a40\", labelFont=\"Arial\") ),    \n",
    "    tooltip = [alt.Tooltip('gender', title = 'Gender' ), alt.Tooltip ('writing:O',title = 'Writing Score', format = \".4s\" )],\n",
    "    color=alt.Color(field=\"gender\", type=\"nominal\",legend=None ),\n",
    "    y= alt.Y(\"writing:Q\", \n",
    "        title = \"Writing\", \n",
    "        axis = alt.Axis( grid = False, )),\n",
    " )\n",
    "\n",
    "text = bars.mark_text(\n",
    "    dy=-10,\n",
    "    size=14,\n",
    "    fill = \"black\",\n",
    ").encode(text= alt.Text('writing:Q', format = \".3s\"))\n",
    "\n",
    "g_writing = (bars + text).properties(\n",
    "    width = 300,\n",
    ")\n",
    "g_writing"
   ]
  },
  {
   "cell_type": "code",
   "execution_count": null,
   "metadata": {
    "execution": {
     "iopub.execute_input": "2022-03-04T20:47:56.517234Z",
     "iopub.status.busy": "2022-03-04T20:47:56.516948Z",
     "iopub.status.idle": "2022-03-04T20:47:56.709527Z",
     "shell.execute_reply": "2022-03-04T20:47:56.708385Z",
     "shell.execute_reply.started": "2022-03-04T20:47:56.517205Z"
    }
   },
   "outputs": [],
   "source": [
    "###Aqui todos juntos\n",
    "alt.hconcat(g_math, g_reading, g_writing ).properties(\n",
    "    title = 'Performance by Gender',\n",
    ").configure_title(\n",
    "    fontSize = 18,\n",
    "    font = \"Arial\",\n",
    "    anchor = \"middle\"\n",
    ").configure_view(\n",
    "    strokeWidth = 0,\n",
    ")"
   ]
  },
  {
   "cell_type": "code",
   "execution_count": null,
   "metadata": {
    "collapsed": true,
    "execution": {
     "iopub.execute_input": "2022-03-04T03:28:16.388195Z",
     "iopub.status.busy": "2022-03-04T03:28:16.387872Z",
     "iopub.status.idle": "2022-03-04T03:28:16.409018Z",
     "shell.execute_reply": "2022-03-04T03:28:16.408276Z",
     "shell.execute_reply.started": "2022-03-04T03:28:16.388145Z"
    },
    "jupyter": {
     "outputs_hidden": true,
     "source_hidden": true
    }
   },
   "outputs": [],
   "source": [
    "scores_gender = data[['math', 'reading', 'writing']].groupby(data['gender']).mean()\n",
    "scores_gender #Creo no me servirá"
   ]
  },
  {
   "cell_type": "code",
   "execution_count": null,
   "metadata": {
    "execution": {
     "iopub.execute_input": "2022-03-04T20:42:57.318689Z",
     "iopub.status.busy": "2022-03-04T20:42:57.318398Z",
     "iopub.status.idle": "2022-03-04T20:42:57.329439Z",
     "shell.execute_reply": "2022-03-04T20:42:57.328895Z",
     "shell.execute_reply.started": "2022-03-04T20:42:57.318659Z"
    }
   },
   "outputs": [],
   "source": [
    "ethnicity_math = data.groupby('ethnicity')['math'].mean().to_frame().reset_index()\n",
    "ethnicity_reading = data.groupby('ethnicity')['reading'].mean().to_frame().reset_index()\n",
    "ethnicity_writing = data.groupby('ethnicity')['writing'].mean().to_frame().reset_index()"
   ]
  },
  {
   "cell_type": "code",
   "execution_count": null,
   "metadata": {
    "execution": {
     "iopub.execute_input": "2022-03-04T20:43:00.590103Z",
     "iopub.status.busy": "2022-03-04T20:43:00.589756Z",
     "iopub.status.idle": "2022-03-04T20:43:00.739029Z",
     "shell.execute_reply": "2022-03-04T20:43:00.738383Z",
     "shell.execute_reply.started": "2022-03-04T20:43:00.590067Z"
    }
   },
   "outputs": [],
   "source": [
    " bars = alt.Chart(ethnicity_writing).mark_bar(stroke = \"black\").encode(\n",
    "    x= alt.X(\"ethnicity:O\", \n",
    "        title=\"\",\n",
    "        axis = alt.Axis(labelAngle=0, labelFontSize=14, labelColor= \"#343a40\", labelFont=\"Arial\") ),    \n",
    "    tooltip = [alt.Tooltip('ethnicity', title = 'Ethnicity' ), alt.Tooltip ('writing:O',title = 'Writing Score', format = \".4s\" )],\n",
    "    color=alt.Color(field=\"ethnicity\", type=\"nominal\",legend=None ),\n",
    "    y= alt.Y(\"writing:Q\", \n",
    "        title = \"Writing\", \n",
    "        axis = alt.Axis( grid = False, )),\n",
    " )\n",
    "\n",
    "text = bars.mark_text(\n",
    "    dy=-10,\n",
    "    size=14,\n",
    "    fill = \"black\",\n",
    ").encode(text= alt.Text('writing:Q', format = \".3s\"))\n",
    "e_writing = (bars + text).properties(\n",
    "    width = 300,\n",
    ")\n",
    "e_writing"
   ]
  },
  {
   "cell_type": "code",
   "execution_count": null,
   "metadata": {
    "execution": {
     "iopub.execute_input": "2022-03-04T20:43:04.530592Z",
     "iopub.status.busy": "2022-03-04T20:43:04.530147Z",
     "iopub.status.idle": "2022-03-04T20:43:04.679325Z",
     "shell.execute_reply": "2022-03-04T20:43:04.678505Z",
     "shell.execute_reply.started": "2022-03-04T20:43:04.530559Z"
    }
   },
   "outputs": [],
   "source": [
    " bars = alt.Chart(ethnicity_reading).mark_bar(stroke = \"black\").encode(\n",
    "    x= alt.X(\"ethnicity:O\", \n",
    "        title=\"\",\n",
    "        axis = alt.Axis(labelAngle=0, labelFontSize=14, labelColor= \"#343a40\", labelFont=\"Arial\") ),    \n",
    "    tooltip = [alt.Tooltip('ethnicity', title = 'Ethnicity' ), alt.Tooltip ('reading:O',title = 'Reading Score', format = \".4s\" )],\n",
    "    color=alt.Color(field=\"ethnicity\", type=\"nominal\",legend=None ),\n",
    "    y= alt.Y(\"reading:Q\", \n",
    "        title = \"Reading\", \n",
    "        axis = alt.Axis( grid = False, )),\n",
    " )\n",
    "\n",
    "text = bars.mark_text(\n",
    "    dy=-10,\n",
    "    size=14,\n",
    "    fill = \"black\",\n",
    ").encode(text= alt.Text('reading:Q', format = \".3s\"))\n",
    "\n",
    "e_reading = (bars + text).properties(\n",
    "    width = 300,\n",
    ")\n",
    "e_reading"
   ]
  },
  {
   "cell_type": "code",
   "execution_count": null,
   "metadata": {
    "execution": {
     "iopub.execute_input": "2022-03-04T20:43:08.562277Z",
     "iopub.status.busy": "2022-03-04T20:43:08.561949Z",
     "iopub.status.idle": "2022-03-04T20:43:08.712Z",
     "shell.execute_reply": "2022-03-04T20:43:08.711371Z",
     "shell.execute_reply.started": "2022-03-04T20:43:08.562241Z"
    }
   },
   "outputs": [],
   "source": [
    " bars = alt.Chart(ethnicity_math).mark_bar(stroke = \"black\").encode(\n",
    "    x= alt.X(\"ethnicity:O\", \n",
    "        title=\"\",\n",
    "        axis = alt.Axis(labelAngle=0, labelFontSize=14, labelColor= \"#343a40\", labelFont=\"Arial\") ),    \n",
    "    tooltip = [alt.Tooltip('ethnicity', title = 'Ethnicity' ), alt.Tooltip ('math:O',title = 'Math Score', format = \".4s\" )],\n",
    "    color=alt.Color(field=\"ethnicity\", type=\"nominal\",legend=None ),\n",
    "    y= alt.Y(\"math:Q\", \n",
    "        title = \"Math\", \n",
    "        axis = alt.Axis( grid = False, )),\n",
    " )\n",
    "\n",
    "text = bars.mark_text(\n",
    "    dy=-10,\n",
    "    size=14,\n",
    "    fill = \"black\",\n",
    ").encode(text= alt.Text('math:Q', format = \".3s\"))\n",
    "\n",
    "e_math = (bars + text).properties(\n",
    "    width = 300,\n",
    ")\n",
    "e_math"
   ]
  },
  {
   "cell_type": "code",
   "execution_count": null,
   "metadata": {
    "execution": {
     "iopub.execute_input": "2022-03-04T20:48:42.070718Z",
     "iopub.status.busy": "2022-03-04T20:48:42.070422Z",
     "iopub.status.idle": "2022-03-04T20:48:42.27168Z",
     "shell.execute_reply": "2022-03-04T20:48:42.270764Z",
     "shell.execute_reply.started": "2022-03-04T20:48:42.07069Z"
    }
   },
   "outputs": [],
   "source": [
    "###Aqui todos juntos\n",
    "alt.hconcat(e_math, e_reading, e_writing ).properties(\n",
    "    title = 'Performance by Ethnicity ',\n",
    ").configure_title(\n",
    "    fontSize = 18,\n",
    "    font = \"Arial\",\n",
    "    anchor = \"middle\"\n",
    ").configure_view(\n",
    "    strokeWidth = 0,\n",
    ")"
   ]
  },
  {
   "cell_type": "code",
   "execution_count": 4,
   "metadata": {
    "execution": {
     "iopub.execute_input": "2022-03-05T00:11:04.907228Z",
     "iopub.status.busy": "2022-03-05T00:11:04.906700Z",
     "iopub.status.idle": "2022-03-05T00:11:04.925747Z",
     "shell.execute_reply": "2022-03-05T00:11:04.925006Z",
     "shell.execute_reply.started": "2022-03-05T00:11:04.907195Z"
    }
   },
   "outputs": [],
   "source": [
    "pEducation_math = data.groupby('parental_education')['math'].mean().to_frame().reset_index()\n",
    "PEducation_reading = data.groupby('parental_education')['reading'].mean().to_frame().reset_index()\n",
    "pEducation_writing = data.groupby('parental_education')['writing'].mean().to_frame().reset_index()"
   ]
  },
  {
   "cell_type": "code",
   "execution_count": 5,
   "metadata": {
    "execution": {
     "iopub.execute_input": "2022-03-05T00:11:08.582252Z",
     "iopub.status.busy": "2022-03-05T00:11:08.581876Z",
     "iopub.status.idle": "2022-03-05T00:11:08.756689Z",
     "shell.execute_reply": "2022-03-05T00:11:08.755839Z",
     "shell.execute_reply.started": "2022-03-05T00:11:08.582213Z"
    }
   },
   "outputs": [],
   "source": [
    " bars = alt.Chart(pEducation_math).mark_bar(stroke = \"black\").encode(\n",
    "    x= alt.X(\"parental_education:O\", \n",
    "        title=\"\",\n",
    "        axis = alt.Axis(labelAngle=325, labelFontSize=11, labelColor= \"#343a40\", labelFont=\"Arial\") ),    \n",
    "    tooltip = [alt.Tooltip('parental_education', title = 'Parental Level of Lducation' ), alt.Tooltip ('math:O',title = 'Math Score', format = \".4s\" )],\n",
    "    color=alt.Color(field=\"parental_education\", type=\"nominal\",legend=None ),\n",
    "    y= alt.Y(\"math:Q\", \n",
    "        title = \"Math\", \n",
    "        axis = alt.Axis( grid = False, )),\n",
    " )\n",
    "\n",
    "text = bars.mark_text(\n",
    "    dy=-10,\n",
    "    size=14,\n",
    "    fill = \"black\",\n",
    ").encode(text= alt.Text('math:Q', format = \".3s\")) \n",
    "\n",
    "pe_math = (bars + text).properties(\n",
    "    width = 300,\n",
    ")\n",
    "pe_math"
   ]
  },
  {
   "cell_type": "code",
   "execution_count": 6,
   "metadata": {
    "execution": {
     "iopub.execute_input": "2022-03-05T00:11:13.504293Z",
     "iopub.status.busy": "2022-03-05T00:11:13.503752Z",
     "iopub.status.idle": "2022-03-05T00:11:13.661876Z",
     "shell.execute_reply": "2022-03-05T00:11:13.661035Z",
     "shell.execute_reply.started": "2022-03-05T00:11:13.504229Z"
    }
   },
   "outputs": [],
   "source": [
    " bars = alt.Chart(PEducation_reading).mark_bar(stroke = \"black\").encode(\n",
    "    x= alt.X(\"parental_education:O\", \n",
    "        title=\"\",\n",
    "        axis = alt.Axis(labelAngle=325, labelFontSize=11, labelColor= \"#343a40\", labelFont=\"Arial\") ),    \n",
    "    tooltip = [alt.Tooltip('parental_education', title = 'Parental Level of Lducation' ), alt.Tooltip ('reading:O',title = 'Reading Score', format = \".4s\" )],\n",
    "    color=alt.Color(field=\"parental_education\", type=\"nominal\",legend=None ),\n",
    "    y= alt.Y(\"reading:Q\", \n",
    "        title = \"Reading\", \n",
    "        axis = alt.Axis( grid = False, )),\n",
    " )\n",
    "\n",
    "text = bars.mark_text(\n",
    "    dy=-10,\n",
    "    size=14,\n",
    "    fill = \"black\",\n",
    ").encode(text= alt.Text('reading:Q', format = \".3s\"))\n",
    "\n",
    "pe_reading = (bars + text).properties(\n",
    "    width = 300,\n",
    ")\n",
    "pe_reading"
   ]
  },
  {
   "cell_type": "code",
   "execution_count": 7,
   "metadata": {
    "execution": {
     "iopub.execute_input": "2022-03-05T00:11:18.222998Z",
     "iopub.status.busy": "2022-03-05T00:11:18.222725Z",
     "iopub.status.idle": "2022-03-05T00:11:18.373387Z",
     "shell.execute_reply": "2022-03-05T00:11:18.372413Z",
     "shell.execute_reply.started": "2022-03-05T00:11:18.222968Z"
    }
   },
   "outputs": [],
   "source": [
    " bars = alt.Chart(pEducation_writing).mark_bar(stroke = \"black\").encode(\n",
    "    x= alt.X(\"parental_education:O\", \n",
    "        title=\"\",\n",
    "        axis = alt.Axis(labelAngle=325, labelFontSize=11, labelColor= \"#343a40\", labelFont=\"Arial\") ),    \n",
    "    tooltip = [alt.Tooltip('parental_education', title = 'Parental Level of Lducation' ), alt.Tooltip ('writing:O',title = 'Writing Score', format = \".4s\" )],\n",
    "    color=alt.Color(field=\"parental_education\", type=\"nominal\",legend=None ),\n",
    "    y= alt.Y(\"writing:Q\", \n",
    "        title = \"Writing\", \n",
    "        axis = alt.Axis( grid = False, )),\n",
    " )\n",
    "\n",
    "text = bars.mark_text(\n",
    "    dy=-10,\n",
    "    size=14,\n",
    "    fill = \"black\",\n",
    ").encode(text= alt.Text('writing:Q', format = \".3s\"))\n",
    "\n",
    "pe_writing = (bars + text).properties(\n",
    "    width = 300,\n",
    ")\n",
    "pe_writing"
   ]
  },
  {
   "cell_type": "code",
   "execution_count": null,
   "metadata": {
    "execution": {
     "iopub.execute_input": "2022-03-04T21:25:00.574137Z",
     "iopub.status.busy": "2022-03-04T21:25:00.573174Z",
     "iopub.status.idle": "2022-03-04T21:25:00.773847Z",
     "shell.execute_reply": "2022-03-04T21:25:00.772692Z",
     "shell.execute_reply.started": "2022-03-04T21:25:00.574094Z"
    }
   },
   "outputs": [],
   "source": [
    "alt.hconcat(pe_math, pe_reading, pe_writing ).properties(\n",
    "    title = 'Performance by Parental Level of Lducation', #I'm no sure about the tittle\n",
    ").configure_title(\n",
    "    fontSize = 18,\n",
    "    font = \"Arial\",\n",
    "    anchor = \"middle\"\n",
    ").configure_view(\n",
    "    strokeWidth = 0,\n",
    ")"
   ]
  },
  {
   "cell_type": "code",
   "execution_count": null,
   "metadata": {
    "execution": {
     "iopub.execute_input": "2022-03-04T21:29:53.285965Z",
     "iopub.status.busy": "2022-03-04T21:29:53.285408Z",
     "iopub.status.idle": "2022-03-04T21:29:53.297904Z",
     "shell.execute_reply": "2022-03-04T21:29:53.297Z",
     "shell.execute_reply.started": "2022-03-04T21:29:53.28588Z"
    }
   },
   "outputs": [],
   "source": [
    "lunch_math = data.groupby('lunch')['math'].mean().to_frame().reset_index()\n",
    "lunch_reading = data.groupby('lunch')['reading'].mean().to_frame().reset_index()\n",
    "lunch_writing = data.groupby('lunch')['writing'].mean().to_frame().reset_index()"
   ]
  },
  {
   "cell_type": "code",
   "execution_count": null,
   "metadata": {
    "execution": {
     "iopub.execute_input": "2022-03-04T21:29:55.234978Z",
     "iopub.status.busy": "2022-03-04T21:29:55.234527Z",
     "iopub.status.idle": "2022-03-04T21:29:55.383217Z",
     "shell.execute_reply": "2022-03-04T21:29:55.382563Z",
     "shell.execute_reply.started": "2022-03-04T21:29:55.234914Z"
    }
   },
   "outputs": [],
   "source": [
    " bars = alt.Chart(lunch_math).mark_bar(stroke = \"black\").encode(\n",
    "    x= alt.X(\"lunch:O\", \n",
    "        title=\"\",\n",
    "        axis = alt.Axis(labelAngle=0, labelFontSize=14, labelColor= \"#343a40\", labelFont=\"Arial\") ),    \n",
    "    tooltip = [alt.Tooltip('lunch', title = 'Lunch' ), alt.Tooltip ('math:O',title = 'Math Score', format = \".4s\" )],\n",
    "    color=alt.Color(field=\"lunch\", type=\"nominal\",legend=None ),\n",
    "    y= alt.Y(\"math:Q\", \n",
    "        title = \"Math\", \n",
    "        axis = alt.Axis( grid = False, )),\n",
    " )\n",
    "\n",
    "text = bars.mark_text(\n",
    "    dy=-10,\n",
    "    size=14,\n",
    "    fill = \"black\",\n",
    ").encode(text= alt.Text('math:Q', format = \".3s\"))\n",
    "\n",
    "l_math = (bars + text).properties(\n",
    "    width = 300,\n",
    ")\n",
    "l_math"
   ]
  },
  {
   "cell_type": "code",
   "execution_count": null,
   "metadata": {
    "execution": {
     "iopub.execute_input": "2022-03-04T21:30:35.148167Z",
     "iopub.status.busy": "2022-03-04T21:30:35.14765Z",
     "iopub.status.idle": "2022-03-04T21:30:35.30065Z",
     "shell.execute_reply": "2022-03-04T21:30:35.299945Z",
     "shell.execute_reply.started": "2022-03-04T21:30:35.148114Z"
    }
   },
   "outputs": [],
   "source": [
    " bars = alt.Chart(lunch_reading).mark_bar(stroke = \"black\").encode(\n",
    "    x= alt.X(\"lunch:O\", \n",
    "        title=\"\",\n",
    "        axis = alt.Axis(labelAngle=0, labelFontSize=14, labelColor= \"#343a40\", labelFont=\"Arial\") ),    \n",
    "    tooltip = [alt.Tooltip('lunch', title = 'Lunch' ), alt.Tooltip ('reading:O',title = 'Reading Score', format = \".4s\" )],\n",
    "    color=alt.Color(field=\"lunch\", type=\"nominal\",legend=None ),\n",
    "    y= alt.Y(\"reading:Q\", \n",
    "        title = \"Reading\", \n",
    "        axis = alt.Axis( grid = False, )),\n",
    " )\n",
    "\n",
    "text = bars.mark_text(\n",
    "    dy=-10,\n",
    "    size=14,\n",
    "    fill = \"black\",\n",
    ").encode(text= alt.Text('reading:Q', format = \".3s\"))\n",
    "\n",
    "l_reading = (bars + text).properties(\n",
    "    width = 300,\n",
    ")\n",
    "l_reading"
   ]
  },
  {
   "cell_type": "code",
   "execution_count": null,
   "metadata": {
    "execution": {
     "iopub.execute_input": "2022-03-04T21:30:53.432932Z",
     "iopub.status.busy": "2022-03-04T21:30:53.432339Z",
     "iopub.status.idle": "2022-03-04T21:30:53.582459Z",
     "shell.execute_reply": "2022-03-04T21:30:53.581648Z",
     "shell.execute_reply.started": "2022-03-04T21:30:53.432895Z"
    }
   },
   "outputs": [],
   "source": [
    " bars = alt.Chart(lunch_writing).mark_bar(stroke = \"black\").encode(\n",
    "    x= alt.X(\"lunch:O\", \n",
    "        title=\"\",\n",
    "        axis = alt.Axis(labelAngle=0, labelFontSize=14, labelColor= \"#343a40\", labelFont=\"Arial\") ),    \n",
    "    tooltip = [alt.Tooltip('lunch', title = 'Lunch' ), alt.Tooltip ('writing:O',title = 'Writing Score', format = \".4s\" )],\n",
    "    color=alt.Color(field=\"lunch\", type=\"nominal\",legend=None ),\n",
    "    y= alt.Y(\"writing:Q\", \n",
    "        title = \"Writing\", \n",
    "        axis = alt.Axis( grid = False, )),\n",
    " )\n",
    "\n",
    "text = bars.mark_text(\n",
    "    dy=-10,\n",
    "    size=14,\n",
    "    fill = \"black\",\n",
    ").encode(text= alt.Text('writing:Q', format = \".3s\")) \n",
    "\n",
    "l_writing = (bars + text).properties(\n",
    "    width = 300,\n",
    ")\n",
    "l_writing"
   ]
  },
  {
   "cell_type": "code",
   "execution_count": null,
   "metadata": {
    "execution": {
     "iopub.execute_input": "2022-03-04T21:32:41.296023Z",
     "iopub.status.busy": "2022-03-04T21:32:41.295681Z",
     "iopub.status.idle": "2022-03-04T21:32:41.491792Z",
     "shell.execute_reply": "2022-03-04T21:32:41.490931Z",
     "shell.execute_reply.started": "2022-03-04T21:32:41.295991Z"
    }
   },
   "outputs": [],
   "source": [
    "alt.hconcat(l_math, l_reading, l_writing ).properties(\n",
    "    title = 'Performance-Lunch ',\n",
    ").configure_title(\n",
    "    fontSize = 18,\n",
    "    font = \"Arial\",\n",
    "    anchor = \"middle\"\n",
    ").configure_view(\n",
    "    strokeWidth = 0,\n",
    ")"
   ]
  },
  {
   "cell_type": "code",
   "execution_count": null,
   "metadata": {
    "execution": {
     "iopub.execute_input": "2022-03-04T21:02:22.867389Z",
     "iopub.status.busy": "2022-03-04T21:02:22.86705Z",
     "iopub.status.idle": "2022-03-04T21:02:22.880496Z",
     "shell.execute_reply": "2022-03-04T21:02:22.879852Z",
     "shell.execute_reply.started": "2022-03-04T21:02:22.86735Z"
    }
   },
   "outputs": [],
   "source": [
    "course_math = data.groupby('course')['math'].mean().to_frame().reset_index()\n",
    "course_reading = data.groupby('course')['reading'].mean().to_frame().reset_index()\n",
    "course_writing = data.groupby('course')['writing'].mean().to_frame().reset_index()"
   ]
  },
  {
   "cell_type": "code",
   "execution_count": null,
   "metadata": {
    "execution": {
     "iopub.execute_input": "2022-03-04T21:33:54.368329Z",
     "iopub.status.busy": "2022-03-04T21:33:54.367818Z",
     "iopub.status.idle": "2022-03-04T21:33:54.525379Z",
     "shell.execute_reply": "2022-03-04T21:33:54.524465Z",
     "shell.execute_reply.started": "2022-03-04T21:33:54.368276Z"
    }
   },
   "outputs": [],
   "source": [
    " bars = alt.Chart(course_math).mark_bar(stroke = \"black\").encode(\n",
    "    x= alt.X(\"course:O\", \n",
    "        title=\"\",\n",
    "        axis = alt.Axis(labelAngle=0, labelFontSize=14, labelColor= \"#343a40\", labelFont=\"Arial\") ),    \n",
    "    tooltip = [alt.Tooltip('course', title = 'Test Preparation Course' ), alt.Tooltip ('math:O',title = 'Math Score', format = \".4s\" )],\n",
    "    color=alt.Color(field=\"course\", type=\"nominal\",legend=None ),\n",
    "    y= alt.Y(\"math:Q\", \n",
    "        title = \"Math\", \n",
    "        axis = alt.Axis( grid = False, )),#format='.0%',\n",
    " )\n",
    "\n",
    "text = bars.mark_text(\n",
    "    dy=-10,\n",
    "    size=14,\n",
    "    fill = \"black\",\n",
    ").encode(text= alt.Text('math:Q', format = \".3s\"))#format='.0%' \n",
    "\n",
    "c_math = (bars + text).properties(\n",
    "    #title = f\"Math Score\",\n",
    "    width = 300,\n",
    "    #height= 150,\n",
    ")\n",
    "c_math"
   ]
  },
  {
   "cell_type": "code",
   "execution_count": null,
   "metadata": {
    "execution": {
     "iopub.execute_input": "2022-03-04T21:33:47.321441Z",
     "iopub.status.busy": "2022-03-04T21:33:47.321155Z",
     "iopub.status.idle": "2022-03-04T21:33:47.471936Z",
     "shell.execute_reply": "2022-03-04T21:33:47.471123Z",
     "shell.execute_reply.started": "2022-03-04T21:33:47.321409Z"
    }
   },
   "outputs": [],
   "source": [
    " bars = alt.Chart(course_reading).mark_bar(stroke = \"black\").encode(\n",
    "    x= alt.X(\"course:O\", \n",
    "        title=\"\",\n",
    "        axis = alt.Axis(labelAngle=0, labelFontSize=14, labelColor= \"#343a40\", labelFont=\"Arial\") ),    \n",
    "    tooltip = [alt.Tooltip('course', title = 'Test Preparation Course' ), alt.Tooltip ('reading:O',title = 'Reading Score', format = \".4s\" )],\n",
    "    color=alt.Color(field=\"course\", type=\"nominal\",legend=None ),\n",
    "    y= alt.Y(\"reading:Q\", \n",
    "        title = \"Reading\", \n",
    "        axis = alt.Axis( grid = False, )),#format='.0%',\n",
    " )\n",
    "\n",
    "text = bars.mark_text(\n",
    "    dy=-10,\n",
    "    size=14,\n",
    "    fill = \"black\",\n",
    ").encode(text= alt.Text('reading:Q', format = \".3s\"))#format='.0%' \n",
    "\n",
    "c_reading = (bars + text).properties(\n",
    "    #title = f\"Reading Score\",\n",
    "    width = 300,\n",
    "    #height= 150,\n",
    ")\n",
    "c_reading"
   ]
  },
  {
   "cell_type": "code",
   "execution_count": null,
   "metadata": {
    "execution": {
     "iopub.execute_input": "2022-03-04T21:33:41.084255Z",
     "iopub.status.busy": "2022-03-04T21:33:41.083976Z",
     "iopub.status.idle": "2022-03-04T21:33:41.244192Z",
     "shell.execute_reply": "2022-03-04T21:33:41.243308Z",
     "shell.execute_reply.started": "2022-03-04T21:33:41.084229Z"
    }
   },
   "outputs": [],
   "source": [
    " bars = alt.Chart(course_writing).mark_bar(stroke = \"black\").encode(\n",
    "    x= alt.X(\"course:O\", \n",
    "        title=\"\",\n",
    "        axis = alt.Axis(labelAngle=0, labelFontSize=14, labelColor= \"#343a40\", labelFont=\"Arial\") ),    \n",
    "    tooltip = [alt.Tooltip('course', title = 'Test Preparation Course' ), alt.Tooltip ('writing:O',title = 'Writing Score', format = \".4s\" )],\n",
    "    color=alt.Color(field=\"course\", type=\"nominal\",legend=None ),\n",
    "    y= alt.Y(\"writing:Q\", \n",
    "        title = \"Writing\", \n",
    "        axis = alt.Axis( grid = False, )),#format='.0%',\n",
    " )\n",
    "\n",
    "text = bars.mark_text(\n",
    "    dy=-10,\n",
    "    size=14,\n",
    "    fill = \"black\",\n",
    ").encode(text= alt.Text('writing:Q', format = \".3s\"))#format='.0%' \n",
    "\n",
    "c_writing = (bars + text).properties(\n",
    "    #title = f\"Writing Score\",\n",
    "    width = 300,\n",
    "    #height= 150,\n",
    ")\n",
    "c_writing"
   ]
  },
  {
   "cell_type": "code",
   "execution_count": null,
   "metadata": {
    "execution": {
     "iopub.execute_input": "2022-03-04T21:34:01.899944Z",
     "iopub.status.busy": "2022-03-04T21:34:01.899342Z",
     "iopub.status.idle": "2022-03-04T21:34:02.101992Z",
     "shell.execute_reply": "2022-03-04T21:34:02.101103Z",
     "shell.execute_reply.started": "2022-03-04T21:34:01.899895Z"
    }
   },
   "outputs": [],
   "source": [
    "alt.hconcat(c_math, c_reading, c_writing ).properties(\n",
    "    title = 'Performance with Test Preparation Course ',\n",
    ").configure_title(\n",
    "    fontSize = 18,\n",
    "    font = \"Arial\",\n",
    "    anchor = \"middle\"\n",
    ").configure_view(\n",
    "    strokeWidth = 0,\n",
    ")"
   ]
  },
  {
   "cell_type": "markdown",
   "metadata": {},
   "source": [
    "## Group A vs E"
   ]
  },
  {
   "cell_type": "markdown",
   "metadata": {},
   "source": [
    "En este caso me llamó mucho la atencion en la etnia y quise indagar un poco más \n",
    "\n",
    "Preparamos datos para A y E"
   ]
  },
  {
   "cell_type": "code",
   "execution_count": 9,
   "metadata": {
    "execution": {
     "iopub.execute_input": "2022-03-05T00:12:16.963976Z",
     "iopub.status.busy": "2022-03-05T00:12:16.962897Z",
     "iopub.status.idle": "2022-03-05T00:12:16.982765Z",
     "shell.execute_reply": "2022-03-05T00:12:16.981909Z",
     "shell.execute_reply.started": "2022-03-05T00:12:16.963899Z"
    }
   },
   "outputs": [],
   "source": [
    "data_a = data [(data[\"ethnicity\"] == \"group A\")]\n",
    "a_pEducation_count = data_a['parental_education'].value_counts().to_frame().reset_index().rename(columns={'index':'parental_education','parental_education':'count'})\n",
    "a_pEducation_count['percent'] = (a_pEducation_count['count'] / a_pEducation_count['count'].sum()) #*100\n",
    "a_pEducation_count "
   ]
  },
  {
   "cell_type": "code",
   "execution_count": 10,
   "metadata": {
    "execution": {
     "iopub.execute_input": "2022-03-05T00:12:33.431202Z",
     "iopub.status.busy": "2022-03-05T00:12:33.430730Z",
     "iopub.status.idle": "2022-03-05T00:12:33.445636Z",
     "shell.execute_reply": "2022-03-05T00:12:33.445129Z",
     "shell.execute_reply.started": "2022-03-05T00:12:33.431165Z"
    }
   },
   "outputs": [],
   "source": [
    "data_e = data [(data[\"ethnicity\"] == \"group E\")]\n",
    "e_pEducation_count = data_e['parental_education'].value_counts().to_frame().reset_index().rename(columns={'index':'parental_education','parental_education':'count'})\n",
    "e_pEducation_count['percent'] = (e_pEducation_count['count'] / e_pEducation_count['count'].sum()) #*100\n",
    "e_pEducation_count "
   ]
  },
  {
   "cell_type": "code",
   "execution_count": 11,
   "metadata": {
    "execution": {
     "iopub.execute_input": "2022-03-05T00:12:45.997660Z",
     "iopub.status.busy": "2022-03-05T00:12:45.997200Z",
     "iopub.status.idle": "2022-03-05T00:12:46.115394Z",
     "shell.execute_reply": "2022-03-05T00:12:46.114603Z",
     "shell.execute_reply.started": "2022-03-05T00:12:45.997599Z"
    }
   },
   "outputs": [],
   "source": [
    " bars = alt.Chart(a_pEducation_count).mark_bar(stroke = \"white\").encode(\n",
    "    x= alt.X(\"percent:Q\", \n",
    "        title = \"Group A\", \n",
    "        axis = alt.Axis(format='.0%', grid = False, )),\n",
    "    y= alt.Y(\"parental_education:O\", \n",
    "        title=\"\",\n",
    "        axis = alt.Axis(labelAngle=0, labelFontSize=14, labelColor= \"#343a40\", labelFont=\"Arial\") ),    \n",
    "    tooltip = [alt.Tooltip('count', title = 'Count' ), alt.Tooltip ('parental_education:O',title = 'Parental education' ) , alt.Tooltip('percent:Q', format='.1%', title = 'Percent' )],\n",
    "    color=alt.Color(field=\"parental_education\", type=\"nominal\",legend=None ))\n",
    "\n",
    "text = bars.mark_text(\n",
    "    dx=+20,\n",
    "    size=16,\n",
    "    fill = \"black\",\n",
    ").encode(text= alt.Text('percent:Q', format='.0%'))\n",
    "\n",
    "uno = (bars + text).properties(\n",
    "    width = 600,\n",
    "    height= 150,\n",
    ")"
   ]
  },
  {
   "cell_type": "code",
   "execution_count": 12,
   "metadata": {
    "execution": {
     "iopub.execute_input": "2022-03-05T00:12:52.013337Z",
     "iopub.status.busy": "2022-03-05T00:12:52.013045Z",
     "iopub.status.idle": "2022-03-05T00:12:52.182523Z",
     "shell.execute_reply": "2022-03-05T00:12:52.181624Z",
     "shell.execute_reply.started": "2022-03-05T00:12:52.013308Z"
    }
   },
   "outputs": [],
   "source": [
    " bars = alt.Chart(e_pEducation_count).mark_bar(stroke = \"white\").encode(\n",
    "    x= alt.X(\"percent:Q\", \n",
    "        title = \"group E\", \n",
    "        axis = alt.Axis(format='.0%', grid = False, )),\n",
    "    y= alt.Y(\"parental_education:O\", \n",
    "        title=\"\",\n",
    "        axis = alt.Axis(labelAngle=0, labelFontSize=14, labelColor= \"#343a40\", labelFont=\"Arial\") ),    \n",
    "    tooltip = [alt.Tooltip('count', title = 'Count' ), alt.Tooltip ('parental_education:O',title = 'Parental education' ) , alt.Tooltip('percent:Q', format='.1%', title = 'Percent' )],\n",
    "    color=alt.Color(field=\"parental_education\", type=\"nominal\",legend=None ))\n",
    "\n",
    "text = bars.mark_text(\n",
    "    dx=+20,\n",
    "    size=16,\n",
    "    fill = \"black\",\n",
    ").encode(text= alt.Text('percent:Q', format='.0%'))\n",
    "\n",
    "dos = (bars + text).properties(\n",
    "    width = 600,\n",
    "    height= 150,\n",
    ")\n",
    "dos"
   ]
  },
  {
   "cell_type": "code",
   "execution_count": 13,
   "metadata": {
    "execution": {
     "iopub.execute_input": "2022-03-05T00:12:58.005321Z",
     "iopub.status.busy": "2022-03-05T00:12:58.004964Z",
     "iopub.status.idle": "2022-03-05T00:12:58.175719Z",
     "shell.execute_reply": "2022-03-05T00:12:58.174837Z",
     "shell.execute_reply.started": "2022-03-05T00:12:58.005288Z"
    }
   },
   "outputs": [],
   "source": [
    "alt.vconcat(uno, dos,).properties(\n",
    "    title = 'Parental Education A vs E ',\n",
    ").configure_title(\n",
    "    fontSize = 18,\n",
    "    font = \"Arial\",\n",
    "    anchor = \"middle\"\n",
    ").configure_view(\n",
    "    strokeWidth = 0,\n",
    ")"
   ]
  },
  {
   "cell_type": "markdown",
   "metadata": {},
   "source": [
    "hacer visulizaciones por si influye el lounch o el curso"
   ]
  },
  {
   "cell_type": "code",
   "execution_count": null,
   "metadata": {
    "execution": {
     "iopub.execute_input": "2022-03-04T22:31:03.424139Z",
     "iopub.status.busy": "2022-03-04T22:31:03.423777Z",
     "iopub.status.idle": "2022-03-04T22:31:03.441172Z",
     "shell.execute_reply": "2022-03-04T22:31:03.439856Z",
     "shell.execute_reply.started": "2022-03-04T22:31:03.424106Z"
    }
   },
   "outputs": [],
   "source": [
    "a_course = data_a ['course'].value_counts().to_frame().reset_index().rename(columns={'index':'course','course':'count'})\n",
    "a_course['percent'] = (a_course['count'] / a_course['count'].sum())\n",
    "a_course"
   ]
  },
  {
   "cell_type": "code",
   "execution_count": null,
   "metadata": {
    "execution": {
     "iopub.execute_input": "2022-03-04T22:31:15.118844Z",
     "iopub.status.busy": "2022-03-04T22:31:15.118026Z",
     "iopub.status.idle": "2022-03-04T22:31:15.133429Z",
     "shell.execute_reply": "2022-03-04T22:31:15.132701Z",
     "shell.execute_reply.started": "2022-03-04T22:31:15.118805Z"
    }
   },
   "outputs": [],
   "source": [
    "e_course= data_e ['course'].value_counts().to_frame().reset_index().rename(columns={'index':'course','course':'count'})\n",
    "e_course['percent'] = (e_course['count'] / e_course['count'].sum())\n",
    "e_course"
   ]
  },
  {
   "cell_type": "code",
   "execution_count": null,
   "metadata": {
    "execution": {
     "iopub.execute_input": "2022-03-04T22:31:55.388543Z",
     "iopub.status.busy": "2022-03-04T22:31:55.388039Z",
     "iopub.status.idle": "2022-03-04T22:31:55.405529Z",
     "shell.execute_reply": "2022-03-04T22:31:55.404429Z",
     "shell.execute_reply.started": "2022-03-04T22:31:55.388491Z"
    }
   },
   "outputs": [],
   "source": [
    "a_lunch = data_a ['lunch'].value_counts().to_frame().reset_index().rename(columns={'index':'lunch','lunch':'count'})\n",
    "a_lunch['percent'] = (a_lunch['count'] / a_lunch['count'].sum())\n",
    "a_lunch"
   ]
  },
  {
   "cell_type": "code",
   "execution_count": null,
   "metadata": {
    "execution": {
     "iopub.execute_input": "2022-03-04T22:32:30.982468Z",
     "iopub.status.busy": "2022-03-04T22:32:30.981777Z",
     "iopub.status.idle": "2022-03-04T22:32:30.999226Z",
     "shell.execute_reply": "2022-03-04T22:32:30.998043Z",
     "shell.execute_reply.started": "2022-03-04T22:32:30.982429Z"
    }
   },
   "outputs": [],
   "source": [
    "e_lunch = data_e ['lunch'].value_counts().to_frame().reset_index().rename(columns={'index':'lunch','lunch':'count'})\n",
    "e_lunch['percent'] = (e_lunch['count'] / e_lunch['count'].sum())\n",
    "e_lunch"
   ]
  }
 ],
 "metadata": {
  "kernelspec": {
   "display_name": "Python 3 (ipykernel)",
   "language": "python",
   "name": "python3"
  },
  "language_info": {
   "codemirror_mode": {
    "name": "ipython",
    "version": 3
   },
   "file_extension": ".py",
   "mimetype": "text/x-python",
   "name": "python",
   "nbconvert_exporter": "python",
   "pygments_lexer": "ipython3",
   "version": "3.8.10"
  }
 },
 "nbformat": 4,
 "nbformat_minor": 4
}
