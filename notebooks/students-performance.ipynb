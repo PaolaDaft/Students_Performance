{
 "cells": [
  {
   "cell_type": "markdown",
   "metadata": {},
   "source": [
    "# Students Performance"
   ]
  },
  {
   "cell_type": "markdown",
   "metadata": {},
   "source": [
    "Notebook de análisis de datos enfocado a los factores socioeconómicos que afectan rendimiento académico a la hora de presentar exámenes.\n"
   ]
  },
  {
   "cell_type": "code",
   "execution_count": 1,
   "metadata": {
    "_cell_guid": "b1076dfc-b9ad-4769-8c92-a6c4dae69d19",
    "_uuid": "8f2839f25d086af736a60e9eeb907d3b93b6e0e5",
    "execution": {
     "iopub.execute_input": "2022-03-05T01:24:07.928659Z",
     "iopub.status.busy": "2022-03-05T01:24:07.928320Z",
     "iopub.status.idle": "2022-03-05T01:24:07.933368Z",
     "shell.execute_reply": "2022-03-05T01:24:07.932770Z",
     "shell.execute_reply.started": "2022-03-05T01:24:07.928626Z"
    },
    "scrolled": true
   },
   "outputs": [],
   "source": [
    "import pandas as pd\n",
    "import numpy as np\n",
    "import altair as alt"
   ]
  },
  {
   "cell_type": "markdown",
   "metadata": {},
   "source": [
    "# Carga de datos"
   ]
  },
  {
   "cell_type": "code",
   "execution_count": 3,
   "metadata": {
    "execution": {
     "iopub.execute_input": "2022-03-05T01:24:12.542213Z",
     "iopub.status.busy": "2022-03-05T01:24:12.541415Z",
     "iopub.status.idle": "2022-03-05T01:24:12.569585Z",
     "shell.execute_reply": "2022-03-05T01:24:12.568698Z",
     "shell.execute_reply.started": "2022-03-05T01:24:12.542160Z"
    }
   },
   "outputs": [
    {
     "data": {
      "text/html": [
       "<div>\n",
       "<style scoped>\n",
       "    .dataframe tbody tr th:only-of-type {\n",
       "        vertical-align: middle;\n",
       "    }\n",
       "\n",
       "    .dataframe tbody tr th {\n",
       "        vertical-align: top;\n",
       "    }\n",
       "\n",
       "    .dataframe thead th {\n",
       "        text-align: right;\n",
       "    }\n",
       "</style>\n",
       "<table border=\"1\" class=\"dataframe\">\n",
       "  <thead>\n",
       "    <tr style=\"text-align: right;\">\n",
       "      <th></th>\n",
       "      <th>gender</th>\n",
       "      <th>race/ethnicity</th>\n",
       "      <th>parental level of education</th>\n",
       "      <th>lunch</th>\n",
       "      <th>test preparation course</th>\n",
       "      <th>math score</th>\n",
       "      <th>reading score</th>\n",
       "      <th>writing score</th>\n",
       "    </tr>\n",
       "  </thead>\n",
       "  <tbody>\n",
       "    <tr>\n",
       "      <th>0</th>\n",
       "      <td>female</td>\n",
       "      <td>group B</td>\n",
       "      <td>bachelor's degree</td>\n",
       "      <td>standard</td>\n",
       "      <td>none</td>\n",
       "      <td>72</td>\n",
       "      <td>72</td>\n",
       "      <td>74</td>\n",
       "    </tr>\n",
       "    <tr>\n",
       "      <th>1</th>\n",
       "      <td>female</td>\n",
       "      <td>group C</td>\n",
       "      <td>some college</td>\n",
       "      <td>standard</td>\n",
       "      <td>completed</td>\n",
       "      <td>69</td>\n",
       "      <td>90</td>\n",
       "      <td>88</td>\n",
       "    </tr>\n",
       "    <tr>\n",
       "      <th>2</th>\n",
       "      <td>female</td>\n",
       "      <td>group B</td>\n",
       "      <td>master's degree</td>\n",
       "      <td>standard</td>\n",
       "      <td>none</td>\n",
       "      <td>90</td>\n",
       "      <td>95</td>\n",
       "      <td>93</td>\n",
       "    </tr>\n",
       "    <tr>\n",
       "      <th>3</th>\n",
       "      <td>male</td>\n",
       "      <td>group A</td>\n",
       "      <td>associate's degree</td>\n",
       "      <td>free/reduced</td>\n",
       "      <td>none</td>\n",
       "      <td>47</td>\n",
       "      <td>57</td>\n",
       "      <td>44</td>\n",
       "    </tr>\n",
       "    <tr>\n",
       "      <th>4</th>\n",
       "      <td>male</td>\n",
       "      <td>group C</td>\n",
       "      <td>some college</td>\n",
       "      <td>standard</td>\n",
       "      <td>none</td>\n",
       "      <td>76</td>\n",
       "      <td>78</td>\n",
       "      <td>75</td>\n",
       "    </tr>\n",
       "  </tbody>\n",
       "</table>\n",
       "</div>"
      ],
      "text/plain": [
       "   gender race/ethnicity parental level of education         lunch  \\\n",
       "0  female        group B           bachelor's degree      standard   \n",
       "1  female        group C                some college      standard   \n",
       "2  female        group B             master's degree      standard   \n",
       "3    male        group A          associate's degree  free/reduced   \n",
       "4    male        group C                some college      standard   \n",
       "\n",
       "  test preparation course  math score  reading score  writing score  \n",
       "0                    none          72             72             74  \n",
       "1               completed          69             90             88  \n",
       "2                    none          90             95             93  \n",
       "3                    none          47             57             44  \n",
       "4                    none          76             78             75  "
      ]
     },
     "execution_count": 3,
     "metadata": {},
     "output_type": "execute_result"
    }
   ],
   "source": [
    "data = pd.read_csv('../data/StudentsPerformance.csv',encoding=\"ISO-8859-1\" )\n",
    "data.head()"
   ]
  },
  {
   "cell_type": "markdown",
   "metadata": {},
   "source": [
    "# EDA"
   ]
  },
  {
   "cell_type": "markdown",
   "metadata": {},
   "source": [
    "Los nombres de las columnas son demasido largos a mi parecer, asi que renombrare algunas columnas "
   ]
  },
  {
   "cell_type": "code",
   "execution_count": 4,
   "metadata": {
    "execution": {
     "iopub.execute_input": "2022-03-05T01:24:15.245449Z",
     "iopub.status.busy": "2022-03-05T01:24:15.245155Z",
     "iopub.status.idle": "2022-03-05T01:24:15.260336Z",
     "shell.execute_reply": "2022-03-05T01:24:15.259782Z",
     "shell.execute_reply.started": "2022-03-05T01:24:15.245419Z"
    }
   },
   "outputs": [
    {
     "data": {
      "text/html": [
       "<div>\n",
       "<style scoped>\n",
       "    .dataframe tbody tr th:only-of-type {\n",
       "        vertical-align: middle;\n",
       "    }\n",
       "\n",
       "    .dataframe tbody tr th {\n",
       "        vertical-align: top;\n",
       "    }\n",
       "\n",
       "    .dataframe thead th {\n",
       "        text-align: right;\n",
       "    }\n",
       "</style>\n",
       "<table border=\"1\" class=\"dataframe\">\n",
       "  <thead>\n",
       "    <tr style=\"text-align: right;\">\n",
       "      <th></th>\n",
       "      <th>gender</th>\n",
       "      <th>ethnicity</th>\n",
       "      <th>parental_education</th>\n",
       "      <th>lunch</th>\n",
       "      <th>course</th>\n",
       "      <th>math</th>\n",
       "      <th>reading</th>\n",
       "      <th>writing</th>\n",
       "    </tr>\n",
       "  </thead>\n",
       "  <tbody>\n",
       "    <tr>\n",
       "      <th>0</th>\n",
       "      <td>female</td>\n",
       "      <td>group B</td>\n",
       "      <td>bachelor's degree</td>\n",
       "      <td>standard</td>\n",
       "      <td>none</td>\n",
       "      <td>72</td>\n",
       "      <td>72</td>\n",
       "      <td>74</td>\n",
       "    </tr>\n",
       "    <tr>\n",
       "      <th>1</th>\n",
       "      <td>female</td>\n",
       "      <td>group C</td>\n",
       "      <td>some college</td>\n",
       "      <td>standard</td>\n",
       "      <td>completed</td>\n",
       "      <td>69</td>\n",
       "      <td>90</td>\n",
       "      <td>88</td>\n",
       "    </tr>\n",
       "    <tr>\n",
       "      <th>2</th>\n",
       "      <td>female</td>\n",
       "      <td>group B</td>\n",
       "      <td>master's degree</td>\n",
       "      <td>standard</td>\n",
       "      <td>none</td>\n",
       "      <td>90</td>\n",
       "      <td>95</td>\n",
       "      <td>93</td>\n",
       "    </tr>\n",
       "    <tr>\n",
       "      <th>3</th>\n",
       "      <td>male</td>\n",
       "      <td>group A</td>\n",
       "      <td>associate's degree</td>\n",
       "      <td>free/reduced</td>\n",
       "      <td>none</td>\n",
       "      <td>47</td>\n",
       "      <td>57</td>\n",
       "      <td>44</td>\n",
       "    </tr>\n",
       "    <tr>\n",
       "      <th>4</th>\n",
       "      <td>male</td>\n",
       "      <td>group C</td>\n",
       "      <td>some college</td>\n",
       "      <td>standard</td>\n",
       "      <td>none</td>\n",
       "      <td>76</td>\n",
       "      <td>78</td>\n",
       "      <td>75</td>\n",
       "    </tr>\n",
       "  </tbody>\n",
       "</table>\n",
       "</div>"
      ],
      "text/plain": [
       "   gender ethnicity  parental_education         lunch     course  math  \\\n",
       "0  female   group B   bachelor's degree      standard       none    72   \n",
       "1  female   group C        some college      standard  completed    69   \n",
       "2  female   group B     master's degree      standard       none    90   \n",
       "3    male   group A  associate's degree  free/reduced       none    47   \n",
       "4    male   group C        some college      standard       none    76   \n",
       "\n",
       "   reading  writing  \n",
       "0       72       74  \n",
       "1       90       88  \n",
       "2       95       93  \n",
       "3       57       44  \n",
       "4       78       75  "
      ]
     },
     "execution_count": 4,
     "metadata": {},
     "output_type": "execute_result"
    }
   ],
   "source": [
    "data.rename(columns={\"race/ethnicity\":\"ethnicity\",\"parental level of education\":\"parental_education\",\"math score\":\"math\",\"reading score\":\"reading\",\"writing score\":\"writing\",\n",
    "                    \"test preparation course\":\"course\"},inplace=True)\n",
    "data.head()"
   ]
  },
  {
   "cell_type": "markdown",
   "metadata": {},
   "source": [
    "Comenzando con el EDA, veo la información de mis datos, busco valores faltates e información duplicada"
   ]
  },
  {
   "cell_type": "code",
   "execution_count": 7,
   "metadata": {
    "execution": {
     "iopub.execute_input": "2022-03-05T01:24:18.505418Z",
     "iopub.status.busy": "2022-03-05T01:24:18.504641Z",
     "iopub.status.idle": "2022-03-05T01:24:18.521731Z",
     "shell.execute_reply": "2022-03-05T01:24:18.520768Z",
     "shell.execute_reply.started": "2022-03-05T01:24:18.505376Z"
    }
   },
   "outputs": [
    {
     "name": "stdout",
     "output_type": "stream",
     "text": [
      "<class 'pandas.core.frame.DataFrame'>\n",
      "RangeIndex: 1000 entries, 0 to 999\n",
      "Data columns (total 8 columns):\n",
      " #   Column              Non-Null Count  Dtype \n",
      "---  ------              --------------  ----- \n",
      " 0   gender              1000 non-null   object\n",
      " 1   ethnicity           1000 non-null   object\n",
      " 2   parental_education  1000 non-null   object\n",
      " 3   lunch               1000 non-null   object\n",
      " 4   course              1000 non-null   object\n",
      " 5   math                1000 non-null   int64 \n",
      " 6   reading             1000 non-null   int64 \n",
      " 7   writing             1000 non-null   int64 \n",
      "dtypes: int64(3), object(5)\n",
      "memory usage: 62.6+ KB\n"
     ]
    }
   ],
   "source": [
    "data.info()"
   ]
  },
  {
   "cell_type": "code",
   "execution_count": 8,
   "metadata": {
    "execution": {
     "iopub.execute_input": "2022-03-04T20:35:59.303198Z",
     "iopub.status.busy": "2022-03-04T20:35:59.302813Z",
     "iopub.status.idle": "2022-03-04T20:35:59.315129Z",
     "shell.execute_reply": "2022-03-04T20:35:59.314132Z",
     "shell.execute_reply.started": "2022-03-04T20:35:59.303158Z"
    }
   },
   "outputs": [
    {
     "data": {
      "text/plain": [
       "0"
      ]
     },
     "execution_count": 8,
     "metadata": {},
     "output_type": "execute_result"
    }
   ],
   "source": [
    "data.duplicated().sum()      "
   ]
  },
  {
   "cell_type": "markdown",
   "metadata": {},
   "source": [
    "Al tratarse de un dataset de práctica para principiantes los datos ya estaban limpios por lo que por esa parte no queda mucho que hacer."
   ]
  },
  {
   "cell_type": "markdown",
   "metadata": {},
   "source": [
    "## Primeras visualizaciones"
   ]
  },
  {
   "cell_type": "markdown",
   "metadata": {},
   "source": [
    "Comenzamos explorando nuestras columnas y ver de entrada elcontexto de la situación de la muestra en estudio."
   ]
  },
  {
   "cell_type": "code",
   "execution_count": 5,
   "metadata": {
    "execution": {
     "iopub.execute_input": "2022-03-04T20:40:00.305832Z",
     "iopub.status.busy": "2022-03-04T20:40:00.305504Z",
     "iopub.status.idle": "2022-03-04T20:40:00.322296Z",
     "shell.execute_reply": "2022-03-04T20:40:00.321594Z",
     "shell.execute_reply.started": "2022-03-04T20:40:00.305795Z"
    }
   },
   "outputs": [
    {
     "data": {
      "text/html": [
       "<div>\n",
       "<style scoped>\n",
       "    .dataframe tbody tr th:only-of-type {\n",
       "        vertical-align: middle;\n",
       "    }\n",
       "\n",
       "    .dataframe tbody tr th {\n",
       "        vertical-align: top;\n",
       "    }\n",
       "\n",
       "    .dataframe thead th {\n",
       "        text-align: right;\n",
       "    }\n",
       "</style>\n",
       "<table border=\"1\" class=\"dataframe\">\n",
       "  <thead>\n",
       "    <tr style=\"text-align: right;\">\n",
       "      <th></th>\n",
       "      <th>gender</th>\n",
       "      <th>count</th>\n",
       "      <th>percent</th>\n",
       "    </tr>\n",
       "  </thead>\n",
       "  <tbody>\n",
       "    <tr>\n",
       "      <th>0</th>\n",
       "      <td>female</td>\n",
       "      <td>518</td>\n",
       "      <td>0.518</td>\n",
       "    </tr>\n",
       "    <tr>\n",
       "      <th>1</th>\n",
       "      <td>male</td>\n",
       "      <td>482</td>\n",
       "      <td>0.482</td>\n",
       "    </tr>\n",
       "  </tbody>\n",
       "</table>\n",
       "</div>"
      ],
      "text/plain": [
       "   gender  count  percent\n",
       "0  female    518    0.518\n",
       "1    male    482    0.482"
      ]
     },
     "execution_count": 5,
     "metadata": {},
     "output_type": "execute_result"
    }
   ],
   "source": [
    "gender_count = data['gender'].value_counts().to_frame().reset_index().rename(columns={'index':'gender','gender':'count'}) #Agrupo por genero y hago conteo\n",
    "gender_count['percent'] = (gender_count['count'] / gender_count['count'].sum()) #Saco el promedio\n",
    "gender_count "
   ]
  },
  {
   "cell_type": "code",
   "execution_count": 6,
   "metadata": {
    "execution": {
     "iopub.execute_input": "2022-03-04T20:40:02.866652Z",
     "iopub.status.busy": "2022-03-04T20:40:02.866251Z",
     "iopub.status.idle": "2022-03-04T20:40:03.129585Z",
     "shell.execute_reply": "2022-03-04T20:40:03.128993Z",
     "shell.execute_reply.started": "2022-03-04T20:40:02.866622Z"
    }
   },
   "outputs": [
    {
     "data": {
      "text/html": [
       "\n",
       "<div id=\"altair-viz-6a2564d964264b0daa3e03193ef40915\"></div>\n",
       "<script type=\"text/javascript\">\n",
       "  var VEGA_DEBUG = (typeof VEGA_DEBUG == \"undefined\") ? {} : VEGA_DEBUG;\n",
       "  (function(spec, embedOpt){\n",
       "    let outputDiv = document.currentScript.previousElementSibling;\n",
       "    if (outputDiv.id !== \"altair-viz-6a2564d964264b0daa3e03193ef40915\") {\n",
       "      outputDiv = document.getElementById(\"altair-viz-6a2564d964264b0daa3e03193ef40915\");\n",
       "    }\n",
       "    const paths = {\n",
       "      \"vega\": \"https://cdn.jsdelivr.net/npm//vega@5?noext\",\n",
       "      \"vega-lib\": \"https://cdn.jsdelivr.net/npm//vega-lib?noext\",\n",
       "      \"vega-lite\": \"https://cdn.jsdelivr.net/npm//vega-lite@4.17.0?noext\",\n",
       "      \"vega-embed\": \"https://cdn.jsdelivr.net/npm//vega-embed@6?noext\",\n",
       "    };\n",
       "\n",
       "    function maybeLoadScript(lib, version) {\n",
       "      var key = `${lib.replace(\"-\", \"\")}_version`;\n",
       "      return (VEGA_DEBUG[key] == version) ?\n",
       "        Promise.resolve(paths[lib]) :\n",
       "        new Promise(function(resolve, reject) {\n",
       "          var s = document.createElement('script');\n",
       "          document.getElementsByTagName(\"head\")[0].appendChild(s);\n",
       "          s.async = true;\n",
       "          s.onload = () => {\n",
       "            VEGA_DEBUG[key] = version;\n",
       "            return resolve(paths[lib]);\n",
       "          };\n",
       "          s.onerror = () => reject(`Error loading script: ${paths[lib]}`);\n",
       "          s.src = paths[lib];\n",
       "        });\n",
       "    }\n",
       "\n",
       "    function showError(err) {\n",
       "      outputDiv.innerHTML = `<div class=\"error\" style=\"color:red;\">${err}</div>`;\n",
       "      throw err;\n",
       "    }\n",
       "\n",
       "    function displayChart(vegaEmbed) {\n",
       "      vegaEmbed(outputDiv, spec, embedOpt)\n",
       "        .catch(err => showError(`Javascript Error: ${err.message}<br>This usually means there's a typo in your chart specification. See the javascript console for the full traceback.`));\n",
       "    }\n",
       "\n",
       "    if(typeof define === \"function\" && define.amd) {\n",
       "      requirejs.config({paths});\n",
       "      require([\"vega-embed\"], displayChart, err => showError(`Error loading script: ${err.message}`));\n",
       "    } else {\n",
       "      maybeLoadScript(\"vega\", \"5\")\n",
       "        .then(() => maybeLoadScript(\"vega-lite\", \"4.17.0\"))\n",
       "        .then(() => maybeLoadScript(\"vega-embed\", \"6\"))\n",
       "        .catch(showError)\n",
       "        .then(() => displayChart(vegaEmbed));\n",
       "    }\n",
       "  })({\"config\": {\"view\": {\"continuousWidth\": 400, \"continuousHeight\": 300, \"strokeWidth\": 0}, \"title\": {\"font\": \"Arial\", \"fontSize\": 20}}, \"layer\": [{\"mark\": {\"type\": \"bar\", \"stroke\": \"white\"}, \"encoding\": {\"color\": {\"field\": \"gender\", \"legend\": null, \"type\": \"nominal\"}, \"tooltip\": [{\"field\": \"count\", \"title\": \"Count\", \"type\": \"quantitative\"}, {\"field\": \"gender\", \"title\": \"Gender\", \"type\": \"ordinal\"}, {\"field\": \"percent\", \"format\": \".1%\", \"title\": \"Percent\", \"type\": \"quantitative\"}], \"x\": {\"axis\": {\"format\": \".0%\", \"grid\": false}, \"field\": \"percent\", \"title\": \"\", \"type\": \"quantitative\"}, \"y\": {\"axis\": {\"labelAngle\": 0, \"labelColor\": \"#343a40\", \"labelFont\": \"Arial\", \"labelFontSize\": 14}, \"field\": \"gender\", \"title\": \"\", \"type\": \"ordinal\"}}}, {\"mark\": {\"type\": \"text\", \"dx\": 20, \"fill\": \"black\", \"size\": 16}, \"encoding\": {\"color\": {\"field\": \"gender\", \"legend\": null, \"type\": \"nominal\"}, \"text\": {\"field\": \"percent\", \"format\": \".0%\", \"type\": \"quantitative\"}, \"tooltip\": [{\"field\": \"count\", \"title\": \"Count\", \"type\": \"quantitative\"}, {\"field\": \"gender\", \"title\": \"Gender\", \"type\": \"ordinal\"}, {\"field\": \"percent\", \"format\": \".1%\", \"title\": \"Percent\", \"type\": \"quantitative\"}], \"x\": {\"axis\": {\"format\": \".0%\", \"grid\": false}, \"field\": \"percent\", \"title\": \"\", \"type\": \"quantitative\"}, \"y\": {\"axis\": {\"labelAngle\": 0, \"labelColor\": \"#343a40\", \"labelFont\": \"Arial\", \"labelFontSize\": 14}, \"field\": \"gender\", \"title\": \"\", \"type\": \"ordinal\"}}}], \"data\": {\"name\": \"data-6558ade830bbe747595c42ca7c4494d5\"}, \"height\": 150, \"title\": \"Distribution of Gender\", \"width\": 600, \"$schema\": \"https://vega.github.io/schema/vega-lite/v4.17.0.json\", \"datasets\": {\"data-6558ade830bbe747595c42ca7c4494d5\": [{\"gender\": \"female\", \"count\": 518, \"percent\": 0.518}, {\"gender\": \"male\", \"count\": 482, \"percent\": 0.482}]}}, {\"mode\": \"vega-lite\"});\n",
       "</script>"
      ],
      "text/plain": [
       "alt.LayerChart(...)"
      ]
     },
     "execution_count": 6,
     "metadata": {},
     "output_type": "execute_result"
    }
   ],
   "source": [
    " bars = alt.Chart(gender_count).mark_bar(stroke = \"white\").encode(\n",
    "    x= alt.X(\"percent:Q\", \n",
    "        title = \"\", \n",
    "        axis = alt.Axis(format='.0%', grid = False, )),\n",
    "    y= alt.Y(\"gender:O\", \n",
    "        title=\"\",\n",
    "        axis = alt.Axis(labelAngle=0, labelFontSize=14, labelColor= \"#343a40\", labelFont=\"Arial\") ),    \n",
    "    tooltip = [alt.Tooltip('count', title = 'Count' ), alt.Tooltip ('gender:O',title = 'Gender' ) , alt.Tooltip('percent:Q', format='.1%', title = 'Percent' )],\n",
    "    color=alt.Color(field=\"gender\", type=\"nominal\",legend=None ))\n",
    "\n",
    "text = bars.mark_text(\n",
    "    dx=+20,\n",
    "    size=16,\n",
    "    fill = \"black\",\n",
    ").encode(text= alt.Text('percent:Q', format='.0%'))\n",
    "\n",
    "(bars + text).properties(\n",
    "    title = f\"Distribution of Gender\",\n",
    "    width = 600,\n",
    "    height= 150,\n",
    ").configure_title(\n",
    "    fontSize = 20,\n",
    "    font = \"Arial\",\n",
    ").configure_view(\n",
    "    strokeWidth = 0,)"
   ]
  },
  {
   "cell_type": "code",
   "execution_count": 12,
   "metadata": {
    "execution": {
     "iopub.execute_input": "2022-03-04T20:40:06.781174Z",
     "iopub.status.busy": "2022-03-04T20:40:06.780713Z",
     "iopub.status.idle": "2022-03-04T20:40:06.795965Z",
     "shell.execute_reply": "2022-03-04T20:40:06.795016Z",
     "shell.execute_reply.started": "2022-03-04T20:40:06.781143Z"
    }
   },
   "outputs": [
    {
     "data": {
      "text/html": [
       "<div>\n",
       "<style scoped>\n",
       "    .dataframe tbody tr th:only-of-type {\n",
       "        vertical-align: middle;\n",
       "    }\n",
       "\n",
       "    .dataframe tbody tr th {\n",
       "        vertical-align: top;\n",
       "    }\n",
       "\n",
       "    .dataframe thead th {\n",
       "        text-align: right;\n",
       "    }\n",
       "</style>\n",
       "<table border=\"1\" class=\"dataframe\">\n",
       "  <thead>\n",
       "    <tr style=\"text-align: right;\">\n",
       "      <th></th>\n",
       "      <th>ethnicity</th>\n",
       "      <th>count</th>\n",
       "      <th>percent</th>\n",
       "    </tr>\n",
       "  </thead>\n",
       "  <tbody>\n",
       "    <tr>\n",
       "      <th>0</th>\n",
       "      <td>group C</td>\n",
       "      <td>319</td>\n",
       "      <td>0.319</td>\n",
       "    </tr>\n",
       "    <tr>\n",
       "      <th>1</th>\n",
       "      <td>group D</td>\n",
       "      <td>262</td>\n",
       "      <td>0.262</td>\n",
       "    </tr>\n",
       "    <tr>\n",
       "      <th>2</th>\n",
       "      <td>group B</td>\n",
       "      <td>190</td>\n",
       "      <td>0.190</td>\n",
       "    </tr>\n",
       "    <tr>\n",
       "      <th>3</th>\n",
       "      <td>group E</td>\n",
       "      <td>140</td>\n",
       "      <td>0.140</td>\n",
       "    </tr>\n",
       "    <tr>\n",
       "      <th>4</th>\n",
       "      <td>group A</td>\n",
       "      <td>89</td>\n",
       "      <td>0.089</td>\n",
       "    </tr>\n",
       "  </tbody>\n",
       "</table>\n",
       "</div>"
      ],
      "text/plain": [
       "  ethnicity  count  percent\n",
       "0   group C    319    0.319\n",
       "1   group D    262    0.262\n",
       "2   group B    190    0.190\n",
       "3   group E    140    0.140\n",
       "4   group A     89    0.089"
      ]
     },
     "execution_count": 12,
     "metadata": {},
     "output_type": "execute_result"
    }
   ],
   "source": [
    "ethnicity_count = data['ethnicity'].value_counts().to_frame().reset_index().rename(columns={'index':'ethnicity','ethnicity':'count'})\n",
    "ethnicity_count['percent'] = (ethnicity_count['count'] / ethnicity_count['count'].sum())\n",
    "ethnicity_count "
   ]
  },
  {
   "cell_type": "code",
   "execution_count": 13,
   "metadata": {
    "execution": {
     "iopub.execute_input": "2022-03-04T20:40:09.519003Z",
     "iopub.status.busy": "2022-03-04T20:40:09.517995Z",
     "iopub.status.idle": "2022-03-04T20:40:09.768664Z",
     "shell.execute_reply": "2022-03-04T20:40:09.768078Z",
     "shell.execute_reply.started": "2022-03-04T20:40:09.518897Z"
    }
   },
   "outputs": [
    {
     "data": {
      "text/html": [
       "\n",
       "<div id=\"altair-viz-1099c60125fa4fe3a6283f17d463ba50\"></div>\n",
       "<script type=\"text/javascript\">\n",
       "  var VEGA_DEBUG = (typeof VEGA_DEBUG == \"undefined\") ? {} : VEGA_DEBUG;\n",
       "  (function(spec, embedOpt){\n",
       "    let outputDiv = document.currentScript.previousElementSibling;\n",
       "    if (outputDiv.id !== \"altair-viz-1099c60125fa4fe3a6283f17d463ba50\") {\n",
       "      outputDiv = document.getElementById(\"altair-viz-1099c60125fa4fe3a6283f17d463ba50\");\n",
       "    }\n",
       "    const paths = {\n",
       "      \"vega\": \"https://cdn.jsdelivr.net/npm//vega@5?noext\",\n",
       "      \"vega-lib\": \"https://cdn.jsdelivr.net/npm//vega-lib?noext\",\n",
       "      \"vega-lite\": \"https://cdn.jsdelivr.net/npm//vega-lite@4.17.0?noext\",\n",
       "      \"vega-embed\": \"https://cdn.jsdelivr.net/npm//vega-embed@6?noext\",\n",
       "    };\n",
       "\n",
       "    function maybeLoadScript(lib, version) {\n",
       "      var key = `${lib.replace(\"-\", \"\")}_version`;\n",
       "      return (VEGA_DEBUG[key] == version) ?\n",
       "        Promise.resolve(paths[lib]) :\n",
       "        new Promise(function(resolve, reject) {\n",
       "          var s = document.createElement('script');\n",
       "          document.getElementsByTagName(\"head\")[0].appendChild(s);\n",
       "          s.async = true;\n",
       "          s.onload = () => {\n",
       "            VEGA_DEBUG[key] = version;\n",
       "            return resolve(paths[lib]);\n",
       "          };\n",
       "          s.onerror = () => reject(`Error loading script: ${paths[lib]}`);\n",
       "          s.src = paths[lib];\n",
       "        });\n",
       "    }\n",
       "\n",
       "    function showError(err) {\n",
       "      outputDiv.innerHTML = `<div class=\"error\" style=\"color:red;\">${err}</div>`;\n",
       "      throw err;\n",
       "    }\n",
       "\n",
       "    function displayChart(vegaEmbed) {\n",
       "      vegaEmbed(outputDiv, spec, embedOpt)\n",
       "        .catch(err => showError(`Javascript Error: ${err.message}<br>This usually means there's a typo in your chart specification. See the javascript console for the full traceback.`));\n",
       "    }\n",
       "\n",
       "    if(typeof define === \"function\" && define.amd) {\n",
       "      requirejs.config({paths});\n",
       "      require([\"vega-embed\"], displayChart, err => showError(`Error loading script: ${err.message}`));\n",
       "    } else {\n",
       "      maybeLoadScript(\"vega\", \"5\")\n",
       "        .then(() => maybeLoadScript(\"vega-lite\", \"4.17.0\"))\n",
       "        .then(() => maybeLoadScript(\"vega-embed\", \"6\"))\n",
       "        .catch(showError)\n",
       "        .then(() => displayChart(vegaEmbed));\n",
       "    }\n",
       "  })({\"config\": {\"view\": {\"continuousWidth\": 400, \"continuousHeight\": 300, \"strokeWidth\": 0}, \"title\": {\"font\": \"Arial\", \"fontSize\": 20}}, \"layer\": [{\"mark\": {\"type\": \"bar\", \"stroke\": \"white\"}, \"encoding\": {\"color\": {\"field\": \"ethnicity\", \"legend\": null, \"type\": \"nominal\"}, \"tooltip\": [{\"field\": \"count\", \"title\": \"Count\", \"type\": \"quantitative\"}, {\"field\": \"ethnicity\", \"title\": \"Ethnicity\", \"type\": \"ordinal\"}, {\"field\": \"percent\", \"format\": \".1%\", \"title\": \"Percent\", \"type\": \"quantitative\"}], \"x\": {\"axis\": {\"format\": \".0%\", \"grid\": false}, \"field\": \"percent\", \"title\": \"\", \"type\": \"quantitative\"}, \"y\": {\"axis\": {\"labelAngle\": 0, \"labelColor\": \"#343a40\", \"labelFont\": \"Arial\", \"labelFontSize\": 14}, \"field\": \"ethnicity\", \"title\": \"\", \"type\": \"ordinal\"}}}, {\"mark\": {\"type\": \"text\", \"dx\": 20, \"fill\": \"black\", \"size\": 16}, \"encoding\": {\"color\": {\"field\": \"ethnicity\", \"legend\": null, \"type\": \"nominal\"}, \"text\": {\"field\": \"percent\", \"format\": \".0%\", \"type\": \"quantitative\"}, \"tooltip\": [{\"field\": \"count\", \"title\": \"Count\", \"type\": \"quantitative\"}, {\"field\": \"ethnicity\", \"title\": \"Ethnicity\", \"type\": \"ordinal\"}, {\"field\": \"percent\", \"format\": \".1%\", \"title\": \"Percent\", \"type\": \"quantitative\"}], \"x\": {\"axis\": {\"format\": \".0%\", \"grid\": false}, \"field\": \"percent\", \"title\": \"\", \"type\": \"quantitative\"}, \"y\": {\"axis\": {\"labelAngle\": 0, \"labelColor\": \"#343a40\", \"labelFont\": \"Arial\", \"labelFontSize\": 14}, \"field\": \"ethnicity\", \"title\": \"\", \"type\": \"ordinal\"}}}], \"data\": {\"name\": \"data-42ff1381c3b2c6450de5949e90fd097b\"}, \"height\": 150, \"title\": \"Distribution of Ethnicity\", \"width\": 700, \"$schema\": \"https://vega.github.io/schema/vega-lite/v4.17.0.json\", \"datasets\": {\"data-42ff1381c3b2c6450de5949e90fd097b\": [{\"ethnicity\": \"group C\", \"count\": 319, \"percent\": 0.319}, {\"ethnicity\": \"group D\", \"count\": 262, \"percent\": 0.262}, {\"ethnicity\": \"group B\", \"count\": 190, \"percent\": 0.19}, {\"ethnicity\": \"group E\", \"count\": 140, \"percent\": 0.14}, {\"ethnicity\": \"group A\", \"count\": 89, \"percent\": 0.089}]}}, {\"mode\": \"vega-lite\"});\n",
       "</script>"
      ],
      "text/plain": [
       "alt.LayerChart(...)"
      ]
     },
     "execution_count": 13,
     "metadata": {},
     "output_type": "execute_result"
    }
   ],
   "source": [
    " bars = alt.Chart(ethnicity_count).mark_bar(stroke = \"white\").encode(\n",
    "    x= alt.X(\"percent:Q\", \n",
    "        title = \"\", \n",
    "        axis = alt.Axis(format='.0%', grid = False, )),\n",
    "    y= alt.Y(\"ethnicity:O\", \n",
    "        title=\"\",\n",
    "        axis = alt.Axis(labelAngle=0, labelFontSize=14, labelColor= \"#343a40\", labelFont=\"Arial\") ),    \n",
    "    tooltip = [alt.Tooltip('count', title = 'Count' ), alt.Tooltip ('ethnicity:O',title = 'Ethnicity' ) , alt.Tooltip('percent:Q', format='.1%', title = 'Percent' )],\n",
    "    color=alt.Color(field=\"ethnicity\", type=\"nominal\",legend=None ),\n",
    ")\n",
    "\n",
    "text = bars.mark_text(\n",
    "    dx=+20,\n",
    "    size=16,\n",
    "    fill = \"black\",\n",
    ").encode(text= alt.Text('percent:Q', format='.0%'))\n",
    "\n",
    "(bars + text).properties(\n",
    "    title = f\"Distribution of Ethnicity\",\n",
    "    width = 700,\n",
    "    height= 150,\n",
    ").configure_title(\n",
    "    fontSize = 20,\n",
    "    font = \"Arial\",\n",
    ").configure_view(\n",
    "    strokeWidth = 0,\n",
    ") "
   ]
  },
  {
   "cell_type": "code",
   "execution_count": 14,
   "metadata": {
    "execution": {
     "iopub.execute_input": "2022-03-04T20:41:44.889071Z",
     "iopub.status.busy": "2022-03-04T20:41:44.888502Z",
     "iopub.status.idle": "2022-03-04T20:41:44.903153Z",
     "shell.execute_reply": "2022-03-04T20:41:44.902251Z",
     "shell.execute_reply.started": "2022-03-04T20:41:44.88903Z"
    }
   },
   "outputs": [
    {
     "data": {
      "text/html": [
       "<div>\n",
       "<style scoped>\n",
       "    .dataframe tbody tr th:only-of-type {\n",
       "        vertical-align: middle;\n",
       "    }\n",
       "\n",
       "    .dataframe tbody tr th {\n",
       "        vertical-align: top;\n",
       "    }\n",
       "\n",
       "    .dataframe thead th {\n",
       "        text-align: right;\n",
       "    }\n",
       "</style>\n",
       "<table border=\"1\" class=\"dataframe\">\n",
       "  <thead>\n",
       "    <tr style=\"text-align: right;\">\n",
       "      <th></th>\n",
       "      <th>parental_education</th>\n",
       "      <th>count</th>\n",
       "      <th>percent</th>\n",
       "    </tr>\n",
       "  </thead>\n",
       "  <tbody>\n",
       "    <tr>\n",
       "      <th>0</th>\n",
       "      <td>some college</td>\n",
       "      <td>226</td>\n",
       "      <td>0.226</td>\n",
       "    </tr>\n",
       "    <tr>\n",
       "      <th>1</th>\n",
       "      <td>associate's degree</td>\n",
       "      <td>222</td>\n",
       "      <td>0.222</td>\n",
       "    </tr>\n",
       "    <tr>\n",
       "      <th>2</th>\n",
       "      <td>high school</td>\n",
       "      <td>196</td>\n",
       "      <td>0.196</td>\n",
       "    </tr>\n",
       "    <tr>\n",
       "      <th>3</th>\n",
       "      <td>some high school</td>\n",
       "      <td>179</td>\n",
       "      <td>0.179</td>\n",
       "    </tr>\n",
       "    <tr>\n",
       "      <th>4</th>\n",
       "      <td>bachelor's degree</td>\n",
       "      <td>118</td>\n",
       "      <td>0.118</td>\n",
       "    </tr>\n",
       "    <tr>\n",
       "      <th>5</th>\n",
       "      <td>master's degree</td>\n",
       "      <td>59</td>\n",
       "      <td>0.059</td>\n",
       "    </tr>\n",
       "  </tbody>\n",
       "</table>\n",
       "</div>"
      ],
      "text/plain": [
       "   parental_education  count  percent\n",
       "0        some college    226    0.226\n",
       "1  associate's degree    222    0.222\n",
       "2         high school    196    0.196\n",
       "3    some high school    179    0.179\n",
       "4   bachelor's degree    118    0.118\n",
       "5     master's degree     59    0.059"
      ]
     },
     "execution_count": 14,
     "metadata": {},
     "output_type": "execute_result"
    }
   ],
   "source": [
    "pEducation_count = data['parental_education'].value_counts().to_frame().reset_index().rename(columns={'index':'parental_education','parental_education':'count'})\n",
    "pEducation_count['percent'] = (pEducation_count['count'] / pEducation_count['count'].sum())\n",
    "pEducation_count"
   ]
  },
  {
   "cell_type": "code",
   "execution_count": 15,
   "metadata": {
    "execution": {
     "iopub.execute_input": "2022-03-04T20:41:49.821951Z",
     "iopub.status.busy": "2022-03-04T20:41:49.821433Z",
     "iopub.status.idle": "2022-03-04T20:41:50.07256Z",
     "shell.execute_reply": "2022-03-04T20:41:50.07179Z",
     "shell.execute_reply.started": "2022-03-04T20:41:49.82189Z"
    }
   },
   "outputs": [
    {
     "data": {
      "text/html": [
       "\n",
       "<div id=\"altair-viz-38c13c239f064dd58b33f2d19fcd42ff\"></div>\n",
       "<script type=\"text/javascript\">\n",
       "  var VEGA_DEBUG = (typeof VEGA_DEBUG == \"undefined\") ? {} : VEGA_DEBUG;\n",
       "  (function(spec, embedOpt){\n",
       "    let outputDiv = document.currentScript.previousElementSibling;\n",
       "    if (outputDiv.id !== \"altair-viz-38c13c239f064dd58b33f2d19fcd42ff\") {\n",
       "      outputDiv = document.getElementById(\"altair-viz-38c13c239f064dd58b33f2d19fcd42ff\");\n",
       "    }\n",
       "    const paths = {\n",
       "      \"vega\": \"https://cdn.jsdelivr.net/npm//vega@5?noext\",\n",
       "      \"vega-lib\": \"https://cdn.jsdelivr.net/npm//vega-lib?noext\",\n",
       "      \"vega-lite\": \"https://cdn.jsdelivr.net/npm//vega-lite@4.17.0?noext\",\n",
       "      \"vega-embed\": \"https://cdn.jsdelivr.net/npm//vega-embed@6?noext\",\n",
       "    };\n",
       "\n",
       "    function maybeLoadScript(lib, version) {\n",
       "      var key = `${lib.replace(\"-\", \"\")}_version`;\n",
       "      return (VEGA_DEBUG[key] == version) ?\n",
       "        Promise.resolve(paths[lib]) :\n",
       "        new Promise(function(resolve, reject) {\n",
       "          var s = document.createElement('script');\n",
       "          document.getElementsByTagName(\"head\")[0].appendChild(s);\n",
       "          s.async = true;\n",
       "          s.onload = () => {\n",
       "            VEGA_DEBUG[key] = version;\n",
       "            return resolve(paths[lib]);\n",
       "          };\n",
       "          s.onerror = () => reject(`Error loading script: ${paths[lib]}`);\n",
       "          s.src = paths[lib];\n",
       "        });\n",
       "    }\n",
       "\n",
       "    function showError(err) {\n",
       "      outputDiv.innerHTML = `<div class=\"error\" style=\"color:red;\">${err}</div>`;\n",
       "      throw err;\n",
       "    }\n",
       "\n",
       "    function displayChart(vegaEmbed) {\n",
       "      vegaEmbed(outputDiv, spec, embedOpt)\n",
       "        .catch(err => showError(`Javascript Error: ${err.message}<br>This usually means there's a typo in your chart specification. See the javascript console for the full traceback.`));\n",
       "    }\n",
       "\n",
       "    if(typeof define === \"function\" && define.amd) {\n",
       "      requirejs.config({paths});\n",
       "      require([\"vega-embed\"], displayChart, err => showError(`Error loading script: ${err.message}`));\n",
       "    } else {\n",
       "      maybeLoadScript(\"vega\", \"5\")\n",
       "        .then(() => maybeLoadScript(\"vega-lite\", \"4.17.0\"))\n",
       "        .then(() => maybeLoadScript(\"vega-embed\", \"6\"))\n",
       "        .catch(showError)\n",
       "        .then(() => displayChart(vegaEmbed));\n",
       "    }\n",
       "  })({\"config\": {\"view\": {\"continuousWidth\": 400, \"continuousHeight\": 300, \"strokeWidth\": 0}, \"title\": {\"font\": \"Arial\", \"fontSize\": 20}}, \"layer\": [{\"mark\": {\"type\": \"bar\", \"stroke\": \"white\"}, \"encoding\": {\"color\": {\"field\": \"parental_education\", \"legend\": null, \"type\": \"nominal\"}, \"tooltip\": [{\"field\": \"count\", \"title\": \"Count\", \"type\": \"quantitative\"}, {\"field\": \"parental_education\", \"title\": \"Parental education\", \"type\": \"ordinal\"}, {\"field\": \"percent\", \"format\": \".1%\", \"title\": \"Percent\", \"type\": \"quantitative\"}], \"x\": {\"axis\": {\"format\": \".0%\", \"grid\": false}, \"field\": \"percent\", \"title\": \"\", \"type\": \"quantitative\"}, \"y\": {\"axis\": {\"labelAngle\": 0, \"labelColor\": \"#343a40\", \"labelFont\": \"Arial\", \"labelFontSize\": 14}, \"field\": \"parental_education\", \"title\": \"\", \"type\": \"ordinal\"}}}, {\"mark\": {\"type\": \"text\", \"dx\": 20, \"fill\": \"black\", \"size\": 16}, \"encoding\": {\"color\": {\"field\": \"parental_education\", \"legend\": null, \"type\": \"nominal\"}, \"text\": {\"field\": \"percent\", \"format\": \".0%\", \"type\": \"quantitative\"}, \"tooltip\": [{\"field\": \"count\", \"title\": \"Count\", \"type\": \"quantitative\"}, {\"field\": \"parental_education\", \"title\": \"Parental education\", \"type\": \"ordinal\"}, {\"field\": \"percent\", \"format\": \".1%\", \"title\": \"Percent\", \"type\": \"quantitative\"}], \"x\": {\"axis\": {\"format\": \".0%\", \"grid\": false}, \"field\": \"percent\", \"title\": \"\", \"type\": \"quantitative\"}, \"y\": {\"axis\": {\"labelAngle\": 0, \"labelColor\": \"#343a40\", \"labelFont\": \"Arial\", \"labelFontSize\": 14}, \"field\": \"parental_education\", \"title\": \"\", \"type\": \"ordinal\"}}}], \"data\": {\"name\": \"data-e192dd5961e235b5d2ad50bb4cd1ddcc\"}, \"height\": 150, \"title\": \"Distribution of Parental Education\", \"width\": 600, \"$schema\": \"https://vega.github.io/schema/vega-lite/v4.17.0.json\", \"datasets\": {\"data-e192dd5961e235b5d2ad50bb4cd1ddcc\": [{\"parental_education\": \"some college\", \"count\": 226, \"percent\": 0.226}, {\"parental_education\": \"associate's degree\", \"count\": 222, \"percent\": 0.222}, {\"parental_education\": \"high school\", \"count\": 196, \"percent\": 0.196}, {\"parental_education\": \"some high school\", \"count\": 179, \"percent\": 0.179}, {\"parental_education\": \"bachelor's degree\", \"count\": 118, \"percent\": 0.118}, {\"parental_education\": \"master's degree\", \"count\": 59, \"percent\": 0.059}]}}, {\"mode\": \"vega-lite\"});\n",
       "</script>"
      ],
      "text/plain": [
       "alt.LayerChart(...)"
      ]
     },
     "execution_count": 15,
     "metadata": {},
     "output_type": "execute_result"
    }
   ],
   "source": [
    " bars = alt.Chart(pEducation_count).mark_bar(stroke = \"white\").encode(\n",
    "    x= alt.X(\"percent:Q\", \n",
    "        title = \"\", \n",
    "        axis = alt.Axis(format='.0%', grid = False, )),\n",
    "    y= alt.Y(\"parental_education:O\", \n",
    "        title=\"\",\n",
    "        axis = alt.Axis(labelAngle=0, labelFontSize=14, labelColor= \"#343a40\", labelFont=\"Arial\") ),    \n",
    "    tooltip = [alt.Tooltip('count', title = 'Count' ), alt.Tooltip ('parental_education:O',title = 'Parental education' ) , alt.Tooltip('percent:Q', format='.1%', title = 'Percent' )],\n",
    "    color=alt.Color(field=\"parental_education\", type=\"nominal\",legend=None ))\n",
    "\n",
    "text = bars.mark_text(\n",
    "    dx=+20,\n",
    "    size=16,\n",
    "    fill = \"black\",\n",
    ").encode(text= alt.Text('percent:Q', format='.0%'))\n",
    "\n",
    "(bars + text).properties(\n",
    "    title = f\"Distribution of Parental Education\",\n",
    "    width = 600,\n",
    "    height= 150,\n",
    ").configure_title(\n",
    "    fontSize = 20,\n",
    "    font = \"Arial\",\n",
    ").configure_view(\n",
    "    strokeWidth = 0,)"
   ]
  },
  {
   "cell_type": "code",
   "execution_count": 16,
   "metadata": {
    "execution": {
     "iopub.execute_input": "2022-03-04T20:41:55.472976Z",
     "iopub.status.busy": "2022-03-04T20:41:55.472382Z",
     "iopub.status.idle": "2022-03-04T20:41:55.48662Z",
     "shell.execute_reply": "2022-03-04T20:41:55.485979Z",
     "shell.execute_reply.started": "2022-03-04T20:41:55.472936Z"
    }
   },
   "outputs": [
    {
     "data": {
      "text/html": [
       "<div>\n",
       "<style scoped>\n",
       "    .dataframe tbody tr th:only-of-type {\n",
       "        vertical-align: middle;\n",
       "    }\n",
       "\n",
       "    .dataframe tbody tr th {\n",
       "        vertical-align: top;\n",
       "    }\n",
       "\n",
       "    .dataframe thead th {\n",
       "        text-align: right;\n",
       "    }\n",
       "</style>\n",
       "<table border=\"1\" class=\"dataframe\">\n",
       "  <thead>\n",
       "    <tr style=\"text-align: right;\">\n",
       "      <th></th>\n",
       "      <th>lunch</th>\n",
       "      <th>count</th>\n",
       "      <th>percent</th>\n",
       "    </tr>\n",
       "  </thead>\n",
       "  <tbody>\n",
       "    <tr>\n",
       "      <th>0</th>\n",
       "      <td>standard</td>\n",
       "      <td>645</td>\n",
       "      <td>0.645</td>\n",
       "    </tr>\n",
       "    <tr>\n",
       "      <th>1</th>\n",
       "      <td>free/reduced</td>\n",
       "      <td>355</td>\n",
       "      <td>0.355</td>\n",
       "    </tr>\n",
       "  </tbody>\n",
       "</table>\n",
       "</div>"
      ],
      "text/plain": [
       "          lunch  count  percent\n",
       "0      standard    645    0.645\n",
       "1  free/reduced    355    0.355"
      ]
     },
     "execution_count": 16,
     "metadata": {},
     "output_type": "execute_result"
    }
   ],
   "source": [
    "lunch_count = data['lunch'].value_counts().to_frame().reset_index().rename(columns={'index':'lunch','lunch':'count'})\n",
    "lunch_count['percent'] = (lunch_count['count'] / lunch_count['count'].sum())\n",
    "lunch_count "
   ]
  },
  {
   "cell_type": "code",
   "execution_count": 17,
   "metadata": {
    "execution": {
     "iopub.execute_input": "2022-03-04T20:41:58.45301Z",
     "iopub.status.busy": "2022-03-04T20:41:58.452402Z",
     "iopub.status.idle": "2022-03-04T20:41:58.707376Z",
     "shell.execute_reply": "2022-03-04T20:41:58.706258Z",
     "shell.execute_reply.started": "2022-03-04T20:41:58.452957Z"
    }
   },
   "outputs": [
    {
     "data": {
      "text/html": [
       "\n",
       "<div id=\"altair-viz-4ed1e4cfab2c4706ad8ce55a8f94e1fb\"></div>\n",
       "<script type=\"text/javascript\">\n",
       "  var VEGA_DEBUG = (typeof VEGA_DEBUG == \"undefined\") ? {} : VEGA_DEBUG;\n",
       "  (function(spec, embedOpt){\n",
       "    let outputDiv = document.currentScript.previousElementSibling;\n",
       "    if (outputDiv.id !== \"altair-viz-4ed1e4cfab2c4706ad8ce55a8f94e1fb\") {\n",
       "      outputDiv = document.getElementById(\"altair-viz-4ed1e4cfab2c4706ad8ce55a8f94e1fb\");\n",
       "    }\n",
       "    const paths = {\n",
       "      \"vega\": \"https://cdn.jsdelivr.net/npm//vega@5?noext\",\n",
       "      \"vega-lib\": \"https://cdn.jsdelivr.net/npm//vega-lib?noext\",\n",
       "      \"vega-lite\": \"https://cdn.jsdelivr.net/npm//vega-lite@4.17.0?noext\",\n",
       "      \"vega-embed\": \"https://cdn.jsdelivr.net/npm//vega-embed@6?noext\",\n",
       "    };\n",
       "\n",
       "    function maybeLoadScript(lib, version) {\n",
       "      var key = `${lib.replace(\"-\", \"\")}_version`;\n",
       "      return (VEGA_DEBUG[key] == version) ?\n",
       "        Promise.resolve(paths[lib]) :\n",
       "        new Promise(function(resolve, reject) {\n",
       "          var s = document.createElement('script');\n",
       "          document.getElementsByTagName(\"head\")[0].appendChild(s);\n",
       "          s.async = true;\n",
       "          s.onload = () => {\n",
       "            VEGA_DEBUG[key] = version;\n",
       "            return resolve(paths[lib]);\n",
       "          };\n",
       "          s.onerror = () => reject(`Error loading script: ${paths[lib]}`);\n",
       "          s.src = paths[lib];\n",
       "        });\n",
       "    }\n",
       "\n",
       "    function showError(err) {\n",
       "      outputDiv.innerHTML = `<div class=\"error\" style=\"color:red;\">${err}</div>`;\n",
       "      throw err;\n",
       "    }\n",
       "\n",
       "    function displayChart(vegaEmbed) {\n",
       "      vegaEmbed(outputDiv, spec, embedOpt)\n",
       "        .catch(err => showError(`Javascript Error: ${err.message}<br>This usually means there's a typo in your chart specification. See the javascript console for the full traceback.`));\n",
       "    }\n",
       "\n",
       "    if(typeof define === \"function\" && define.amd) {\n",
       "      requirejs.config({paths});\n",
       "      require([\"vega-embed\"], displayChart, err => showError(`Error loading script: ${err.message}`));\n",
       "    } else {\n",
       "      maybeLoadScript(\"vega\", \"5\")\n",
       "        .then(() => maybeLoadScript(\"vega-lite\", \"4.17.0\"))\n",
       "        .then(() => maybeLoadScript(\"vega-embed\", \"6\"))\n",
       "        .catch(showError)\n",
       "        .then(() => displayChart(vegaEmbed));\n",
       "    }\n",
       "  })({\"config\": {\"view\": {\"continuousWidth\": 400, \"continuousHeight\": 300, \"strokeWidth\": 0}, \"title\": {\"font\": \"Arial\", \"fontSize\": 20}}, \"layer\": [{\"mark\": {\"type\": \"bar\", \"stroke\": \"white\"}, \"encoding\": {\"color\": {\"field\": \"lunch\", \"legend\": null, \"type\": \"nominal\"}, \"tooltip\": [{\"field\": \"count\", \"title\": \"Count\", \"type\": \"quantitative\"}, {\"field\": \"lunch\", \"title\": \"Lunch\", \"type\": \"ordinal\"}, {\"field\": \"percent\", \"format\": \".1%\", \"title\": \"Percent\", \"type\": \"quantitative\"}], \"x\": {\"axis\": {\"format\": \".0%\", \"grid\": false}, \"field\": \"percent\", \"title\": \"\", \"type\": \"quantitative\"}, \"y\": {\"axis\": {\"labelAngle\": 0, \"labelColor\": \"#343a40\", \"labelFont\": \"Arial\", \"labelFontSize\": 14}, \"field\": \"lunch\", \"title\": \"\", \"type\": \"ordinal\"}}}, {\"mark\": {\"type\": \"text\", \"dx\": 20, \"fill\": \"black\", \"size\": 16}, \"encoding\": {\"color\": {\"field\": \"lunch\", \"legend\": null, \"type\": \"nominal\"}, \"text\": {\"field\": \"percent\", \"format\": \".0%\", \"type\": \"quantitative\"}, \"tooltip\": [{\"field\": \"count\", \"title\": \"Count\", \"type\": \"quantitative\"}, {\"field\": \"lunch\", \"title\": \"Lunch\", \"type\": \"ordinal\"}, {\"field\": \"percent\", \"format\": \".1%\", \"title\": \"Percent\", \"type\": \"quantitative\"}], \"x\": {\"axis\": {\"format\": \".0%\", \"grid\": false}, \"field\": \"percent\", \"title\": \"\", \"type\": \"quantitative\"}, \"y\": {\"axis\": {\"labelAngle\": 0, \"labelColor\": \"#343a40\", \"labelFont\": \"Arial\", \"labelFontSize\": 14}, \"field\": \"lunch\", \"title\": \"\", \"type\": \"ordinal\"}}}], \"data\": {\"name\": \"data-134c0860c89785aa53a774bf52a04aae\"}, \"height\": 150, \"title\": \"Distribution of Lunch\", \"width\": 600, \"$schema\": \"https://vega.github.io/schema/vega-lite/v4.17.0.json\", \"datasets\": {\"data-134c0860c89785aa53a774bf52a04aae\": [{\"lunch\": \"standard\", \"count\": 645, \"percent\": 0.645}, {\"lunch\": \"free/reduced\", \"count\": 355, \"percent\": 0.355}]}}, {\"mode\": \"vega-lite\"});\n",
       "</script>"
      ],
      "text/plain": [
       "alt.LayerChart(...)"
      ]
     },
     "execution_count": 17,
     "metadata": {},
     "output_type": "execute_result"
    }
   ],
   "source": [
    " bars = alt.Chart(lunch_count).mark_bar(stroke = \"white\").encode(\n",
    "    x= alt.X(\"percent:Q\", \n",
    "        title = \"\", \n",
    "        axis = alt.Axis(format='.0%', grid = False, )),\n",
    "    y= alt.Y(\"lunch:O\", \n",
    "        title=\"\",\n",
    "        axis = alt.Axis(labelAngle=0, labelFontSize=14, labelColor= \"#343a40\", labelFont=\"Arial\") ),    \n",
    "    tooltip = [alt.Tooltip('count', title = 'Count' ), alt.Tooltip ('lunch:O',title = 'Lunch' ) , alt.Tooltip('percent:Q', format='.1%', title = 'Percent' )],\n",
    "    color=alt.Color(field=\"lunch\", type=\"nominal\",legend=None ))\n",
    "\n",
    "text = bars.mark_text(\n",
    "    dx=+20,\n",
    "    size=16,\n",
    "    fill = \"black\",\n",
    ").encode(text= alt.Text('percent:Q', format='.0%'))\n",
    "\n",
    "(bars + text).properties(\n",
    "    title = f\"Distribution of Lunch\",\n",
    "    width = 600,\n",
    "    height= 150,\n",
    ").configure_title(\n",
    "    fontSize = 20,\n",
    "    font = \"Arial\",\n",
    ").configure_view(\n",
    "    strokeWidth = 0,)"
   ]
  },
  {
   "cell_type": "code",
   "execution_count": 18,
   "metadata": {
    "execution": {
     "iopub.execute_input": "2022-03-04T20:42:04.984993Z",
     "iopub.status.busy": "2022-03-04T20:42:04.984646Z",
     "iopub.status.idle": "2022-03-04T20:42:05.001486Z",
     "shell.execute_reply": "2022-03-04T20:42:05.000711Z",
     "shell.execute_reply.started": "2022-03-04T20:42:04.984959Z"
    }
   },
   "outputs": [
    {
     "data": {
      "text/html": [
       "<div>\n",
       "<style scoped>\n",
       "    .dataframe tbody tr th:only-of-type {\n",
       "        vertical-align: middle;\n",
       "    }\n",
       "\n",
       "    .dataframe tbody tr th {\n",
       "        vertical-align: top;\n",
       "    }\n",
       "\n",
       "    .dataframe thead th {\n",
       "        text-align: right;\n",
       "    }\n",
       "</style>\n",
       "<table border=\"1\" class=\"dataframe\">\n",
       "  <thead>\n",
       "    <tr style=\"text-align: right;\">\n",
       "      <th></th>\n",
       "      <th>course</th>\n",
       "      <th>count</th>\n",
       "      <th>percent</th>\n",
       "    </tr>\n",
       "  </thead>\n",
       "  <tbody>\n",
       "    <tr>\n",
       "      <th>0</th>\n",
       "      <td>none</td>\n",
       "      <td>642</td>\n",
       "      <td>0.642</td>\n",
       "    </tr>\n",
       "    <tr>\n",
       "      <th>1</th>\n",
       "      <td>completed</td>\n",
       "      <td>358</td>\n",
       "      <td>0.358</td>\n",
       "    </tr>\n",
       "  </tbody>\n",
       "</table>\n",
       "</div>"
      ],
      "text/plain": [
       "      course  count  percent\n",
       "0       none    642    0.642\n",
       "1  completed    358    0.358"
      ]
     },
     "execution_count": 18,
     "metadata": {},
     "output_type": "execute_result"
    }
   ],
   "source": [
    "course_count = data['course'].value_counts().to_frame().reset_index().rename(columns={'index':'course','course':'count'})\n",
    "course_count['percent'] = (course_count['count'] / course_count['count'].sum())\n",
    "course_count "
   ]
  },
  {
   "cell_type": "code",
   "execution_count": 19,
   "metadata": {
    "execution": {
     "iopub.execute_input": "2022-03-04T20:42:08.49616Z",
     "iopub.status.busy": "2022-03-04T20:42:08.4949Z",
     "iopub.status.idle": "2022-03-04T20:42:08.749239Z",
     "shell.execute_reply": "2022-03-04T20:42:08.748509Z",
     "shell.execute_reply.started": "2022-03-04T20:42:08.496113Z"
    }
   },
   "outputs": [
    {
     "data": {
      "text/html": [
       "\n",
       "<div id=\"altair-viz-38261bf4040840c5855dd33426ce2aae\"></div>\n",
       "<script type=\"text/javascript\">\n",
       "  var VEGA_DEBUG = (typeof VEGA_DEBUG == \"undefined\") ? {} : VEGA_DEBUG;\n",
       "  (function(spec, embedOpt){\n",
       "    let outputDiv = document.currentScript.previousElementSibling;\n",
       "    if (outputDiv.id !== \"altair-viz-38261bf4040840c5855dd33426ce2aae\") {\n",
       "      outputDiv = document.getElementById(\"altair-viz-38261bf4040840c5855dd33426ce2aae\");\n",
       "    }\n",
       "    const paths = {\n",
       "      \"vega\": \"https://cdn.jsdelivr.net/npm//vega@5?noext\",\n",
       "      \"vega-lib\": \"https://cdn.jsdelivr.net/npm//vega-lib?noext\",\n",
       "      \"vega-lite\": \"https://cdn.jsdelivr.net/npm//vega-lite@4.17.0?noext\",\n",
       "      \"vega-embed\": \"https://cdn.jsdelivr.net/npm//vega-embed@6?noext\",\n",
       "    };\n",
       "\n",
       "    function maybeLoadScript(lib, version) {\n",
       "      var key = `${lib.replace(\"-\", \"\")}_version`;\n",
       "      return (VEGA_DEBUG[key] == version) ?\n",
       "        Promise.resolve(paths[lib]) :\n",
       "        new Promise(function(resolve, reject) {\n",
       "          var s = document.createElement('script');\n",
       "          document.getElementsByTagName(\"head\")[0].appendChild(s);\n",
       "          s.async = true;\n",
       "          s.onload = () => {\n",
       "            VEGA_DEBUG[key] = version;\n",
       "            return resolve(paths[lib]);\n",
       "          };\n",
       "          s.onerror = () => reject(`Error loading script: ${paths[lib]}`);\n",
       "          s.src = paths[lib];\n",
       "        });\n",
       "    }\n",
       "\n",
       "    function showError(err) {\n",
       "      outputDiv.innerHTML = `<div class=\"error\" style=\"color:red;\">${err}</div>`;\n",
       "      throw err;\n",
       "    }\n",
       "\n",
       "    function displayChart(vegaEmbed) {\n",
       "      vegaEmbed(outputDiv, spec, embedOpt)\n",
       "        .catch(err => showError(`Javascript Error: ${err.message}<br>This usually means there's a typo in your chart specification. See the javascript console for the full traceback.`));\n",
       "    }\n",
       "\n",
       "    if(typeof define === \"function\" && define.amd) {\n",
       "      requirejs.config({paths});\n",
       "      require([\"vega-embed\"], displayChart, err => showError(`Error loading script: ${err.message}`));\n",
       "    } else {\n",
       "      maybeLoadScript(\"vega\", \"5\")\n",
       "        .then(() => maybeLoadScript(\"vega-lite\", \"4.17.0\"))\n",
       "        .then(() => maybeLoadScript(\"vega-embed\", \"6\"))\n",
       "        .catch(showError)\n",
       "        .then(() => displayChart(vegaEmbed));\n",
       "    }\n",
       "  })({\"config\": {\"view\": {\"continuousWidth\": 400, \"continuousHeight\": 300, \"strokeWidth\": 0}, \"title\": {\"font\": \"Arial\", \"fontSize\": 20}}, \"layer\": [{\"mark\": {\"type\": \"bar\", \"stroke\": \"white\"}, \"encoding\": {\"color\": {\"field\": \"course\", \"legend\": null, \"type\": \"nominal\"}, \"tooltip\": [{\"field\": \"count\", \"title\": \"Count\", \"type\": \"quantitative\"}, {\"field\": \"course\", \"title\": \"Preparation course\", \"type\": \"ordinal\"}, {\"field\": \"percent\", \"format\": \".1%\", \"title\": \"Percent\", \"type\": \"quantitative\"}], \"x\": {\"axis\": {\"format\": \".0%\", \"grid\": false}, \"field\": \"percent\", \"title\": \"\", \"type\": \"quantitative\"}, \"y\": {\"axis\": {\"labelAngle\": 0, \"labelColor\": \"#343a40\", \"labelFont\": \"Arial\", \"labelFontSize\": 14}, \"field\": \"course\", \"title\": \"\", \"type\": \"ordinal\"}}}, {\"mark\": {\"type\": \"text\", \"dx\": 20, \"fill\": \"black\", \"size\": 16}, \"encoding\": {\"color\": {\"field\": \"course\", \"legend\": null, \"type\": \"nominal\"}, \"text\": {\"field\": \"percent\", \"format\": \".0%\", \"type\": \"quantitative\"}, \"tooltip\": [{\"field\": \"count\", \"title\": \"Count\", \"type\": \"quantitative\"}, {\"field\": \"course\", \"title\": \"Preparation course\", \"type\": \"ordinal\"}, {\"field\": \"percent\", \"format\": \".1%\", \"title\": \"Percent\", \"type\": \"quantitative\"}], \"x\": {\"axis\": {\"format\": \".0%\", \"grid\": false}, \"field\": \"percent\", \"title\": \"\", \"type\": \"quantitative\"}, \"y\": {\"axis\": {\"labelAngle\": 0, \"labelColor\": \"#343a40\", \"labelFont\": \"Arial\", \"labelFontSize\": 14}, \"field\": \"course\", \"title\": \"\", \"type\": \"ordinal\"}}}], \"data\": {\"name\": \"data-c81b1d87bea2df2c60951e5d011154f7\"}, \"height\": 150, \"title\": \"Distribution of the Preparation Course\", \"width\": 600, \"$schema\": \"https://vega.github.io/schema/vega-lite/v4.17.0.json\", \"datasets\": {\"data-c81b1d87bea2df2c60951e5d011154f7\": [{\"course\": \"none\", \"count\": 642, \"percent\": 0.642}, {\"course\": \"completed\", \"count\": 358, \"percent\": 0.358}]}}, {\"mode\": \"vega-lite\"});\n",
       "</script>"
      ],
      "text/plain": [
       "alt.LayerChart(...)"
      ]
     },
     "execution_count": 19,
     "metadata": {},
     "output_type": "execute_result"
    }
   ],
   "source": [
    " bars = alt.Chart(course_count).mark_bar(stroke = \"white\").encode(\n",
    "    x= alt.X(\"percent:Q\", \n",
    "        title = \"\", \n",
    "        axis = alt.Axis(format='.0%', grid = False, )),\n",
    "    y= alt.Y(\"course:O\", \n",
    "        title=\"\",\n",
    "        axis = alt.Axis(labelAngle=0, labelFontSize=14, labelColor= \"#343a40\", labelFont=\"Arial\") ),    \n",
    "    tooltip = [alt.Tooltip('count', title = 'Count' ), alt.Tooltip ('course:O',title = 'Preparation course' ) , alt.Tooltip('percent:Q', format='.1%', title = 'Percent' )],\n",
    "    color=alt.Color(field=\"course\", type=\"nominal\",legend=None ))\n",
    "\n",
    "text = bars.mark_text(\n",
    "    dx=+20,\n",
    "    size=16,\n",
    "    fill = \"black\",\n",
    ").encode(text= alt.Text('percent:Q', format='.0%'))\n",
    "\n",
    "(bars + text).properties(\n",
    "    title = f\"Distribution of the Preparation Course\",\n",
    "    width = 600,\n",
    "    height= 150,\n",
    ").configure_title(\n",
    "    fontSize = 20,\n",
    "    font = \"Arial\",\n",
    ").configure_view(\n",
    "    strokeWidth = 0,)"
   ]
  },
  {
   "cell_type": "markdown",
   "metadata": {},
   "source": [
    "## Students Performance"
   ]
  },
  {
   "cell_type": "markdown",
   "metadata": {},
   "source": [
    "Comienzo a desarrollar gráficos para ver el rendimiento de los estudiantes ante las circunstancias en las que los diferentes grupos estuvieron expuestos, partimos buscar el rendimiento de cada grupo según el puntaje obtenido de cada asignatura."
   ]
  },
  {
   "cell_type": "code",
   "execution_count": 7,
   "metadata": {
    "execution": {
     "iopub.execute_input": "2022-03-04T20:42:26.676099Z",
     "iopub.status.busy": "2022-03-04T20:42:26.675636Z",
     "iopub.status.idle": "2022-03-04T20:42:26.690778Z",
     "shell.execute_reply": "2022-03-04T20:42:26.689471Z",
     "shell.execute_reply.started": "2022-03-04T20:42:26.676066Z"
    }
   },
   "outputs": [],
   "source": [
    "gender_math = data.groupby('gender')['math'].mean().to_frame().reset_index() # promedio de cada asignatura segun su genero\n",
    "gender_reading = data.groupby('gender')['reading'].mean().to_frame().reset_index()\n",
    "gender_writing = data.groupby('gender')['writing'].mean().to_frame().reset_index()"
   ]
  },
  {
   "cell_type": "code",
   "execution_count": 8,
   "metadata": {
    "execution": {
     "iopub.execute_input": "2022-03-04T20:42:29.886586Z",
     "iopub.status.busy": "2022-03-04T20:42:29.886317Z",
     "iopub.status.idle": "2022-03-04T20:42:30.055841Z",
     "shell.execute_reply": "2022-03-04T20:42:30.054837Z",
     "shell.execute_reply.started": "2022-03-04T20:42:29.886558Z"
    }
   },
   "outputs": [
    {
     "data": {
      "text/html": [
       "\n",
       "<div id=\"altair-viz-81129c98c0f04a47b1448a16b9d3c243\"></div>\n",
       "<script type=\"text/javascript\">\n",
       "  var VEGA_DEBUG = (typeof VEGA_DEBUG == \"undefined\") ? {} : VEGA_DEBUG;\n",
       "  (function(spec, embedOpt){\n",
       "    let outputDiv = document.currentScript.previousElementSibling;\n",
       "    if (outputDiv.id !== \"altair-viz-81129c98c0f04a47b1448a16b9d3c243\") {\n",
       "      outputDiv = document.getElementById(\"altair-viz-81129c98c0f04a47b1448a16b9d3c243\");\n",
       "    }\n",
       "    const paths = {\n",
       "      \"vega\": \"https://cdn.jsdelivr.net/npm//vega@5?noext\",\n",
       "      \"vega-lib\": \"https://cdn.jsdelivr.net/npm//vega-lib?noext\",\n",
       "      \"vega-lite\": \"https://cdn.jsdelivr.net/npm//vega-lite@4.17.0?noext\",\n",
       "      \"vega-embed\": \"https://cdn.jsdelivr.net/npm//vega-embed@6?noext\",\n",
       "    };\n",
       "\n",
       "    function maybeLoadScript(lib, version) {\n",
       "      var key = `${lib.replace(\"-\", \"\")}_version`;\n",
       "      return (VEGA_DEBUG[key] == version) ?\n",
       "        Promise.resolve(paths[lib]) :\n",
       "        new Promise(function(resolve, reject) {\n",
       "          var s = document.createElement('script');\n",
       "          document.getElementsByTagName(\"head\")[0].appendChild(s);\n",
       "          s.async = true;\n",
       "          s.onload = () => {\n",
       "            VEGA_DEBUG[key] = version;\n",
       "            return resolve(paths[lib]);\n",
       "          };\n",
       "          s.onerror = () => reject(`Error loading script: ${paths[lib]}`);\n",
       "          s.src = paths[lib];\n",
       "        });\n",
       "    }\n",
       "\n",
       "    function showError(err) {\n",
       "      outputDiv.innerHTML = `<div class=\"error\" style=\"color:red;\">${err}</div>`;\n",
       "      throw err;\n",
       "    }\n",
       "\n",
       "    function displayChart(vegaEmbed) {\n",
       "      vegaEmbed(outputDiv, spec, embedOpt)\n",
       "        .catch(err => showError(`Javascript Error: ${err.message}<br>This usually means there's a typo in your chart specification. See the javascript console for the full traceback.`));\n",
       "    }\n",
       "\n",
       "    if(typeof define === \"function\" && define.amd) {\n",
       "      requirejs.config({paths});\n",
       "      require([\"vega-embed\"], displayChart, err => showError(`Error loading script: ${err.message}`));\n",
       "    } else {\n",
       "      maybeLoadScript(\"vega\", \"5\")\n",
       "        .then(() => maybeLoadScript(\"vega-lite\", \"4.17.0\"))\n",
       "        .then(() => maybeLoadScript(\"vega-embed\", \"6\"))\n",
       "        .catch(showError)\n",
       "        .then(() => displayChart(vegaEmbed));\n",
       "    }\n",
       "  })({\"config\": {\"view\": {\"continuousWidth\": 400, \"continuousHeight\": 300}}, \"layer\": [{\"mark\": {\"type\": \"bar\", \"stroke\": \"black\"}, \"encoding\": {\"color\": {\"field\": \"gender\", \"legend\": null, \"type\": \"nominal\"}, \"tooltip\": [{\"field\": \"gender\", \"title\": \"Gender\", \"type\": \"nominal\"}, {\"field\": \"math\", \"format\": \".4s\", \"title\": \"Math Score\", \"type\": \"ordinal\"}], \"x\": {\"axis\": {\"labelAngle\": 0, \"labelColor\": \"#343a40\", \"labelFont\": \"Arial\", \"labelFontSize\": 14}, \"field\": \"gender\", \"title\": \"\", \"type\": \"ordinal\"}, \"y\": {\"axis\": {\"grid\": false}, \"field\": \"math\", \"title\": \"Math\", \"type\": \"quantitative\"}}}, {\"mark\": {\"type\": \"text\", \"dy\": -10, \"fill\": \"black\", \"size\": 14}, \"encoding\": {\"color\": {\"field\": \"gender\", \"legend\": null, \"type\": \"nominal\"}, \"text\": {\"field\": \"math\", \"format\": \".3s\", \"type\": \"quantitative\"}, \"tooltip\": [{\"field\": \"gender\", \"title\": \"Gender\", \"type\": \"nominal\"}, {\"field\": \"math\", \"format\": \".4s\", \"title\": \"Math Score\", \"type\": \"ordinal\"}], \"x\": {\"axis\": {\"labelAngle\": 0, \"labelColor\": \"#343a40\", \"labelFont\": \"Arial\", \"labelFontSize\": 14}, \"field\": \"gender\", \"title\": \"\", \"type\": \"ordinal\"}, \"y\": {\"axis\": {\"grid\": false}, \"field\": \"math\", \"title\": \"Math\", \"type\": \"quantitative\"}}}], \"data\": {\"name\": \"data-914809f05f2380a2b7c396c7d6a75479\"}, \"width\": 300, \"$schema\": \"https://vega.github.io/schema/vega-lite/v4.17.0.json\", \"datasets\": {\"data-914809f05f2380a2b7c396c7d6a75479\": [{\"gender\": \"female\", \"math\": 63.633204633204635}, {\"gender\": \"male\", \"math\": 68.72821576763485}]}}, {\"mode\": \"vega-lite\"});\n",
       "</script>"
      ],
      "text/plain": [
       "alt.LayerChart(...)"
      ]
     },
     "execution_count": 8,
     "metadata": {},
     "output_type": "execute_result"
    }
   ],
   "source": [
    " bars = alt.Chart(gender_math).mark_bar(stroke = \"black\").encode(\n",
    "    x= alt.X(\"gender:O\", \n",
    "        title=\"\",\n",
    "        axis = alt.Axis(labelAngle=0, labelFontSize=14, labelColor= \"#343a40\", labelFont=\"Arial\") ),    \n",
    "    tooltip = [alt.Tooltip('gender', title = 'Gender' ), alt.Tooltip ('math:O',title = 'Math Score', format = \".4s\" )],\n",
    "    color=alt.Color(field=\"gender\", type=\"nominal\",legend=None ),\n",
    "    y= alt.Y(\"math:Q\", \n",
    "        title = \"Math\", \n",
    "        axis = alt.Axis( grid = False, )),\n",
    " )\n",
    "\n",
    "text = bars.mark_text(\n",
    "    dy=-10,\n",
    "    size=14,\n",
    "    fill = \"black\",\n",
    ").encode(text= alt.Text('math:Q', format = \".3s\"))\n",
    "\n",
    "g_math = (bars + text).properties(\n",
    "    width = 300,\n",
    ")\n",
    "g_math"
   ]
  },
  {
   "cell_type": "code",
   "execution_count": 9,
   "metadata": {
    "execution": {
     "iopub.execute_input": "2022-03-04T20:42:32.714233Z",
     "iopub.status.busy": "2022-03-04T20:42:32.713941Z",
     "iopub.status.idle": "2022-03-04T20:42:32.861023Z",
     "shell.execute_reply": "2022-03-04T20:42:32.860398Z",
     "shell.execute_reply.started": "2022-03-04T20:42:32.714197Z"
    }
   },
   "outputs": [
    {
     "data": {
      "text/html": [
       "\n",
       "<div id=\"altair-viz-81550d4863654fb9a4ba44f47b84ce8b\"></div>\n",
       "<script type=\"text/javascript\">\n",
       "  var VEGA_DEBUG = (typeof VEGA_DEBUG == \"undefined\") ? {} : VEGA_DEBUG;\n",
       "  (function(spec, embedOpt){\n",
       "    let outputDiv = document.currentScript.previousElementSibling;\n",
       "    if (outputDiv.id !== \"altair-viz-81550d4863654fb9a4ba44f47b84ce8b\") {\n",
       "      outputDiv = document.getElementById(\"altair-viz-81550d4863654fb9a4ba44f47b84ce8b\");\n",
       "    }\n",
       "    const paths = {\n",
       "      \"vega\": \"https://cdn.jsdelivr.net/npm//vega@5?noext\",\n",
       "      \"vega-lib\": \"https://cdn.jsdelivr.net/npm//vega-lib?noext\",\n",
       "      \"vega-lite\": \"https://cdn.jsdelivr.net/npm//vega-lite@4.17.0?noext\",\n",
       "      \"vega-embed\": \"https://cdn.jsdelivr.net/npm//vega-embed@6?noext\",\n",
       "    };\n",
       "\n",
       "    function maybeLoadScript(lib, version) {\n",
       "      var key = `${lib.replace(\"-\", \"\")}_version`;\n",
       "      return (VEGA_DEBUG[key] == version) ?\n",
       "        Promise.resolve(paths[lib]) :\n",
       "        new Promise(function(resolve, reject) {\n",
       "          var s = document.createElement('script');\n",
       "          document.getElementsByTagName(\"head\")[0].appendChild(s);\n",
       "          s.async = true;\n",
       "          s.onload = () => {\n",
       "            VEGA_DEBUG[key] = version;\n",
       "            return resolve(paths[lib]);\n",
       "          };\n",
       "          s.onerror = () => reject(`Error loading script: ${paths[lib]}`);\n",
       "          s.src = paths[lib];\n",
       "        });\n",
       "    }\n",
       "\n",
       "    function showError(err) {\n",
       "      outputDiv.innerHTML = `<div class=\"error\" style=\"color:red;\">${err}</div>`;\n",
       "      throw err;\n",
       "    }\n",
       "\n",
       "    function displayChart(vegaEmbed) {\n",
       "      vegaEmbed(outputDiv, spec, embedOpt)\n",
       "        .catch(err => showError(`Javascript Error: ${err.message}<br>This usually means there's a typo in your chart specification. See the javascript console for the full traceback.`));\n",
       "    }\n",
       "\n",
       "    if(typeof define === \"function\" && define.amd) {\n",
       "      requirejs.config({paths});\n",
       "      require([\"vega-embed\"], displayChart, err => showError(`Error loading script: ${err.message}`));\n",
       "    } else {\n",
       "      maybeLoadScript(\"vega\", \"5\")\n",
       "        .then(() => maybeLoadScript(\"vega-lite\", \"4.17.0\"))\n",
       "        .then(() => maybeLoadScript(\"vega-embed\", \"6\"))\n",
       "        .catch(showError)\n",
       "        .then(() => displayChart(vegaEmbed));\n",
       "    }\n",
       "  })({\"config\": {\"view\": {\"continuousWidth\": 400, \"continuousHeight\": 300}}, \"layer\": [{\"mark\": {\"type\": \"bar\", \"stroke\": \"black\"}, \"encoding\": {\"color\": {\"field\": \"gender\", \"legend\": null, \"type\": \"nominal\"}, \"tooltip\": [{\"field\": \"gender\", \"title\": \"Gender\", \"type\": \"nominal\"}, {\"field\": \"reading\", \"format\": \".4s\", \"title\": \"Reading Score\", \"type\": \"ordinal\"}], \"x\": {\"axis\": {\"labelAngle\": 0, \"labelColor\": \"#343a40\", \"labelFont\": \"Arial\", \"labelFontSize\": 14}, \"field\": \"gender\", \"title\": \"\", \"type\": \"ordinal\"}, \"y\": {\"axis\": {\"grid\": false}, \"field\": \"reading\", \"title\": \"Reading\", \"type\": \"quantitative\"}}}, {\"mark\": {\"type\": \"text\", \"dy\": -10, \"fill\": \"black\", \"size\": 14}, \"encoding\": {\"color\": {\"field\": \"gender\", \"legend\": null, \"type\": \"nominal\"}, \"text\": {\"field\": \"reading\", \"format\": \".3s\", \"type\": \"quantitative\"}, \"tooltip\": [{\"field\": \"gender\", \"title\": \"Gender\", \"type\": \"nominal\"}, {\"field\": \"reading\", \"format\": \".4s\", \"title\": \"Reading Score\", \"type\": \"ordinal\"}], \"x\": {\"axis\": {\"labelAngle\": 0, \"labelColor\": \"#343a40\", \"labelFont\": \"Arial\", \"labelFontSize\": 14}, \"field\": \"gender\", \"title\": \"\", \"type\": \"ordinal\"}, \"y\": {\"axis\": {\"grid\": false}, \"field\": \"reading\", \"title\": \"Reading\", \"type\": \"quantitative\"}}}], \"data\": {\"name\": \"data-4ef5d2c27fcd869193f20696a0dc758f\"}, \"width\": 300, \"$schema\": \"https://vega.github.io/schema/vega-lite/v4.17.0.json\", \"datasets\": {\"data-4ef5d2c27fcd869193f20696a0dc758f\": [{\"gender\": \"female\", \"reading\": 72.60810810810811}, {\"gender\": \"male\", \"reading\": 65.47302904564316}]}}, {\"mode\": \"vega-lite\"});\n",
       "</script>"
      ],
      "text/plain": [
       "alt.LayerChart(...)"
      ]
     },
     "execution_count": 9,
     "metadata": {},
     "output_type": "execute_result"
    }
   ],
   "source": [
    " bars = alt.Chart(gender_reading).mark_bar(stroke = \"black\").encode(\n",
    "    x= alt.X(\"gender:O\", \n",
    "        title=\"\",\n",
    "        axis = alt.Axis(labelAngle=0, labelFontSize=14, labelColor= \"#343a40\", labelFont=\"Arial\") ),    \n",
    "    tooltip = [alt.Tooltip('gender', title = 'Gender' ), alt.Tooltip ('reading:O',title = 'Reading Score', format = \".4s\" )],\n",
    "    color=alt.Color(field=\"gender\", type=\"nominal\",legend=None ),\n",
    "    y= alt.Y(\"reading:Q\", \n",
    "        title = \"Reading\", \n",
    "        axis = alt.Axis( grid = False, )),\n",
    " )\n",
    "\n",
    "text = bars.mark_text(\n",
    "    dy=-10,\n",
    "    size=14,\n",
    "    fill = \"black\",\n",
    ").encode(text= alt.Text('reading:Q', format = \".3s\"))\n",
    "\n",
    "g_reading = (bars + text).properties(\n",
    "    width = 300,\n",
    ")\n",
    "g_reading"
   ]
  },
  {
   "cell_type": "code",
   "execution_count": 10,
   "metadata": {
    "execution": {
     "iopub.execute_input": "2022-03-04T20:42:36.276726Z",
     "iopub.status.busy": "2022-03-04T20:42:36.276212Z",
     "iopub.status.idle": "2022-03-04T20:42:36.42188Z",
     "shell.execute_reply": "2022-03-04T20:42:36.421082Z",
     "shell.execute_reply.started": "2022-03-04T20:42:36.276693Z"
    }
   },
   "outputs": [
    {
     "data": {
      "text/html": [
       "\n",
       "<div id=\"altair-viz-1b119a913b2b4de6b4dd18a087b38b24\"></div>\n",
       "<script type=\"text/javascript\">\n",
       "  var VEGA_DEBUG = (typeof VEGA_DEBUG == \"undefined\") ? {} : VEGA_DEBUG;\n",
       "  (function(spec, embedOpt){\n",
       "    let outputDiv = document.currentScript.previousElementSibling;\n",
       "    if (outputDiv.id !== \"altair-viz-1b119a913b2b4de6b4dd18a087b38b24\") {\n",
       "      outputDiv = document.getElementById(\"altair-viz-1b119a913b2b4de6b4dd18a087b38b24\");\n",
       "    }\n",
       "    const paths = {\n",
       "      \"vega\": \"https://cdn.jsdelivr.net/npm//vega@5?noext\",\n",
       "      \"vega-lib\": \"https://cdn.jsdelivr.net/npm//vega-lib?noext\",\n",
       "      \"vega-lite\": \"https://cdn.jsdelivr.net/npm//vega-lite@4.17.0?noext\",\n",
       "      \"vega-embed\": \"https://cdn.jsdelivr.net/npm//vega-embed@6?noext\",\n",
       "    };\n",
       "\n",
       "    function maybeLoadScript(lib, version) {\n",
       "      var key = `${lib.replace(\"-\", \"\")}_version`;\n",
       "      return (VEGA_DEBUG[key] == version) ?\n",
       "        Promise.resolve(paths[lib]) :\n",
       "        new Promise(function(resolve, reject) {\n",
       "          var s = document.createElement('script');\n",
       "          document.getElementsByTagName(\"head\")[0].appendChild(s);\n",
       "          s.async = true;\n",
       "          s.onload = () => {\n",
       "            VEGA_DEBUG[key] = version;\n",
       "            return resolve(paths[lib]);\n",
       "          };\n",
       "          s.onerror = () => reject(`Error loading script: ${paths[lib]}`);\n",
       "          s.src = paths[lib];\n",
       "        });\n",
       "    }\n",
       "\n",
       "    function showError(err) {\n",
       "      outputDiv.innerHTML = `<div class=\"error\" style=\"color:red;\">${err}</div>`;\n",
       "      throw err;\n",
       "    }\n",
       "\n",
       "    function displayChart(vegaEmbed) {\n",
       "      vegaEmbed(outputDiv, spec, embedOpt)\n",
       "        .catch(err => showError(`Javascript Error: ${err.message}<br>This usually means there's a typo in your chart specification. See the javascript console for the full traceback.`));\n",
       "    }\n",
       "\n",
       "    if(typeof define === \"function\" && define.amd) {\n",
       "      requirejs.config({paths});\n",
       "      require([\"vega-embed\"], displayChart, err => showError(`Error loading script: ${err.message}`));\n",
       "    } else {\n",
       "      maybeLoadScript(\"vega\", \"5\")\n",
       "        .then(() => maybeLoadScript(\"vega-lite\", \"4.17.0\"))\n",
       "        .then(() => maybeLoadScript(\"vega-embed\", \"6\"))\n",
       "        .catch(showError)\n",
       "        .then(() => displayChart(vegaEmbed));\n",
       "    }\n",
       "  })({\"config\": {\"view\": {\"continuousWidth\": 400, \"continuousHeight\": 300}}, \"layer\": [{\"mark\": {\"type\": \"bar\", \"stroke\": \"black\"}, \"encoding\": {\"color\": {\"field\": \"gender\", \"legend\": null, \"type\": \"nominal\"}, \"tooltip\": [{\"field\": \"gender\", \"title\": \"Gender\", \"type\": \"nominal\"}, {\"field\": \"writing\", \"format\": \".4s\", \"title\": \"Writing Score\", \"type\": \"ordinal\"}], \"x\": {\"axis\": {\"labelAngle\": 0, \"labelColor\": \"#343a40\", \"labelFont\": \"Arial\", \"labelFontSize\": 14}, \"field\": \"gender\", \"title\": \"\", \"type\": \"ordinal\"}, \"y\": {\"axis\": {\"grid\": false}, \"field\": \"writing\", \"title\": \"Writing\", \"type\": \"quantitative\"}}}, {\"mark\": {\"type\": \"text\", \"dy\": -10, \"fill\": \"black\", \"size\": 14}, \"encoding\": {\"color\": {\"field\": \"gender\", \"legend\": null, \"type\": \"nominal\"}, \"text\": {\"field\": \"writing\", \"format\": \".3s\", \"type\": \"quantitative\"}, \"tooltip\": [{\"field\": \"gender\", \"title\": \"Gender\", \"type\": \"nominal\"}, {\"field\": \"writing\", \"format\": \".4s\", \"title\": \"Writing Score\", \"type\": \"ordinal\"}], \"x\": {\"axis\": {\"labelAngle\": 0, \"labelColor\": \"#343a40\", \"labelFont\": \"Arial\", \"labelFontSize\": 14}, \"field\": \"gender\", \"title\": \"\", \"type\": \"ordinal\"}, \"y\": {\"axis\": {\"grid\": false}, \"field\": \"writing\", \"title\": \"Writing\", \"type\": \"quantitative\"}}}], \"data\": {\"name\": \"data-d2dc3cf604f2504fa5ca5a9bb9448c44\"}, \"width\": 300, \"$schema\": \"https://vega.github.io/schema/vega-lite/v4.17.0.json\", \"datasets\": {\"data-d2dc3cf604f2504fa5ca5a9bb9448c44\": [{\"gender\": \"female\", \"writing\": 72.46718146718146}, {\"gender\": \"male\", \"writing\": 63.31120331950208}]}}, {\"mode\": \"vega-lite\"});\n",
       "</script>"
      ],
      "text/plain": [
       "alt.LayerChart(...)"
      ]
     },
     "execution_count": 10,
     "metadata": {},
     "output_type": "execute_result"
    }
   ],
   "source": [
    " bars = alt.Chart(gender_writing).mark_bar(stroke = \"black\").encode(\n",
    "    x= alt.X(\"gender:O\", \n",
    "        title=\"\",\n",
    "        axis = alt.Axis(labelAngle=0, labelFontSize=14, labelColor= \"#343a40\", labelFont=\"Arial\") ),    \n",
    "    tooltip = [alt.Tooltip('gender', title = 'Gender' ), alt.Tooltip ('writing:O',title = 'Writing Score', format = \".4s\" )],\n",
    "    color=alt.Color(field=\"gender\", type=\"nominal\",legend=None ),\n",
    "    y= alt.Y(\"writing:Q\", \n",
    "        title = \"Writing\", \n",
    "        axis = alt.Axis( grid = False, )),\n",
    " )\n",
    "\n",
    "text = bars.mark_text(\n",
    "    dy=-10,\n",
    "    size=14,\n",
    "    fill = \"black\",\n",
    ").encode(text= alt.Text('writing:Q', format = \".3s\"))\n",
    "\n",
    "g_writing = (bars + text).properties(\n",
    "    width = 300,\n",
    ")\n",
    "g_writing"
   ]
  },
  {
   "cell_type": "code",
   "execution_count": 11,
   "metadata": {
    "execution": {
     "iopub.execute_input": "2022-03-04T20:47:56.517234Z",
     "iopub.status.busy": "2022-03-04T20:47:56.516948Z",
     "iopub.status.idle": "2022-03-04T20:47:56.709527Z",
     "shell.execute_reply": "2022-03-04T20:47:56.708385Z",
     "shell.execute_reply.started": "2022-03-04T20:47:56.517205Z"
    }
   },
   "outputs": [
    {
     "data": {
      "text/html": [
       "\n",
       "<div id=\"altair-viz-699a02dff4c94b4883fe231c281e283b\"></div>\n",
       "<script type=\"text/javascript\">\n",
       "  var VEGA_DEBUG = (typeof VEGA_DEBUG == \"undefined\") ? {} : VEGA_DEBUG;\n",
       "  (function(spec, embedOpt){\n",
       "    let outputDiv = document.currentScript.previousElementSibling;\n",
       "    if (outputDiv.id !== \"altair-viz-699a02dff4c94b4883fe231c281e283b\") {\n",
       "      outputDiv = document.getElementById(\"altair-viz-699a02dff4c94b4883fe231c281e283b\");\n",
       "    }\n",
       "    const paths = {\n",
       "      \"vega\": \"https://cdn.jsdelivr.net/npm//vega@5?noext\",\n",
       "      \"vega-lib\": \"https://cdn.jsdelivr.net/npm//vega-lib?noext\",\n",
       "      \"vega-lite\": \"https://cdn.jsdelivr.net/npm//vega-lite@4.17.0?noext\",\n",
       "      \"vega-embed\": \"https://cdn.jsdelivr.net/npm//vega-embed@6?noext\",\n",
       "    };\n",
       "\n",
       "    function maybeLoadScript(lib, version) {\n",
       "      var key = `${lib.replace(\"-\", \"\")}_version`;\n",
       "      return (VEGA_DEBUG[key] == version) ?\n",
       "        Promise.resolve(paths[lib]) :\n",
       "        new Promise(function(resolve, reject) {\n",
       "          var s = document.createElement('script');\n",
       "          document.getElementsByTagName(\"head\")[0].appendChild(s);\n",
       "          s.async = true;\n",
       "          s.onload = () => {\n",
       "            VEGA_DEBUG[key] = version;\n",
       "            return resolve(paths[lib]);\n",
       "          };\n",
       "          s.onerror = () => reject(`Error loading script: ${paths[lib]}`);\n",
       "          s.src = paths[lib];\n",
       "        });\n",
       "    }\n",
       "\n",
       "    function showError(err) {\n",
       "      outputDiv.innerHTML = `<div class=\"error\" style=\"color:red;\">${err}</div>`;\n",
       "      throw err;\n",
       "    }\n",
       "\n",
       "    function displayChart(vegaEmbed) {\n",
       "      vegaEmbed(outputDiv, spec, embedOpt)\n",
       "        .catch(err => showError(`Javascript Error: ${err.message}<br>This usually means there's a typo in your chart specification. See the javascript console for the full traceback.`));\n",
       "    }\n",
       "\n",
       "    if(typeof define === \"function\" && define.amd) {\n",
       "      requirejs.config({paths});\n",
       "      require([\"vega-embed\"], displayChart, err => showError(`Error loading script: ${err.message}`));\n",
       "    } else {\n",
       "      maybeLoadScript(\"vega\", \"5\")\n",
       "        .then(() => maybeLoadScript(\"vega-lite\", \"4.17.0\"))\n",
       "        .then(() => maybeLoadScript(\"vega-embed\", \"6\"))\n",
       "        .catch(showError)\n",
       "        .then(() => displayChart(vegaEmbed));\n",
       "    }\n",
       "  })({\"config\": {\"view\": {\"continuousWidth\": 400, \"continuousHeight\": 300, \"strokeWidth\": 0}, \"title\": {\"anchor\": \"middle\", \"font\": \"Arial\", \"fontSize\": 18}}, \"hconcat\": [{\"layer\": [{\"mark\": {\"type\": \"bar\", \"stroke\": \"black\"}, \"encoding\": {\"color\": {\"field\": \"gender\", \"legend\": null, \"type\": \"nominal\"}, \"tooltip\": [{\"field\": \"gender\", \"title\": \"Gender\", \"type\": \"nominal\"}, {\"field\": \"math\", \"format\": \".4s\", \"title\": \"Math Score\", \"type\": \"ordinal\"}], \"x\": {\"axis\": {\"labelAngle\": 0, \"labelColor\": \"#343a40\", \"labelFont\": \"Arial\", \"labelFontSize\": 14}, \"field\": \"gender\", \"title\": \"\", \"type\": \"ordinal\"}, \"y\": {\"axis\": {\"grid\": false}, \"field\": \"math\", \"title\": \"Math\", \"type\": \"quantitative\"}}}, {\"mark\": {\"type\": \"text\", \"dy\": -10, \"fill\": \"black\", \"size\": 14}, \"encoding\": {\"color\": {\"field\": \"gender\", \"legend\": null, \"type\": \"nominal\"}, \"text\": {\"field\": \"math\", \"format\": \".3s\", \"type\": \"quantitative\"}, \"tooltip\": [{\"field\": \"gender\", \"title\": \"Gender\", \"type\": \"nominal\"}, {\"field\": \"math\", \"format\": \".4s\", \"title\": \"Math Score\", \"type\": \"ordinal\"}], \"x\": {\"axis\": {\"labelAngle\": 0, \"labelColor\": \"#343a40\", \"labelFont\": \"Arial\", \"labelFontSize\": 14}, \"field\": \"gender\", \"title\": \"\", \"type\": \"ordinal\"}, \"y\": {\"axis\": {\"grid\": false}, \"field\": \"math\", \"title\": \"Math\", \"type\": \"quantitative\"}}}], \"data\": {\"name\": \"data-914809f05f2380a2b7c396c7d6a75479\"}, \"width\": 300}, {\"layer\": [{\"mark\": {\"type\": \"bar\", \"stroke\": \"black\"}, \"encoding\": {\"color\": {\"field\": \"gender\", \"legend\": null, \"type\": \"nominal\"}, \"tooltip\": [{\"field\": \"gender\", \"title\": \"Gender\", \"type\": \"nominal\"}, {\"field\": \"reading\", \"format\": \".4s\", \"title\": \"Reading Score\", \"type\": \"ordinal\"}], \"x\": {\"axis\": {\"labelAngle\": 0, \"labelColor\": \"#343a40\", \"labelFont\": \"Arial\", \"labelFontSize\": 14}, \"field\": \"gender\", \"title\": \"\", \"type\": \"ordinal\"}, \"y\": {\"axis\": {\"grid\": false}, \"field\": \"reading\", \"title\": \"Reading\", \"type\": \"quantitative\"}}}, {\"mark\": {\"type\": \"text\", \"dy\": -10, \"fill\": \"black\", \"size\": 14}, \"encoding\": {\"color\": {\"field\": \"gender\", \"legend\": null, \"type\": \"nominal\"}, \"text\": {\"field\": \"reading\", \"format\": \".3s\", \"type\": \"quantitative\"}, \"tooltip\": [{\"field\": \"gender\", \"title\": \"Gender\", \"type\": \"nominal\"}, {\"field\": \"reading\", \"format\": \".4s\", \"title\": \"Reading Score\", \"type\": \"ordinal\"}], \"x\": {\"axis\": {\"labelAngle\": 0, \"labelColor\": \"#343a40\", \"labelFont\": \"Arial\", \"labelFontSize\": 14}, \"field\": \"gender\", \"title\": \"\", \"type\": \"ordinal\"}, \"y\": {\"axis\": {\"grid\": false}, \"field\": \"reading\", \"title\": \"Reading\", \"type\": \"quantitative\"}}}], \"data\": {\"name\": \"data-4ef5d2c27fcd869193f20696a0dc758f\"}, \"width\": 300}, {\"layer\": [{\"mark\": {\"type\": \"bar\", \"stroke\": \"black\"}, \"encoding\": {\"color\": {\"field\": \"gender\", \"legend\": null, \"type\": \"nominal\"}, \"tooltip\": [{\"field\": \"gender\", \"title\": \"Gender\", \"type\": \"nominal\"}, {\"field\": \"writing\", \"format\": \".4s\", \"title\": \"Writing Score\", \"type\": \"ordinal\"}], \"x\": {\"axis\": {\"labelAngle\": 0, \"labelColor\": \"#343a40\", \"labelFont\": \"Arial\", \"labelFontSize\": 14}, \"field\": \"gender\", \"title\": \"\", \"type\": \"ordinal\"}, \"y\": {\"axis\": {\"grid\": false}, \"field\": \"writing\", \"title\": \"Writing\", \"type\": \"quantitative\"}}}, {\"mark\": {\"type\": \"text\", \"dy\": -10, \"fill\": \"black\", \"size\": 14}, \"encoding\": {\"color\": {\"field\": \"gender\", \"legend\": null, \"type\": \"nominal\"}, \"text\": {\"field\": \"writing\", \"format\": \".3s\", \"type\": \"quantitative\"}, \"tooltip\": [{\"field\": \"gender\", \"title\": \"Gender\", \"type\": \"nominal\"}, {\"field\": \"writing\", \"format\": \".4s\", \"title\": \"Writing Score\", \"type\": \"ordinal\"}], \"x\": {\"axis\": {\"labelAngle\": 0, \"labelColor\": \"#343a40\", \"labelFont\": \"Arial\", \"labelFontSize\": 14}, \"field\": \"gender\", \"title\": \"\", \"type\": \"ordinal\"}, \"y\": {\"axis\": {\"grid\": false}, \"field\": \"writing\", \"title\": \"Writing\", \"type\": \"quantitative\"}}}], \"data\": {\"name\": \"data-d2dc3cf604f2504fa5ca5a9bb9448c44\"}, \"width\": 300}], \"title\": \"Performance by Gender\", \"$schema\": \"https://vega.github.io/schema/vega-lite/v4.17.0.json\", \"datasets\": {\"data-914809f05f2380a2b7c396c7d6a75479\": [{\"gender\": \"female\", \"math\": 63.633204633204635}, {\"gender\": \"male\", \"math\": 68.72821576763485}], \"data-4ef5d2c27fcd869193f20696a0dc758f\": [{\"gender\": \"female\", \"reading\": 72.60810810810811}, {\"gender\": \"male\", \"reading\": 65.47302904564316}], \"data-d2dc3cf604f2504fa5ca5a9bb9448c44\": [{\"gender\": \"female\", \"writing\": 72.46718146718146}, {\"gender\": \"male\", \"writing\": 63.31120331950208}]}}, {\"mode\": \"vega-lite\"});\n",
       "</script>"
      ],
      "text/plain": [
       "alt.HConcatChart(...)"
      ]
     },
     "execution_count": 11,
     "metadata": {},
     "output_type": "execute_result"
    }
   ],
   "source": [
    "###Aqui todos juntos\n",
    "alt.hconcat(g_math, g_reading, g_writing ).properties(\n",
    "    title = 'Performance by Gender',\n",
    ").configure_title(\n",
    "    fontSize = 18,\n",
    "    font = \"Arial\",\n",
    "    anchor = \"middle\"\n",
    ").configure_view(\n",
    "    strokeWidth = 0,\n",
    ")"
   ]
  },
  {
   "cell_type": "code",
   "execution_count": 12,
   "metadata": {
    "execution": {
     "iopub.execute_input": "2022-03-04T20:42:57.318689Z",
     "iopub.status.busy": "2022-03-04T20:42:57.318398Z",
     "iopub.status.idle": "2022-03-04T20:42:57.329439Z",
     "shell.execute_reply": "2022-03-04T20:42:57.328895Z",
     "shell.execute_reply.started": "2022-03-04T20:42:57.318659Z"
    }
   },
   "outputs": [],
   "source": [
    "ethnicity_math = data.groupby('ethnicity')['math'].mean().to_frame().reset_index() # promedio de cada asignatura segun su etnia\n",
    "ethnicity_reading = data.groupby('ethnicity')['reading'].mean().to_frame().reset_index()\n",
    "ethnicity_writing = data.groupby('ethnicity')['writing'].mean().to_frame().reset_index()"
   ]
  },
  {
   "cell_type": "code",
   "execution_count": 13,
   "metadata": {
    "execution": {
     "iopub.execute_input": "2022-03-04T20:43:00.590103Z",
     "iopub.status.busy": "2022-03-04T20:43:00.589756Z",
     "iopub.status.idle": "2022-03-04T20:43:00.739029Z",
     "shell.execute_reply": "2022-03-04T20:43:00.738383Z",
     "shell.execute_reply.started": "2022-03-04T20:43:00.590067Z"
    }
   },
   "outputs": [
    {
     "data": {
      "text/html": [
       "\n",
       "<div id=\"altair-viz-013930b89e434fbcb0d90b122681f5ac\"></div>\n",
       "<script type=\"text/javascript\">\n",
       "  var VEGA_DEBUG = (typeof VEGA_DEBUG == \"undefined\") ? {} : VEGA_DEBUG;\n",
       "  (function(spec, embedOpt){\n",
       "    let outputDiv = document.currentScript.previousElementSibling;\n",
       "    if (outputDiv.id !== \"altair-viz-013930b89e434fbcb0d90b122681f5ac\") {\n",
       "      outputDiv = document.getElementById(\"altair-viz-013930b89e434fbcb0d90b122681f5ac\");\n",
       "    }\n",
       "    const paths = {\n",
       "      \"vega\": \"https://cdn.jsdelivr.net/npm//vega@5?noext\",\n",
       "      \"vega-lib\": \"https://cdn.jsdelivr.net/npm//vega-lib?noext\",\n",
       "      \"vega-lite\": \"https://cdn.jsdelivr.net/npm//vega-lite@4.17.0?noext\",\n",
       "      \"vega-embed\": \"https://cdn.jsdelivr.net/npm//vega-embed@6?noext\",\n",
       "    };\n",
       "\n",
       "    function maybeLoadScript(lib, version) {\n",
       "      var key = `${lib.replace(\"-\", \"\")}_version`;\n",
       "      return (VEGA_DEBUG[key] == version) ?\n",
       "        Promise.resolve(paths[lib]) :\n",
       "        new Promise(function(resolve, reject) {\n",
       "          var s = document.createElement('script');\n",
       "          document.getElementsByTagName(\"head\")[0].appendChild(s);\n",
       "          s.async = true;\n",
       "          s.onload = () => {\n",
       "            VEGA_DEBUG[key] = version;\n",
       "            return resolve(paths[lib]);\n",
       "          };\n",
       "          s.onerror = () => reject(`Error loading script: ${paths[lib]}`);\n",
       "          s.src = paths[lib];\n",
       "        });\n",
       "    }\n",
       "\n",
       "    function showError(err) {\n",
       "      outputDiv.innerHTML = `<div class=\"error\" style=\"color:red;\">${err}</div>`;\n",
       "      throw err;\n",
       "    }\n",
       "\n",
       "    function displayChart(vegaEmbed) {\n",
       "      vegaEmbed(outputDiv, spec, embedOpt)\n",
       "        .catch(err => showError(`Javascript Error: ${err.message}<br>This usually means there's a typo in your chart specification. See the javascript console for the full traceback.`));\n",
       "    }\n",
       "\n",
       "    if(typeof define === \"function\" && define.amd) {\n",
       "      requirejs.config({paths});\n",
       "      require([\"vega-embed\"], displayChart, err => showError(`Error loading script: ${err.message}`));\n",
       "    } else {\n",
       "      maybeLoadScript(\"vega\", \"5\")\n",
       "        .then(() => maybeLoadScript(\"vega-lite\", \"4.17.0\"))\n",
       "        .then(() => maybeLoadScript(\"vega-embed\", \"6\"))\n",
       "        .catch(showError)\n",
       "        .then(() => displayChart(vegaEmbed));\n",
       "    }\n",
       "  })({\"config\": {\"view\": {\"continuousWidth\": 400, \"continuousHeight\": 300}}, \"layer\": [{\"mark\": {\"type\": \"bar\", \"stroke\": \"black\"}, \"encoding\": {\"color\": {\"field\": \"ethnicity\", \"legend\": null, \"type\": \"nominal\"}, \"tooltip\": [{\"field\": \"ethnicity\", \"title\": \"Ethnicity\", \"type\": \"nominal\"}, {\"field\": \"writing\", \"format\": \".4s\", \"title\": \"Writing Score\", \"type\": \"ordinal\"}], \"x\": {\"axis\": {\"labelAngle\": 0, \"labelColor\": \"#343a40\", \"labelFont\": \"Arial\", \"labelFontSize\": 14}, \"field\": \"ethnicity\", \"title\": \"\", \"type\": \"ordinal\"}, \"y\": {\"axis\": {\"grid\": false}, \"field\": \"writing\", \"title\": \"Writing\", \"type\": \"quantitative\"}}}, {\"mark\": {\"type\": \"text\", \"dy\": -10, \"fill\": \"black\", \"size\": 14}, \"encoding\": {\"color\": {\"field\": \"ethnicity\", \"legend\": null, \"type\": \"nominal\"}, \"text\": {\"field\": \"writing\", \"format\": \".3s\", \"type\": \"quantitative\"}, \"tooltip\": [{\"field\": \"ethnicity\", \"title\": \"Ethnicity\", \"type\": \"nominal\"}, {\"field\": \"writing\", \"format\": \".4s\", \"title\": \"Writing Score\", \"type\": \"ordinal\"}], \"x\": {\"axis\": {\"labelAngle\": 0, \"labelColor\": \"#343a40\", \"labelFont\": \"Arial\", \"labelFontSize\": 14}, \"field\": \"ethnicity\", \"title\": \"\", \"type\": \"ordinal\"}, \"y\": {\"axis\": {\"grid\": false}, \"field\": \"writing\", \"title\": \"Writing\", \"type\": \"quantitative\"}}}], \"data\": {\"name\": \"data-58500cd0507c29469a3fcd63a7e27a1d\"}, \"width\": 300, \"$schema\": \"https://vega.github.io/schema/vega-lite/v4.17.0.json\", \"datasets\": {\"data-58500cd0507c29469a3fcd63a7e27a1d\": [{\"ethnicity\": \"group A\", \"writing\": 62.674157303370784}, {\"ethnicity\": \"group B\", \"writing\": 65.6}, {\"ethnicity\": \"group C\", \"writing\": 67.82758620689656}, {\"ethnicity\": \"group D\", \"writing\": 70.14503816793894}, {\"ethnicity\": \"group E\", \"writing\": 71.40714285714286}]}}, {\"mode\": \"vega-lite\"});\n",
       "</script>"
      ],
      "text/plain": [
       "alt.LayerChart(...)"
      ]
     },
     "execution_count": 13,
     "metadata": {},
     "output_type": "execute_result"
    }
   ],
   "source": [
    " bars = alt.Chart(ethnicity_writing).mark_bar(stroke = \"black\").encode(\n",
    "    x= alt.X(\"ethnicity:O\", \n",
    "        title=\"\",\n",
    "        axis = alt.Axis(labelAngle=0, labelFontSize=14, labelColor= \"#343a40\", labelFont=\"Arial\") ),    \n",
    "    tooltip = [alt.Tooltip('ethnicity', title = 'Ethnicity' ), alt.Tooltip ('writing:O',title = 'Writing Score', format = \".4s\" )],\n",
    "    color=alt.Color(field=\"ethnicity\", type=\"nominal\",legend=None ),\n",
    "    y= alt.Y(\"writing:Q\", \n",
    "        title = \"Writing\", \n",
    "        axis = alt.Axis( grid = False, )),\n",
    " )\n",
    "\n",
    "text = bars.mark_text(\n",
    "    dy=-10,\n",
    "    size=14,\n",
    "    fill = \"black\",\n",
    ").encode(text= alt.Text('writing:Q', format = \".3s\"))\n",
    "\n",
    "e_writing = (bars + text).properties(\n",
    "    width = 300,)\n",
    "\n",
    "e_writing"
   ]
  },
  {
   "cell_type": "code",
   "execution_count": 14,
   "metadata": {
    "execution": {
     "iopub.execute_input": "2022-03-04T20:43:04.530592Z",
     "iopub.status.busy": "2022-03-04T20:43:04.530147Z",
     "iopub.status.idle": "2022-03-04T20:43:04.679325Z",
     "shell.execute_reply": "2022-03-04T20:43:04.678505Z",
     "shell.execute_reply.started": "2022-03-04T20:43:04.530559Z"
    }
   },
   "outputs": [
    {
     "data": {
      "text/html": [
       "\n",
       "<div id=\"altair-viz-4b37fe636951423ab114db870476f927\"></div>\n",
       "<script type=\"text/javascript\">\n",
       "  var VEGA_DEBUG = (typeof VEGA_DEBUG == \"undefined\") ? {} : VEGA_DEBUG;\n",
       "  (function(spec, embedOpt){\n",
       "    let outputDiv = document.currentScript.previousElementSibling;\n",
       "    if (outputDiv.id !== \"altair-viz-4b37fe636951423ab114db870476f927\") {\n",
       "      outputDiv = document.getElementById(\"altair-viz-4b37fe636951423ab114db870476f927\");\n",
       "    }\n",
       "    const paths = {\n",
       "      \"vega\": \"https://cdn.jsdelivr.net/npm//vega@5?noext\",\n",
       "      \"vega-lib\": \"https://cdn.jsdelivr.net/npm//vega-lib?noext\",\n",
       "      \"vega-lite\": \"https://cdn.jsdelivr.net/npm//vega-lite@4.17.0?noext\",\n",
       "      \"vega-embed\": \"https://cdn.jsdelivr.net/npm//vega-embed@6?noext\",\n",
       "    };\n",
       "\n",
       "    function maybeLoadScript(lib, version) {\n",
       "      var key = `${lib.replace(\"-\", \"\")}_version`;\n",
       "      return (VEGA_DEBUG[key] == version) ?\n",
       "        Promise.resolve(paths[lib]) :\n",
       "        new Promise(function(resolve, reject) {\n",
       "          var s = document.createElement('script');\n",
       "          document.getElementsByTagName(\"head\")[0].appendChild(s);\n",
       "          s.async = true;\n",
       "          s.onload = () => {\n",
       "            VEGA_DEBUG[key] = version;\n",
       "            return resolve(paths[lib]);\n",
       "          };\n",
       "          s.onerror = () => reject(`Error loading script: ${paths[lib]}`);\n",
       "          s.src = paths[lib];\n",
       "        });\n",
       "    }\n",
       "\n",
       "    function showError(err) {\n",
       "      outputDiv.innerHTML = `<div class=\"error\" style=\"color:red;\">${err}</div>`;\n",
       "      throw err;\n",
       "    }\n",
       "\n",
       "    function displayChart(vegaEmbed) {\n",
       "      vegaEmbed(outputDiv, spec, embedOpt)\n",
       "        .catch(err => showError(`Javascript Error: ${err.message}<br>This usually means there's a typo in your chart specification. See the javascript console for the full traceback.`));\n",
       "    }\n",
       "\n",
       "    if(typeof define === \"function\" && define.amd) {\n",
       "      requirejs.config({paths});\n",
       "      require([\"vega-embed\"], displayChart, err => showError(`Error loading script: ${err.message}`));\n",
       "    } else {\n",
       "      maybeLoadScript(\"vega\", \"5\")\n",
       "        .then(() => maybeLoadScript(\"vega-lite\", \"4.17.0\"))\n",
       "        .then(() => maybeLoadScript(\"vega-embed\", \"6\"))\n",
       "        .catch(showError)\n",
       "        .then(() => displayChart(vegaEmbed));\n",
       "    }\n",
       "  })({\"config\": {\"view\": {\"continuousWidth\": 400, \"continuousHeight\": 300}}, \"layer\": [{\"mark\": {\"type\": \"bar\", \"stroke\": \"black\"}, \"encoding\": {\"color\": {\"field\": \"ethnicity\", \"legend\": null, \"type\": \"nominal\"}, \"tooltip\": [{\"field\": \"ethnicity\", \"title\": \"Ethnicity\", \"type\": \"nominal\"}, {\"field\": \"reading\", \"format\": \".4s\", \"title\": \"Reading Score\", \"type\": \"ordinal\"}], \"x\": {\"axis\": {\"labelAngle\": 0, \"labelColor\": \"#343a40\", \"labelFont\": \"Arial\", \"labelFontSize\": 14}, \"field\": \"ethnicity\", \"title\": \"\", \"type\": \"ordinal\"}, \"y\": {\"axis\": {\"grid\": false}, \"field\": \"reading\", \"title\": \"Reading\", \"type\": \"quantitative\"}}}, {\"mark\": {\"type\": \"text\", \"dy\": -10, \"fill\": \"black\", \"size\": 14}, \"encoding\": {\"color\": {\"field\": \"ethnicity\", \"legend\": null, \"type\": \"nominal\"}, \"text\": {\"field\": \"reading\", \"format\": \".3s\", \"type\": \"quantitative\"}, \"tooltip\": [{\"field\": \"ethnicity\", \"title\": \"Ethnicity\", \"type\": \"nominal\"}, {\"field\": \"reading\", \"format\": \".4s\", \"title\": \"Reading Score\", \"type\": \"ordinal\"}], \"x\": {\"axis\": {\"labelAngle\": 0, \"labelColor\": \"#343a40\", \"labelFont\": \"Arial\", \"labelFontSize\": 14}, \"field\": \"ethnicity\", \"title\": \"\", \"type\": \"ordinal\"}, \"y\": {\"axis\": {\"grid\": false}, \"field\": \"reading\", \"title\": \"Reading\", \"type\": \"quantitative\"}}}], \"data\": {\"name\": \"data-c63a9d8b14cda7bde10a7fa790505063\"}, \"width\": 300, \"$schema\": \"https://vega.github.io/schema/vega-lite/v4.17.0.json\", \"datasets\": {\"data-c63a9d8b14cda7bde10a7fa790505063\": [{\"ethnicity\": \"group A\", \"reading\": 64.67415730337079}, {\"ethnicity\": \"group B\", \"reading\": 67.35263157894737}, {\"ethnicity\": \"group C\", \"reading\": 69.10344827586206}, {\"ethnicity\": \"group D\", \"reading\": 70.03053435114504}, {\"ethnicity\": \"group E\", \"reading\": 73.02857142857142}]}}, {\"mode\": \"vega-lite\"});\n",
       "</script>"
      ],
      "text/plain": [
       "alt.LayerChart(...)"
      ]
     },
     "execution_count": 14,
     "metadata": {},
     "output_type": "execute_result"
    }
   ],
   "source": [
    " bars = alt.Chart(ethnicity_reading).mark_bar(stroke = \"black\").encode(\n",
    "    x= alt.X(\"ethnicity:O\", \n",
    "        title=\"\",\n",
    "        axis = alt.Axis(labelAngle=0, labelFontSize=14, labelColor= \"#343a40\", labelFont=\"Arial\") ),    \n",
    "    tooltip = [alt.Tooltip('ethnicity', title = 'Ethnicity' ), alt.Tooltip ('reading:O',title = 'Reading Score', format = \".4s\" )],\n",
    "    color=alt.Color(field=\"ethnicity\", type=\"nominal\",legend=None ),\n",
    "    y= alt.Y(\"reading:Q\", \n",
    "        title = \"Reading\", \n",
    "        axis = alt.Axis( grid = False, )),\n",
    " )\n",
    "\n",
    "text = bars.mark_text(\n",
    "    dy=-10,\n",
    "    size=14,\n",
    "    fill = \"black\",\n",
    ").encode(text= alt.Text('reading:Q', format = \".3s\"))\n",
    "\n",
    "e_reading = (bars + text).properties(\n",
    "    width = 300,\n",
    ")\n",
    "e_reading"
   ]
  },
  {
   "cell_type": "code",
   "execution_count": 15,
   "metadata": {
    "execution": {
     "iopub.execute_input": "2022-03-04T20:43:08.562277Z",
     "iopub.status.busy": "2022-03-04T20:43:08.561949Z",
     "iopub.status.idle": "2022-03-04T20:43:08.712Z",
     "shell.execute_reply": "2022-03-04T20:43:08.711371Z",
     "shell.execute_reply.started": "2022-03-04T20:43:08.562241Z"
    }
   },
   "outputs": [
    {
     "data": {
      "text/html": [
       "\n",
       "<div id=\"altair-viz-9d844425c164469eadb18c56fe586236\"></div>\n",
       "<script type=\"text/javascript\">\n",
       "  var VEGA_DEBUG = (typeof VEGA_DEBUG == \"undefined\") ? {} : VEGA_DEBUG;\n",
       "  (function(spec, embedOpt){\n",
       "    let outputDiv = document.currentScript.previousElementSibling;\n",
       "    if (outputDiv.id !== \"altair-viz-9d844425c164469eadb18c56fe586236\") {\n",
       "      outputDiv = document.getElementById(\"altair-viz-9d844425c164469eadb18c56fe586236\");\n",
       "    }\n",
       "    const paths = {\n",
       "      \"vega\": \"https://cdn.jsdelivr.net/npm//vega@5?noext\",\n",
       "      \"vega-lib\": \"https://cdn.jsdelivr.net/npm//vega-lib?noext\",\n",
       "      \"vega-lite\": \"https://cdn.jsdelivr.net/npm//vega-lite@4.17.0?noext\",\n",
       "      \"vega-embed\": \"https://cdn.jsdelivr.net/npm//vega-embed@6?noext\",\n",
       "    };\n",
       "\n",
       "    function maybeLoadScript(lib, version) {\n",
       "      var key = `${lib.replace(\"-\", \"\")}_version`;\n",
       "      return (VEGA_DEBUG[key] == version) ?\n",
       "        Promise.resolve(paths[lib]) :\n",
       "        new Promise(function(resolve, reject) {\n",
       "          var s = document.createElement('script');\n",
       "          document.getElementsByTagName(\"head\")[0].appendChild(s);\n",
       "          s.async = true;\n",
       "          s.onload = () => {\n",
       "            VEGA_DEBUG[key] = version;\n",
       "            return resolve(paths[lib]);\n",
       "          };\n",
       "          s.onerror = () => reject(`Error loading script: ${paths[lib]}`);\n",
       "          s.src = paths[lib];\n",
       "        });\n",
       "    }\n",
       "\n",
       "    function showError(err) {\n",
       "      outputDiv.innerHTML = `<div class=\"error\" style=\"color:red;\">${err}</div>`;\n",
       "      throw err;\n",
       "    }\n",
       "\n",
       "    function displayChart(vegaEmbed) {\n",
       "      vegaEmbed(outputDiv, spec, embedOpt)\n",
       "        .catch(err => showError(`Javascript Error: ${err.message}<br>This usually means there's a typo in your chart specification. See the javascript console for the full traceback.`));\n",
       "    }\n",
       "\n",
       "    if(typeof define === \"function\" && define.amd) {\n",
       "      requirejs.config({paths});\n",
       "      require([\"vega-embed\"], displayChart, err => showError(`Error loading script: ${err.message}`));\n",
       "    } else {\n",
       "      maybeLoadScript(\"vega\", \"5\")\n",
       "        .then(() => maybeLoadScript(\"vega-lite\", \"4.17.0\"))\n",
       "        .then(() => maybeLoadScript(\"vega-embed\", \"6\"))\n",
       "        .catch(showError)\n",
       "        .then(() => displayChart(vegaEmbed));\n",
       "    }\n",
       "  })({\"config\": {\"view\": {\"continuousWidth\": 400, \"continuousHeight\": 300}}, \"layer\": [{\"mark\": {\"type\": \"bar\", \"stroke\": \"black\"}, \"encoding\": {\"color\": {\"field\": \"ethnicity\", \"legend\": null, \"type\": \"nominal\"}, \"tooltip\": [{\"field\": \"ethnicity\", \"title\": \"Ethnicity\", \"type\": \"nominal\"}, {\"field\": \"math\", \"format\": \".4s\", \"title\": \"Math Score\", \"type\": \"ordinal\"}], \"x\": {\"axis\": {\"labelAngle\": 0, \"labelColor\": \"#343a40\", \"labelFont\": \"Arial\", \"labelFontSize\": 14}, \"field\": \"ethnicity\", \"title\": \"\", \"type\": \"ordinal\"}, \"y\": {\"axis\": {\"grid\": false}, \"field\": \"math\", \"title\": \"Math\", \"type\": \"quantitative\"}}}, {\"mark\": {\"type\": \"text\", \"dy\": -10, \"fill\": \"black\", \"size\": 14}, \"encoding\": {\"color\": {\"field\": \"ethnicity\", \"legend\": null, \"type\": \"nominal\"}, \"text\": {\"field\": \"math\", \"format\": \".3s\", \"type\": \"quantitative\"}, \"tooltip\": [{\"field\": \"ethnicity\", \"title\": \"Ethnicity\", \"type\": \"nominal\"}, {\"field\": \"math\", \"format\": \".4s\", \"title\": \"Math Score\", \"type\": \"ordinal\"}], \"x\": {\"axis\": {\"labelAngle\": 0, \"labelColor\": \"#343a40\", \"labelFont\": \"Arial\", \"labelFontSize\": 14}, \"field\": \"ethnicity\", \"title\": \"\", \"type\": \"ordinal\"}, \"y\": {\"axis\": {\"grid\": false}, \"field\": \"math\", \"title\": \"Math\", \"type\": \"quantitative\"}}}], \"data\": {\"name\": \"data-7a2f2037e2b3a66d81bf92cc723d4c9b\"}, \"width\": 300, \"$schema\": \"https://vega.github.io/schema/vega-lite/v4.17.0.json\", \"datasets\": {\"data-7a2f2037e2b3a66d81bf92cc723d4c9b\": [{\"ethnicity\": \"group A\", \"math\": 61.62921348314607}, {\"ethnicity\": \"group B\", \"math\": 63.45263157894737}, {\"ethnicity\": \"group C\", \"math\": 64.46394984326018}, {\"ethnicity\": \"group D\", \"math\": 67.36259541984732}, {\"ethnicity\": \"group E\", \"math\": 73.82142857142857}]}}, {\"mode\": \"vega-lite\"});\n",
       "</script>"
      ],
      "text/plain": [
       "alt.LayerChart(...)"
      ]
     },
     "execution_count": 15,
     "metadata": {},
     "output_type": "execute_result"
    }
   ],
   "source": [
    " bars = alt.Chart(ethnicity_math).mark_bar(stroke = \"black\").encode(\n",
    "    x= alt.X(\"ethnicity:O\", \n",
    "        title=\"\",\n",
    "        axis = alt.Axis(labelAngle=0, labelFontSize=14, labelColor= \"#343a40\", labelFont=\"Arial\") ),    \n",
    "    tooltip = [alt.Tooltip('ethnicity', title = 'Ethnicity' ), alt.Tooltip ('math:O',title = 'Math Score', format = \".4s\" )],\n",
    "    color=alt.Color(field=\"ethnicity\", type=\"nominal\",legend=None ),\n",
    "    y= alt.Y(\"math:Q\", \n",
    "        title = \"Math\", \n",
    "        axis = alt.Axis( grid = False, )),\n",
    " )\n",
    "\n",
    "text = bars.mark_text(\n",
    "    dy=-10,\n",
    "    size=14,\n",
    "    fill = \"black\",\n",
    ").encode(text= alt.Text('math:Q', format = \".3s\"))\n",
    "\n",
    "e_math = (bars + text).properties(\n",
    "    width = 300,\n",
    ")\n",
    "e_math"
   ]
  },
  {
   "cell_type": "code",
   "execution_count": 16,
   "metadata": {
    "execution": {
     "iopub.execute_input": "2022-03-04T20:48:42.070718Z",
     "iopub.status.busy": "2022-03-04T20:48:42.070422Z",
     "iopub.status.idle": "2022-03-04T20:48:42.27168Z",
     "shell.execute_reply": "2022-03-04T20:48:42.270764Z",
     "shell.execute_reply.started": "2022-03-04T20:48:42.07069Z"
    }
   },
   "outputs": [
    {
     "data": {
      "text/html": [
       "\n",
       "<div id=\"altair-viz-72022b9ac3eb4ff99e485373e9ac0c67\"></div>\n",
       "<script type=\"text/javascript\">\n",
       "  var VEGA_DEBUG = (typeof VEGA_DEBUG == \"undefined\") ? {} : VEGA_DEBUG;\n",
       "  (function(spec, embedOpt){\n",
       "    let outputDiv = document.currentScript.previousElementSibling;\n",
       "    if (outputDiv.id !== \"altair-viz-72022b9ac3eb4ff99e485373e9ac0c67\") {\n",
       "      outputDiv = document.getElementById(\"altair-viz-72022b9ac3eb4ff99e485373e9ac0c67\");\n",
       "    }\n",
       "    const paths = {\n",
       "      \"vega\": \"https://cdn.jsdelivr.net/npm//vega@5?noext\",\n",
       "      \"vega-lib\": \"https://cdn.jsdelivr.net/npm//vega-lib?noext\",\n",
       "      \"vega-lite\": \"https://cdn.jsdelivr.net/npm//vega-lite@4.17.0?noext\",\n",
       "      \"vega-embed\": \"https://cdn.jsdelivr.net/npm//vega-embed@6?noext\",\n",
       "    };\n",
       "\n",
       "    function maybeLoadScript(lib, version) {\n",
       "      var key = `${lib.replace(\"-\", \"\")}_version`;\n",
       "      return (VEGA_DEBUG[key] == version) ?\n",
       "        Promise.resolve(paths[lib]) :\n",
       "        new Promise(function(resolve, reject) {\n",
       "          var s = document.createElement('script');\n",
       "          document.getElementsByTagName(\"head\")[0].appendChild(s);\n",
       "          s.async = true;\n",
       "          s.onload = () => {\n",
       "            VEGA_DEBUG[key] = version;\n",
       "            return resolve(paths[lib]);\n",
       "          };\n",
       "          s.onerror = () => reject(`Error loading script: ${paths[lib]}`);\n",
       "          s.src = paths[lib];\n",
       "        });\n",
       "    }\n",
       "\n",
       "    function showError(err) {\n",
       "      outputDiv.innerHTML = `<div class=\"error\" style=\"color:red;\">${err}</div>`;\n",
       "      throw err;\n",
       "    }\n",
       "\n",
       "    function displayChart(vegaEmbed) {\n",
       "      vegaEmbed(outputDiv, spec, embedOpt)\n",
       "        .catch(err => showError(`Javascript Error: ${err.message}<br>This usually means there's a typo in your chart specification. See the javascript console for the full traceback.`));\n",
       "    }\n",
       "\n",
       "    if(typeof define === \"function\" && define.amd) {\n",
       "      requirejs.config({paths});\n",
       "      require([\"vega-embed\"], displayChart, err => showError(`Error loading script: ${err.message}`));\n",
       "    } else {\n",
       "      maybeLoadScript(\"vega\", \"5\")\n",
       "        .then(() => maybeLoadScript(\"vega-lite\", \"4.17.0\"))\n",
       "        .then(() => maybeLoadScript(\"vega-embed\", \"6\"))\n",
       "        .catch(showError)\n",
       "        .then(() => displayChart(vegaEmbed));\n",
       "    }\n",
       "  })({\"config\": {\"view\": {\"continuousWidth\": 400, \"continuousHeight\": 300, \"strokeWidth\": 0}, \"title\": {\"anchor\": \"middle\", \"font\": \"Arial\", \"fontSize\": 18}}, \"hconcat\": [{\"layer\": [{\"mark\": {\"type\": \"bar\", \"stroke\": \"black\"}, \"encoding\": {\"color\": {\"field\": \"ethnicity\", \"legend\": null, \"type\": \"nominal\"}, \"tooltip\": [{\"field\": \"ethnicity\", \"title\": \"Ethnicity\", \"type\": \"nominal\"}, {\"field\": \"math\", \"format\": \".4s\", \"title\": \"Math Score\", \"type\": \"ordinal\"}], \"x\": {\"axis\": {\"labelAngle\": 0, \"labelColor\": \"#343a40\", \"labelFont\": \"Arial\", \"labelFontSize\": 14}, \"field\": \"ethnicity\", \"title\": \"\", \"type\": \"ordinal\"}, \"y\": {\"axis\": {\"grid\": false}, \"field\": \"math\", \"title\": \"Math\", \"type\": \"quantitative\"}}}, {\"mark\": {\"type\": \"text\", \"dy\": -10, \"fill\": \"black\", \"size\": 14}, \"encoding\": {\"color\": {\"field\": \"ethnicity\", \"legend\": null, \"type\": \"nominal\"}, \"text\": {\"field\": \"math\", \"format\": \".3s\", \"type\": \"quantitative\"}, \"tooltip\": [{\"field\": \"ethnicity\", \"title\": \"Ethnicity\", \"type\": \"nominal\"}, {\"field\": \"math\", \"format\": \".4s\", \"title\": \"Math Score\", \"type\": \"ordinal\"}], \"x\": {\"axis\": {\"labelAngle\": 0, \"labelColor\": \"#343a40\", \"labelFont\": \"Arial\", \"labelFontSize\": 14}, \"field\": \"ethnicity\", \"title\": \"\", \"type\": \"ordinal\"}, \"y\": {\"axis\": {\"grid\": false}, \"field\": \"math\", \"title\": \"Math\", \"type\": \"quantitative\"}}}], \"data\": {\"name\": \"data-7a2f2037e2b3a66d81bf92cc723d4c9b\"}, \"width\": 300}, {\"layer\": [{\"mark\": {\"type\": \"bar\", \"stroke\": \"black\"}, \"encoding\": {\"color\": {\"field\": \"ethnicity\", \"legend\": null, \"type\": \"nominal\"}, \"tooltip\": [{\"field\": \"ethnicity\", \"title\": \"Ethnicity\", \"type\": \"nominal\"}, {\"field\": \"reading\", \"format\": \".4s\", \"title\": \"Reading Score\", \"type\": \"ordinal\"}], \"x\": {\"axis\": {\"labelAngle\": 0, \"labelColor\": \"#343a40\", \"labelFont\": \"Arial\", \"labelFontSize\": 14}, \"field\": \"ethnicity\", \"title\": \"\", \"type\": \"ordinal\"}, \"y\": {\"axis\": {\"grid\": false}, \"field\": \"reading\", \"title\": \"Reading\", \"type\": \"quantitative\"}}}, {\"mark\": {\"type\": \"text\", \"dy\": -10, \"fill\": \"black\", \"size\": 14}, \"encoding\": {\"color\": {\"field\": \"ethnicity\", \"legend\": null, \"type\": \"nominal\"}, \"text\": {\"field\": \"reading\", \"format\": \".3s\", \"type\": \"quantitative\"}, \"tooltip\": [{\"field\": \"ethnicity\", \"title\": \"Ethnicity\", \"type\": \"nominal\"}, {\"field\": \"reading\", \"format\": \".4s\", \"title\": \"Reading Score\", \"type\": \"ordinal\"}], \"x\": {\"axis\": {\"labelAngle\": 0, \"labelColor\": \"#343a40\", \"labelFont\": \"Arial\", \"labelFontSize\": 14}, \"field\": \"ethnicity\", \"title\": \"\", \"type\": \"ordinal\"}, \"y\": {\"axis\": {\"grid\": false}, \"field\": \"reading\", \"title\": \"Reading\", \"type\": \"quantitative\"}}}], \"data\": {\"name\": \"data-c63a9d8b14cda7bde10a7fa790505063\"}, \"width\": 300}, {\"layer\": [{\"mark\": {\"type\": \"bar\", \"stroke\": \"black\"}, \"encoding\": {\"color\": {\"field\": \"ethnicity\", \"legend\": null, \"type\": \"nominal\"}, \"tooltip\": [{\"field\": \"ethnicity\", \"title\": \"Ethnicity\", \"type\": \"nominal\"}, {\"field\": \"writing\", \"format\": \".4s\", \"title\": \"Writing Score\", \"type\": \"ordinal\"}], \"x\": {\"axis\": {\"labelAngle\": 0, \"labelColor\": \"#343a40\", \"labelFont\": \"Arial\", \"labelFontSize\": 14}, \"field\": \"ethnicity\", \"title\": \"\", \"type\": \"ordinal\"}, \"y\": {\"axis\": {\"grid\": false}, \"field\": \"writing\", \"title\": \"Writing\", \"type\": \"quantitative\"}}}, {\"mark\": {\"type\": \"text\", \"dy\": -10, \"fill\": \"black\", \"size\": 14}, \"encoding\": {\"color\": {\"field\": \"ethnicity\", \"legend\": null, \"type\": \"nominal\"}, \"text\": {\"field\": \"writing\", \"format\": \".3s\", \"type\": \"quantitative\"}, \"tooltip\": [{\"field\": \"ethnicity\", \"title\": \"Ethnicity\", \"type\": \"nominal\"}, {\"field\": \"writing\", \"format\": \".4s\", \"title\": \"Writing Score\", \"type\": \"ordinal\"}], \"x\": {\"axis\": {\"labelAngle\": 0, \"labelColor\": \"#343a40\", \"labelFont\": \"Arial\", \"labelFontSize\": 14}, \"field\": \"ethnicity\", \"title\": \"\", \"type\": \"ordinal\"}, \"y\": {\"axis\": {\"grid\": false}, \"field\": \"writing\", \"title\": \"Writing\", \"type\": \"quantitative\"}}}], \"data\": {\"name\": \"data-58500cd0507c29469a3fcd63a7e27a1d\"}, \"width\": 300}], \"title\": \"Performance by Ethnicity \", \"$schema\": \"https://vega.github.io/schema/vega-lite/v4.17.0.json\", \"datasets\": {\"data-7a2f2037e2b3a66d81bf92cc723d4c9b\": [{\"ethnicity\": \"group A\", \"math\": 61.62921348314607}, {\"ethnicity\": \"group B\", \"math\": 63.45263157894737}, {\"ethnicity\": \"group C\", \"math\": 64.46394984326018}, {\"ethnicity\": \"group D\", \"math\": 67.36259541984732}, {\"ethnicity\": \"group E\", \"math\": 73.82142857142857}], \"data-c63a9d8b14cda7bde10a7fa790505063\": [{\"ethnicity\": \"group A\", \"reading\": 64.67415730337079}, {\"ethnicity\": \"group B\", \"reading\": 67.35263157894737}, {\"ethnicity\": \"group C\", \"reading\": 69.10344827586206}, {\"ethnicity\": \"group D\", \"reading\": 70.03053435114504}, {\"ethnicity\": \"group E\", \"reading\": 73.02857142857142}], \"data-58500cd0507c29469a3fcd63a7e27a1d\": [{\"ethnicity\": \"group A\", \"writing\": 62.674157303370784}, {\"ethnicity\": \"group B\", \"writing\": 65.6}, {\"ethnicity\": \"group C\", \"writing\": 67.82758620689656}, {\"ethnicity\": \"group D\", \"writing\": 70.14503816793894}, {\"ethnicity\": \"group E\", \"writing\": 71.40714285714286}]}}, {\"mode\": \"vega-lite\"});\n",
       "</script>"
      ],
      "text/plain": [
       "alt.HConcatChart(...)"
      ]
     },
     "execution_count": 16,
     "metadata": {},
     "output_type": "execute_result"
    }
   ],
   "source": [
    "###Aqui todos juntos\n",
    "alt.hconcat(e_math, e_reading, e_writing ).properties(\n",
    "    title = 'Performance by Ethnicity ',\n",
    ").configure_title(\n",
    "    fontSize = 18,\n",
    "    font = \"Arial\",\n",
    "    anchor = \"middle\"\n",
    ").configure_view(\n",
    "    strokeWidth = 0,\n",
    ")"
   ]
  },
  {
   "cell_type": "code",
   "execution_count": 17,
   "metadata": {
    "execution": {
     "iopub.execute_input": "2022-03-05T00:11:04.907228Z",
     "iopub.status.busy": "2022-03-05T00:11:04.906700Z",
     "iopub.status.idle": "2022-03-05T00:11:04.925747Z",
     "shell.execute_reply": "2022-03-05T00:11:04.925006Z",
     "shell.execute_reply.started": "2022-03-05T00:11:04.907195Z"
    }
   },
   "outputs": [],
   "source": [
    "pEducation_math = data.groupby('parental_education')['math'].mean().to_frame().reset_index() # promedio de cada asignatura segun el nivel de eduacion de sus padres\n",
    "PEducation_reading = data.groupby('parental_education')['reading'].mean().to_frame().reset_index()\n",
    "pEducation_writing = data.groupby('parental_education')['writing'].mean().to_frame().reset_index()"
   ]
  },
  {
   "cell_type": "code",
   "execution_count": 18,
   "metadata": {
    "execution": {
     "iopub.execute_input": "2022-03-05T00:11:08.582252Z",
     "iopub.status.busy": "2022-03-05T00:11:08.581876Z",
     "iopub.status.idle": "2022-03-05T00:11:08.756689Z",
     "shell.execute_reply": "2022-03-05T00:11:08.755839Z",
     "shell.execute_reply.started": "2022-03-05T00:11:08.582213Z"
    }
   },
   "outputs": [
    {
     "data": {
      "text/html": [
       "\n",
       "<div id=\"altair-viz-46b78ca8d0714696ac558260b3eef279\"></div>\n",
       "<script type=\"text/javascript\">\n",
       "  var VEGA_DEBUG = (typeof VEGA_DEBUG == \"undefined\") ? {} : VEGA_DEBUG;\n",
       "  (function(spec, embedOpt){\n",
       "    let outputDiv = document.currentScript.previousElementSibling;\n",
       "    if (outputDiv.id !== \"altair-viz-46b78ca8d0714696ac558260b3eef279\") {\n",
       "      outputDiv = document.getElementById(\"altair-viz-46b78ca8d0714696ac558260b3eef279\");\n",
       "    }\n",
       "    const paths = {\n",
       "      \"vega\": \"https://cdn.jsdelivr.net/npm//vega@5?noext\",\n",
       "      \"vega-lib\": \"https://cdn.jsdelivr.net/npm//vega-lib?noext\",\n",
       "      \"vega-lite\": \"https://cdn.jsdelivr.net/npm//vega-lite@4.17.0?noext\",\n",
       "      \"vega-embed\": \"https://cdn.jsdelivr.net/npm//vega-embed@6?noext\",\n",
       "    };\n",
       "\n",
       "    function maybeLoadScript(lib, version) {\n",
       "      var key = `${lib.replace(\"-\", \"\")}_version`;\n",
       "      return (VEGA_DEBUG[key] == version) ?\n",
       "        Promise.resolve(paths[lib]) :\n",
       "        new Promise(function(resolve, reject) {\n",
       "          var s = document.createElement('script');\n",
       "          document.getElementsByTagName(\"head\")[0].appendChild(s);\n",
       "          s.async = true;\n",
       "          s.onload = () => {\n",
       "            VEGA_DEBUG[key] = version;\n",
       "            return resolve(paths[lib]);\n",
       "          };\n",
       "          s.onerror = () => reject(`Error loading script: ${paths[lib]}`);\n",
       "          s.src = paths[lib];\n",
       "        });\n",
       "    }\n",
       "\n",
       "    function showError(err) {\n",
       "      outputDiv.innerHTML = `<div class=\"error\" style=\"color:red;\">${err}</div>`;\n",
       "      throw err;\n",
       "    }\n",
       "\n",
       "    function displayChart(vegaEmbed) {\n",
       "      vegaEmbed(outputDiv, spec, embedOpt)\n",
       "        .catch(err => showError(`Javascript Error: ${err.message}<br>This usually means there's a typo in your chart specification. See the javascript console for the full traceback.`));\n",
       "    }\n",
       "\n",
       "    if(typeof define === \"function\" && define.amd) {\n",
       "      requirejs.config({paths});\n",
       "      require([\"vega-embed\"], displayChart, err => showError(`Error loading script: ${err.message}`));\n",
       "    } else {\n",
       "      maybeLoadScript(\"vega\", \"5\")\n",
       "        .then(() => maybeLoadScript(\"vega-lite\", \"4.17.0\"))\n",
       "        .then(() => maybeLoadScript(\"vega-embed\", \"6\"))\n",
       "        .catch(showError)\n",
       "        .then(() => displayChart(vegaEmbed));\n",
       "    }\n",
       "  })({\"config\": {\"view\": {\"continuousWidth\": 400, \"continuousHeight\": 300}}, \"layer\": [{\"mark\": {\"type\": \"bar\", \"stroke\": \"black\"}, \"encoding\": {\"color\": {\"field\": \"parental_education\", \"legend\": null, \"type\": \"nominal\"}, \"tooltip\": [{\"field\": \"parental_education\", \"title\": \"Parental Level of Lducation\", \"type\": \"nominal\"}, {\"field\": \"math\", \"format\": \".4s\", \"title\": \"Math Score\", \"type\": \"ordinal\"}], \"x\": {\"axis\": {\"labelAngle\": 325, \"labelColor\": \"#343a40\", \"labelFont\": \"Arial\", \"labelFontSize\": 11}, \"field\": \"parental_education\", \"title\": \"\", \"type\": \"ordinal\"}, \"y\": {\"axis\": {\"grid\": false}, \"field\": \"math\", \"title\": \"Math\", \"type\": \"quantitative\"}}}, {\"mark\": {\"type\": \"text\", \"dy\": -10, \"fill\": \"black\", \"size\": 14}, \"encoding\": {\"color\": {\"field\": \"parental_education\", \"legend\": null, \"type\": \"nominal\"}, \"text\": {\"field\": \"math\", \"format\": \".3s\", \"type\": \"quantitative\"}, \"tooltip\": [{\"field\": \"parental_education\", \"title\": \"Parental Level of Lducation\", \"type\": \"nominal\"}, {\"field\": \"math\", \"format\": \".4s\", \"title\": \"Math Score\", \"type\": \"ordinal\"}], \"x\": {\"axis\": {\"labelAngle\": 325, \"labelColor\": \"#343a40\", \"labelFont\": \"Arial\", \"labelFontSize\": 11}, \"field\": \"parental_education\", \"title\": \"\", \"type\": \"ordinal\"}, \"y\": {\"axis\": {\"grid\": false}, \"field\": \"math\", \"title\": \"Math\", \"type\": \"quantitative\"}}}], \"data\": {\"name\": \"data-74b35b420de1fbe3868cd16c9f38c6ce\"}, \"width\": 300, \"$schema\": \"https://vega.github.io/schema/vega-lite/v4.17.0.json\", \"datasets\": {\"data-74b35b420de1fbe3868cd16c9f38c6ce\": [{\"parental_education\": \"associate's degree\", \"math\": 67.88288288288288}, {\"parental_education\": \"bachelor's degree\", \"math\": 69.38983050847457}, {\"parental_education\": \"high school\", \"math\": 62.13775510204081}, {\"parental_education\": \"master's degree\", \"math\": 69.7457627118644}, {\"parental_education\": \"some college\", \"math\": 67.1283185840708}, {\"parental_education\": \"some high school\", \"math\": 63.497206703910614}]}}, {\"mode\": \"vega-lite\"});\n",
       "</script>"
      ],
      "text/plain": [
       "alt.LayerChart(...)"
      ]
     },
     "execution_count": 18,
     "metadata": {},
     "output_type": "execute_result"
    }
   ],
   "source": [
    " bars = alt.Chart(pEducation_math).mark_bar(stroke = \"black\").encode(\n",
    "    x= alt.X(\"parental_education:O\", \n",
    "        title=\"\",\n",
    "        axis = alt.Axis(labelAngle=325, labelFontSize=11, labelColor= \"#343a40\", labelFont=\"Arial\") ),    \n",
    "    tooltip = [alt.Tooltip('parental_education', title = 'Parental Level of Lducation' ), alt.Tooltip ('math:O',title = 'Math Score', format = \".4s\" )],\n",
    "    color=alt.Color(field=\"parental_education\", type=\"nominal\",legend=None ),\n",
    "    y= alt.Y(\"math:Q\", \n",
    "        title = \"Math\", \n",
    "        axis = alt.Axis( grid = False, )),\n",
    " )\n",
    "\n",
    "text = bars.mark_text(\n",
    "    dy=-10,\n",
    "    size=14,\n",
    "    fill = \"black\",\n",
    ").encode(text= alt.Text('math:Q', format = \".3s\")) \n",
    "\n",
    "pe_math = (bars + text).properties(\n",
    "    width = 300,\n",
    ")\n",
    "pe_math"
   ]
  },
  {
   "cell_type": "code",
   "execution_count": 19,
   "metadata": {
    "execution": {
     "iopub.execute_input": "2022-03-05T00:11:13.504293Z",
     "iopub.status.busy": "2022-03-05T00:11:13.503752Z",
     "iopub.status.idle": "2022-03-05T00:11:13.661876Z",
     "shell.execute_reply": "2022-03-05T00:11:13.661035Z",
     "shell.execute_reply.started": "2022-03-05T00:11:13.504229Z"
    }
   },
   "outputs": [
    {
     "data": {
      "text/html": [
       "\n",
       "<div id=\"altair-viz-d89a1b42da474fa2bd003ab8487dbd63\"></div>\n",
       "<script type=\"text/javascript\">\n",
       "  var VEGA_DEBUG = (typeof VEGA_DEBUG == \"undefined\") ? {} : VEGA_DEBUG;\n",
       "  (function(spec, embedOpt){\n",
       "    let outputDiv = document.currentScript.previousElementSibling;\n",
       "    if (outputDiv.id !== \"altair-viz-d89a1b42da474fa2bd003ab8487dbd63\") {\n",
       "      outputDiv = document.getElementById(\"altair-viz-d89a1b42da474fa2bd003ab8487dbd63\");\n",
       "    }\n",
       "    const paths = {\n",
       "      \"vega\": \"https://cdn.jsdelivr.net/npm//vega@5?noext\",\n",
       "      \"vega-lib\": \"https://cdn.jsdelivr.net/npm//vega-lib?noext\",\n",
       "      \"vega-lite\": \"https://cdn.jsdelivr.net/npm//vega-lite@4.17.0?noext\",\n",
       "      \"vega-embed\": \"https://cdn.jsdelivr.net/npm//vega-embed@6?noext\",\n",
       "    };\n",
       "\n",
       "    function maybeLoadScript(lib, version) {\n",
       "      var key = `${lib.replace(\"-\", \"\")}_version`;\n",
       "      return (VEGA_DEBUG[key] == version) ?\n",
       "        Promise.resolve(paths[lib]) :\n",
       "        new Promise(function(resolve, reject) {\n",
       "          var s = document.createElement('script');\n",
       "          document.getElementsByTagName(\"head\")[0].appendChild(s);\n",
       "          s.async = true;\n",
       "          s.onload = () => {\n",
       "            VEGA_DEBUG[key] = version;\n",
       "            return resolve(paths[lib]);\n",
       "          };\n",
       "          s.onerror = () => reject(`Error loading script: ${paths[lib]}`);\n",
       "          s.src = paths[lib];\n",
       "        });\n",
       "    }\n",
       "\n",
       "    function showError(err) {\n",
       "      outputDiv.innerHTML = `<div class=\"error\" style=\"color:red;\">${err}</div>`;\n",
       "      throw err;\n",
       "    }\n",
       "\n",
       "    function displayChart(vegaEmbed) {\n",
       "      vegaEmbed(outputDiv, spec, embedOpt)\n",
       "        .catch(err => showError(`Javascript Error: ${err.message}<br>This usually means there's a typo in your chart specification. See the javascript console for the full traceback.`));\n",
       "    }\n",
       "\n",
       "    if(typeof define === \"function\" && define.amd) {\n",
       "      requirejs.config({paths});\n",
       "      require([\"vega-embed\"], displayChart, err => showError(`Error loading script: ${err.message}`));\n",
       "    } else {\n",
       "      maybeLoadScript(\"vega\", \"5\")\n",
       "        .then(() => maybeLoadScript(\"vega-lite\", \"4.17.0\"))\n",
       "        .then(() => maybeLoadScript(\"vega-embed\", \"6\"))\n",
       "        .catch(showError)\n",
       "        .then(() => displayChart(vegaEmbed));\n",
       "    }\n",
       "  })({\"config\": {\"view\": {\"continuousWidth\": 400, \"continuousHeight\": 300}}, \"layer\": [{\"mark\": {\"type\": \"bar\", \"stroke\": \"black\"}, \"encoding\": {\"color\": {\"field\": \"parental_education\", \"legend\": null, \"type\": \"nominal\"}, \"tooltip\": [{\"field\": \"parental_education\", \"title\": \"Parental Level of Lducation\", \"type\": \"nominal\"}, {\"field\": \"reading\", \"format\": \".4s\", \"title\": \"Reading Score\", \"type\": \"ordinal\"}], \"x\": {\"axis\": {\"labelAngle\": 325, \"labelColor\": \"#343a40\", \"labelFont\": \"Arial\", \"labelFontSize\": 11}, \"field\": \"parental_education\", \"title\": \"\", \"type\": \"ordinal\"}, \"y\": {\"axis\": {\"grid\": false}, \"field\": \"reading\", \"title\": \"Reading\", \"type\": \"quantitative\"}}}, {\"mark\": {\"type\": \"text\", \"dy\": -10, \"fill\": \"black\", \"size\": 14}, \"encoding\": {\"color\": {\"field\": \"parental_education\", \"legend\": null, \"type\": \"nominal\"}, \"text\": {\"field\": \"reading\", \"format\": \".3s\", \"type\": \"quantitative\"}, \"tooltip\": [{\"field\": \"parental_education\", \"title\": \"Parental Level of Lducation\", \"type\": \"nominal\"}, {\"field\": \"reading\", \"format\": \".4s\", \"title\": \"Reading Score\", \"type\": \"ordinal\"}], \"x\": {\"axis\": {\"labelAngle\": 325, \"labelColor\": \"#343a40\", \"labelFont\": \"Arial\", \"labelFontSize\": 11}, \"field\": \"parental_education\", \"title\": \"\", \"type\": \"ordinal\"}, \"y\": {\"axis\": {\"grid\": false}, \"field\": \"reading\", \"title\": \"Reading\", \"type\": \"quantitative\"}}}], \"data\": {\"name\": \"data-597cfeed2d04287cd8e0d64cc97c04c4\"}, \"width\": 300, \"$schema\": \"https://vega.github.io/schema/vega-lite/v4.17.0.json\", \"datasets\": {\"data-597cfeed2d04287cd8e0d64cc97c04c4\": [{\"parental_education\": \"associate's degree\", \"reading\": 70.92792792792793}, {\"parental_education\": \"bachelor's degree\", \"reading\": 73.0}, {\"parental_education\": \"high school\", \"reading\": 64.70408163265306}, {\"parental_education\": \"master's degree\", \"reading\": 75.37288135593221}, {\"parental_education\": \"some college\", \"reading\": 69.46017699115045}, {\"parental_education\": \"some high school\", \"reading\": 66.93854748603351}]}}, {\"mode\": \"vega-lite\"});\n",
       "</script>"
      ],
      "text/plain": [
       "alt.LayerChart(...)"
      ]
     },
     "execution_count": 19,
     "metadata": {},
     "output_type": "execute_result"
    }
   ],
   "source": [
    " bars = alt.Chart(PEducation_reading).mark_bar(stroke = \"black\").encode(\n",
    "    x= alt.X(\"parental_education:O\", \n",
    "        title=\"\",\n",
    "        axis = alt.Axis(labelAngle=325, labelFontSize=11, labelColor= \"#343a40\", labelFont=\"Arial\") ),    \n",
    "    tooltip = [alt.Tooltip('parental_education', title = 'Parental Level of Lducation' ), alt.Tooltip ('reading:O',title = 'Reading Score', format = \".4s\" )],\n",
    "    color=alt.Color(field=\"parental_education\", type=\"nominal\",legend=None ),\n",
    "    y= alt.Y(\"reading:Q\", \n",
    "        title = \"Reading\", \n",
    "        axis = alt.Axis( grid = False, )),\n",
    " )\n",
    "\n",
    "text = bars.mark_text(\n",
    "    dy=-10,\n",
    "    size=14,\n",
    "    fill = \"black\",\n",
    ").encode(text= alt.Text('reading:Q', format = \".3s\"))\n",
    "\n",
    "pe_reading = (bars + text).properties(\n",
    "    width = 300,\n",
    ")\n",
    "pe_reading"
   ]
  },
  {
   "cell_type": "code",
   "execution_count": 20,
   "metadata": {
    "execution": {
     "iopub.execute_input": "2022-03-05T00:11:18.222998Z",
     "iopub.status.busy": "2022-03-05T00:11:18.222725Z",
     "iopub.status.idle": "2022-03-05T00:11:18.373387Z",
     "shell.execute_reply": "2022-03-05T00:11:18.372413Z",
     "shell.execute_reply.started": "2022-03-05T00:11:18.222968Z"
    }
   },
   "outputs": [
    {
     "data": {
      "text/html": [
       "\n",
       "<div id=\"altair-viz-a921f0429498457d844512d1aa60f911\"></div>\n",
       "<script type=\"text/javascript\">\n",
       "  var VEGA_DEBUG = (typeof VEGA_DEBUG == \"undefined\") ? {} : VEGA_DEBUG;\n",
       "  (function(spec, embedOpt){\n",
       "    let outputDiv = document.currentScript.previousElementSibling;\n",
       "    if (outputDiv.id !== \"altair-viz-a921f0429498457d844512d1aa60f911\") {\n",
       "      outputDiv = document.getElementById(\"altair-viz-a921f0429498457d844512d1aa60f911\");\n",
       "    }\n",
       "    const paths = {\n",
       "      \"vega\": \"https://cdn.jsdelivr.net/npm//vega@5?noext\",\n",
       "      \"vega-lib\": \"https://cdn.jsdelivr.net/npm//vega-lib?noext\",\n",
       "      \"vega-lite\": \"https://cdn.jsdelivr.net/npm//vega-lite@4.17.0?noext\",\n",
       "      \"vega-embed\": \"https://cdn.jsdelivr.net/npm//vega-embed@6?noext\",\n",
       "    };\n",
       "\n",
       "    function maybeLoadScript(lib, version) {\n",
       "      var key = `${lib.replace(\"-\", \"\")}_version`;\n",
       "      return (VEGA_DEBUG[key] == version) ?\n",
       "        Promise.resolve(paths[lib]) :\n",
       "        new Promise(function(resolve, reject) {\n",
       "          var s = document.createElement('script');\n",
       "          document.getElementsByTagName(\"head\")[0].appendChild(s);\n",
       "          s.async = true;\n",
       "          s.onload = () => {\n",
       "            VEGA_DEBUG[key] = version;\n",
       "            return resolve(paths[lib]);\n",
       "          };\n",
       "          s.onerror = () => reject(`Error loading script: ${paths[lib]}`);\n",
       "          s.src = paths[lib];\n",
       "        });\n",
       "    }\n",
       "\n",
       "    function showError(err) {\n",
       "      outputDiv.innerHTML = `<div class=\"error\" style=\"color:red;\">${err}</div>`;\n",
       "      throw err;\n",
       "    }\n",
       "\n",
       "    function displayChart(vegaEmbed) {\n",
       "      vegaEmbed(outputDiv, spec, embedOpt)\n",
       "        .catch(err => showError(`Javascript Error: ${err.message}<br>This usually means there's a typo in your chart specification. See the javascript console for the full traceback.`));\n",
       "    }\n",
       "\n",
       "    if(typeof define === \"function\" && define.amd) {\n",
       "      requirejs.config({paths});\n",
       "      require([\"vega-embed\"], displayChart, err => showError(`Error loading script: ${err.message}`));\n",
       "    } else {\n",
       "      maybeLoadScript(\"vega\", \"5\")\n",
       "        .then(() => maybeLoadScript(\"vega-lite\", \"4.17.0\"))\n",
       "        .then(() => maybeLoadScript(\"vega-embed\", \"6\"))\n",
       "        .catch(showError)\n",
       "        .then(() => displayChart(vegaEmbed));\n",
       "    }\n",
       "  })({\"config\": {\"view\": {\"continuousWidth\": 400, \"continuousHeight\": 300}}, \"layer\": [{\"mark\": {\"type\": \"bar\", \"stroke\": \"black\"}, \"encoding\": {\"color\": {\"field\": \"parental_education\", \"legend\": null, \"type\": \"nominal\"}, \"tooltip\": [{\"field\": \"parental_education\", \"title\": \"Parental Level of Lducation\", \"type\": \"nominal\"}, {\"field\": \"writing\", \"format\": \".4s\", \"title\": \"Writing Score\", \"type\": \"ordinal\"}], \"x\": {\"axis\": {\"labelAngle\": 325, \"labelColor\": \"#343a40\", \"labelFont\": \"Arial\", \"labelFontSize\": 11}, \"field\": \"parental_education\", \"title\": \"\", \"type\": \"ordinal\"}, \"y\": {\"axis\": {\"grid\": false}, \"field\": \"writing\", \"title\": \"Writing\", \"type\": \"quantitative\"}}}, {\"mark\": {\"type\": \"text\", \"dy\": -10, \"fill\": \"black\", \"size\": 14}, \"encoding\": {\"color\": {\"field\": \"parental_education\", \"legend\": null, \"type\": \"nominal\"}, \"text\": {\"field\": \"writing\", \"format\": \".3s\", \"type\": \"quantitative\"}, \"tooltip\": [{\"field\": \"parental_education\", \"title\": \"Parental Level of Lducation\", \"type\": \"nominal\"}, {\"field\": \"writing\", \"format\": \".4s\", \"title\": \"Writing Score\", \"type\": \"ordinal\"}], \"x\": {\"axis\": {\"labelAngle\": 325, \"labelColor\": \"#343a40\", \"labelFont\": \"Arial\", \"labelFontSize\": 11}, \"field\": \"parental_education\", \"title\": \"\", \"type\": \"ordinal\"}, \"y\": {\"axis\": {\"grid\": false}, \"field\": \"writing\", \"title\": \"Writing\", \"type\": \"quantitative\"}}}], \"data\": {\"name\": \"data-0b6561cd210bebf018ee14290c47c379\"}, \"width\": 300, \"$schema\": \"https://vega.github.io/schema/vega-lite/v4.17.0.json\", \"datasets\": {\"data-0b6561cd210bebf018ee14290c47c379\": [{\"parental_education\": \"associate's degree\", \"writing\": 69.8963963963964}, {\"parental_education\": \"bachelor's degree\", \"writing\": 73.38135593220339}, {\"parental_education\": \"high school\", \"writing\": 62.44897959183673}, {\"parental_education\": \"master's degree\", \"writing\": 75.67796610169492}, {\"parental_education\": \"some college\", \"writing\": 68.84070796460178}, {\"parental_education\": \"some high school\", \"writing\": 64.88826815642459}]}}, {\"mode\": \"vega-lite\"});\n",
       "</script>"
      ],
      "text/plain": [
       "alt.LayerChart(...)"
      ]
     },
     "execution_count": 20,
     "metadata": {},
     "output_type": "execute_result"
    }
   ],
   "source": [
    " bars = alt.Chart(pEducation_writing).mark_bar(stroke = \"black\").encode(\n",
    "    x= alt.X(\"parental_education:O\", \n",
    "        title=\"\",\n",
    "        axis = alt.Axis(labelAngle=325, labelFontSize=11, labelColor= \"#343a40\", labelFont=\"Arial\") ),    \n",
    "    tooltip = [alt.Tooltip('parental_education', title = 'Parental Level of Lducation' ), alt.Tooltip ('writing:O',title = 'Writing Score', format = \".4s\" )],\n",
    "    color=alt.Color(field=\"parental_education\", type=\"nominal\",legend=None ),\n",
    "    y= alt.Y(\"writing:Q\", \n",
    "        title = \"Writing\", \n",
    "        axis = alt.Axis( grid = False, )),\n",
    " )\n",
    "\n",
    "text = bars.mark_text(\n",
    "    dy=-10,\n",
    "    size=14,\n",
    "    fill = \"black\",\n",
    ").encode(text= alt.Text('writing:Q', format = \".3s\"))\n",
    "\n",
    "pe_writing = (bars + text).properties(\n",
    "    width = 300,\n",
    ")\n",
    "pe_writing"
   ]
  },
  {
   "cell_type": "code",
   "execution_count": 21,
   "metadata": {
    "execution": {
     "iopub.execute_input": "2022-03-04T21:25:00.574137Z",
     "iopub.status.busy": "2022-03-04T21:25:00.573174Z",
     "iopub.status.idle": "2022-03-04T21:25:00.773847Z",
     "shell.execute_reply": "2022-03-04T21:25:00.772692Z",
     "shell.execute_reply.started": "2022-03-04T21:25:00.574094Z"
    }
   },
   "outputs": [
    {
     "data": {
      "text/html": [
       "\n",
       "<div id=\"altair-viz-9df6c91baf0e4d69accc3ab1cffd4e77\"></div>\n",
       "<script type=\"text/javascript\">\n",
       "  var VEGA_DEBUG = (typeof VEGA_DEBUG == \"undefined\") ? {} : VEGA_DEBUG;\n",
       "  (function(spec, embedOpt){\n",
       "    let outputDiv = document.currentScript.previousElementSibling;\n",
       "    if (outputDiv.id !== \"altair-viz-9df6c91baf0e4d69accc3ab1cffd4e77\") {\n",
       "      outputDiv = document.getElementById(\"altair-viz-9df6c91baf0e4d69accc3ab1cffd4e77\");\n",
       "    }\n",
       "    const paths = {\n",
       "      \"vega\": \"https://cdn.jsdelivr.net/npm//vega@5?noext\",\n",
       "      \"vega-lib\": \"https://cdn.jsdelivr.net/npm//vega-lib?noext\",\n",
       "      \"vega-lite\": \"https://cdn.jsdelivr.net/npm//vega-lite@4.17.0?noext\",\n",
       "      \"vega-embed\": \"https://cdn.jsdelivr.net/npm//vega-embed@6?noext\",\n",
       "    };\n",
       "\n",
       "    function maybeLoadScript(lib, version) {\n",
       "      var key = `${lib.replace(\"-\", \"\")}_version`;\n",
       "      return (VEGA_DEBUG[key] == version) ?\n",
       "        Promise.resolve(paths[lib]) :\n",
       "        new Promise(function(resolve, reject) {\n",
       "          var s = document.createElement('script');\n",
       "          document.getElementsByTagName(\"head\")[0].appendChild(s);\n",
       "          s.async = true;\n",
       "          s.onload = () => {\n",
       "            VEGA_DEBUG[key] = version;\n",
       "            return resolve(paths[lib]);\n",
       "          };\n",
       "          s.onerror = () => reject(`Error loading script: ${paths[lib]}`);\n",
       "          s.src = paths[lib];\n",
       "        });\n",
       "    }\n",
       "\n",
       "    function showError(err) {\n",
       "      outputDiv.innerHTML = `<div class=\"error\" style=\"color:red;\">${err}</div>`;\n",
       "      throw err;\n",
       "    }\n",
       "\n",
       "    function displayChart(vegaEmbed) {\n",
       "      vegaEmbed(outputDiv, spec, embedOpt)\n",
       "        .catch(err => showError(`Javascript Error: ${err.message}<br>This usually means there's a typo in your chart specification. See the javascript console for the full traceback.`));\n",
       "    }\n",
       "\n",
       "    if(typeof define === \"function\" && define.amd) {\n",
       "      requirejs.config({paths});\n",
       "      require([\"vega-embed\"], displayChart, err => showError(`Error loading script: ${err.message}`));\n",
       "    } else {\n",
       "      maybeLoadScript(\"vega\", \"5\")\n",
       "        .then(() => maybeLoadScript(\"vega-lite\", \"4.17.0\"))\n",
       "        .then(() => maybeLoadScript(\"vega-embed\", \"6\"))\n",
       "        .catch(showError)\n",
       "        .then(() => displayChart(vegaEmbed));\n",
       "    }\n",
       "  })({\"config\": {\"view\": {\"continuousWidth\": 400, \"continuousHeight\": 300, \"strokeWidth\": 0}, \"title\": {\"anchor\": \"middle\", \"font\": \"Arial\", \"fontSize\": 18}}, \"hconcat\": [{\"layer\": [{\"mark\": {\"type\": \"bar\", \"stroke\": \"black\"}, \"encoding\": {\"color\": {\"field\": \"parental_education\", \"legend\": null, \"type\": \"nominal\"}, \"tooltip\": [{\"field\": \"parental_education\", \"title\": \"Parental Level of Lducation\", \"type\": \"nominal\"}, {\"field\": \"math\", \"format\": \".4s\", \"title\": \"Math Score\", \"type\": \"ordinal\"}], \"x\": {\"axis\": {\"labelAngle\": 325, \"labelColor\": \"#343a40\", \"labelFont\": \"Arial\", \"labelFontSize\": 11}, \"field\": \"parental_education\", \"title\": \"\", \"type\": \"ordinal\"}, \"y\": {\"axis\": {\"grid\": false}, \"field\": \"math\", \"title\": \"Math\", \"type\": \"quantitative\"}}}, {\"mark\": {\"type\": \"text\", \"dy\": -10, \"fill\": \"black\", \"size\": 14}, \"encoding\": {\"color\": {\"field\": \"parental_education\", \"legend\": null, \"type\": \"nominal\"}, \"text\": {\"field\": \"math\", \"format\": \".3s\", \"type\": \"quantitative\"}, \"tooltip\": [{\"field\": \"parental_education\", \"title\": \"Parental Level of Lducation\", \"type\": \"nominal\"}, {\"field\": \"math\", \"format\": \".4s\", \"title\": \"Math Score\", \"type\": \"ordinal\"}], \"x\": {\"axis\": {\"labelAngle\": 325, \"labelColor\": \"#343a40\", \"labelFont\": \"Arial\", \"labelFontSize\": 11}, \"field\": \"parental_education\", \"title\": \"\", \"type\": \"ordinal\"}, \"y\": {\"axis\": {\"grid\": false}, \"field\": \"math\", \"title\": \"Math\", \"type\": \"quantitative\"}}}], \"data\": {\"name\": \"data-74b35b420de1fbe3868cd16c9f38c6ce\"}, \"width\": 300}, {\"layer\": [{\"mark\": {\"type\": \"bar\", \"stroke\": \"black\"}, \"encoding\": {\"color\": {\"field\": \"parental_education\", \"legend\": null, \"type\": \"nominal\"}, \"tooltip\": [{\"field\": \"parental_education\", \"title\": \"Parental Level of Lducation\", \"type\": \"nominal\"}, {\"field\": \"reading\", \"format\": \".4s\", \"title\": \"Reading Score\", \"type\": \"ordinal\"}], \"x\": {\"axis\": {\"labelAngle\": 325, \"labelColor\": \"#343a40\", \"labelFont\": \"Arial\", \"labelFontSize\": 11}, \"field\": \"parental_education\", \"title\": \"\", \"type\": \"ordinal\"}, \"y\": {\"axis\": {\"grid\": false}, \"field\": \"reading\", \"title\": \"Reading\", \"type\": \"quantitative\"}}}, {\"mark\": {\"type\": \"text\", \"dy\": -10, \"fill\": \"black\", \"size\": 14}, \"encoding\": {\"color\": {\"field\": \"parental_education\", \"legend\": null, \"type\": \"nominal\"}, \"text\": {\"field\": \"reading\", \"format\": \".3s\", \"type\": \"quantitative\"}, \"tooltip\": [{\"field\": \"parental_education\", \"title\": \"Parental Level of Lducation\", \"type\": \"nominal\"}, {\"field\": \"reading\", \"format\": \".4s\", \"title\": \"Reading Score\", \"type\": \"ordinal\"}], \"x\": {\"axis\": {\"labelAngle\": 325, \"labelColor\": \"#343a40\", \"labelFont\": \"Arial\", \"labelFontSize\": 11}, \"field\": \"parental_education\", \"title\": \"\", \"type\": \"ordinal\"}, \"y\": {\"axis\": {\"grid\": false}, \"field\": \"reading\", \"title\": \"Reading\", \"type\": \"quantitative\"}}}], \"data\": {\"name\": \"data-597cfeed2d04287cd8e0d64cc97c04c4\"}, \"width\": 300}, {\"layer\": [{\"mark\": {\"type\": \"bar\", \"stroke\": \"black\"}, \"encoding\": {\"color\": {\"field\": \"parental_education\", \"legend\": null, \"type\": \"nominal\"}, \"tooltip\": [{\"field\": \"parental_education\", \"title\": \"Parental Level of Lducation\", \"type\": \"nominal\"}, {\"field\": \"writing\", \"format\": \".4s\", \"title\": \"Writing Score\", \"type\": \"ordinal\"}], \"x\": {\"axis\": {\"labelAngle\": 325, \"labelColor\": \"#343a40\", \"labelFont\": \"Arial\", \"labelFontSize\": 11}, \"field\": \"parental_education\", \"title\": \"\", \"type\": \"ordinal\"}, \"y\": {\"axis\": {\"grid\": false}, \"field\": \"writing\", \"title\": \"Writing\", \"type\": \"quantitative\"}}}, {\"mark\": {\"type\": \"text\", \"dy\": -10, \"fill\": \"black\", \"size\": 14}, \"encoding\": {\"color\": {\"field\": \"parental_education\", \"legend\": null, \"type\": \"nominal\"}, \"text\": {\"field\": \"writing\", \"format\": \".3s\", \"type\": \"quantitative\"}, \"tooltip\": [{\"field\": \"parental_education\", \"title\": \"Parental Level of Lducation\", \"type\": \"nominal\"}, {\"field\": \"writing\", \"format\": \".4s\", \"title\": \"Writing Score\", \"type\": \"ordinal\"}], \"x\": {\"axis\": {\"labelAngle\": 325, \"labelColor\": \"#343a40\", \"labelFont\": \"Arial\", \"labelFontSize\": 11}, \"field\": \"parental_education\", \"title\": \"\", \"type\": \"ordinal\"}, \"y\": {\"axis\": {\"grid\": false}, \"field\": \"writing\", \"title\": \"Writing\", \"type\": \"quantitative\"}}}], \"data\": {\"name\": \"data-0b6561cd210bebf018ee14290c47c379\"}, \"width\": 300}], \"title\": \"Performance according to the Parents' Level of Education\", \"$schema\": \"https://vega.github.io/schema/vega-lite/v4.17.0.json\", \"datasets\": {\"data-74b35b420de1fbe3868cd16c9f38c6ce\": [{\"parental_education\": \"associate's degree\", \"math\": 67.88288288288288}, {\"parental_education\": \"bachelor's degree\", \"math\": 69.38983050847457}, {\"parental_education\": \"high school\", \"math\": 62.13775510204081}, {\"parental_education\": \"master's degree\", \"math\": 69.7457627118644}, {\"parental_education\": \"some college\", \"math\": 67.1283185840708}, {\"parental_education\": \"some high school\", \"math\": 63.497206703910614}], \"data-597cfeed2d04287cd8e0d64cc97c04c4\": [{\"parental_education\": \"associate's degree\", \"reading\": 70.92792792792793}, {\"parental_education\": \"bachelor's degree\", \"reading\": 73.0}, {\"parental_education\": \"high school\", \"reading\": 64.70408163265306}, {\"parental_education\": \"master's degree\", \"reading\": 75.37288135593221}, {\"parental_education\": \"some college\", \"reading\": 69.46017699115045}, {\"parental_education\": \"some high school\", \"reading\": 66.93854748603351}], \"data-0b6561cd210bebf018ee14290c47c379\": [{\"parental_education\": \"associate's degree\", \"writing\": 69.8963963963964}, {\"parental_education\": \"bachelor's degree\", \"writing\": 73.38135593220339}, {\"parental_education\": \"high school\", \"writing\": 62.44897959183673}, {\"parental_education\": \"master's degree\", \"writing\": 75.67796610169492}, {\"parental_education\": \"some college\", \"writing\": 68.84070796460178}, {\"parental_education\": \"some high school\", \"writing\": 64.88826815642459}]}}, {\"mode\": \"vega-lite\"});\n",
       "</script>"
      ],
      "text/plain": [
       "alt.HConcatChart(...)"
      ]
     },
     "execution_count": 21,
     "metadata": {},
     "output_type": "execute_result"
    }
   ],
   "source": [
    "alt.hconcat(pe_math, pe_reading, pe_writing ).properties(\n",
    "    title = \"Performance according to the Parents' Level of Education\", #performance - parental level of education \n",
    ").configure_title(\n",
    "    fontSize = 18,\n",
    "    font = \"Arial\",\n",
    "    anchor = \"middle\"\n",
    ").configure_view(\n",
    "    strokeWidth = 0,\n",
    ")"
   ]
  },
  {
   "cell_type": "code",
   "execution_count": 22,
   "metadata": {
    "execution": {
     "iopub.execute_input": "2022-03-04T21:29:53.285965Z",
     "iopub.status.busy": "2022-03-04T21:29:53.285408Z",
     "iopub.status.idle": "2022-03-04T21:29:53.297904Z",
     "shell.execute_reply": "2022-03-04T21:29:53.297Z",
     "shell.execute_reply.started": "2022-03-04T21:29:53.28588Z"
    }
   },
   "outputs": [],
   "source": [
    "lunch_math = data.groupby('lunch')['math'].mean().to_frame().reset_index()# promedio de cada asignatura segun su almuerzo\n",
    "lunch_reading = data.groupby('lunch')['reading'].mean().to_frame().reset_index()\n",
    "lunch_writing = data.groupby('lunch')['writing'].mean().to_frame().reset_index()"
   ]
  },
  {
   "cell_type": "code",
   "execution_count": 23,
   "metadata": {
    "execution": {
     "iopub.execute_input": "2022-03-04T21:29:55.234978Z",
     "iopub.status.busy": "2022-03-04T21:29:55.234527Z",
     "iopub.status.idle": "2022-03-04T21:29:55.383217Z",
     "shell.execute_reply": "2022-03-04T21:29:55.382563Z",
     "shell.execute_reply.started": "2022-03-04T21:29:55.234914Z"
    }
   },
   "outputs": [
    {
     "data": {
      "text/html": [
       "\n",
       "<div id=\"altair-viz-9cbb8fd3e6cd4e19b33a16af1d6a5d21\"></div>\n",
       "<script type=\"text/javascript\">\n",
       "  var VEGA_DEBUG = (typeof VEGA_DEBUG == \"undefined\") ? {} : VEGA_DEBUG;\n",
       "  (function(spec, embedOpt){\n",
       "    let outputDiv = document.currentScript.previousElementSibling;\n",
       "    if (outputDiv.id !== \"altair-viz-9cbb8fd3e6cd4e19b33a16af1d6a5d21\") {\n",
       "      outputDiv = document.getElementById(\"altair-viz-9cbb8fd3e6cd4e19b33a16af1d6a5d21\");\n",
       "    }\n",
       "    const paths = {\n",
       "      \"vega\": \"https://cdn.jsdelivr.net/npm//vega@5?noext\",\n",
       "      \"vega-lib\": \"https://cdn.jsdelivr.net/npm//vega-lib?noext\",\n",
       "      \"vega-lite\": \"https://cdn.jsdelivr.net/npm//vega-lite@4.17.0?noext\",\n",
       "      \"vega-embed\": \"https://cdn.jsdelivr.net/npm//vega-embed@6?noext\",\n",
       "    };\n",
       "\n",
       "    function maybeLoadScript(lib, version) {\n",
       "      var key = `${lib.replace(\"-\", \"\")}_version`;\n",
       "      return (VEGA_DEBUG[key] == version) ?\n",
       "        Promise.resolve(paths[lib]) :\n",
       "        new Promise(function(resolve, reject) {\n",
       "          var s = document.createElement('script');\n",
       "          document.getElementsByTagName(\"head\")[0].appendChild(s);\n",
       "          s.async = true;\n",
       "          s.onload = () => {\n",
       "            VEGA_DEBUG[key] = version;\n",
       "            return resolve(paths[lib]);\n",
       "          };\n",
       "          s.onerror = () => reject(`Error loading script: ${paths[lib]}`);\n",
       "          s.src = paths[lib];\n",
       "        });\n",
       "    }\n",
       "\n",
       "    function showError(err) {\n",
       "      outputDiv.innerHTML = `<div class=\"error\" style=\"color:red;\">${err}</div>`;\n",
       "      throw err;\n",
       "    }\n",
       "\n",
       "    function displayChart(vegaEmbed) {\n",
       "      vegaEmbed(outputDiv, spec, embedOpt)\n",
       "        .catch(err => showError(`Javascript Error: ${err.message}<br>This usually means there's a typo in your chart specification. See the javascript console for the full traceback.`));\n",
       "    }\n",
       "\n",
       "    if(typeof define === \"function\" && define.amd) {\n",
       "      requirejs.config({paths});\n",
       "      require([\"vega-embed\"], displayChart, err => showError(`Error loading script: ${err.message}`));\n",
       "    } else {\n",
       "      maybeLoadScript(\"vega\", \"5\")\n",
       "        .then(() => maybeLoadScript(\"vega-lite\", \"4.17.0\"))\n",
       "        .then(() => maybeLoadScript(\"vega-embed\", \"6\"))\n",
       "        .catch(showError)\n",
       "        .then(() => displayChart(vegaEmbed));\n",
       "    }\n",
       "  })({\"config\": {\"view\": {\"continuousWidth\": 400, \"continuousHeight\": 300}}, \"layer\": [{\"mark\": {\"type\": \"bar\", \"stroke\": \"black\"}, \"encoding\": {\"color\": {\"field\": \"lunch\", \"legend\": null, \"type\": \"nominal\"}, \"tooltip\": [{\"field\": \"lunch\", \"title\": \"Lunch\", \"type\": \"nominal\"}, {\"field\": \"math\", \"format\": \".4s\", \"title\": \"Math Score\", \"type\": \"ordinal\"}], \"x\": {\"axis\": {\"labelAngle\": 0, \"labelColor\": \"#343a40\", \"labelFont\": \"Arial\", \"labelFontSize\": 14}, \"field\": \"lunch\", \"title\": \"\", \"type\": \"ordinal\"}, \"y\": {\"axis\": {\"grid\": false}, \"field\": \"math\", \"title\": \"Math\", \"type\": \"quantitative\"}}}, {\"mark\": {\"type\": \"text\", \"dy\": -10, \"fill\": \"black\", \"size\": 14}, \"encoding\": {\"color\": {\"field\": \"lunch\", \"legend\": null, \"type\": \"nominal\"}, \"text\": {\"field\": \"math\", \"format\": \".3s\", \"type\": \"quantitative\"}, \"tooltip\": [{\"field\": \"lunch\", \"title\": \"Lunch\", \"type\": \"nominal\"}, {\"field\": \"math\", \"format\": \".4s\", \"title\": \"Math Score\", \"type\": \"ordinal\"}], \"x\": {\"axis\": {\"labelAngle\": 0, \"labelColor\": \"#343a40\", \"labelFont\": \"Arial\", \"labelFontSize\": 14}, \"field\": \"lunch\", \"title\": \"\", \"type\": \"ordinal\"}, \"y\": {\"axis\": {\"grid\": false}, \"field\": \"math\", \"title\": \"Math\", \"type\": \"quantitative\"}}}], \"data\": {\"name\": \"data-abcecd3d87e87831e8be9095c3def814\"}, \"width\": 300, \"$schema\": \"https://vega.github.io/schema/vega-lite/v4.17.0.json\", \"datasets\": {\"data-abcecd3d87e87831e8be9095c3def814\": [{\"lunch\": \"free/reduced\", \"math\": 58.92112676056338}, {\"lunch\": \"standard\", \"math\": 70.03410852713178}]}}, {\"mode\": \"vega-lite\"});\n",
       "</script>"
      ],
      "text/plain": [
       "alt.LayerChart(...)"
      ]
     },
     "execution_count": 23,
     "metadata": {},
     "output_type": "execute_result"
    }
   ],
   "source": [
    " bars = alt.Chart(lunch_math).mark_bar(stroke = \"black\").encode(\n",
    "    x= alt.X(\"lunch:O\", \n",
    "        title=\"\",\n",
    "        axis = alt.Axis(labelAngle=0, labelFontSize=14, labelColor= \"#343a40\", labelFont=\"Arial\") ),    \n",
    "    tooltip = [alt.Tooltip('lunch', title = 'Lunch' ), alt.Tooltip ('math:O',title = 'Math Score', format = \".4s\" )],\n",
    "    color=alt.Color(field=\"lunch\", type=\"nominal\",legend=None ),\n",
    "    y= alt.Y(\"math:Q\", \n",
    "        title = \"Math\", \n",
    "        axis = alt.Axis( grid = False, )),\n",
    " )\n",
    "\n",
    "text = bars.mark_text(\n",
    "    dy=-10,\n",
    "    size=14,\n",
    "    fill = \"black\",\n",
    ").encode(text= alt.Text('math:Q', format = \".3s\"))\n",
    "\n",
    "l_math = (bars + text).properties(\n",
    "    width = 300,\n",
    ")\n",
    "l_math"
   ]
  },
  {
   "cell_type": "code",
   "execution_count": 24,
   "metadata": {
    "execution": {
     "iopub.execute_input": "2022-03-04T21:30:35.148167Z",
     "iopub.status.busy": "2022-03-04T21:30:35.14765Z",
     "iopub.status.idle": "2022-03-04T21:30:35.30065Z",
     "shell.execute_reply": "2022-03-04T21:30:35.299945Z",
     "shell.execute_reply.started": "2022-03-04T21:30:35.148114Z"
    }
   },
   "outputs": [
    {
     "data": {
      "text/html": [
       "\n",
       "<div id=\"altair-viz-ae29a8912741407e80978f30fc378646\"></div>\n",
       "<script type=\"text/javascript\">\n",
       "  var VEGA_DEBUG = (typeof VEGA_DEBUG == \"undefined\") ? {} : VEGA_DEBUG;\n",
       "  (function(spec, embedOpt){\n",
       "    let outputDiv = document.currentScript.previousElementSibling;\n",
       "    if (outputDiv.id !== \"altair-viz-ae29a8912741407e80978f30fc378646\") {\n",
       "      outputDiv = document.getElementById(\"altair-viz-ae29a8912741407e80978f30fc378646\");\n",
       "    }\n",
       "    const paths = {\n",
       "      \"vega\": \"https://cdn.jsdelivr.net/npm//vega@5?noext\",\n",
       "      \"vega-lib\": \"https://cdn.jsdelivr.net/npm//vega-lib?noext\",\n",
       "      \"vega-lite\": \"https://cdn.jsdelivr.net/npm//vega-lite@4.17.0?noext\",\n",
       "      \"vega-embed\": \"https://cdn.jsdelivr.net/npm//vega-embed@6?noext\",\n",
       "    };\n",
       "\n",
       "    function maybeLoadScript(lib, version) {\n",
       "      var key = `${lib.replace(\"-\", \"\")}_version`;\n",
       "      return (VEGA_DEBUG[key] == version) ?\n",
       "        Promise.resolve(paths[lib]) :\n",
       "        new Promise(function(resolve, reject) {\n",
       "          var s = document.createElement('script');\n",
       "          document.getElementsByTagName(\"head\")[0].appendChild(s);\n",
       "          s.async = true;\n",
       "          s.onload = () => {\n",
       "            VEGA_DEBUG[key] = version;\n",
       "            return resolve(paths[lib]);\n",
       "          };\n",
       "          s.onerror = () => reject(`Error loading script: ${paths[lib]}`);\n",
       "          s.src = paths[lib];\n",
       "        });\n",
       "    }\n",
       "\n",
       "    function showError(err) {\n",
       "      outputDiv.innerHTML = `<div class=\"error\" style=\"color:red;\">${err}</div>`;\n",
       "      throw err;\n",
       "    }\n",
       "\n",
       "    function displayChart(vegaEmbed) {\n",
       "      vegaEmbed(outputDiv, spec, embedOpt)\n",
       "        .catch(err => showError(`Javascript Error: ${err.message}<br>This usually means there's a typo in your chart specification. See the javascript console for the full traceback.`));\n",
       "    }\n",
       "\n",
       "    if(typeof define === \"function\" && define.amd) {\n",
       "      requirejs.config({paths});\n",
       "      require([\"vega-embed\"], displayChart, err => showError(`Error loading script: ${err.message}`));\n",
       "    } else {\n",
       "      maybeLoadScript(\"vega\", \"5\")\n",
       "        .then(() => maybeLoadScript(\"vega-lite\", \"4.17.0\"))\n",
       "        .then(() => maybeLoadScript(\"vega-embed\", \"6\"))\n",
       "        .catch(showError)\n",
       "        .then(() => displayChart(vegaEmbed));\n",
       "    }\n",
       "  })({\"config\": {\"view\": {\"continuousWidth\": 400, \"continuousHeight\": 300}}, \"layer\": [{\"mark\": {\"type\": \"bar\", \"stroke\": \"black\"}, \"encoding\": {\"color\": {\"field\": \"lunch\", \"legend\": null, \"type\": \"nominal\"}, \"tooltip\": [{\"field\": \"lunch\", \"title\": \"Lunch\", \"type\": \"nominal\"}, {\"field\": \"reading\", \"format\": \".4s\", \"title\": \"Reading Score\", \"type\": \"ordinal\"}], \"x\": {\"axis\": {\"labelAngle\": 0, \"labelColor\": \"#343a40\", \"labelFont\": \"Arial\", \"labelFontSize\": 14}, \"field\": \"lunch\", \"title\": \"\", \"type\": \"ordinal\"}, \"y\": {\"axis\": {\"grid\": false}, \"field\": \"reading\", \"title\": \"Reading\", \"type\": \"quantitative\"}}}, {\"mark\": {\"type\": \"text\", \"dy\": -10, \"fill\": \"black\", \"size\": 14}, \"encoding\": {\"color\": {\"field\": \"lunch\", \"legend\": null, \"type\": \"nominal\"}, \"text\": {\"field\": \"reading\", \"format\": \".3s\", \"type\": \"quantitative\"}, \"tooltip\": [{\"field\": \"lunch\", \"title\": \"Lunch\", \"type\": \"nominal\"}, {\"field\": \"reading\", \"format\": \".4s\", \"title\": \"Reading Score\", \"type\": \"ordinal\"}], \"x\": {\"axis\": {\"labelAngle\": 0, \"labelColor\": \"#343a40\", \"labelFont\": \"Arial\", \"labelFontSize\": 14}, \"field\": \"lunch\", \"title\": \"\", \"type\": \"ordinal\"}, \"y\": {\"axis\": {\"grid\": false}, \"field\": \"reading\", \"title\": \"Reading\", \"type\": \"quantitative\"}}}], \"data\": {\"name\": \"data-58b2b3b949dc85604e4389f46a2118f9\"}, \"width\": 300, \"$schema\": \"https://vega.github.io/schema/vega-lite/v4.17.0.json\", \"datasets\": {\"data-58b2b3b949dc85604e4389f46a2118f9\": [{\"lunch\": \"free/reduced\", \"reading\": 64.65352112676057}, {\"lunch\": \"standard\", \"reading\": 71.65426356589147}]}}, {\"mode\": \"vega-lite\"});\n",
       "</script>"
      ],
      "text/plain": [
       "alt.LayerChart(...)"
      ]
     },
     "execution_count": 24,
     "metadata": {},
     "output_type": "execute_result"
    }
   ],
   "source": [
    " bars = alt.Chart(lunch_reading).mark_bar(stroke = \"black\").encode(\n",
    "    x= alt.X(\"lunch:O\", \n",
    "        title=\"\",\n",
    "        axis = alt.Axis(labelAngle=0, labelFontSize=14, labelColor= \"#343a40\", labelFont=\"Arial\") ),    \n",
    "    tooltip = [alt.Tooltip('lunch', title = 'Lunch' ), alt.Tooltip ('reading:O',title = 'Reading Score', format = \".4s\" )],\n",
    "    color=alt.Color(field=\"lunch\", type=\"nominal\",legend=None ),\n",
    "    y= alt.Y(\"reading:Q\", \n",
    "        title = \"Reading\", \n",
    "        axis = alt.Axis( grid = False, )),\n",
    " )\n",
    "\n",
    "text = bars.mark_text(\n",
    "    dy=-10,\n",
    "    size=14,\n",
    "    fill = \"black\",\n",
    ").encode(text= alt.Text('reading:Q', format = \".3s\"))\n",
    "\n",
    "l_reading = (bars + text).properties(\n",
    "    width = 300,\n",
    ")\n",
    "l_reading"
   ]
  },
  {
   "cell_type": "code",
   "execution_count": 25,
   "metadata": {
    "execution": {
     "iopub.execute_input": "2022-03-04T21:30:53.432932Z",
     "iopub.status.busy": "2022-03-04T21:30:53.432339Z",
     "iopub.status.idle": "2022-03-04T21:30:53.582459Z",
     "shell.execute_reply": "2022-03-04T21:30:53.581648Z",
     "shell.execute_reply.started": "2022-03-04T21:30:53.432895Z"
    }
   },
   "outputs": [
    {
     "data": {
      "text/html": [
       "\n",
       "<div id=\"altair-viz-2769609bd78644abba7ba24f7a734d89\"></div>\n",
       "<script type=\"text/javascript\">\n",
       "  var VEGA_DEBUG = (typeof VEGA_DEBUG == \"undefined\") ? {} : VEGA_DEBUG;\n",
       "  (function(spec, embedOpt){\n",
       "    let outputDiv = document.currentScript.previousElementSibling;\n",
       "    if (outputDiv.id !== \"altair-viz-2769609bd78644abba7ba24f7a734d89\") {\n",
       "      outputDiv = document.getElementById(\"altair-viz-2769609bd78644abba7ba24f7a734d89\");\n",
       "    }\n",
       "    const paths = {\n",
       "      \"vega\": \"https://cdn.jsdelivr.net/npm//vega@5?noext\",\n",
       "      \"vega-lib\": \"https://cdn.jsdelivr.net/npm//vega-lib?noext\",\n",
       "      \"vega-lite\": \"https://cdn.jsdelivr.net/npm//vega-lite@4.17.0?noext\",\n",
       "      \"vega-embed\": \"https://cdn.jsdelivr.net/npm//vega-embed@6?noext\",\n",
       "    };\n",
       "\n",
       "    function maybeLoadScript(lib, version) {\n",
       "      var key = `${lib.replace(\"-\", \"\")}_version`;\n",
       "      return (VEGA_DEBUG[key] == version) ?\n",
       "        Promise.resolve(paths[lib]) :\n",
       "        new Promise(function(resolve, reject) {\n",
       "          var s = document.createElement('script');\n",
       "          document.getElementsByTagName(\"head\")[0].appendChild(s);\n",
       "          s.async = true;\n",
       "          s.onload = () => {\n",
       "            VEGA_DEBUG[key] = version;\n",
       "            return resolve(paths[lib]);\n",
       "          };\n",
       "          s.onerror = () => reject(`Error loading script: ${paths[lib]}`);\n",
       "          s.src = paths[lib];\n",
       "        });\n",
       "    }\n",
       "\n",
       "    function showError(err) {\n",
       "      outputDiv.innerHTML = `<div class=\"error\" style=\"color:red;\">${err}</div>`;\n",
       "      throw err;\n",
       "    }\n",
       "\n",
       "    function displayChart(vegaEmbed) {\n",
       "      vegaEmbed(outputDiv, spec, embedOpt)\n",
       "        .catch(err => showError(`Javascript Error: ${err.message}<br>This usually means there's a typo in your chart specification. See the javascript console for the full traceback.`));\n",
       "    }\n",
       "\n",
       "    if(typeof define === \"function\" && define.amd) {\n",
       "      requirejs.config({paths});\n",
       "      require([\"vega-embed\"], displayChart, err => showError(`Error loading script: ${err.message}`));\n",
       "    } else {\n",
       "      maybeLoadScript(\"vega\", \"5\")\n",
       "        .then(() => maybeLoadScript(\"vega-lite\", \"4.17.0\"))\n",
       "        .then(() => maybeLoadScript(\"vega-embed\", \"6\"))\n",
       "        .catch(showError)\n",
       "        .then(() => displayChart(vegaEmbed));\n",
       "    }\n",
       "  })({\"config\": {\"view\": {\"continuousWidth\": 400, \"continuousHeight\": 300}}, \"layer\": [{\"mark\": {\"type\": \"bar\", \"stroke\": \"black\"}, \"encoding\": {\"color\": {\"field\": \"lunch\", \"legend\": null, \"type\": \"nominal\"}, \"tooltip\": [{\"field\": \"lunch\", \"title\": \"Lunch\", \"type\": \"nominal\"}, {\"field\": \"writing\", \"format\": \".4s\", \"title\": \"Writing Score\", \"type\": \"ordinal\"}], \"x\": {\"axis\": {\"labelAngle\": 0, \"labelColor\": \"#343a40\", \"labelFont\": \"Arial\", \"labelFontSize\": 14}, \"field\": \"lunch\", \"title\": \"\", \"type\": \"ordinal\"}, \"y\": {\"axis\": {\"grid\": false}, \"field\": \"writing\", \"title\": \"Writing\", \"type\": \"quantitative\"}}}, {\"mark\": {\"type\": \"text\", \"dy\": -10, \"fill\": \"black\", \"size\": 14}, \"encoding\": {\"color\": {\"field\": \"lunch\", \"legend\": null, \"type\": \"nominal\"}, \"text\": {\"field\": \"writing\", \"format\": \".3s\", \"type\": \"quantitative\"}, \"tooltip\": [{\"field\": \"lunch\", \"title\": \"Lunch\", \"type\": \"nominal\"}, {\"field\": \"writing\", \"format\": \".4s\", \"title\": \"Writing Score\", \"type\": \"ordinal\"}], \"x\": {\"axis\": {\"labelAngle\": 0, \"labelColor\": \"#343a40\", \"labelFont\": \"Arial\", \"labelFontSize\": 14}, \"field\": \"lunch\", \"title\": \"\", \"type\": \"ordinal\"}, \"y\": {\"axis\": {\"grid\": false}, \"field\": \"writing\", \"title\": \"Writing\", \"type\": \"quantitative\"}}}], \"data\": {\"name\": \"data-5fadce92b234224b2c1939e30b3e5874\"}, \"width\": 300, \"$schema\": \"https://vega.github.io/schema/vega-lite/v4.17.0.json\", \"datasets\": {\"data-5fadce92b234224b2c1939e30b3e5874\": [{\"lunch\": \"free/reduced\", \"writing\": 63.02253521126761}, {\"lunch\": \"standard\", \"writing\": 70.8232558139535}]}}, {\"mode\": \"vega-lite\"});\n",
       "</script>"
      ],
      "text/plain": [
       "alt.LayerChart(...)"
      ]
     },
     "execution_count": 25,
     "metadata": {},
     "output_type": "execute_result"
    }
   ],
   "source": [
    " bars = alt.Chart(lunch_writing).mark_bar(stroke = \"black\").encode(\n",
    "    x= alt.X(\"lunch:O\", \n",
    "        title=\"\",\n",
    "        axis = alt.Axis(labelAngle=0, labelFontSize=14, labelColor= \"#343a40\", labelFont=\"Arial\") ),    \n",
    "    tooltip = [alt.Tooltip('lunch', title = 'Lunch' ), alt.Tooltip ('writing:O',title = 'Writing Score', format = \".4s\" )],\n",
    "    color=alt.Color(field=\"lunch\", type=\"nominal\",legend=None ),\n",
    "    y= alt.Y(\"writing:Q\", \n",
    "        title = \"Writing\", \n",
    "        axis = alt.Axis( grid = False, )),\n",
    " )\n",
    "\n",
    "text = bars.mark_text(\n",
    "    dy=-10,\n",
    "    size=14,\n",
    "    fill = \"black\",\n",
    ").encode(text= alt.Text('writing:Q', format = \".3s\")) \n",
    "\n",
    "l_writing = (bars + text).properties(\n",
    "    width = 300,\n",
    ")\n",
    "l_writing"
   ]
  },
  {
   "cell_type": "code",
   "execution_count": 29,
   "metadata": {
    "execution": {
     "iopub.execute_input": "2022-03-04T21:32:41.296023Z",
     "iopub.status.busy": "2022-03-04T21:32:41.295681Z",
     "iopub.status.idle": "2022-03-04T21:32:41.491792Z",
     "shell.execute_reply": "2022-03-04T21:32:41.490931Z",
     "shell.execute_reply.started": "2022-03-04T21:32:41.295991Z"
    }
   },
   "outputs": [
    {
     "data": {
      "text/html": [
       "\n",
       "<div id=\"altair-viz-934712ee1c41408c8f8d0665d2d94289\"></div>\n",
       "<script type=\"text/javascript\">\n",
       "  var VEGA_DEBUG = (typeof VEGA_DEBUG == \"undefined\") ? {} : VEGA_DEBUG;\n",
       "  (function(spec, embedOpt){\n",
       "    let outputDiv = document.currentScript.previousElementSibling;\n",
       "    if (outputDiv.id !== \"altair-viz-934712ee1c41408c8f8d0665d2d94289\") {\n",
       "      outputDiv = document.getElementById(\"altair-viz-934712ee1c41408c8f8d0665d2d94289\");\n",
       "    }\n",
       "    const paths = {\n",
       "      \"vega\": \"https://cdn.jsdelivr.net/npm//vega@5?noext\",\n",
       "      \"vega-lib\": \"https://cdn.jsdelivr.net/npm//vega-lib?noext\",\n",
       "      \"vega-lite\": \"https://cdn.jsdelivr.net/npm//vega-lite@4.17.0?noext\",\n",
       "      \"vega-embed\": \"https://cdn.jsdelivr.net/npm//vega-embed@6?noext\",\n",
       "    };\n",
       "\n",
       "    function maybeLoadScript(lib, version) {\n",
       "      var key = `${lib.replace(\"-\", \"\")}_version`;\n",
       "      return (VEGA_DEBUG[key] == version) ?\n",
       "        Promise.resolve(paths[lib]) :\n",
       "        new Promise(function(resolve, reject) {\n",
       "          var s = document.createElement('script');\n",
       "          document.getElementsByTagName(\"head\")[0].appendChild(s);\n",
       "          s.async = true;\n",
       "          s.onload = () => {\n",
       "            VEGA_DEBUG[key] = version;\n",
       "            return resolve(paths[lib]);\n",
       "          };\n",
       "          s.onerror = () => reject(`Error loading script: ${paths[lib]}`);\n",
       "          s.src = paths[lib];\n",
       "        });\n",
       "    }\n",
       "\n",
       "    function showError(err) {\n",
       "      outputDiv.innerHTML = `<div class=\"error\" style=\"color:red;\">${err}</div>`;\n",
       "      throw err;\n",
       "    }\n",
       "\n",
       "    function displayChart(vegaEmbed) {\n",
       "      vegaEmbed(outputDiv, spec, embedOpt)\n",
       "        .catch(err => showError(`Javascript Error: ${err.message}<br>This usually means there's a typo in your chart specification. See the javascript console for the full traceback.`));\n",
       "    }\n",
       "\n",
       "    if(typeof define === \"function\" && define.amd) {\n",
       "      requirejs.config({paths});\n",
       "      require([\"vega-embed\"], displayChart, err => showError(`Error loading script: ${err.message}`));\n",
       "    } else {\n",
       "      maybeLoadScript(\"vega\", \"5\")\n",
       "        .then(() => maybeLoadScript(\"vega-lite\", \"4.17.0\"))\n",
       "        .then(() => maybeLoadScript(\"vega-embed\", \"6\"))\n",
       "        .catch(showError)\n",
       "        .then(() => displayChart(vegaEmbed));\n",
       "    }\n",
       "  })({\"config\": {\"view\": {\"continuousWidth\": 400, \"continuousHeight\": 300, \"strokeWidth\": 0}, \"title\": {\"anchor\": \"middle\", \"font\": \"Arial\", \"fontSize\": 18}}, \"hconcat\": [{\"layer\": [{\"mark\": {\"type\": \"bar\", \"stroke\": \"black\"}, \"encoding\": {\"color\": {\"field\": \"lunch\", \"legend\": null, \"type\": \"nominal\"}, \"tooltip\": [{\"field\": \"lunch\", \"title\": \"Lunch\", \"type\": \"nominal\"}, {\"field\": \"math\", \"format\": \".4s\", \"title\": \"Math Score\", \"type\": \"ordinal\"}], \"x\": {\"axis\": {\"labelAngle\": 0, \"labelColor\": \"#343a40\", \"labelFont\": \"Arial\", \"labelFontSize\": 14}, \"field\": \"lunch\", \"title\": \"\", \"type\": \"ordinal\"}, \"y\": {\"axis\": {\"grid\": false}, \"field\": \"math\", \"title\": \"Math\", \"type\": \"quantitative\"}}}, {\"mark\": {\"type\": \"text\", \"dy\": -10, \"fill\": \"black\", \"size\": 14}, \"encoding\": {\"color\": {\"field\": \"lunch\", \"legend\": null, \"type\": \"nominal\"}, \"text\": {\"field\": \"math\", \"format\": \".3s\", \"type\": \"quantitative\"}, \"tooltip\": [{\"field\": \"lunch\", \"title\": \"Lunch\", \"type\": \"nominal\"}, {\"field\": \"math\", \"format\": \".4s\", \"title\": \"Math Score\", \"type\": \"ordinal\"}], \"x\": {\"axis\": {\"labelAngle\": 0, \"labelColor\": \"#343a40\", \"labelFont\": \"Arial\", \"labelFontSize\": 14}, \"field\": \"lunch\", \"title\": \"\", \"type\": \"ordinal\"}, \"y\": {\"axis\": {\"grid\": false}, \"field\": \"math\", \"title\": \"Math\", \"type\": \"quantitative\"}}}], \"data\": {\"name\": \"data-abcecd3d87e87831e8be9095c3def814\"}, \"width\": 300}, {\"layer\": [{\"mark\": {\"type\": \"bar\", \"stroke\": \"black\"}, \"encoding\": {\"color\": {\"field\": \"lunch\", \"legend\": null, \"type\": \"nominal\"}, \"tooltip\": [{\"field\": \"lunch\", \"title\": \"Lunch\", \"type\": \"nominal\"}, {\"field\": \"reading\", \"format\": \".4s\", \"title\": \"Reading Score\", \"type\": \"ordinal\"}], \"x\": {\"axis\": {\"labelAngle\": 0, \"labelColor\": \"#343a40\", \"labelFont\": \"Arial\", \"labelFontSize\": 14}, \"field\": \"lunch\", \"title\": \"\", \"type\": \"ordinal\"}, \"y\": {\"axis\": {\"grid\": false}, \"field\": \"reading\", \"title\": \"Reading\", \"type\": \"quantitative\"}}}, {\"mark\": {\"type\": \"text\", \"dy\": -10, \"fill\": \"black\", \"size\": 14}, \"encoding\": {\"color\": {\"field\": \"lunch\", \"legend\": null, \"type\": \"nominal\"}, \"text\": {\"field\": \"reading\", \"format\": \".3s\", \"type\": \"quantitative\"}, \"tooltip\": [{\"field\": \"lunch\", \"title\": \"Lunch\", \"type\": \"nominal\"}, {\"field\": \"reading\", \"format\": \".4s\", \"title\": \"Reading Score\", \"type\": \"ordinal\"}], \"x\": {\"axis\": {\"labelAngle\": 0, \"labelColor\": \"#343a40\", \"labelFont\": \"Arial\", \"labelFontSize\": 14}, \"field\": \"lunch\", \"title\": \"\", \"type\": \"ordinal\"}, \"y\": {\"axis\": {\"grid\": false}, \"field\": \"reading\", \"title\": \"Reading\", \"type\": \"quantitative\"}}}], \"data\": {\"name\": \"data-58b2b3b949dc85604e4389f46a2118f9\"}, \"width\": 300}, {\"layer\": [{\"mark\": {\"type\": \"bar\", \"stroke\": \"black\"}, \"encoding\": {\"color\": {\"field\": \"lunch\", \"legend\": null, \"type\": \"nominal\"}, \"tooltip\": [{\"field\": \"lunch\", \"title\": \"Lunch\", \"type\": \"nominal\"}, {\"field\": \"writing\", \"format\": \".4s\", \"title\": \"Writing Score\", \"type\": \"ordinal\"}], \"x\": {\"axis\": {\"labelAngle\": 0, \"labelColor\": \"#343a40\", \"labelFont\": \"Arial\", \"labelFontSize\": 14}, \"field\": \"lunch\", \"title\": \"\", \"type\": \"ordinal\"}, \"y\": {\"axis\": {\"grid\": false}, \"field\": \"writing\", \"title\": \"Writing\", \"type\": \"quantitative\"}}}, {\"mark\": {\"type\": \"text\", \"dy\": -10, \"fill\": \"black\", \"size\": 14}, \"encoding\": {\"color\": {\"field\": \"lunch\", \"legend\": null, \"type\": \"nominal\"}, \"text\": {\"field\": \"writing\", \"format\": \".3s\", \"type\": \"quantitative\"}, \"tooltip\": [{\"field\": \"lunch\", \"title\": \"Lunch\", \"type\": \"nominal\"}, {\"field\": \"writing\", \"format\": \".4s\", \"title\": \"Writing Score\", \"type\": \"ordinal\"}], \"x\": {\"axis\": {\"labelAngle\": 0, \"labelColor\": \"#343a40\", \"labelFont\": \"Arial\", \"labelFontSize\": 14}, \"field\": \"lunch\", \"title\": \"\", \"type\": \"ordinal\"}, \"y\": {\"axis\": {\"grid\": false}, \"field\": \"writing\", \"title\": \"Writing\", \"type\": \"quantitative\"}}}], \"data\": {\"name\": \"data-5fadce92b234224b2c1939e30b3e5874\"}, \"width\": 300}], \"title\": \"Performance - Lunch \", \"$schema\": \"https://vega.github.io/schema/vega-lite/v4.17.0.json\", \"datasets\": {\"data-abcecd3d87e87831e8be9095c3def814\": [{\"lunch\": \"free/reduced\", \"math\": 58.92112676056338}, {\"lunch\": \"standard\", \"math\": 70.03410852713178}], \"data-58b2b3b949dc85604e4389f46a2118f9\": [{\"lunch\": \"free/reduced\", \"reading\": 64.65352112676057}, {\"lunch\": \"standard\", \"reading\": 71.65426356589147}], \"data-5fadce92b234224b2c1939e30b3e5874\": [{\"lunch\": \"free/reduced\", \"writing\": 63.02253521126761}, {\"lunch\": \"standard\", \"writing\": 70.8232558139535}]}}, {\"mode\": \"vega-lite\"});\n",
       "</script>"
      ],
      "text/plain": [
       "alt.HConcatChart(...)"
      ]
     },
     "execution_count": 29,
     "metadata": {},
     "output_type": "execute_result"
    }
   ],
   "source": [
    "alt.hconcat(l_math, l_reading, l_writing ).properties(\n",
    "    title = 'Performance - Lunch ',\n",
    ").configure_title(\n",
    "    fontSize = 18,\n",
    "    font = \"Arial\",\n",
    "    anchor = \"middle\"\n",
    ").configure_view(\n",
    "    strokeWidth = 0,\n",
    ")"
   ]
  },
  {
   "cell_type": "code",
   "execution_count": 30,
   "metadata": {
    "execution": {
     "iopub.execute_input": "2022-03-04T21:02:22.867389Z",
     "iopub.status.busy": "2022-03-04T21:02:22.86705Z",
     "iopub.status.idle": "2022-03-04T21:02:22.880496Z",
     "shell.execute_reply": "2022-03-04T21:02:22.879852Z",
     "shell.execute_reply.started": "2022-03-04T21:02:22.86735Z"
    }
   },
   "outputs": [],
   "source": [
    "course_math = data.groupby('course')['math'].mean().to_frame().reset_index()# promedio de cada asignatura de acuerdo a si tomaron el curso de preparación\n",
    "course_reading = data.groupby('course')['reading'].mean().to_frame().reset_index()\n",
    "course_writing = data.groupby('course')['writing'].mean().to_frame().reset_index()"
   ]
  },
  {
   "cell_type": "code",
   "execution_count": 31,
   "metadata": {
    "execution": {
     "iopub.execute_input": "2022-03-04T21:33:54.368329Z",
     "iopub.status.busy": "2022-03-04T21:33:54.367818Z",
     "iopub.status.idle": "2022-03-04T21:33:54.525379Z",
     "shell.execute_reply": "2022-03-04T21:33:54.524465Z",
     "shell.execute_reply.started": "2022-03-04T21:33:54.368276Z"
    }
   },
   "outputs": [
    {
     "data": {
      "text/html": [
       "\n",
       "<div id=\"altair-viz-2fd6e58ca7af44928ee8b48d97fab991\"></div>\n",
       "<script type=\"text/javascript\">\n",
       "  var VEGA_DEBUG = (typeof VEGA_DEBUG == \"undefined\") ? {} : VEGA_DEBUG;\n",
       "  (function(spec, embedOpt){\n",
       "    let outputDiv = document.currentScript.previousElementSibling;\n",
       "    if (outputDiv.id !== \"altair-viz-2fd6e58ca7af44928ee8b48d97fab991\") {\n",
       "      outputDiv = document.getElementById(\"altair-viz-2fd6e58ca7af44928ee8b48d97fab991\");\n",
       "    }\n",
       "    const paths = {\n",
       "      \"vega\": \"https://cdn.jsdelivr.net/npm//vega@5?noext\",\n",
       "      \"vega-lib\": \"https://cdn.jsdelivr.net/npm//vega-lib?noext\",\n",
       "      \"vega-lite\": \"https://cdn.jsdelivr.net/npm//vega-lite@4.17.0?noext\",\n",
       "      \"vega-embed\": \"https://cdn.jsdelivr.net/npm//vega-embed@6?noext\",\n",
       "    };\n",
       "\n",
       "    function maybeLoadScript(lib, version) {\n",
       "      var key = `${lib.replace(\"-\", \"\")}_version`;\n",
       "      return (VEGA_DEBUG[key] == version) ?\n",
       "        Promise.resolve(paths[lib]) :\n",
       "        new Promise(function(resolve, reject) {\n",
       "          var s = document.createElement('script');\n",
       "          document.getElementsByTagName(\"head\")[0].appendChild(s);\n",
       "          s.async = true;\n",
       "          s.onload = () => {\n",
       "            VEGA_DEBUG[key] = version;\n",
       "            return resolve(paths[lib]);\n",
       "          };\n",
       "          s.onerror = () => reject(`Error loading script: ${paths[lib]}`);\n",
       "          s.src = paths[lib];\n",
       "        });\n",
       "    }\n",
       "\n",
       "    function showError(err) {\n",
       "      outputDiv.innerHTML = `<div class=\"error\" style=\"color:red;\">${err}</div>`;\n",
       "      throw err;\n",
       "    }\n",
       "\n",
       "    function displayChart(vegaEmbed) {\n",
       "      vegaEmbed(outputDiv, spec, embedOpt)\n",
       "        .catch(err => showError(`Javascript Error: ${err.message}<br>This usually means there's a typo in your chart specification. See the javascript console for the full traceback.`));\n",
       "    }\n",
       "\n",
       "    if(typeof define === \"function\" && define.amd) {\n",
       "      requirejs.config({paths});\n",
       "      require([\"vega-embed\"], displayChart, err => showError(`Error loading script: ${err.message}`));\n",
       "    } else {\n",
       "      maybeLoadScript(\"vega\", \"5\")\n",
       "        .then(() => maybeLoadScript(\"vega-lite\", \"4.17.0\"))\n",
       "        .then(() => maybeLoadScript(\"vega-embed\", \"6\"))\n",
       "        .catch(showError)\n",
       "        .then(() => displayChart(vegaEmbed));\n",
       "    }\n",
       "  })({\"config\": {\"view\": {\"continuousWidth\": 400, \"continuousHeight\": 300}}, \"layer\": [{\"mark\": {\"type\": \"bar\", \"stroke\": \"black\"}, \"encoding\": {\"color\": {\"field\": \"course\", \"legend\": null, \"type\": \"nominal\"}, \"tooltip\": [{\"field\": \"course\", \"title\": \"Test Preparation Course\", \"type\": \"nominal\"}, {\"field\": \"math\", \"format\": \".4s\", \"title\": \"Math Score\", \"type\": \"ordinal\"}], \"x\": {\"axis\": {\"labelAngle\": 0, \"labelColor\": \"#343a40\", \"labelFont\": \"Arial\", \"labelFontSize\": 14}, \"field\": \"course\", \"title\": \"\", \"type\": \"ordinal\"}, \"y\": {\"axis\": {\"grid\": false}, \"field\": \"math\", \"title\": \"Math\", \"type\": \"quantitative\"}}}, {\"mark\": {\"type\": \"text\", \"dy\": -10, \"fill\": \"black\", \"size\": 14}, \"encoding\": {\"color\": {\"field\": \"course\", \"legend\": null, \"type\": \"nominal\"}, \"text\": {\"field\": \"math\", \"format\": \".3s\", \"type\": \"quantitative\"}, \"tooltip\": [{\"field\": \"course\", \"title\": \"Test Preparation Course\", \"type\": \"nominal\"}, {\"field\": \"math\", \"format\": \".4s\", \"title\": \"Math Score\", \"type\": \"ordinal\"}], \"x\": {\"axis\": {\"labelAngle\": 0, \"labelColor\": \"#343a40\", \"labelFont\": \"Arial\", \"labelFontSize\": 14}, \"field\": \"course\", \"title\": \"\", \"type\": \"ordinal\"}, \"y\": {\"axis\": {\"grid\": false}, \"field\": \"math\", \"title\": \"Math\", \"type\": \"quantitative\"}}}], \"data\": {\"name\": \"data-2a56421ed49fe6c8bba5aeb89288d77f\"}, \"width\": 300, \"$schema\": \"https://vega.github.io/schema/vega-lite/v4.17.0.json\", \"datasets\": {\"data-2a56421ed49fe6c8bba5aeb89288d77f\": [{\"course\": \"completed\", \"math\": 69.69553072625699}, {\"course\": \"none\", \"math\": 64.0778816199377}]}}, {\"mode\": \"vega-lite\"});\n",
       "</script>"
      ],
      "text/plain": [
       "alt.LayerChart(...)"
      ]
     },
     "execution_count": 31,
     "metadata": {},
     "output_type": "execute_result"
    }
   ],
   "source": [
    " bars = alt.Chart(course_math).mark_bar(stroke = \"black\").encode(\n",
    "    x= alt.X(\"course:O\", \n",
    "        title=\"\",\n",
    "        axis = alt.Axis(labelAngle=0, labelFontSize=14, labelColor= \"#343a40\", labelFont=\"Arial\") ),    \n",
    "    tooltip = [alt.Tooltip('course', title = 'Test Preparation Course' ), alt.Tooltip ('math:O',title = 'Math Score', format = \".4s\" )],\n",
    "    color=alt.Color(field=\"course\", type=\"nominal\",legend=None ),\n",
    "    y= alt.Y(\"math:Q\", \n",
    "        title = \"Math\", \n",
    "        axis = alt.Axis( grid = False, )),#format='.0%',\n",
    " )\n",
    "\n",
    "text = bars.mark_text(\n",
    "    dy=-10,\n",
    "    size=14,\n",
    "    fill = \"black\",\n",
    ").encode(text= alt.Text('math:Q', format = \".3s\"))#format='.0%' \n",
    "\n",
    "c_math = (bars + text).properties(\n",
    "    #title = f\"Math Score\",\n",
    "    width = 300,\n",
    "    #height= 150,\n",
    ")\n",
    "c_math"
   ]
  },
  {
   "cell_type": "code",
   "execution_count": 32,
   "metadata": {
    "execution": {
     "iopub.execute_input": "2022-03-04T21:33:47.321441Z",
     "iopub.status.busy": "2022-03-04T21:33:47.321155Z",
     "iopub.status.idle": "2022-03-04T21:33:47.471936Z",
     "shell.execute_reply": "2022-03-04T21:33:47.471123Z",
     "shell.execute_reply.started": "2022-03-04T21:33:47.321409Z"
    }
   },
   "outputs": [
    {
     "data": {
      "text/html": [
       "\n",
       "<div id=\"altair-viz-d9455d540d2a4d01ba02f6fcd7c0ea7a\"></div>\n",
       "<script type=\"text/javascript\">\n",
       "  var VEGA_DEBUG = (typeof VEGA_DEBUG == \"undefined\") ? {} : VEGA_DEBUG;\n",
       "  (function(spec, embedOpt){\n",
       "    let outputDiv = document.currentScript.previousElementSibling;\n",
       "    if (outputDiv.id !== \"altair-viz-d9455d540d2a4d01ba02f6fcd7c0ea7a\") {\n",
       "      outputDiv = document.getElementById(\"altair-viz-d9455d540d2a4d01ba02f6fcd7c0ea7a\");\n",
       "    }\n",
       "    const paths = {\n",
       "      \"vega\": \"https://cdn.jsdelivr.net/npm//vega@5?noext\",\n",
       "      \"vega-lib\": \"https://cdn.jsdelivr.net/npm//vega-lib?noext\",\n",
       "      \"vega-lite\": \"https://cdn.jsdelivr.net/npm//vega-lite@4.17.0?noext\",\n",
       "      \"vega-embed\": \"https://cdn.jsdelivr.net/npm//vega-embed@6?noext\",\n",
       "    };\n",
       "\n",
       "    function maybeLoadScript(lib, version) {\n",
       "      var key = `${lib.replace(\"-\", \"\")}_version`;\n",
       "      return (VEGA_DEBUG[key] == version) ?\n",
       "        Promise.resolve(paths[lib]) :\n",
       "        new Promise(function(resolve, reject) {\n",
       "          var s = document.createElement('script');\n",
       "          document.getElementsByTagName(\"head\")[0].appendChild(s);\n",
       "          s.async = true;\n",
       "          s.onload = () => {\n",
       "            VEGA_DEBUG[key] = version;\n",
       "            return resolve(paths[lib]);\n",
       "          };\n",
       "          s.onerror = () => reject(`Error loading script: ${paths[lib]}`);\n",
       "          s.src = paths[lib];\n",
       "        });\n",
       "    }\n",
       "\n",
       "    function showError(err) {\n",
       "      outputDiv.innerHTML = `<div class=\"error\" style=\"color:red;\">${err}</div>`;\n",
       "      throw err;\n",
       "    }\n",
       "\n",
       "    function displayChart(vegaEmbed) {\n",
       "      vegaEmbed(outputDiv, spec, embedOpt)\n",
       "        .catch(err => showError(`Javascript Error: ${err.message}<br>This usually means there's a typo in your chart specification. See the javascript console for the full traceback.`));\n",
       "    }\n",
       "\n",
       "    if(typeof define === \"function\" && define.amd) {\n",
       "      requirejs.config({paths});\n",
       "      require([\"vega-embed\"], displayChart, err => showError(`Error loading script: ${err.message}`));\n",
       "    } else {\n",
       "      maybeLoadScript(\"vega\", \"5\")\n",
       "        .then(() => maybeLoadScript(\"vega-lite\", \"4.17.0\"))\n",
       "        .then(() => maybeLoadScript(\"vega-embed\", \"6\"))\n",
       "        .catch(showError)\n",
       "        .then(() => displayChart(vegaEmbed));\n",
       "    }\n",
       "  })({\"config\": {\"view\": {\"continuousWidth\": 400, \"continuousHeight\": 300}}, \"layer\": [{\"mark\": {\"type\": \"bar\", \"stroke\": \"black\"}, \"encoding\": {\"color\": {\"field\": \"course\", \"legend\": null, \"type\": \"nominal\"}, \"tooltip\": [{\"field\": \"course\", \"title\": \"Test Preparation Course\", \"type\": \"nominal\"}, {\"field\": \"reading\", \"format\": \".4s\", \"title\": \"Reading Score\", \"type\": \"ordinal\"}], \"x\": {\"axis\": {\"labelAngle\": 0, \"labelColor\": \"#343a40\", \"labelFont\": \"Arial\", \"labelFontSize\": 14}, \"field\": \"course\", \"title\": \"\", \"type\": \"ordinal\"}, \"y\": {\"axis\": {\"grid\": false}, \"field\": \"reading\", \"title\": \"Reading\", \"type\": \"quantitative\"}}}, {\"mark\": {\"type\": \"text\", \"dy\": -10, \"fill\": \"black\", \"size\": 14}, \"encoding\": {\"color\": {\"field\": \"course\", \"legend\": null, \"type\": \"nominal\"}, \"text\": {\"field\": \"reading\", \"format\": \".3s\", \"type\": \"quantitative\"}, \"tooltip\": [{\"field\": \"course\", \"title\": \"Test Preparation Course\", \"type\": \"nominal\"}, {\"field\": \"reading\", \"format\": \".4s\", \"title\": \"Reading Score\", \"type\": \"ordinal\"}], \"x\": {\"axis\": {\"labelAngle\": 0, \"labelColor\": \"#343a40\", \"labelFont\": \"Arial\", \"labelFontSize\": 14}, \"field\": \"course\", \"title\": \"\", \"type\": \"ordinal\"}, \"y\": {\"axis\": {\"grid\": false}, \"field\": \"reading\", \"title\": \"Reading\", \"type\": \"quantitative\"}}}], \"data\": {\"name\": \"data-6ce072438f2e938d967703abf4444d56\"}, \"width\": 300, \"$schema\": \"https://vega.github.io/schema/vega-lite/v4.17.0.json\", \"datasets\": {\"data-6ce072438f2e938d967703abf4444d56\": [{\"course\": \"completed\", \"reading\": 73.89385474860335}, {\"course\": \"none\", \"reading\": 66.53426791277259}]}}, {\"mode\": \"vega-lite\"});\n",
       "</script>"
      ],
      "text/plain": [
       "alt.LayerChart(...)"
      ]
     },
     "execution_count": 32,
     "metadata": {},
     "output_type": "execute_result"
    }
   ],
   "source": [
    " bars = alt.Chart(course_reading).mark_bar(stroke = \"black\").encode(\n",
    "    x= alt.X(\"course:O\", \n",
    "        title=\"\",\n",
    "        axis = alt.Axis(labelAngle=0, labelFontSize=14, labelColor= \"#343a40\", labelFont=\"Arial\") ),    \n",
    "    tooltip = [alt.Tooltip('course', title = 'Test Preparation Course' ), alt.Tooltip ('reading:O',title = 'Reading Score', format = \".4s\" )],\n",
    "    color=alt.Color(field=\"course\", type=\"nominal\",legend=None ),\n",
    "    y= alt.Y(\"reading:Q\", \n",
    "        title = \"Reading\", \n",
    "        axis = alt.Axis( grid = False, )),#format='.0%',\n",
    " )\n",
    "\n",
    "text = bars.mark_text(\n",
    "    dy=-10,\n",
    "    size=14,\n",
    "    fill = \"black\",\n",
    ").encode(text= alt.Text('reading:Q', format = \".3s\"))#format='.0%' \n",
    "\n",
    "c_reading = (bars + text).properties(\n",
    "    #title = f\"Reading Score\",\n",
    "    width = 300,\n",
    "    #height= 150,\n",
    ")\n",
    "c_reading"
   ]
  },
  {
   "cell_type": "code",
   "execution_count": 33,
   "metadata": {
    "execution": {
     "iopub.execute_input": "2022-03-04T21:33:41.084255Z",
     "iopub.status.busy": "2022-03-04T21:33:41.083976Z",
     "iopub.status.idle": "2022-03-04T21:33:41.244192Z",
     "shell.execute_reply": "2022-03-04T21:33:41.243308Z",
     "shell.execute_reply.started": "2022-03-04T21:33:41.084229Z"
    }
   },
   "outputs": [
    {
     "data": {
      "text/html": [
       "\n",
       "<div id=\"altair-viz-94fd9f95ba994ac5b5e706e7386dfb78\"></div>\n",
       "<script type=\"text/javascript\">\n",
       "  var VEGA_DEBUG = (typeof VEGA_DEBUG == \"undefined\") ? {} : VEGA_DEBUG;\n",
       "  (function(spec, embedOpt){\n",
       "    let outputDiv = document.currentScript.previousElementSibling;\n",
       "    if (outputDiv.id !== \"altair-viz-94fd9f95ba994ac5b5e706e7386dfb78\") {\n",
       "      outputDiv = document.getElementById(\"altair-viz-94fd9f95ba994ac5b5e706e7386dfb78\");\n",
       "    }\n",
       "    const paths = {\n",
       "      \"vega\": \"https://cdn.jsdelivr.net/npm//vega@5?noext\",\n",
       "      \"vega-lib\": \"https://cdn.jsdelivr.net/npm//vega-lib?noext\",\n",
       "      \"vega-lite\": \"https://cdn.jsdelivr.net/npm//vega-lite@4.17.0?noext\",\n",
       "      \"vega-embed\": \"https://cdn.jsdelivr.net/npm//vega-embed@6?noext\",\n",
       "    };\n",
       "\n",
       "    function maybeLoadScript(lib, version) {\n",
       "      var key = `${lib.replace(\"-\", \"\")}_version`;\n",
       "      return (VEGA_DEBUG[key] == version) ?\n",
       "        Promise.resolve(paths[lib]) :\n",
       "        new Promise(function(resolve, reject) {\n",
       "          var s = document.createElement('script');\n",
       "          document.getElementsByTagName(\"head\")[0].appendChild(s);\n",
       "          s.async = true;\n",
       "          s.onload = () => {\n",
       "            VEGA_DEBUG[key] = version;\n",
       "            return resolve(paths[lib]);\n",
       "          };\n",
       "          s.onerror = () => reject(`Error loading script: ${paths[lib]}`);\n",
       "          s.src = paths[lib];\n",
       "        });\n",
       "    }\n",
       "\n",
       "    function showError(err) {\n",
       "      outputDiv.innerHTML = `<div class=\"error\" style=\"color:red;\">${err}</div>`;\n",
       "      throw err;\n",
       "    }\n",
       "\n",
       "    function displayChart(vegaEmbed) {\n",
       "      vegaEmbed(outputDiv, spec, embedOpt)\n",
       "        .catch(err => showError(`Javascript Error: ${err.message}<br>This usually means there's a typo in your chart specification. See the javascript console for the full traceback.`));\n",
       "    }\n",
       "\n",
       "    if(typeof define === \"function\" && define.amd) {\n",
       "      requirejs.config({paths});\n",
       "      require([\"vega-embed\"], displayChart, err => showError(`Error loading script: ${err.message}`));\n",
       "    } else {\n",
       "      maybeLoadScript(\"vega\", \"5\")\n",
       "        .then(() => maybeLoadScript(\"vega-lite\", \"4.17.0\"))\n",
       "        .then(() => maybeLoadScript(\"vega-embed\", \"6\"))\n",
       "        .catch(showError)\n",
       "        .then(() => displayChart(vegaEmbed));\n",
       "    }\n",
       "  })({\"config\": {\"view\": {\"continuousWidth\": 400, \"continuousHeight\": 300}}, \"layer\": [{\"mark\": {\"type\": \"bar\", \"stroke\": \"black\"}, \"encoding\": {\"color\": {\"field\": \"course\", \"legend\": null, \"type\": \"nominal\"}, \"tooltip\": [{\"field\": \"course\", \"title\": \"Test Preparation Course\", \"type\": \"nominal\"}, {\"field\": \"writing\", \"format\": \".4s\", \"title\": \"Writing Score\", \"type\": \"ordinal\"}], \"x\": {\"axis\": {\"labelAngle\": 0, \"labelColor\": \"#343a40\", \"labelFont\": \"Arial\", \"labelFontSize\": 14}, \"field\": \"course\", \"title\": \"\", \"type\": \"ordinal\"}, \"y\": {\"axis\": {\"grid\": false}, \"field\": \"writing\", \"title\": \"Writing\", \"type\": \"quantitative\"}}}, {\"mark\": {\"type\": \"text\", \"dy\": -10, \"fill\": \"black\", \"size\": 14}, \"encoding\": {\"color\": {\"field\": \"course\", \"legend\": null, \"type\": \"nominal\"}, \"text\": {\"field\": \"writing\", \"format\": \".3s\", \"type\": \"quantitative\"}, \"tooltip\": [{\"field\": \"course\", \"title\": \"Test Preparation Course\", \"type\": \"nominal\"}, {\"field\": \"writing\", \"format\": \".4s\", \"title\": \"Writing Score\", \"type\": \"ordinal\"}], \"x\": {\"axis\": {\"labelAngle\": 0, \"labelColor\": \"#343a40\", \"labelFont\": \"Arial\", \"labelFontSize\": 14}, \"field\": \"course\", \"title\": \"\", \"type\": \"ordinal\"}, \"y\": {\"axis\": {\"grid\": false}, \"field\": \"writing\", \"title\": \"Writing\", \"type\": \"quantitative\"}}}], \"data\": {\"name\": \"data-b5e6ca076fedeeb3c17db7cd1de32d63\"}, \"width\": 300, \"$schema\": \"https://vega.github.io/schema/vega-lite/v4.17.0.json\", \"datasets\": {\"data-b5e6ca076fedeeb3c17db7cd1de32d63\": [{\"course\": \"completed\", \"writing\": 74.41899441340782}, {\"course\": \"none\", \"writing\": 64.50467289719626}]}}, {\"mode\": \"vega-lite\"});\n",
       "</script>"
      ],
      "text/plain": [
       "alt.LayerChart(...)"
      ]
     },
     "execution_count": 33,
     "metadata": {},
     "output_type": "execute_result"
    }
   ],
   "source": [
    " bars = alt.Chart(course_writing).mark_bar(stroke = \"black\").encode(\n",
    "    x= alt.X(\"course:O\", \n",
    "        title=\"\",\n",
    "        axis = alt.Axis(labelAngle=0, labelFontSize=14, labelColor= \"#343a40\", labelFont=\"Arial\") ),    \n",
    "    tooltip = [alt.Tooltip('course', title = 'Test Preparation Course' ), alt.Tooltip ('writing:O',title = 'Writing Score', format = \".4s\" )],\n",
    "    color=alt.Color(field=\"course\", type=\"nominal\",legend=None ),\n",
    "    y= alt.Y(\"writing:Q\", \n",
    "        title = \"Writing\", \n",
    "        axis = alt.Axis( grid = False, )),#format='.0%',\n",
    " )\n",
    "\n",
    "text = bars.mark_text(\n",
    "    dy=-10,\n",
    "    size=14,\n",
    "    fill = \"black\",\n",
    ").encode(text= alt.Text('writing:Q', format = \".3s\"))#format='.0%' \n",
    "\n",
    "c_writing = (bars + text).properties(\n",
    "    #title = f\"Writing Score\",\n",
    "    width = 300,\n",
    "    #height= 150,\n",
    ")\n",
    "c_writing"
   ]
  },
  {
   "cell_type": "code",
   "execution_count": 34,
   "metadata": {
    "execution": {
     "iopub.execute_input": "2022-03-04T21:34:01.899944Z",
     "iopub.status.busy": "2022-03-04T21:34:01.899342Z",
     "iopub.status.idle": "2022-03-04T21:34:02.101992Z",
     "shell.execute_reply": "2022-03-04T21:34:02.101103Z",
     "shell.execute_reply.started": "2022-03-04T21:34:01.899895Z"
    },
    "scrolled": false
   },
   "outputs": [
    {
     "data": {
      "text/html": [
       "\n",
       "<div id=\"altair-viz-1d6a3541eef94b1b9307597a5bc98020\"></div>\n",
       "<script type=\"text/javascript\">\n",
       "  var VEGA_DEBUG = (typeof VEGA_DEBUG == \"undefined\") ? {} : VEGA_DEBUG;\n",
       "  (function(spec, embedOpt){\n",
       "    let outputDiv = document.currentScript.previousElementSibling;\n",
       "    if (outputDiv.id !== \"altair-viz-1d6a3541eef94b1b9307597a5bc98020\") {\n",
       "      outputDiv = document.getElementById(\"altair-viz-1d6a3541eef94b1b9307597a5bc98020\");\n",
       "    }\n",
       "    const paths = {\n",
       "      \"vega\": \"https://cdn.jsdelivr.net/npm//vega@5?noext\",\n",
       "      \"vega-lib\": \"https://cdn.jsdelivr.net/npm//vega-lib?noext\",\n",
       "      \"vega-lite\": \"https://cdn.jsdelivr.net/npm//vega-lite@4.17.0?noext\",\n",
       "      \"vega-embed\": \"https://cdn.jsdelivr.net/npm//vega-embed@6?noext\",\n",
       "    };\n",
       "\n",
       "    function maybeLoadScript(lib, version) {\n",
       "      var key = `${lib.replace(\"-\", \"\")}_version`;\n",
       "      return (VEGA_DEBUG[key] == version) ?\n",
       "        Promise.resolve(paths[lib]) :\n",
       "        new Promise(function(resolve, reject) {\n",
       "          var s = document.createElement('script');\n",
       "          document.getElementsByTagName(\"head\")[0].appendChild(s);\n",
       "          s.async = true;\n",
       "          s.onload = () => {\n",
       "            VEGA_DEBUG[key] = version;\n",
       "            return resolve(paths[lib]);\n",
       "          };\n",
       "          s.onerror = () => reject(`Error loading script: ${paths[lib]}`);\n",
       "          s.src = paths[lib];\n",
       "        });\n",
       "    }\n",
       "\n",
       "    function showError(err) {\n",
       "      outputDiv.innerHTML = `<div class=\"error\" style=\"color:red;\">${err}</div>`;\n",
       "      throw err;\n",
       "    }\n",
       "\n",
       "    function displayChart(vegaEmbed) {\n",
       "      vegaEmbed(outputDiv, spec, embedOpt)\n",
       "        .catch(err => showError(`Javascript Error: ${err.message}<br>This usually means there's a typo in your chart specification. See the javascript console for the full traceback.`));\n",
       "    }\n",
       "\n",
       "    if(typeof define === \"function\" && define.amd) {\n",
       "      requirejs.config({paths});\n",
       "      require([\"vega-embed\"], displayChart, err => showError(`Error loading script: ${err.message}`));\n",
       "    } else {\n",
       "      maybeLoadScript(\"vega\", \"5\")\n",
       "        .then(() => maybeLoadScript(\"vega-lite\", \"4.17.0\"))\n",
       "        .then(() => maybeLoadScript(\"vega-embed\", \"6\"))\n",
       "        .catch(showError)\n",
       "        .then(() => displayChart(vegaEmbed));\n",
       "    }\n",
       "  })({\"config\": {\"view\": {\"continuousWidth\": 400, \"continuousHeight\": 300, \"strokeWidth\": 0}, \"title\": {\"anchor\": \"middle\", \"font\": \"Arial\", \"fontSize\": 18}}, \"hconcat\": [{\"layer\": [{\"mark\": {\"type\": \"bar\", \"stroke\": \"black\"}, \"encoding\": {\"color\": {\"field\": \"course\", \"legend\": null, \"type\": \"nominal\"}, \"tooltip\": [{\"field\": \"course\", \"title\": \"Test Preparation Course\", \"type\": \"nominal\"}, {\"field\": \"math\", \"format\": \".4s\", \"title\": \"Math Score\", \"type\": \"ordinal\"}], \"x\": {\"axis\": {\"labelAngle\": 0, \"labelColor\": \"#343a40\", \"labelFont\": \"Arial\", \"labelFontSize\": 14}, \"field\": \"course\", \"title\": \"\", \"type\": \"ordinal\"}, \"y\": {\"axis\": {\"grid\": false}, \"field\": \"math\", \"title\": \"Math\", \"type\": \"quantitative\"}}}, {\"mark\": {\"type\": \"text\", \"dy\": -10, \"fill\": \"black\", \"size\": 14}, \"encoding\": {\"color\": {\"field\": \"course\", \"legend\": null, \"type\": \"nominal\"}, \"text\": {\"field\": \"math\", \"format\": \".3s\", \"type\": \"quantitative\"}, \"tooltip\": [{\"field\": \"course\", \"title\": \"Test Preparation Course\", \"type\": \"nominal\"}, {\"field\": \"math\", \"format\": \".4s\", \"title\": \"Math Score\", \"type\": \"ordinal\"}], \"x\": {\"axis\": {\"labelAngle\": 0, \"labelColor\": \"#343a40\", \"labelFont\": \"Arial\", \"labelFontSize\": 14}, \"field\": \"course\", \"title\": \"\", \"type\": \"ordinal\"}, \"y\": {\"axis\": {\"grid\": false}, \"field\": \"math\", \"title\": \"Math\", \"type\": \"quantitative\"}}}], \"data\": {\"name\": \"data-2a56421ed49fe6c8bba5aeb89288d77f\"}, \"width\": 300}, {\"layer\": [{\"mark\": {\"type\": \"bar\", \"stroke\": \"black\"}, \"encoding\": {\"color\": {\"field\": \"course\", \"legend\": null, \"type\": \"nominal\"}, \"tooltip\": [{\"field\": \"course\", \"title\": \"Test Preparation Course\", \"type\": \"nominal\"}, {\"field\": \"reading\", \"format\": \".4s\", \"title\": \"Reading Score\", \"type\": \"ordinal\"}], \"x\": {\"axis\": {\"labelAngle\": 0, \"labelColor\": \"#343a40\", \"labelFont\": \"Arial\", \"labelFontSize\": 14}, \"field\": \"course\", \"title\": \"\", \"type\": \"ordinal\"}, \"y\": {\"axis\": {\"grid\": false}, \"field\": \"reading\", \"title\": \"Reading\", \"type\": \"quantitative\"}}}, {\"mark\": {\"type\": \"text\", \"dy\": -10, \"fill\": \"black\", \"size\": 14}, \"encoding\": {\"color\": {\"field\": \"course\", \"legend\": null, \"type\": \"nominal\"}, \"text\": {\"field\": \"reading\", \"format\": \".3s\", \"type\": \"quantitative\"}, \"tooltip\": [{\"field\": \"course\", \"title\": \"Test Preparation Course\", \"type\": \"nominal\"}, {\"field\": \"reading\", \"format\": \".4s\", \"title\": \"Reading Score\", \"type\": \"ordinal\"}], \"x\": {\"axis\": {\"labelAngle\": 0, \"labelColor\": \"#343a40\", \"labelFont\": \"Arial\", \"labelFontSize\": 14}, \"field\": \"course\", \"title\": \"\", \"type\": \"ordinal\"}, \"y\": {\"axis\": {\"grid\": false}, \"field\": \"reading\", \"title\": \"Reading\", \"type\": \"quantitative\"}}}], \"data\": {\"name\": \"data-6ce072438f2e938d967703abf4444d56\"}, \"width\": 300}, {\"layer\": [{\"mark\": {\"type\": \"bar\", \"stroke\": \"black\"}, \"encoding\": {\"color\": {\"field\": \"course\", \"legend\": null, \"type\": \"nominal\"}, \"tooltip\": [{\"field\": \"course\", \"title\": \"Test Preparation Course\", \"type\": \"nominal\"}, {\"field\": \"writing\", \"format\": \".4s\", \"title\": \"Writing Score\", \"type\": \"ordinal\"}], \"x\": {\"axis\": {\"labelAngle\": 0, \"labelColor\": \"#343a40\", \"labelFont\": \"Arial\", \"labelFontSize\": 14}, \"field\": \"course\", \"title\": \"\", \"type\": \"ordinal\"}, \"y\": {\"axis\": {\"grid\": false}, \"field\": \"writing\", \"title\": \"Writing\", \"type\": \"quantitative\"}}}, {\"mark\": {\"type\": \"text\", \"dy\": -10, \"fill\": \"black\", \"size\": 14}, \"encoding\": {\"color\": {\"field\": \"course\", \"legend\": null, \"type\": \"nominal\"}, \"text\": {\"field\": \"writing\", \"format\": \".3s\", \"type\": \"quantitative\"}, \"tooltip\": [{\"field\": \"course\", \"title\": \"Test Preparation Course\", \"type\": \"nominal\"}, {\"field\": \"writing\", \"format\": \".4s\", \"title\": \"Writing Score\", \"type\": \"ordinal\"}], \"x\": {\"axis\": {\"labelAngle\": 0, \"labelColor\": \"#343a40\", \"labelFont\": \"Arial\", \"labelFontSize\": 14}, \"field\": \"course\", \"title\": \"\", \"type\": \"ordinal\"}, \"y\": {\"axis\": {\"grid\": false}, \"field\": \"writing\", \"title\": \"Writing\", \"type\": \"quantitative\"}}}], \"data\": {\"name\": \"data-b5e6ca076fedeeb3c17db7cd1de32d63\"}, \"width\": 300}], \"title\": \"Performance with Test Preparation Course \", \"$schema\": \"https://vega.github.io/schema/vega-lite/v4.17.0.json\", \"datasets\": {\"data-2a56421ed49fe6c8bba5aeb89288d77f\": [{\"course\": \"completed\", \"math\": 69.69553072625699}, {\"course\": \"none\", \"math\": 64.0778816199377}], \"data-6ce072438f2e938d967703abf4444d56\": [{\"course\": \"completed\", \"reading\": 73.89385474860335}, {\"course\": \"none\", \"reading\": 66.53426791277259}], \"data-b5e6ca076fedeeb3c17db7cd1de32d63\": [{\"course\": \"completed\", \"writing\": 74.41899441340782}, {\"course\": \"none\", \"writing\": 64.50467289719626}]}}, {\"mode\": \"vega-lite\"});\n",
       "</script>"
      ],
      "text/plain": [
       "alt.HConcatChart(...)"
      ]
     },
     "execution_count": 34,
     "metadata": {},
     "output_type": "execute_result"
    }
   ],
   "source": [
    "alt.hconcat(c_math, c_reading, c_writing ).properties(\n",
    "    title = 'Performance with Test Preparation Course',\n",
    ").configure_title(\n",
    "    fontSize = 18,\n",
    "    font = \"Arial\",\n",
    "    anchor = \"middle\"\n",
    ").configure_view(\n",
    "    strokeWidth = 0,\n",
    ")"
   ]
  },
  {
   "cell_type": "markdown",
   "metadata": {},
   "source": [
    "## Group A vs Group E"
   ]
  },
  {
   "cell_type": "markdown",
   "metadata": {},
   "source": [
    "En este caso me llamó mucho la atencion en la diferencia del promedio deacurdo a la etnia, donde destaca el grupo A como el peor y el grupo Ecomo el mejor, por lo que quise indagar un poco más en el brackgroud de cada grupo.\n",
    "\n",
    "Preparamos datos para A y E"
   ]
  },
  {
   "cell_type": "code",
   "execution_count": 58,
   "metadata": {},
   "outputs": [
    {
     "data": {
      "text/html": [
       "<div>\n",
       "<style scoped>\n",
       "    .dataframe tbody tr th:only-of-type {\n",
       "        vertical-align: middle;\n",
       "    }\n",
       "\n",
       "    .dataframe tbody tr th {\n",
       "        vertical-align: top;\n",
       "    }\n",
       "\n",
       "    .dataframe thead th {\n",
       "        text-align: right;\n",
       "    }\n",
       "</style>\n",
       "<table border=\"1\" class=\"dataframe\">\n",
       "  <thead>\n",
       "    <tr style=\"text-align: right;\">\n",
       "      <th></th>\n",
       "      <th>gender</th>\n",
       "      <th>count</th>\n",
       "      <th>percent</th>\n",
       "    </tr>\n",
       "  </thead>\n",
       "  <tbody>\n",
       "    <tr>\n",
       "      <th>0</th>\n",
       "      <td>male</td>\n",
       "      <td>53</td>\n",
       "      <td>0.595506</td>\n",
       "    </tr>\n",
       "    <tr>\n",
       "      <th>1</th>\n",
       "      <td>female</td>\n",
       "      <td>36</td>\n",
       "      <td>0.404494</td>\n",
       "    </tr>\n",
       "  </tbody>\n",
       "</table>\n",
       "</div>"
      ],
      "text/plain": [
       "   gender  count   percent\n",
       "0    male     53  0.595506\n",
       "1  female     36  0.404494"
      ]
     },
     "execution_count": 58,
     "metadata": {},
     "output_type": "execute_result"
    }
   ],
   "source": [
    "data_a = data [(data[\"ethnicity\"] == \"group A\")]\n",
    "a_gender_count = data_a['gender'].value_counts().to_frame().reset_index().rename(columns={'index':'gender','gender':'count'})\n",
    "a_gender_count['percent'] = (a_gender_count['count'] / a_gender_count['count'].sum()) #*100\n",
    "a_gender_count "
   ]
  },
  {
   "cell_type": "code",
   "execution_count": 61,
   "metadata": {},
   "outputs": [
    {
     "data": {
      "text/html": [
       "<div>\n",
       "<style scoped>\n",
       "    .dataframe tbody tr th:only-of-type {\n",
       "        vertical-align: middle;\n",
       "    }\n",
       "\n",
       "    .dataframe tbody tr th {\n",
       "        vertical-align: top;\n",
       "    }\n",
       "\n",
       "    .dataframe thead th {\n",
       "        text-align: right;\n",
       "    }\n",
       "</style>\n",
       "<table border=\"1\" class=\"dataframe\">\n",
       "  <thead>\n",
       "    <tr style=\"text-align: right;\">\n",
       "      <th></th>\n",
       "      <th>gender</th>\n",
       "      <th>count</th>\n",
       "      <th>percent</th>\n",
       "    </tr>\n",
       "  </thead>\n",
       "  <tbody>\n",
       "    <tr>\n",
       "      <th>0</th>\n",
       "      <td>male</td>\n",
       "      <td>71</td>\n",
       "      <td>0.507143</td>\n",
       "    </tr>\n",
       "    <tr>\n",
       "      <th>1</th>\n",
       "      <td>female</td>\n",
       "      <td>69</td>\n",
       "      <td>0.492857</td>\n",
       "    </tr>\n",
       "  </tbody>\n",
       "</table>\n",
       "</div>"
      ],
      "text/plain": [
       "   gender  count   percent\n",
       "0    male     71  0.507143\n",
       "1  female     69  0.492857"
      ]
     },
     "execution_count": 61,
     "metadata": {},
     "output_type": "execute_result"
    }
   ],
   "source": [
    "data_e = data [(data[\"ethnicity\"] == \"group E\")]\n",
    "e_gender_count = data_e['gender'].value_counts().to_frame().reset_index().rename(columns={'index':'gender','gender':'count'})\n",
    "e_gender_count['percent'] = (e_gender_count['count'] / e_gender_count['count'].sum()) #*100\n",
    "e_gender_count "
   ]
  },
  {
   "cell_type": "code",
   "execution_count": 68,
   "metadata": {
    "execution": {
     "iopub.execute_input": "2022-03-04T20:40:02.866652Z",
     "iopub.status.busy": "2022-03-04T20:40:02.866251Z",
     "iopub.status.idle": "2022-03-04T20:40:03.129585Z",
     "shell.execute_reply": "2022-03-04T20:40:03.128993Z",
     "shell.execute_reply.started": "2022-03-04T20:40:02.866622Z"
    }
   },
   "outputs": [],
   "source": [
    " bars = alt.Chart(a_gender_count).mark_bar(stroke = \"white\").encode(\n",
    "    x= alt.X(\"percent:Q\", \n",
    "        title = \"Group A\", \n",
    "        axis = alt.Axis(format='.0%', grid = False, )),\n",
    "    y= alt.Y(\"gender:O\", \n",
    "        title=\"\",\n",
    "        axis = alt.Axis(labelAngle=0, labelFontSize=14, labelColor= \"#343a40\", labelFont=\"Arial\") ),    \n",
    "    tooltip = [alt.Tooltip('count', title = 'Count' ), alt.Tooltip ('gender:O',title = 'Gender' ) , alt.Tooltip('percent:Q', format='.1%', title = 'Percent' )],\n",
    "    color=alt.Color(field=\"gender\", type=\"nominal\",legend=None ))\n",
    "\n",
    "text = bars.mark_text(\n",
    "    dx=+20,\n",
    "    size=16,\n",
    "    fill = \"black\",\n",
    ").encode(text= alt.Text('percent:Q', format='.0%'))\n",
    "\n",
    "g_gA = (bars + text).properties(\n",
    "    width = 600,\n",
    "    height= 150,\n",
    ")"
   ]
  },
  {
   "cell_type": "code",
   "execution_count": 69,
   "metadata": {
    "execution": {
     "iopub.execute_input": "2022-03-04T20:40:02.866652Z",
     "iopub.status.busy": "2022-03-04T20:40:02.866251Z",
     "iopub.status.idle": "2022-03-04T20:40:03.129585Z",
     "shell.execute_reply": "2022-03-04T20:40:03.128993Z",
     "shell.execute_reply.started": "2022-03-04T20:40:02.866622Z"
    }
   },
   "outputs": [],
   "source": [
    " bars = alt.Chart(e_gender_count).mark_bar(stroke = \"white\").encode(\n",
    "    x= alt.X(\"percent:Q\", \n",
    "        title = \"Group E\", \n",
    "        axis = alt.Axis(format='.0%', grid = False, )),\n",
    "    y= alt.Y(\"gender:O\", \n",
    "        title=\"\",\n",
    "        axis = alt.Axis(labelAngle=0, labelFontSize=14, labelColor= \"#343a40\", labelFont=\"Arial\") ),    \n",
    "    tooltip = [alt.Tooltip('count', title = 'Count' ), alt.Tooltip ('gender:O',title = 'Gender' ) , alt.Tooltip('percent:Q', format='.1%', title = 'Percent' )],\n",
    "    color=alt.Color(field=\"gender\", type=\"nominal\",legend=None ))\n",
    "\n",
    "text = bars.mark_text(\n",
    "    dx=+20,\n",
    "    size=16,\n",
    "    fill = \"black\",\n",
    ").encode(text= alt.Text('percent:Q', format='.0%'))\n",
    "\n",
    "g_gE = (bars + text).properties(\n",
    "    width = 600,\n",
    "    height= 150,\n",
    ")"
   ]
  },
  {
   "cell_type": "code",
   "execution_count": 73,
   "metadata": {
    "execution": {
     "iopub.execute_input": "2022-03-05T00:12:58.005321Z",
     "iopub.status.busy": "2022-03-05T00:12:58.004964Z",
     "iopub.status.idle": "2022-03-05T00:12:58.175719Z",
     "shell.execute_reply": "2022-03-05T00:12:58.174837Z",
     "shell.execute_reply.started": "2022-03-05T00:12:58.005288Z"
    },
    "scrolled": true
   },
   "outputs": [
    {
     "data": {
      "text/html": [
       "\n",
       "<div id=\"altair-viz-5f116f17d3ba442f94a251a261ebcadd\"></div>\n",
       "<script type=\"text/javascript\">\n",
       "  var VEGA_DEBUG = (typeof VEGA_DEBUG == \"undefined\") ? {} : VEGA_DEBUG;\n",
       "  (function(spec, embedOpt){\n",
       "    let outputDiv = document.currentScript.previousElementSibling;\n",
       "    if (outputDiv.id !== \"altair-viz-5f116f17d3ba442f94a251a261ebcadd\") {\n",
       "      outputDiv = document.getElementById(\"altair-viz-5f116f17d3ba442f94a251a261ebcadd\");\n",
       "    }\n",
       "    const paths = {\n",
       "      \"vega\": \"https://cdn.jsdelivr.net/npm//vega@5?noext\",\n",
       "      \"vega-lib\": \"https://cdn.jsdelivr.net/npm//vega-lib?noext\",\n",
       "      \"vega-lite\": \"https://cdn.jsdelivr.net/npm//vega-lite@4.17.0?noext\",\n",
       "      \"vega-embed\": \"https://cdn.jsdelivr.net/npm//vega-embed@6?noext\",\n",
       "    };\n",
       "\n",
       "    function maybeLoadScript(lib, version) {\n",
       "      var key = `${lib.replace(\"-\", \"\")}_version`;\n",
       "      return (VEGA_DEBUG[key] == version) ?\n",
       "        Promise.resolve(paths[lib]) :\n",
       "        new Promise(function(resolve, reject) {\n",
       "          var s = document.createElement('script');\n",
       "          document.getElementsByTagName(\"head\")[0].appendChild(s);\n",
       "          s.async = true;\n",
       "          s.onload = () => {\n",
       "            VEGA_DEBUG[key] = version;\n",
       "            return resolve(paths[lib]);\n",
       "          };\n",
       "          s.onerror = () => reject(`Error loading script: ${paths[lib]}`);\n",
       "          s.src = paths[lib];\n",
       "        });\n",
       "    }\n",
       "\n",
       "    function showError(err) {\n",
       "      outputDiv.innerHTML = `<div class=\"error\" style=\"color:red;\">${err}</div>`;\n",
       "      throw err;\n",
       "    }\n",
       "\n",
       "    function displayChart(vegaEmbed) {\n",
       "      vegaEmbed(outputDiv, spec, embedOpt)\n",
       "        .catch(err => showError(`Javascript Error: ${err.message}<br>This usually means there's a typo in your chart specification. See the javascript console for the full traceback.`));\n",
       "    }\n",
       "\n",
       "    if(typeof define === \"function\" && define.amd) {\n",
       "      requirejs.config({paths});\n",
       "      require([\"vega-embed\"], displayChart, err => showError(`Error loading script: ${err.message}`));\n",
       "    } else {\n",
       "      maybeLoadScript(\"vega\", \"5\")\n",
       "        .then(() => maybeLoadScript(\"vega-lite\", \"4.17.0\"))\n",
       "        .then(() => maybeLoadScript(\"vega-embed\", \"6\"))\n",
       "        .catch(showError)\n",
       "        .then(() => displayChart(vegaEmbed));\n",
       "    }\n",
       "  })({\"config\": {\"view\": {\"continuousWidth\": 400, \"continuousHeight\": 300, \"strokeWidth\": 0}, \"title\": {\"anchor\": \"middle\", \"font\": \"Arial\", \"fontSize\": 18}}, \"vconcat\": [{\"layer\": [{\"mark\": {\"type\": \"bar\", \"stroke\": \"white\"}, \"encoding\": {\"color\": {\"field\": \"gender\", \"legend\": null, \"type\": \"nominal\"}, \"tooltip\": [{\"field\": \"count\", \"title\": \"Count\", \"type\": \"quantitative\"}, {\"field\": \"gender\", \"title\": \"Gender\", \"type\": \"ordinal\"}, {\"field\": \"percent\", \"format\": \".1%\", \"title\": \"Percent\", \"type\": \"quantitative\"}], \"x\": {\"axis\": {\"format\": \".0%\", \"grid\": false}, \"field\": \"percent\", \"title\": \"Group A\", \"type\": \"quantitative\"}, \"y\": {\"axis\": {\"labelAngle\": 0, \"labelColor\": \"#343a40\", \"labelFont\": \"Arial\", \"labelFontSize\": 14}, \"field\": \"gender\", \"title\": \"\", \"type\": \"ordinal\"}}}, {\"mark\": {\"type\": \"text\", \"dx\": 20, \"fill\": \"black\", \"size\": 16}, \"encoding\": {\"color\": {\"field\": \"gender\", \"legend\": null, \"type\": \"nominal\"}, \"text\": {\"field\": \"percent\", \"format\": \".0%\", \"type\": \"quantitative\"}, \"tooltip\": [{\"field\": \"count\", \"title\": \"Count\", \"type\": \"quantitative\"}, {\"field\": \"gender\", \"title\": \"Gender\", \"type\": \"ordinal\"}, {\"field\": \"percent\", \"format\": \".1%\", \"title\": \"Percent\", \"type\": \"quantitative\"}], \"x\": {\"axis\": {\"format\": \".0%\", \"grid\": false}, \"field\": \"percent\", \"title\": \"Group A\", \"type\": \"quantitative\"}, \"y\": {\"axis\": {\"labelAngle\": 0, \"labelColor\": \"#343a40\", \"labelFont\": \"Arial\", \"labelFontSize\": 14}, \"field\": \"gender\", \"title\": \"\", \"type\": \"ordinal\"}}}], \"data\": {\"name\": \"data-f2270e5b5ff860536192cdea94da467a\"}, \"height\": 150, \"width\": 600}, {\"layer\": [{\"mark\": {\"type\": \"bar\", \"stroke\": \"white\"}, \"encoding\": {\"color\": {\"field\": \"gender\", \"legend\": null, \"type\": \"nominal\"}, \"tooltip\": [{\"field\": \"count\", \"title\": \"Count\", \"type\": \"quantitative\"}, {\"field\": \"gender\", \"title\": \"Gender\", \"type\": \"ordinal\"}, {\"field\": \"percent\", \"format\": \".1%\", \"title\": \"Percent\", \"type\": \"quantitative\"}], \"x\": {\"axis\": {\"format\": \".0%\", \"grid\": false}, \"field\": \"percent\", \"title\": \"Group E\", \"type\": \"quantitative\"}, \"y\": {\"axis\": {\"labelAngle\": 0, \"labelColor\": \"#343a40\", \"labelFont\": \"Arial\", \"labelFontSize\": 14}, \"field\": \"gender\", \"title\": \"\", \"type\": \"ordinal\"}}}, {\"mark\": {\"type\": \"text\", \"dx\": 20, \"fill\": \"black\", \"size\": 16}, \"encoding\": {\"color\": {\"field\": \"gender\", \"legend\": null, \"type\": \"nominal\"}, \"text\": {\"field\": \"percent\", \"format\": \".0%\", \"type\": \"quantitative\"}, \"tooltip\": [{\"field\": \"count\", \"title\": \"Count\", \"type\": \"quantitative\"}, {\"field\": \"gender\", \"title\": \"Gender\", \"type\": \"ordinal\"}, {\"field\": \"percent\", \"format\": \".1%\", \"title\": \"Percent\", \"type\": \"quantitative\"}], \"x\": {\"axis\": {\"format\": \".0%\", \"grid\": false}, \"field\": \"percent\", \"title\": \"Group E\", \"type\": \"quantitative\"}, \"y\": {\"axis\": {\"labelAngle\": 0, \"labelColor\": \"#343a40\", \"labelFont\": \"Arial\", \"labelFontSize\": 14}, \"field\": \"gender\", \"title\": \"\", \"type\": \"ordinal\"}}}], \"data\": {\"name\": \"data-ca5543f40c74ea0ed149424329faa71b\"}, \"height\": 150, \"width\": 600}], \"title\": \"Gender - Group A vs Group E \", \"$schema\": \"https://vega.github.io/schema/vega-lite/v4.17.0.json\", \"datasets\": {\"data-f2270e5b5ff860536192cdea94da467a\": [{\"gender\": \"male\", \"count\": 53, \"percent\": 0.5955056179775281}, {\"gender\": \"female\", \"count\": 36, \"percent\": 0.4044943820224719}], \"data-ca5543f40c74ea0ed149424329faa71b\": [{\"gender\": \"male\", \"count\": 71, \"percent\": 0.5071428571428571}, {\"gender\": \"female\", \"count\": 69, \"percent\": 0.4928571428571429}]}}, {\"mode\": \"vega-lite\"});\n",
       "</script>"
      ],
      "text/plain": [
       "alt.VConcatChart(...)"
      ]
     },
     "execution_count": 73,
     "metadata": {},
     "output_type": "execute_result"
    }
   ],
   "source": [
    "alt.vconcat(g_gA, g_gE,).properties(\n",
    "    title = 'Gender - Group A vs Group E ',\n",
    ").configure_title(\n",
    "    fontSize = 18,\n",
    "    font = \"Arial\",\n",
    "    anchor = \"middle\"\n",
    ").configure_view(\n",
    "    strokeWidth = 0,\n",
    ")"
   ]
  },
  {
   "cell_type": "code",
   "execution_count": 74,
   "metadata": {
    "execution": {
     "iopub.execute_input": "2022-03-05T00:12:16.963976Z",
     "iopub.status.busy": "2022-03-05T00:12:16.962897Z",
     "iopub.status.idle": "2022-03-05T00:12:16.982765Z",
     "shell.execute_reply": "2022-03-05T00:12:16.981909Z",
     "shell.execute_reply.started": "2022-03-05T00:12:16.963899Z"
    }
   },
   "outputs": [
    {
     "data": {
      "text/html": [
       "<div>\n",
       "<style scoped>\n",
       "    .dataframe tbody tr th:only-of-type {\n",
       "        vertical-align: middle;\n",
       "    }\n",
       "\n",
       "    .dataframe tbody tr th {\n",
       "        vertical-align: top;\n",
       "    }\n",
       "\n",
       "    .dataframe thead th {\n",
       "        text-align: right;\n",
       "    }\n",
       "</style>\n",
       "<table border=\"1\" class=\"dataframe\">\n",
       "  <thead>\n",
       "    <tr style=\"text-align: right;\">\n",
       "      <th></th>\n",
       "      <th>parental_education</th>\n",
       "      <th>count</th>\n",
       "      <th>percent</th>\n",
       "    </tr>\n",
       "  </thead>\n",
       "  <tbody>\n",
       "    <tr>\n",
       "      <th>0</th>\n",
       "      <td>some high school</td>\n",
       "      <td>24</td>\n",
       "      <td>0.269663</td>\n",
       "    </tr>\n",
       "    <tr>\n",
       "      <th>1</th>\n",
       "      <td>some college</td>\n",
       "      <td>18</td>\n",
       "      <td>0.202247</td>\n",
       "    </tr>\n",
       "    <tr>\n",
       "      <th>2</th>\n",
       "      <td>high school</td>\n",
       "      <td>18</td>\n",
       "      <td>0.202247</td>\n",
       "    </tr>\n",
       "    <tr>\n",
       "      <th>3</th>\n",
       "      <td>associate's degree</td>\n",
       "      <td>14</td>\n",
       "      <td>0.157303</td>\n",
       "    </tr>\n",
       "    <tr>\n",
       "      <th>4</th>\n",
       "      <td>bachelor's degree</td>\n",
       "      <td>12</td>\n",
       "      <td>0.134831</td>\n",
       "    </tr>\n",
       "    <tr>\n",
       "      <th>5</th>\n",
       "      <td>master's degree</td>\n",
       "      <td>3</td>\n",
       "      <td>0.033708</td>\n",
       "    </tr>\n",
       "  </tbody>\n",
       "</table>\n",
       "</div>"
      ],
      "text/plain": [
       "   parental_education  count   percent\n",
       "0    some high school     24  0.269663\n",
       "1        some college     18  0.202247\n",
       "2         high school     18  0.202247\n",
       "3  associate's degree     14  0.157303\n",
       "4   bachelor's degree     12  0.134831\n",
       "5     master's degree      3  0.033708"
      ]
     },
     "execution_count": 74,
     "metadata": {},
     "output_type": "execute_result"
    }
   ],
   "source": [
    "a_pEducation_count = data_a['parental_education'].value_counts().to_frame().reset_index().rename(columns={'index':'parental_education','parental_education':'count'})\n",
    "a_pEducation_count['percent'] = (a_pEducation_count['count'] / a_pEducation_count['count'].sum())\n",
    "a_pEducation_count "
   ]
  },
  {
   "cell_type": "code",
   "execution_count": 75,
   "metadata": {
    "execution": {
     "iopub.execute_input": "2022-03-05T00:12:33.431202Z",
     "iopub.status.busy": "2022-03-05T00:12:33.430730Z",
     "iopub.status.idle": "2022-03-05T00:12:33.445636Z",
     "shell.execute_reply": "2022-03-05T00:12:33.445129Z",
     "shell.execute_reply.started": "2022-03-05T00:12:33.431165Z"
    }
   },
   "outputs": [
    {
     "data": {
      "text/html": [
       "<div>\n",
       "<style scoped>\n",
       "    .dataframe tbody tr th:only-of-type {\n",
       "        vertical-align: middle;\n",
       "    }\n",
       "\n",
       "    .dataframe tbody tr th {\n",
       "        vertical-align: top;\n",
       "    }\n",
       "\n",
       "    .dataframe thead th {\n",
       "        text-align: right;\n",
       "    }\n",
       "</style>\n",
       "<table border=\"1\" class=\"dataframe\">\n",
       "  <thead>\n",
       "    <tr style=\"text-align: right;\">\n",
       "      <th></th>\n",
       "      <th>parental_education</th>\n",
       "      <th>count</th>\n",
       "      <th>percent</th>\n",
       "    </tr>\n",
       "  </thead>\n",
       "  <tbody>\n",
       "    <tr>\n",
       "      <th>0</th>\n",
       "      <td>associate's degree</td>\n",
       "      <td>39</td>\n",
       "      <td>0.278571</td>\n",
       "    </tr>\n",
       "    <tr>\n",
       "      <th>1</th>\n",
       "      <td>some college</td>\n",
       "      <td>35</td>\n",
       "      <td>0.250000</td>\n",
       "    </tr>\n",
       "    <tr>\n",
       "      <th>2</th>\n",
       "      <td>high school</td>\n",
       "      <td>22</td>\n",
       "      <td>0.157143</td>\n",
       "    </tr>\n",
       "    <tr>\n",
       "      <th>3</th>\n",
       "      <td>bachelor's degree</td>\n",
       "      <td>18</td>\n",
       "      <td>0.128571</td>\n",
       "    </tr>\n",
       "    <tr>\n",
       "      <th>4</th>\n",
       "      <td>some high school</td>\n",
       "      <td>18</td>\n",
       "      <td>0.128571</td>\n",
       "    </tr>\n",
       "    <tr>\n",
       "      <th>5</th>\n",
       "      <td>master's degree</td>\n",
       "      <td>8</td>\n",
       "      <td>0.057143</td>\n",
       "    </tr>\n",
       "  </tbody>\n",
       "</table>\n",
       "</div>"
      ],
      "text/plain": [
       "   parental_education  count   percent\n",
       "0  associate's degree     39  0.278571\n",
       "1        some college     35  0.250000\n",
       "2         high school     22  0.157143\n",
       "3   bachelor's degree     18  0.128571\n",
       "4    some high school     18  0.128571\n",
       "5     master's degree      8  0.057143"
      ]
     },
     "execution_count": 75,
     "metadata": {},
     "output_type": "execute_result"
    }
   ],
   "source": [
    "e_pEducation_count = data_e['parental_education'].value_counts().to_frame().reset_index().rename(columns={'index':'parental_education','parental_education':'count'})\n",
    "e_pEducation_count['percent'] = (e_pEducation_count['count'] / e_pEducation_count['count'].sum())\n",
    "e_pEducation_count "
   ]
  },
  {
   "cell_type": "code",
   "execution_count": 76,
   "metadata": {
    "execution": {
     "iopub.execute_input": "2022-03-05T00:12:45.997660Z",
     "iopub.status.busy": "2022-03-05T00:12:45.997200Z",
     "iopub.status.idle": "2022-03-05T00:12:46.115394Z",
     "shell.execute_reply": "2022-03-05T00:12:46.114603Z",
     "shell.execute_reply.started": "2022-03-05T00:12:45.997599Z"
    }
   },
   "outputs": [],
   "source": [
    " bars = alt.Chart(a_pEducation_count).mark_bar(stroke = \"white\").encode(\n",
    "    x= alt.X(\"percent:Q\", \n",
    "        title = \"Group A\", \n",
    "        axis = alt.Axis(format='.0%', grid = False, )),\n",
    "    y= alt.Y(\"parental_education:O\", \n",
    "        title=\"\",\n",
    "        axis = alt.Axis(labelAngle=0, labelFontSize=14, labelColor= \"#343a40\", labelFont=\"Arial\") ),    \n",
    "    tooltip = [alt.Tooltip('count', title = 'Count' ), alt.Tooltip ('parental_education:O',title = 'Parental education' ) , alt.Tooltip('percent:Q', format='.1%', title = 'Percent' )],\n",
    "    color=alt.Color(field=\"parental_education\", type=\"nominal\",legend=None ))\n",
    "\n",
    "text = bars.mark_text(\n",
    "    dx=+20,\n",
    "    size=16,\n",
    "    fill = \"black\",\n",
    ").encode(text= alt.Text('percent:Q', format='.0%'))\n",
    "\n",
    "pe_gA = (bars + text).properties(\n",
    "    width = 600,\n",
    "    height= 150,\n",
    ")"
   ]
  },
  {
   "cell_type": "code",
   "execution_count": 77,
   "metadata": {
    "execution": {
     "iopub.execute_input": "2022-03-05T00:12:52.013337Z",
     "iopub.status.busy": "2022-03-05T00:12:52.013045Z",
     "iopub.status.idle": "2022-03-05T00:12:52.182523Z",
     "shell.execute_reply": "2022-03-05T00:12:52.181624Z",
     "shell.execute_reply.started": "2022-03-05T00:12:52.013308Z"
    }
   },
   "outputs": [],
   "source": [
    " bars = alt.Chart(e_pEducation_count).mark_bar(stroke = \"white\").encode(\n",
    "    x= alt.X(\"percent:Q\", \n",
    "        title = \"group E\", \n",
    "        axis = alt.Axis(format='.0%', grid = False, )),\n",
    "    y= alt.Y(\"parental_education:O\", \n",
    "        title=\"\",\n",
    "        axis = alt.Axis(labelAngle=0, labelFontSize=14, labelColor= \"#343a40\", labelFont=\"Arial\") ),    \n",
    "    tooltip = [alt.Tooltip('count', title = 'Count' ), alt.Tooltip ('parental_education:O',title = 'Parental education' ) , alt.Tooltip('percent:Q', format='.1%', title = 'Percent' )],\n",
    "    color=alt.Color(field=\"parental_education\", type=\"nominal\",legend=None ))\n",
    "\n",
    "text = bars.mark_text(\n",
    "    dx=+20,\n",
    "    size=16,\n",
    "    fill = \"black\",\n",
    ").encode(text= alt.Text('percent:Q', format='.0%'))\n",
    "\n",
    "pe_gE = (bars + text).properties(\n",
    "    width = 600,\n",
    "    height= 150,\n",
    ")"
   ]
  },
  {
   "cell_type": "code",
   "execution_count": 78,
   "metadata": {
    "execution": {
     "iopub.execute_input": "2022-03-05T00:12:58.005321Z",
     "iopub.status.busy": "2022-03-05T00:12:58.004964Z",
     "iopub.status.idle": "2022-03-05T00:12:58.175719Z",
     "shell.execute_reply": "2022-03-05T00:12:58.174837Z",
     "shell.execute_reply.started": "2022-03-05T00:12:58.005288Z"
    },
    "scrolled": true
   },
   "outputs": [
    {
     "data": {
      "text/html": [
       "\n",
       "<div id=\"altair-viz-45df2c0083f74bdc9a1a5be712d5136e\"></div>\n",
       "<script type=\"text/javascript\">\n",
       "  var VEGA_DEBUG = (typeof VEGA_DEBUG == \"undefined\") ? {} : VEGA_DEBUG;\n",
       "  (function(spec, embedOpt){\n",
       "    let outputDiv = document.currentScript.previousElementSibling;\n",
       "    if (outputDiv.id !== \"altair-viz-45df2c0083f74bdc9a1a5be712d5136e\") {\n",
       "      outputDiv = document.getElementById(\"altair-viz-45df2c0083f74bdc9a1a5be712d5136e\");\n",
       "    }\n",
       "    const paths = {\n",
       "      \"vega\": \"https://cdn.jsdelivr.net/npm//vega@5?noext\",\n",
       "      \"vega-lib\": \"https://cdn.jsdelivr.net/npm//vega-lib?noext\",\n",
       "      \"vega-lite\": \"https://cdn.jsdelivr.net/npm//vega-lite@4.17.0?noext\",\n",
       "      \"vega-embed\": \"https://cdn.jsdelivr.net/npm//vega-embed@6?noext\",\n",
       "    };\n",
       "\n",
       "    function maybeLoadScript(lib, version) {\n",
       "      var key = `${lib.replace(\"-\", \"\")}_version`;\n",
       "      return (VEGA_DEBUG[key] == version) ?\n",
       "        Promise.resolve(paths[lib]) :\n",
       "        new Promise(function(resolve, reject) {\n",
       "          var s = document.createElement('script');\n",
       "          document.getElementsByTagName(\"head\")[0].appendChild(s);\n",
       "          s.async = true;\n",
       "          s.onload = () => {\n",
       "            VEGA_DEBUG[key] = version;\n",
       "            return resolve(paths[lib]);\n",
       "          };\n",
       "          s.onerror = () => reject(`Error loading script: ${paths[lib]}`);\n",
       "          s.src = paths[lib];\n",
       "        });\n",
       "    }\n",
       "\n",
       "    function showError(err) {\n",
       "      outputDiv.innerHTML = `<div class=\"error\" style=\"color:red;\">${err}</div>`;\n",
       "      throw err;\n",
       "    }\n",
       "\n",
       "    function displayChart(vegaEmbed) {\n",
       "      vegaEmbed(outputDiv, spec, embedOpt)\n",
       "        .catch(err => showError(`Javascript Error: ${err.message}<br>This usually means there's a typo in your chart specification. See the javascript console for the full traceback.`));\n",
       "    }\n",
       "\n",
       "    if(typeof define === \"function\" && define.amd) {\n",
       "      requirejs.config({paths});\n",
       "      require([\"vega-embed\"], displayChart, err => showError(`Error loading script: ${err.message}`));\n",
       "    } else {\n",
       "      maybeLoadScript(\"vega\", \"5\")\n",
       "        .then(() => maybeLoadScript(\"vega-lite\", \"4.17.0\"))\n",
       "        .then(() => maybeLoadScript(\"vega-embed\", \"6\"))\n",
       "        .catch(showError)\n",
       "        .then(() => displayChart(vegaEmbed));\n",
       "    }\n",
       "  })({\"config\": {\"view\": {\"continuousWidth\": 400, \"continuousHeight\": 300, \"strokeWidth\": 0}, \"title\": {\"anchor\": \"middle\", \"font\": \"Arial\", \"fontSize\": 18}}, \"vconcat\": [{\"layer\": [{\"mark\": {\"type\": \"bar\", \"stroke\": \"white\"}, \"encoding\": {\"color\": {\"field\": \"parental_education\", \"legend\": null, \"type\": \"nominal\"}, \"tooltip\": [{\"field\": \"count\", \"title\": \"Count\", \"type\": \"quantitative\"}, {\"field\": \"parental_education\", \"title\": \"Parental education\", \"type\": \"ordinal\"}, {\"field\": \"percent\", \"format\": \".1%\", \"title\": \"Percent\", \"type\": \"quantitative\"}], \"x\": {\"axis\": {\"format\": \".0%\", \"grid\": false}, \"field\": \"percent\", \"title\": \"Group A\", \"type\": \"quantitative\"}, \"y\": {\"axis\": {\"labelAngle\": 0, \"labelColor\": \"#343a40\", \"labelFont\": \"Arial\", \"labelFontSize\": 14}, \"field\": \"parental_education\", \"title\": \"\", \"type\": \"ordinal\"}}}, {\"mark\": {\"type\": \"text\", \"dx\": 20, \"fill\": \"black\", \"size\": 16}, \"encoding\": {\"color\": {\"field\": \"parental_education\", \"legend\": null, \"type\": \"nominal\"}, \"text\": {\"field\": \"percent\", \"format\": \".0%\", \"type\": \"quantitative\"}, \"tooltip\": [{\"field\": \"count\", \"title\": \"Count\", \"type\": \"quantitative\"}, {\"field\": \"parental_education\", \"title\": \"Parental education\", \"type\": \"ordinal\"}, {\"field\": \"percent\", \"format\": \".1%\", \"title\": \"Percent\", \"type\": \"quantitative\"}], \"x\": {\"axis\": {\"format\": \".0%\", \"grid\": false}, \"field\": \"percent\", \"title\": \"Group A\", \"type\": \"quantitative\"}, \"y\": {\"axis\": {\"labelAngle\": 0, \"labelColor\": \"#343a40\", \"labelFont\": \"Arial\", \"labelFontSize\": 14}, \"field\": \"parental_education\", \"title\": \"\", \"type\": \"ordinal\"}}}], \"data\": {\"name\": \"data-81d06bf663129ffb2d1b70c17cd592b0\"}, \"height\": 150, \"width\": 600}, {\"layer\": [{\"mark\": {\"type\": \"bar\", \"stroke\": \"white\"}, \"encoding\": {\"color\": {\"field\": \"parental_education\", \"legend\": null, \"type\": \"nominal\"}, \"tooltip\": [{\"field\": \"count\", \"title\": \"Count\", \"type\": \"quantitative\"}, {\"field\": \"parental_education\", \"title\": \"Parental education\", \"type\": \"ordinal\"}, {\"field\": \"percent\", \"format\": \".1%\", \"title\": \"Percent\", \"type\": \"quantitative\"}], \"x\": {\"axis\": {\"format\": \".0%\", \"grid\": false}, \"field\": \"percent\", \"title\": \"group E\", \"type\": \"quantitative\"}, \"y\": {\"axis\": {\"labelAngle\": 0, \"labelColor\": \"#343a40\", \"labelFont\": \"Arial\", \"labelFontSize\": 14}, \"field\": \"parental_education\", \"title\": \"\", \"type\": \"ordinal\"}}}, {\"mark\": {\"type\": \"text\", \"dx\": 20, \"fill\": \"black\", \"size\": 16}, \"encoding\": {\"color\": {\"field\": \"parental_education\", \"legend\": null, \"type\": \"nominal\"}, \"text\": {\"field\": \"percent\", \"format\": \".0%\", \"type\": \"quantitative\"}, \"tooltip\": [{\"field\": \"count\", \"title\": \"Count\", \"type\": \"quantitative\"}, {\"field\": \"parental_education\", \"title\": \"Parental education\", \"type\": \"ordinal\"}, {\"field\": \"percent\", \"format\": \".1%\", \"title\": \"Percent\", \"type\": \"quantitative\"}], \"x\": {\"axis\": {\"format\": \".0%\", \"grid\": false}, \"field\": \"percent\", \"title\": \"group E\", \"type\": \"quantitative\"}, \"y\": {\"axis\": {\"labelAngle\": 0, \"labelColor\": \"#343a40\", \"labelFont\": \"Arial\", \"labelFontSize\": 14}, \"field\": \"parental_education\", \"title\": \"\", \"type\": \"ordinal\"}}}], \"data\": {\"name\": \"data-622b6843b473561b9dbed4568cce28a8\"}, \"height\": 150, \"width\": 600}], \"title\": \"Parental Education Group A vs Group E \", \"$schema\": \"https://vega.github.io/schema/vega-lite/v4.17.0.json\", \"datasets\": {\"data-81d06bf663129ffb2d1b70c17cd592b0\": [{\"parental_education\": \"some high school\", \"count\": 24, \"percent\": 0.2696629213483146}, {\"parental_education\": \"some college\", \"count\": 18, \"percent\": 0.20224719101123595}, {\"parental_education\": \"high school\", \"count\": 18, \"percent\": 0.20224719101123595}, {\"parental_education\": \"associate's degree\", \"count\": 14, \"percent\": 0.15730337078651685}, {\"parental_education\": \"bachelor's degree\", \"count\": 12, \"percent\": 0.1348314606741573}, {\"parental_education\": \"master's degree\", \"count\": 3, \"percent\": 0.033707865168539325}], \"data-622b6843b473561b9dbed4568cce28a8\": [{\"parental_education\": \"associate's degree\", \"count\": 39, \"percent\": 0.2785714285714286}, {\"parental_education\": \"some college\", \"count\": 35, \"percent\": 0.25}, {\"parental_education\": \"high school\", \"count\": 22, \"percent\": 0.15714285714285714}, {\"parental_education\": \"bachelor's degree\", \"count\": 18, \"percent\": 0.12857142857142856}, {\"parental_education\": \"some high school\", \"count\": 18, \"percent\": 0.12857142857142856}, {\"parental_education\": \"master's degree\", \"count\": 8, \"percent\": 0.05714285714285714}]}}, {\"mode\": \"vega-lite\"});\n",
       "</script>"
      ],
      "text/plain": [
       "alt.VConcatChart(...)"
      ]
     },
     "execution_count": 78,
     "metadata": {},
     "output_type": "execute_result"
    }
   ],
   "source": [
    "alt.vconcat(pe_gA, pe_gE,).properties(\n",
    "    title = 'Parental Education Group A vs Group E ',\n",
    ").configure_title(\n",
    "    fontSize = 18,\n",
    "    font = \"Arial\",\n",
    "    anchor = \"middle\"\n",
    ").configure_view(\n",
    "    strokeWidth = 0,\n",
    ")"
   ]
  },
  {
   "cell_type": "code",
   "execution_count": 84,
   "metadata": {
    "execution": {
     "iopub.execute_input": "2022-03-04T22:31:55.388543Z",
     "iopub.status.busy": "2022-03-04T22:31:55.388039Z",
     "iopub.status.idle": "2022-03-04T22:31:55.405529Z",
     "shell.execute_reply": "2022-03-04T22:31:55.404429Z",
     "shell.execute_reply.started": "2022-03-04T22:31:55.388491Z"
    }
   },
   "outputs": [
    {
     "data": {
      "text/html": [
       "<div>\n",
       "<style scoped>\n",
       "    .dataframe tbody tr th:only-of-type {\n",
       "        vertical-align: middle;\n",
       "    }\n",
       "\n",
       "    .dataframe tbody tr th {\n",
       "        vertical-align: top;\n",
       "    }\n",
       "\n",
       "    .dataframe thead th {\n",
       "        text-align: right;\n",
       "    }\n",
       "</style>\n",
       "<table border=\"1\" class=\"dataframe\">\n",
       "  <thead>\n",
       "    <tr style=\"text-align: right;\">\n",
       "      <th></th>\n",
       "      <th>lunch</th>\n",
       "      <th>count</th>\n",
       "      <th>percent</th>\n",
       "    </tr>\n",
       "  </thead>\n",
       "  <tbody>\n",
       "    <tr>\n",
       "      <th>0</th>\n",
       "      <td>standard</td>\n",
       "      <td>53</td>\n",
       "      <td>0.595506</td>\n",
       "    </tr>\n",
       "    <tr>\n",
       "      <th>1</th>\n",
       "      <td>free/reduced</td>\n",
       "      <td>36</td>\n",
       "      <td>0.404494</td>\n",
       "    </tr>\n",
       "  </tbody>\n",
       "</table>\n",
       "</div>"
      ],
      "text/plain": [
       "          lunch  count   percent\n",
       "0      standard     53  0.595506\n",
       "1  free/reduced     36  0.404494"
      ]
     },
     "execution_count": 84,
     "metadata": {},
     "output_type": "execute_result"
    }
   ],
   "source": [
    "a_lunch_count = data_a ['lunch'].value_counts().to_frame().reset_index().rename(columns={'index':'lunch','lunch':'count'})\n",
    "a_lunch_count['percent'] = (a_lunch_count['count'] / a_lunch_count['count'].sum())\n",
    "a_lunch_count"
   ]
  },
  {
   "cell_type": "code",
   "execution_count": 86,
   "metadata": {
    "execution": {
     "iopub.execute_input": "2022-03-04T22:32:30.982468Z",
     "iopub.status.busy": "2022-03-04T22:32:30.981777Z",
     "iopub.status.idle": "2022-03-04T22:32:30.999226Z",
     "shell.execute_reply": "2022-03-04T22:32:30.998043Z",
     "shell.execute_reply.started": "2022-03-04T22:32:30.982429Z"
    }
   },
   "outputs": [
    {
     "data": {
      "text/html": [
       "<div>\n",
       "<style scoped>\n",
       "    .dataframe tbody tr th:only-of-type {\n",
       "        vertical-align: middle;\n",
       "    }\n",
       "\n",
       "    .dataframe tbody tr th {\n",
       "        vertical-align: top;\n",
       "    }\n",
       "\n",
       "    .dataframe thead th {\n",
       "        text-align: right;\n",
       "    }\n",
       "</style>\n",
       "<table border=\"1\" class=\"dataframe\">\n",
       "  <thead>\n",
       "    <tr style=\"text-align: right;\">\n",
       "      <th></th>\n",
       "      <th>lunch</th>\n",
       "      <th>count</th>\n",
       "      <th>percent</th>\n",
       "    </tr>\n",
       "  </thead>\n",
       "  <tbody>\n",
       "    <tr>\n",
       "      <th>0</th>\n",
       "      <td>standard</td>\n",
       "      <td>99</td>\n",
       "      <td>0.707143</td>\n",
       "    </tr>\n",
       "    <tr>\n",
       "      <th>1</th>\n",
       "      <td>free/reduced</td>\n",
       "      <td>41</td>\n",
       "      <td>0.292857</td>\n",
       "    </tr>\n",
       "  </tbody>\n",
       "</table>\n",
       "</div>"
      ],
      "text/plain": [
       "          lunch  count   percent\n",
       "0      standard     99  0.707143\n",
       "1  free/reduced     41  0.292857"
      ]
     },
     "execution_count": 86,
     "metadata": {},
     "output_type": "execute_result"
    }
   ],
   "source": [
    "e_lunch_count = data_e ['lunch'].value_counts().to_frame().reset_index().rename(columns={'index':'lunch','lunch':'count'})\n",
    "e_lunch_count['percent'] = (e_lunch_count['count'] / e_lunch_count['count'].sum())\n",
    "e_lunch_count"
   ]
  },
  {
   "cell_type": "code",
   "execution_count": 87,
   "metadata": {
    "execution": {
     "iopub.execute_input": "2022-03-04T20:41:58.45301Z",
     "iopub.status.busy": "2022-03-04T20:41:58.452402Z",
     "iopub.status.idle": "2022-03-04T20:41:58.707376Z",
     "shell.execute_reply": "2022-03-04T20:41:58.706258Z",
     "shell.execute_reply.started": "2022-03-04T20:41:58.452957Z"
    }
   },
   "outputs": [],
   "source": [
    " bars = alt.Chart(a_lunch_count).mark_bar(stroke = \"white\").encode(\n",
    "    x= alt.X(\"percent:Q\", \n",
    "        title = \"group A\", \n",
    "        axis = alt.Axis(format='.0%', grid = False, )),\n",
    "    y= alt.Y(\"lunch:O\", \n",
    "        title=\"\",\n",
    "        axis = alt.Axis(labelAngle=0, labelFontSize=14, labelColor= \"#343a40\", labelFont=\"Arial\") ),    \n",
    "    tooltip = [alt.Tooltip('count', title = 'Count' ), alt.Tooltip ('lunch:O',title = 'Lunch' ) , alt.Tooltip('percent:Q', format='.1%', title = 'Percent' )],\n",
    "    color=alt.Color(field=\"lunch\", type=\"nominal\",legend=None ))\n",
    "\n",
    "text = bars.mark_text(\n",
    "    dx=+20,\n",
    "    size=16,\n",
    "    fill = \"black\",\n",
    ").encode(text= alt.Text('percent:Q', format='.0%'))\n",
    "\n",
    "l_gA = (bars + text).properties(\n",
    "    width = 600,\n",
    "    height= 150,\n",
    ")"
   ]
  },
  {
   "cell_type": "code",
   "execution_count": 88,
   "metadata": {
    "execution": {
     "iopub.execute_input": "2022-03-04T20:41:58.45301Z",
     "iopub.status.busy": "2022-03-04T20:41:58.452402Z",
     "iopub.status.idle": "2022-03-04T20:41:58.707376Z",
     "shell.execute_reply": "2022-03-04T20:41:58.706258Z",
     "shell.execute_reply.started": "2022-03-04T20:41:58.452957Z"
    }
   },
   "outputs": [],
   "source": [
    " bars = alt.Chart(e_lunch_count).mark_bar(stroke = \"white\").encode(\n",
    "    x= alt.X(\"percent:Q\", \n",
    "        title = \"group E\", \n",
    "        axis = alt.Axis(format='.0%', grid = False, )),\n",
    "    y= alt.Y(\"lunch:O\", \n",
    "        title=\"\",\n",
    "        axis = alt.Axis(labelAngle=0, labelFontSize=14, labelColor= \"#343a40\", labelFont=\"Arial\") ),    \n",
    "    tooltip = [alt.Tooltip('count', title = 'Count' ), alt.Tooltip ('lunch:O',title = 'Lunch' ) , alt.Tooltip('percent:Q', format='.1%', title = 'Percent' )],\n",
    "    color=alt.Color(field=\"lunch\", type=\"nominal\",legend=None ))\n",
    "\n",
    "text = bars.mark_text(\n",
    "    dx=+20,\n",
    "    size=16,\n",
    "    fill = \"black\",\n",
    ").encode(text= alt.Text('percent:Q', format='.0%'))\n",
    "\n",
    "l_gE = (bars + text).properties(\n",
    "    width = 600,\n",
    "    height= 150,\n",
    ")"
   ]
  },
  {
   "cell_type": "code",
   "execution_count": 89,
   "metadata": {
    "execution": {
     "iopub.execute_input": "2022-03-05T00:12:58.005321Z",
     "iopub.status.busy": "2022-03-05T00:12:58.004964Z",
     "iopub.status.idle": "2022-03-05T00:12:58.175719Z",
     "shell.execute_reply": "2022-03-05T00:12:58.174837Z",
     "shell.execute_reply.started": "2022-03-05T00:12:58.005288Z"
    },
    "scrolled": true
   },
   "outputs": [
    {
     "data": {
      "text/html": [
       "\n",
       "<div id=\"altair-viz-1d62556e8b104aa1a2f4e588a1e2d819\"></div>\n",
       "<script type=\"text/javascript\">\n",
       "  var VEGA_DEBUG = (typeof VEGA_DEBUG == \"undefined\") ? {} : VEGA_DEBUG;\n",
       "  (function(spec, embedOpt){\n",
       "    let outputDiv = document.currentScript.previousElementSibling;\n",
       "    if (outputDiv.id !== \"altair-viz-1d62556e8b104aa1a2f4e588a1e2d819\") {\n",
       "      outputDiv = document.getElementById(\"altair-viz-1d62556e8b104aa1a2f4e588a1e2d819\");\n",
       "    }\n",
       "    const paths = {\n",
       "      \"vega\": \"https://cdn.jsdelivr.net/npm//vega@5?noext\",\n",
       "      \"vega-lib\": \"https://cdn.jsdelivr.net/npm//vega-lib?noext\",\n",
       "      \"vega-lite\": \"https://cdn.jsdelivr.net/npm//vega-lite@4.17.0?noext\",\n",
       "      \"vega-embed\": \"https://cdn.jsdelivr.net/npm//vega-embed@6?noext\",\n",
       "    };\n",
       "\n",
       "    function maybeLoadScript(lib, version) {\n",
       "      var key = `${lib.replace(\"-\", \"\")}_version`;\n",
       "      return (VEGA_DEBUG[key] == version) ?\n",
       "        Promise.resolve(paths[lib]) :\n",
       "        new Promise(function(resolve, reject) {\n",
       "          var s = document.createElement('script');\n",
       "          document.getElementsByTagName(\"head\")[0].appendChild(s);\n",
       "          s.async = true;\n",
       "          s.onload = () => {\n",
       "            VEGA_DEBUG[key] = version;\n",
       "            return resolve(paths[lib]);\n",
       "          };\n",
       "          s.onerror = () => reject(`Error loading script: ${paths[lib]}`);\n",
       "          s.src = paths[lib];\n",
       "        });\n",
       "    }\n",
       "\n",
       "    function showError(err) {\n",
       "      outputDiv.innerHTML = `<div class=\"error\" style=\"color:red;\">${err}</div>`;\n",
       "      throw err;\n",
       "    }\n",
       "\n",
       "    function displayChart(vegaEmbed) {\n",
       "      vegaEmbed(outputDiv, spec, embedOpt)\n",
       "        .catch(err => showError(`Javascript Error: ${err.message}<br>This usually means there's a typo in your chart specification. See the javascript console for the full traceback.`));\n",
       "    }\n",
       "\n",
       "    if(typeof define === \"function\" && define.amd) {\n",
       "      requirejs.config({paths});\n",
       "      require([\"vega-embed\"], displayChart, err => showError(`Error loading script: ${err.message}`));\n",
       "    } else {\n",
       "      maybeLoadScript(\"vega\", \"5\")\n",
       "        .then(() => maybeLoadScript(\"vega-lite\", \"4.17.0\"))\n",
       "        .then(() => maybeLoadScript(\"vega-embed\", \"6\"))\n",
       "        .catch(showError)\n",
       "        .then(() => displayChart(vegaEmbed));\n",
       "    }\n",
       "  })({\"config\": {\"view\": {\"continuousWidth\": 400, \"continuousHeight\": 300, \"strokeWidth\": 0}, \"title\": {\"anchor\": \"middle\", \"font\": \"Arial\", \"fontSize\": 18}}, \"vconcat\": [{\"layer\": [{\"mark\": {\"type\": \"bar\", \"stroke\": \"white\"}, \"encoding\": {\"color\": {\"field\": \"lunch\", \"legend\": null, \"type\": \"nominal\"}, \"tooltip\": [{\"field\": \"count\", \"title\": \"Count\", \"type\": \"quantitative\"}, {\"field\": \"lunch\", \"title\": \"Lunch\", \"type\": \"ordinal\"}, {\"field\": \"percent\", \"format\": \".1%\", \"title\": \"Percent\", \"type\": \"quantitative\"}], \"x\": {\"axis\": {\"format\": \".0%\", \"grid\": false}, \"field\": \"percent\", \"title\": \"group A\", \"type\": \"quantitative\"}, \"y\": {\"axis\": {\"labelAngle\": 0, \"labelColor\": \"#343a40\", \"labelFont\": \"Arial\", \"labelFontSize\": 14}, \"field\": \"lunch\", \"title\": \"\", \"type\": \"ordinal\"}}}, {\"mark\": {\"type\": \"text\", \"dx\": 20, \"fill\": \"black\", \"size\": 16}, \"encoding\": {\"color\": {\"field\": \"lunch\", \"legend\": null, \"type\": \"nominal\"}, \"text\": {\"field\": \"percent\", \"format\": \".0%\", \"type\": \"quantitative\"}, \"tooltip\": [{\"field\": \"count\", \"title\": \"Count\", \"type\": \"quantitative\"}, {\"field\": \"lunch\", \"title\": \"Lunch\", \"type\": \"ordinal\"}, {\"field\": \"percent\", \"format\": \".1%\", \"title\": \"Percent\", \"type\": \"quantitative\"}], \"x\": {\"axis\": {\"format\": \".0%\", \"grid\": false}, \"field\": \"percent\", \"title\": \"group A\", \"type\": \"quantitative\"}, \"y\": {\"axis\": {\"labelAngle\": 0, \"labelColor\": \"#343a40\", \"labelFont\": \"Arial\", \"labelFontSize\": 14}, \"field\": \"lunch\", \"title\": \"\", \"type\": \"ordinal\"}}}], \"data\": {\"name\": \"data-131addada92aabcb34a1bdb8a42110b0\"}, \"height\": 150, \"width\": 600}, {\"layer\": [{\"mark\": {\"type\": \"bar\", \"stroke\": \"white\"}, \"encoding\": {\"color\": {\"field\": \"lunch\", \"legend\": null, \"type\": \"nominal\"}, \"tooltip\": [{\"field\": \"count\", \"title\": \"Count\", \"type\": \"quantitative\"}, {\"field\": \"lunch\", \"title\": \"Lunch\", \"type\": \"ordinal\"}, {\"field\": \"percent\", \"format\": \".1%\", \"title\": \"Percent\", \"type\": \"quantitative\"}], \"x\": {\"axis\": {\"format\": \".0%\", \"grid\": false}, \"field\": \"percent\", \"title\": \"group E\", \"type\": \"quantitative\"}, \"y\": {\"axis\": {\"labelAngle\": 0, \"labelColor\": \"#343a40\", \"labelFont\": \"Arial\", \"labelFontSize\": 14}, \"field\": \"lunch\", \"title\": \"\", \"type\": \"ordinal\"}}}, {\"mark\": {\"type\": \"text\", \"dx\": 20, \"fill\": \"black\", \"size\": 16}, \"encoding\": {\"color\": {\"field\": \"lunch\", \"legend\": null, \"type\": \"nominal\"}, \"text\": {\"field\": \"percent\", \"format\": \".0%\", \"type\": \"quantitative\"}, \"tooltip\": [{\"field\": \"count\", \"title\": \"Count\", \"type\": \"quantitative\"}, {\"field\": \"lunch\", \"title\": \"Lunch\", \"type\": \"ordinal\"}, {\"field\": \"percent\", \"format\": \".1%\", \"title\": \"Percent\", \"type\": \"quantitative\"}], \"x\": {\"axis\": {\"format\": \".0%\", \"grid\": false}, \"field\": \"percent\", \"title\": \"group E\", \"type\": \"quantitative\"}, \"y\": {\"axis\": {\"labelAngle\": 0, \"labelColor\": \"#343a40\", \"labelFont\": \"Arial\", \"labelFontSize\": 14}, \"field\": \"lunch\", \"title\": \"\", \"type\": \"ordinal\"}}}], \"data\": {\"name\": \"data-162c70b7f042bd36ae1a682bcec98850\"}, \"height\": 150, \"width\": 600}], \"title\": \"Lunch - Group A vs Group E \", \"$schema\": \"https://vega.github.io/schema/vega-lite/v4.17.0.json\", \"datasets\": {\"data-131addada92aabcb34a1bdb8a42110b0\": [{\"lunch\": \"standard\", \"count\": 53, \"percent\": 0.5955056179775281}, {\"lunch\": \"free/reduced\", \"count\": 36, \"percent\": 0.4044943820224719}], \"data-162c70b7f042bd36ae1a682bcec98850\": [{\"lunch\": \"standard\", \"count\": 99, \"percent\": 0.7071428571428572}, {\"lunch\": \"free/reduced\", \"count\": 41, \"percent\": 0.29285714285714287}]}}, {\"mode\": \"vega-lite\"});\n",
       "</script>"
      ],
      "text/plain": [
       "alt.VConcatChart(...)"
      ]
     },
     "execution_count": 89,
     "metadata": {},
     "output_type": "execute_result"
    }
   ],
   "source": [
    "alt.vconcat(l_gA, l_gE,).properties(\n",
    "    title = 'Lunch - Group A vs Group E ',\n",
    ").configure_title(\n",
    "    fontSize = 18,\n",
    "    font = \"Arial\",\n",
    "    anchor = \"middle\"\n",
    ").configure_view(\n",
    "    strokeWidth = 0,\n",
    ")"
   ]
  },
  {
   "cell_type": "code",
   "execution_count": 90,
   "metadata": {
    "execution": {
     "iopub.execute_input": "2022-03-04T22:31:03.424139Z",
     "iopub.status.busy": "2022-03-04T22:31:03.423777Z",
     "iopub.status.idle": "2022-03-04T22:31:03.441172Z",
     "shell.execute_reply": "2022-03-04T22:31:03.439856Z",
     "shell.execute_reply.started": "2022-03-04T22:31:03.424106Z"
    }
   },
   "outputs": [
    {
     "data": {
      "text/html": [
       "<div>\n",
       "<style scoped>\n",
       "    .dataframe tbody tr th:only-of-type {\n",
       "        vertical-align: middle;\n",
       "    }\n",
       "\n",
       "    .dataframe tbody tr th {\n",
       "        vertical-align: top;\n",
       "    }\n",
       "\n",
       "    .dataframe thead th {\n",
       "        text-align: right;\n",
       "    }\n",
       "</style>\n",
       "<table border=\"1\" class=\"dataframe\">\n",
       "  <thead>\n",
       "    <tr style=\"text-align: right;\">\n",
       "      <th></th>\n",
       "      <th>course</th>\n",
       "      <th>count</th>\n",
       "      <th>percent</th>\n",
       "    </tr>\n",
       "  </thead>\n",
       "  <tbody>\n",
       "    <tr>\n",
       "      <th>0</th>\n",
       "      <td>none</td>\n",
       "      <td>58</td>\n",
       "      <td>0.651685</td>\n",
       "    </tr>\n",
       "    <tr>\n",
       "      <th>1</th>\n",
       "      <td>completed</td>\n",
       "      <td>31</td>\n",
       "      <td>0.348315</td>\n",
       "    </tr>\n",
       "  </tbody>\n",
       "</table>\n",
       "</div>"
      ],
      "text/plain": [
       "      course  count   percent\n",
       "0       none     58  0.651685\n",
       "1  completed     31  0.348315"
      ]
     },
     "execution_count": 90,
     "metadata": {},
     "output_type": "execute_result"
    }
   ],
   "source": [
    "a_course_count = data_a ['course'].value_counts().to_frame().reset_index().rename(columns={'index':'course','course':'count'})\n",
    "a_course_count['percent'] = (a_course_count['count'] / a_course_count['count'].sum())\n",
    "a_course_count"
   ]
  },
  {
   "cell_type": "code",
   "execution_count": 91,
   "metadata": {
    "execution": {
     "iopub.execute_input": "2022-03-04T22:31:15.118844Z",
     "iopub.status.busy": "2022-03-04T22:31:15.118026Z",
     "iopub.status.idle": "2022-03-04T22:31:15.133429Z",
     "shell.execute_reply": "2022-03-04T22:31:15.132701Z",
     "shell.execute_reply.started": "2022-03-04T22:31:15.118805Z"
    }
   },
   "outputs": [
    {
     "data": {
      "text/html": [
       "<div>\n",
       "<style scoped>\n",
       "    .dataframe tbody tr th:only-of-type {\n",
       "        vertical-align: middle;\n",
       "    }\n",
       "\n",
       "    .dataframe tbody tr th {\n",
       "        vertical-align: top;\n",
       "    }\n",
       "\n",
       "    .dataframe thead th {\n",
       "        text-align: right;\n",
       "    }\n",
       "</style>\n",
       "<table border=\"1\" class=\"dataframe\">\n",
       "  <thead>\n",
       "    <tr style=\"text-align: right;\">\n",
       "      <th></th>\n",
       "      <th>course</th>\n",
       "      <th>count</th>\n",
       "      <th>percent</th>\n",
       "    </tr>\n",
       "  </thead>\n",
       "  <tbody>\n",
       "    <tr>\n",
       "      <th>0</th>\n",
       "      <td>none</td>\n",
       "      <td>80</td>\n",
       "      <td>0.571429</td>\n",
       "    </tr>\n",
       "    <tr>\n",
       "      <th>1</th>\n",
       "      <td>completed</td>\n",
       "      <td>60</td>\n",
       "      <td>0.428571</td>\n",
       "    </tr>\n",
       "  </tbody>\n",
       "</table>\n",
       "</div>"
      ],
      "text/plain": [
       "      course  count   percent\n",
       "0       none     80  0.571429\n",
       "1  completed     60  0.428571"
      ]
     },
     "execution_count": 91,
     "metadata": {},
     "output_type": "execute_result"
    }
   ],
   "source": [
    "e_course_count = data_e ['course'].value_counts().to_frame().reset_index().rename(columns={'index':'course','course':'count'})\n",
    "e_course_count['percent'] = (e_course_count['count'] / e_course_count['count'].sum())\n",
    "e_course_count"
   ]
  },
  {
   "cell_type": "code",
   "execution_count": 92,
   "metadata": {
    "execution": {
     "iopub.execute_input": "2022-03-04T20:42:08.49616Z",
     "iopub.status.busy": "2022-03-04T20:42:08.4949Z",
     "iopub.status.idle": "2022-03-04T20:42:08.749239Z",
     "shell.execute_reply": "2022-03-04T20:42:08.748509Z",
     "shell.execute_reply.started": "2022-03-04T20:42:08.496113Z"
    }
   },
   "outputs": [],
   "source": [
    " bars = alt.Chart(a_course_count).mark_bar(stroke = \"white\").encode(\n",
    "    x= alt.X(\"percent:Q\", \n",
    "        title = \"group A\", \n",
    "        axis = alt.Axis(format='.0%', grid = False, )),\n",
    "    y= alt.Y(\"course:O\", \n",
    "        title=\"\",\n",
    "        axis = alt.Axis(labelAngle=0, labelFontSize=14, labelColor= \"#343a40\", labelFont=\"Arial\") ),    \n",
    "    tooltip = [alt.Tooltip('count', title = 'Count' ), alt.Tooltip ('course:O',title = 'Preparation course' ) , alt.Tooltip('percent:Q', format='.1%', title = 'Percent' )],\n",
    "    color=alt.Color(field=\"course\", type=\"nominal\",legend=None ))\n",
    "\n",
    "text = bars.mark_text(\n",
    "    dx=+20,\n",
    "    size=16,\n",
    "    fill = \"black\",\n",
    ").encode(text= alt.Text('percent:Q', format='.0%'))\n",
    "\n",
    "c_gA =(bars + text).properties(\n",
    "    width = 600,\n",
    "    height= 150,\n",
    ")"
   ]
  },
  {
   "cell_type": "code",
   "execution_count": 93,
   "metadata": {
    "execution": {
     "iopub.execute_input": "2022-03-04T20:42:08.49616Z",
     "iopub.status.busy": "2022-03-04T20:42:08.4949Z",
     "iopub.status.idle": "2022-03-04T20:42:08.749239Z",
     "shell.execute_reply": "2022-03-04T20:42:08.748509Z",
     "shell.execute_reply.started": "2022-03-04T20:42:08.496113Z"
    }
   },
   "outputs": [],
   "source": [
    " bars = alt.Chart(e_course_count).mark_bar(stroke = \"white\").encode(\n",
    "    x= alt.X(\"percent:Q\", \n",
    "        title = \"group E\", \n",
    "        axis = alt.Axis(format='.0%', grid = False, )),\n",
    "    y= alt.Y(\"course:O\", \n",
    "        title=\"\",\n",
    "        axis = alt.Axis(labelAngle=0, labelFontSize=14, labelColor= \"#343a40\", labelFont=\"Arial\") ),    \n",
    "    tooltip = [alt.Tooltip('count', title = 'Count' ), alt.Tooltip ('course:O',title = 'Preparation course' ) , alt.Tooltip('percent:Q', format='.1%', title = 'Percent' )],\n",
    "    color=alt.Color(field=\"course\", type=\"nominal\",legend=None ))\n",
    "\n",
    "text = bars.mark_text(\n",
    "    dx=+20,\n",
    "    size=16,\n",
    "    fill = \"black\",\n",
    ").encode(text= alt.Text('percent:Q', format='.0%'))\n",
    "\n",
    "c_gE = (bars + text).properties(\n",
    "    width = 600,\n",
    "    height= 150,\n",
    ")"
   ]
  },
  {
   "cell_type": "code",
   "execution_count": 95,
   "metadata": {
    "execution": {
     "iopub.execute_input": "2022-03-05T00:12:58.005321Z",
     "iopub.status.busy": "2022-03-05T00:12:58.004964Z",
     "iopub.status.idle": "2022-03-05T00:12:58.175719Z",
     "shell.execute_reply": "2022-03-05T00:12:58.174837Z",
     "shell.execute_reply.started": "2022-03-05T00:12:58.005288Z"
    }
   },
   "outputs": [
    {
     "data": {
      "text/html": [
       "\n",
       "<div id=\"altair-viz-4867a3d8f84b401997c02d21b644c74c\"></div>\n",
       "<script type=\"text/javascript\">\n",
       "  var VEGA_DEBUG = (typeof VEGA_DEBUG == \"undefined\") ? {} : VEGA_DEBUG;\n",
       "  (function(spec, embedOpt){\n",
       "    let outputDiv = document.currentScript.previousElementSibling;\n",
       "    if (outputDiv.id !== \"altair-viz-4867a3d8f84b401997c02d21b644c74c\") {\n",
       "      outputDiv = document.getElementById(\"altair-viz-4867a3d8f84b401997c02d21b644c74c\");\n",
       "    }\n",
       "    const paths = {\n",
       "      \"vega\": \"https://cdn.jsdelivr.net/npm//vega@5?noext\",\n",
       "      \"vega-lib\": \"https://cdn.jsdelivr.net/npm//vega-lib?noext\",\n",
       "      \"vega-lite\": \"https://cdn.jsdelivr.net/npm//vega-lite@4.17.0?noext\",\n",
       "      \"vega-embed\": \"https://cdn.jsdelivr.net/npm//vega-embed@6?noext\",\n",
       "    };\n",
       "\n",
       "    function maybeLoadScript(lib, version) {\n",
       "      var key = `${lib.replace(\"-\", \"\")}_version`;\n",
       "      return (VEGA_DEBUG[key] == version) ?\n",
       "        Promise.resolve(paths[lib]) :\n",
       "        new Promise(function(resolve, reject) {\n",
       "          var s = document.createElement('script');\n",
       "          document.getElementsByTagName(\"head\")[0].appendChild(s);\n",
       "          s.async = true;\n",
       "          s.onload = () => {\n",
       "            VEGA_DEBUG[key] = version;\n",
       "            return resolve(paths[lib]);\n",
       "          };\n",
       "          s.onerror = () => reject(`Error loading script: ${paths[lib]}`);\n",
       "          s.src = paths[lib];\n",
       "        });\n",
       "    }\n",
       "\n",
       "    function showError(err) {\n",
       "      outputDiv.innerHTML = `<div class=\"error\" style=\"color:red;\">${err}</div>`;\n",
       "      throw err;\n",
       "    }\n",
       "\n",
       "    function displayChart(vegaEmbed) {\n",
       "      vegaEmbed(outputDiv, spec, embedOpt)\n",
       "        .catch(err => showError(`Javascript Error: ${err.message}<br>This usually means there's a typo in your chart specification. See the javascript console for the full traceback.`));\n",
       "    }\n",
       "\n",
       "    if(typeof define === \"function\" && define.amd) {\n",
       "      requirejs.config({paths});\n",
       "      require([\"vega-embed\"], displayChart, err => showError(`Error loading script: ${err.message}`));\n",
       "    } else {\n",
       "      maybeLoadScript(\"vega\", \"5\")\n",
       "        .then(() => maybeLoadScript(\"vega-lite\", \"4.17.0\"))\n",
       "        .then(() => maybeLoadScript(\"vega-embed\", \"6\"))\n",
       "        .catch(showError)\n",
       "        .then(() => displayChart(vegaEmbed));\n",
       "    }\n",
       "  })({\"config\": {\"view\": {\"continuousWidth\": 400, \"continuousHeight\": 300, \"strokeWidth\": 0}, \"title\": {\"anchor\": \"middle\", \"font\": \"Arial\", \"fontSize\": 18}}, \"vconcat\": [{\"layer\": [{\"mark\": {\"type\": \"bar\", \"stroke\": \"white\"}, \"encoding\": {\"color\": {\"field\": \"course\", \"legend\": null, \"type\": \"nominal\"}, \"tooltip\": [{\"field\": \"count\", \"title\": \"Count\", \"type\": \"quantitative\"}, {\"field\": \"course\", \"title\": \"Preparation course\", \"type\": \"ordinal\"}, {\"field\": \"percent\", \"format\": \".1%\", \"title\": \"Percent\", \"type\": \"quantitative\"}], \"x\": {\"axis\": {\"format\": \".0%\", \"grid\": false}, \"field\": \"percent\", \"title\": \"group A\", \"type\": \"quantitative\"}, \"y\": {\"axis\": {\"labelAngle\": 0, \"labelColor\": \"#343a40\", \"labelFont\": \"Arial\", \"labelFontSize\": 14}, \"field\": \"course\", \"title\": \"\", \"type\": \"ordinal\"}}}, {\"mark\": {\"type\": \"text\", \"dx\": 20, \"fill\": \"black\", \"size\": 16}, \"encoding\": {\"color\": {\"field\": \"course\", \"legend\": null, \"type\": \"nominal\"}, \"text\": {\"field\": \"percent\", \"format\": \".0%\", \"type\": \"quantitative\"}, \"tooltip\": [{\"field\": \"count\", \"title\": \"Count\", \"type\": \"quantitative\"}, {\"field\": \"course\", \"title\": \"Preparation course\", \"type\": \"ordinal\"}, {\"field\": \"percent\", \"format\": \".1%\", \"title\": \"Percent\", \"type\": \"quantitative\"}], \"x\": {\"axis\": {\"format\": \".0%\", \"grid\": false}, \"field\": \"percent\", \"title\": \"group A\", \"type\": \"quantitative\"}, \"y\": {\"axis\": {\"labelAngle\": 0, \"labelColor\": \"#343a40\", \"labelFont\": \"Arial\", \"labelFontSize\": 14}, \"field\": \"course\", \"title\": \"\", \"type\": \"ordinal\"}}}], \"data\": {\"name\": \"data-cef2d8c6cda80a2cab3581a173badbd2\"}, \"height\": 150, \"width\": 600}, {\"layer\": [{\"mark\": {\"type\": \"bar\", \"stroke\": \"white\"}, \"encoding\": {\"color\": {\"field\": \"course\", \"legend\": null, \"type\": \"nominal\"}, \"tooltip\": [{\"field\": \"count\", \"title\": \"Count\", \"type\": \"quantitative\"}, {\"field\": \"course\", \"title\": \"Preparation course\", \"type\": \"ordinal\"}, {\"field\": \"percent\", \"format\": \".1%\", \"title\": \"Percent\", \"type\": \"quantitative\"}], \"x\": {\"axis\": {\"format\": \".0%\", \"grid\": false}, \"field\": \"percent\", \"title\": \"group E\", \"type\": \"quantitative\"}, \"y\": {\"axis\": {\"labelAngle\": 0, \"labelColor\": \"#343a40\", \"labelFont\": \"Arial\", \"labelFontSize\": 14}, \"field\": \"course\", \"title\": \"\", \"type\": \"ordinal\"}}}, {\"mark\": {\"type\": \"text\", \"dx\": 20, \"fill\": \"black\", \"size\": 16}, \"encoding\": {\"color\": {\"field\": \"course\", \"legend\": null, \"type\": \"nominal\"}, \"text\": {\"field\": \"percent\", \"format\": \".0%\", \"type\": \"quantitative\"}, \"tooltip\": [{\"field\": \"count\", \"title\": \"Count\", \"type\": \"quantitative\"}, {\"field\": \"course\", \"title\": \"Preparation course\", \"type\": \"ordinal\"}, {\"field\": \"percent\", \"format\": \".1%\", \"title\": \"Percent\", \"type\": \"quantitative\"}], \"x\": {\"axis\": {\"format\": \".0%\", \"grid\": false}, \"field\": \"percent\", \"title\": \"group E\", \"type\": \"quantitative\"}, \"y\": {\"axis\": {\"labelAngle\": 0, \"labelColor\": \"#343a40\", \"labelFont\": \"Arial\", \"labelFontSize\": 14}, \"field\": \"course\", \"title\": \"\", \"type\": \"ordinal\"}}}], \"data\": {\"name\": \"data-d0c6603310c67d77ba03c2ccfd5d4a71\"}, \"height\": 150, \"width\": 600}], \"title\": \"Test Preparation - Course Group A vs Group E\", \"$schema\": \"https://vega.github.io/schema/vega-lite/v4.17.0.json\", \"datasets\": {\"data-cef2d8c6cda80a2cab3581a173badbd2\": [{\"course\": \"none\", \"count\": 58, \"percent\": 0.651685393258427}, {\"course\": \"completed\", \"count\": 31, \"percent\": 0.34831460674157305}], \"data-d0c6603310c67d77ba03c2ccfd5d4a71\": [{\"course\": \"none\", \"count\": 80, \"percent\": 0.5714285714285714}, {\"course\": \"completed\", \"count\": 60, \"percent\": 0.42857142857142855}]}}, {\"mode\": \"vega-lite\"});\n",
       "</script>"
      ],
      "text/plain": [
       "alt.VConcatChart(...)"
      ]
     },
     "execution_count": 95,
     "metadata": {},
     "output_type": "execute_result"
    }
   ],
   "source": [
    "alt.vconcat(c_gA, c_gE,).properties(\n",
    "    title = 'Test Preparation - Course Group A vs Group E',\n",
    ").configure_title(\n",
    "    fontSize = 18,\n",
    "    font = \"Arial\",\n",
    "    anchor = \"middle\"\n",
    ").configure_view(\n",
    "    strokeWidth = 0,\n",
    ")"
   ]
  },
  {
   "cell_type": "code",
   "execution_count": null,
   "metadata": {},
   "outputs": [],
   "source": []
  }
 ],
 "metadata": {
  "kernelspec": {
   "display_name": "Python 3 (ipykernel)",
   "language": "python",
   "name": "python3"
  },
  "language_info": {
   "codemirror_mode": {
    "name": "ipython",
    "version": 3
   },
   "file_extension": ".py",
   "mimetype": "text/x-python",
   "name": "python",
   "nbconvert_exporter": "python",
   "pygments_lexer": "ipython3",
   "version": "3.8.10"
  }
 },
 "nbformat": 4,
 "nbformat_minor": 4
}
